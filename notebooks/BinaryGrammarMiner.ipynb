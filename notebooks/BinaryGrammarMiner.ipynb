{
 "cells": [
  {
   "cell_type": "markdown",
   "metadata": {},
   "source": [
    "# Mining Input Grammar from Binary Programs\n",
    "\n",
    "In the [chapter on grammar miner](GrammarMiner.ipynb), we have seen various techniques that _automatically mine grammars for programs_ – by executing the programs and observing how they process which parts of the input. \n",
    "\n",
    "From the above mentioned chapter, we must have seen that most of these techniques have only been demonstrated for python programs, and have we ever thought of our how these techniques could be explored on larger programs implemented in other programming languages such as `C, C++` etc?  \n",
    "\n",
    "In this notebook, our focus is to demonstrate how this techniques can be further used to automatically mine syntactically valid input grammars from `C` _binary programs_ that can be used for efficient and effective fuzzing.\n",
    "\n",
    "Also, we re-use and also extend some of the classes which we saw previously in order to be able to mine an input grammar."
   ]
  },
  {
   "cell_type": "code",
   "execution_count": null,
   "metadata": {},
   "outputs": [],
   "source": [
    "import fuzzingbook_utils"
   ]
  },
  {
   "cell_type": "markdown",
   "metadata": {},
   "source": [
    "## Recovering the Inventory Grammar\n",
    "\n",
    "Suppose we convert the `inventory` system example we saw in the chapter on [parsers](Parser.ipynb) into `C`:"
   ]
  },
  {
   "cell_type": "code",
   "execution_count": null,
   "metadata": {},
   "outputs": [],
   "source": [
    "inventory_src = \"\"\"\\\n",
    "#include <stdio.h>\n",
    "#include <string.h>\n",
    "#include <stdlib.h>\n",
    "\n",
    "int max_size = 1024;\n",
    "\n",
    "char* process_van(char* year, char* company, char* model, char* my_string) {\n",
    "    char *current = my_string;\n",
    "    char* fmt = \"We have a %s %s van from %s vintage.\\\\n\";\n",
    "    int written = snprintf(current, max_size, fmt, company, model, year);\n",
    "\n",
    "    current += written;\n",
    "    int rem = (max_size - written);\n",
    "\n",
    "    if(atoi(year) > 2010) {\n",
    "        snprintf(current, rem, \"It is a recent model!\\\\n\");\n",
    "    } else {\n",
    "        snprintf(current, rem, \"It is an old but reliable model!\\\\n\");\n",
    "    }\n",
    "    return my_string;\n",
    "}\n",
    "\n",
    "char* process_car(char* year, char* company, char* model, char* my_string) {\n",
    "    char *current = my_string;\n",
    "    char* fmt = \"We have a %s %s car from %s vintage.\\\\n\";\n",
    "    int written = snprintf(current, max_size, fmt, company, model, year);\n",
    "    int rem = (max_size - written);\n",
    "\n",
    "    if(atoi(year) > 2010) {\n",
    "        snprintf(current, rem, \"It is a recent model!\\\\n\");\n",
    "    } else {\n",
    "        snprintf(current, rem, \"It is an old but reliable model!\\\\n\");\n",
    "    }\n",
    "    return my_string;\n",
    "}\n",
    "\n",
    "char* process_vehicle(char* vehicle_str, char* my_string) {\n",
    "    char *data[4];\n",
    "    int index = 0;\n",
    "    char* str = vehicle_str;\n",
    "\n",
    "    for(;;) {\n",
    "       data[index] = strtok(str, \",\");\n",
    "       if (!data[index]) break;\n",
    "\n",
    "       str = NULL;\n",
    "       index += 1;\n",
    "    }\n",
    "\n",
    "    char* year = data[0];\n",
    "    char* kind = data[1];\n",
    "    char* company = data[2];\n",
    "    char* model = data[3];\n",
    "\n",
    "    if(!strcmp(kind, \"van\")) {\n",
    "        return process_van(year, company, model, my_string);\n",
    "    } else if (!strcmp(kind, \"car\")) {\n",
    "        return process_car(year, company, model, my_string);\n",
    "    } else {\n",
    "        fprintf(stderr, \"Invalid entry\");\n",
    "        return NULL;\n",
    "    }\n",
    "}\n",
    "\n",
    "int main(int argc, char* argv[]) {\n",
    "    /* format: year, kind, company, model */\n",
    "    char *my_string = malloc(sizeof(char) * max_size);\n",
    "    char* result = process_vehicle(argv[1], my_string);\n",
    "    printf(\"%s\", result);\n",
    "    \n",
    "    free(my_string);\n",
    "    return 0;\n",
    "}\n",
    "\"\"\""
   ]
  },
  {
   "cell_type": "code",
   "execution_count": null,
   "metadata": {},
   "outputs": [],
   "source": [
    "with open('inventory.c', 'w+') as f:\n",
    "    print(inventory_src, file=f)"
   ]
  },
  {
   "cell_type": "markdown",
   "metadata": {},
   "source": [
    "In order to be able to interrogate this program, observe it's process of parsing and recovering it's input grammar as well, we have seen in the case of the example illustrated in python that one can hook into the Python runtime to observe the arguments to a function and any local variables created. We have also seen that one can obtain the context of execution by inspecting the `frame` argument.\n",
    "\n",
    "But in this case, we make use of `GDB`, the GNU Project debugger which allow us to trace through a program and also gives us access to the same contextual information as we have seen previously in the example implemented in python.`GDB` provides a python API which can be use in debugging binary programs and also accessing program information at runtime.\n",
    "\n",
    "For the sake of clarity, it is important to know that `GDB` Api for python is not a library and we cannot directly import it as a python module within a python script.`GDB` only gets imported at runtime. "
   ]
  },
  {
   "cell_type": "markdown",
   "metadata": {},
   "source": [
    "### Debugger\n",
    "\n",
    "Before we can start debugging programs with `GDB`, we need to define an interface called `Debugger` which holds various methods which can be implemented and used hand in hand to automatically debug programs."
   ]
  },
  {
   "cell_type": "code",
   "execution_count": null,
   "metadata": {
    "code_folding": []
   },
   "outputs": [],
   "source": [
    "class Debugger:\n",
    "    def run(self):\n",
    "        raise NotImplementedError()\n",
    "\n",
    "    def step(self):\n",
    "        raise NotImplementedError()\n",
    "\n",
    "    def break_at(self, line):\n",
    "        raise NotImplementedError()\n",
    "\n",
    "    def start_program(self, inp, binary):\n",
    "        raise NotImplementedError()\n",
    "\n",
    "    def event_loop(self):\n",
    "        raise NotImplementedError()"
   ]
  },
  {
   "cell_type": "markdown",
   "metadata": {},
   "source": [
    "### GDBDebugger\n",
    "\n",
    "Next, we consider another class called `GDBDebugger` which extends and implement the methods in the above interface. In addtion, this class also take some inputs such as, the *binary* to be debugged, the *program input* as well an instance of `GDB` itself. Also, the variable `trace` takes an instance of `GDBTracer` which is used for tracing later on."
   ]
  },
  {
   "cell_type": "code",
   "execution_count": null,
   "metadata": {
    "code_folding": []
   },
   "outputs": [],
   "source": [
    "class GDBDebugger(Debugger):\n",
    "    def __init__(self, gdb, binary, inp, **kwargs):\n",
    "        self.options(kwargs)\n",
    "        self.gdb, self.binary, self.inp = gdb, binary, inp\n",
    "        self.frames = []\n",
    "\n",
    "        self._set_printer()\n",
    "        self._set_logger()\n",
    "        self._skip_std_files()\n",
    "        self.tracer = GDBTracer(self.inp, files=self.files)"
   ]
  },
  {
   "cell_type": "markdown",
   "metadata": {},
   "source": [
    "Also, we added a few private methods to our `GDBDebugger`. The first one is the `_set_printer`, this method helps us tell `GDB` not to include address in whatever information we are trying to access at runtime."
   ]
  },
  {
   "cell_type": "code",
   "execution_count": null,
   "metadata": {},
   "outputs": [],
   "source": [
    "class GDBDebugger(GDBDebugger):\n",
    "    def _set_printer(self):\n",
    "        self.gdb.execute('set print address off')"
   ]
  },
  {
   "cell_type": "markdown",
   "metadata": {},
   "source": [
    "The `_set_logger` function carries out three commands related to logging. Firstly, it tell `GDB` to overwrite the it's output logfile each time we run our program. Also by  default `GDB` logs it's output both to terminal and logfile.Hence, we instruct `GDB` via the second command to only redirect it's output to the logfile. Lastly, we instruct `GDB` to enable logging."
   ]
  },
  {
   "cell_type": "code",
   "execution_count": null,
   "metadata": {},
   "outputs": [],
   "source": [
    "class GDBDebugger(GDBDebugger):\n",
    "    def _set_logger(self):\n",
    "        self.gdb.execute('set logging overwrite on')\n",
    "        self.gdb.execute('set logging redirect on')\n",
    "        self.gdb.execute('set logging on')"
   ]
  },
  {
   "cell_type": "markdown",
   "metadata": {},
   "source": [
    "When stepping through binary programs, we need to make sure we avoid stepping into files which are not of interest to us such as the *standard libraries*. One of the ways to do this is to tell `GDB` to skip all files which are of a particular format, an example is the *.S files."
   ]
  },
  {
   "cell_type": "code",
   "execution_count": null,
   "metadata": {},
   "outputs": [],
   "source": [
    "class GDBDebugger(GDBDebugger):\n",
    "    def _skip_std_files(self):\n",
    "        self.gdb.execute('skip -gfi *.S')"
   ]
  },
  {
   "cell_type": "markdown",
   "metadata": {},
   "source": [
    "Furthermore, in order to efficiently avoid stepping into files we are not interested, we define a variable `file` which holds an array of file names which we are interested in tracing."
   ]
  },
  {
   "cell_type": "code",
   "execution_count": null,
   "metadata": {},
   "outputs": [],
   "source": [
    "class GDBDebugger(GDBDebugger):\n",
    "    def options(self, kwargs):\n",
    "        self.files = kwargs.get('files', [])"
   ]
  },
  {
   "cell_type": "markdown",
   "metadata": {},
   "source": [
    "At each step in our program we need to always check if we are within the context which we are most interested in. To do this, we provide the function `in_context` which take the selected frame at each *step* in our program an then to a check if we are still within the context that we are interested."
   ]
  },
  {
   "cell_type": "code",
   "execution_count": null,
   "metadata": {},
   "outputs": [],
   "source": [
    "class GDBDebugger(GDBDebugger):\n",
    "    def in_context(self, frame):\n",
    "        file_name = frame.find_sal().symtab.fullname()\n",
    "        return any(file_name.endswith(f) for f in self.files)"
   ]
  },
  {
   "cell_type": "markdown",
   "metadata": {},
   "source": [
    "Also, we provide a concrete implementation of our `Debugger` interface. The methods just as their name implies are used to run, step, and also break while debugging."
   ]
  },
  {
   "cell_type": "code",
   "execution_count": null,
   "metadata": {},
   "outputs": [],
   "source": [
    "class GDBDebugger(GDBDebugger):\n",
    "    def run(self):\n",
    "        self.gdb.execute('run')"
   ]
  },
  {
   "cell_type": "code",
   "execution_count": null,
   "metadata": {},
   "outputs": [],
   "source": [
    "class GDBDebugger(GDBDebugger):\n",
    "    def step(self):\n",
    "        self.gdb.execute('step')"
   ]
  },
  {
   "cell_type": "code",
   "execution_count": null,
   "metadata": {},
   "outputs": [],
   "source": [
    "class GDBDebugger(GDBDebugger):\n",
    "    def break_at(self, line):\n",
    "        self.gdb.execute(\"break '%s'\" % line)\n",
    "        self.run()"
   ]
  },
  {
   "cell_type": "code",
   "execution_count": null,
   "metadata": {},
   "outputs": [],
   "source": [
    "class GDBDebugger(GDBDebugger):\n",
    "    def start_program(self, inp, binary):\n",
    "        self.gdb.execute(\"set args '%s'\" % inp)\n",
    "        self.gdb.execute(\"file %s\" % binary)"
   ]
  },
  {
   "cell_type": "markdown",
   "metadata": {},
   "source": [
    "The function `get_event` keeps track of how frame are being created when stepping through our program. The idea behind this is that whenever a frame is newly created, it is added to the frame list and that shows that a function call has occurred within our program then we assign the event as a `call`. Also, whenever a frame is the last frame being added to our frame list that also implies that we are still within that particular frame  and then we assign the event as `line`. Lastly, if none of the above has occurred then it shows that particular frame has exited and then we assign our event as `return`."
   ]
  },
  {
   "cell_type": "code",
   "execution_count": null,
   "metadata": {},
   "outputs": [],
   "source": [
    "class GDBDebugger(GDBDebugger):\n",
    "    def get_event(self, frame):\n",
    "        fname = frame.name()\n",
    "        if fname not in self.frames:\n",
    "            self.frames.append(fname)\n",
    "            return 'call'\n",
    "        elif fname == self.frames[-1]:\n",
    "            return 'line'\n",
    "        else:\n",
    "            self.frames.pop()\n",
    "            return 'return'"
   ]
  },
  {
   "cell_type": "markdown",
   "metadata": {},
   "source": [
    "The `event_loop` starts our program and the auto-step through our program while it runs. Once we start our program we get the selected frame and then assign it to the variable called `frame`. The `frame` variable in gdb automatically becomes `False` when the program exits even though we never explicitly assign to it. Also, at each step in our program we check if there a new frame and if the frame is within our scope of interest. If not, we instruct `GDB` to finish execution from the uninterested scope and then returns back to it's caller."
   ]
  },
  {
   "cell_type": "code",
   "execution_count": null,
   "metadata": {},
   "outputs": [],
   "source": [
    "class GDBDebugger(GDBDebugger):\n",
    "    def event_loop(self):\n",
    "        self.start_program(self.inp, self.binary)\n",
    "        self.break_at('main')\n",
    "        frame = self.gdb.selected_frame()\n",
    "        try:\n",
    "            while frame.is_valid():\n",
    "                if self.gdb.selected_frame() != frame:\n",
    "                    self.step()\n",
    "                    current_frame = self.gdb.selected_frame()\n",
    "                    if not self.in_context(current_frame):\n",
    "                        # simply finish the current function execution.\n",
    "                        self.gdb.execute('finish')\n",
    "                        continue\n",
    "                    event = self.get_event(current_frame)\n",
    "                    self.tracer.traceit(current_frame, event, None)\n",
    "                else:\n",
    "                    self.step()\n",
    "                    if not self.in_context(self.gdb.selected_frame()):\n",
    "                        self.gdb.execute('finish')\n",
    "        except gdb.error:\n",
    "            return"
   ]
  },
  {
   "cell_type": "markdown",
   "metadata": {},
   "source": [
    "### VarExtractor\n",
    "\n",
    "Next, We also created a class called `VarExtractor` which provides various logics that can be used to extract and process variables which are in a frame."
   ]
  },
  {
   "cell_type": "code",
   "execution_count": null,
   "metadata": {},
   "outputs": [],
   "source": [
    "class VarExtractor:\n",
    "    def __init__(self, frame):\n",
    "        self.frame = frame"
   ]
  },
  {
   "cell_type": "code",
   "execution_count": null,
   "metadata": {},
   "outputs": [],
   "source": [
    "class VarExtractor(VarExtractor):\n",
    "    def extract_int_val(self, symbol):\n",
    "        return '{}'.format(symbol.value(self.frame))"
   ]
  },
  {
   "cell_type": "markdown",
   "metadata": {},
   "source": [
    "The function `extract_int_val` takes a symbol which type is an integer as argument and then looks up such symbol in the frame and then returns the value of such symbols. This form of extraction works for an integer which does not have a pointer type."
   ]
  },
  {
   "cell_type": "code",
   "execution_count": null,
   "metadata": {},
   "outputs": [],
   "source": [
    "class VarExtractor(VarExtractor):\n",
    "    def dereference_pointer_type(self, symbol):\n",
    "        return symbol.value(self.frame).dereference()"
   ]
  },
  {
   "cell_type": "markdown",
   "metadata": {},
   "source": [
    "`dereference_pointer_type` is solely used for symbols which are of the type `pointer`. This function basically dereference a pointer type and then returns the actual type which it points to."
   ]
  },
  {
   "cell_type": "code",
   "execution_count": null,
   "metadata": {},
   "outputs": [],
   "source": [
    "class VarExtractor(VarExtractor):\n",
    "    def extract_struct_val(self, struct):\n",
    "        return {\n",
    "            f.name: str(struct[f]).strip('\"')\n",
    "            for f in struct.type.fields()\n",
    "        }"
   ]
  },
  {
   "cell_type": "markdown",
   "metadata": {},
   "source": [
    "Just as the name implies, `extract_struct_val` take a symbol which is of type struct as an arguments and then returns a dictionary of the elements in this struct type. We choose to represent the struct type as a dictionary because in `GDB` symbols of type struct are iterable. "
   ]
  },
  {
   "cell_type": "code",
   "execution_count": null,
   "metadata": {},
   "outputs": [],
   "source": [
    "class VarExtractor(VarExtractor):\n",
    "    def strip_typedef(self, symbol):\n",
    "        target_type = symbol.type.strip_typedefs()\n",
    "\n",
    "        while target_type.code == gdb.TYPE_CODE_TYPEDEF:\n",
    "            target_type = target_type.strip_typedef()\n",
    "\n",
    "        return target_type"
   ]
  },
  {
   "cell_type": "markdown",
   "metadata": {},
   "source": [
    "This function is used to extract variables which are of user defined types. In this method, we first strip out all layers of `typedef` and then returns the true underlying type."
   ]
  },
  {
   "cell_type": "code",
   "execution_count": null,
   "metadata": {},
   "outputs": [],
   "source": [
    "class VarExtractor(VarExtractor):\n",
    "    def extract_pointer_val(self, symbol):\n",
    "        true_value = self.dereference_pointer_type(symbol)\n",
    "\n",
    "        if true_value.type.code == gdb.TYPE_CODE_INT:\n",
    "            return '{}'.format(true_value.address).strip('\"')\n",
    "\n",
    "        elif true_value.type.code == gdb.TYPE_CODE_STRUCT:\n",
    "            return self.extract_struct_val(true_value)"
   ]
  },
  {
   "cell_type": "markdown",
   "metadata": {},
   "source": [
    "Lastly, we have the function called `extract_pointer_val` which firstly dereference a pointer type and then returns the true type of the object it points to. Next, we check the type of the object being pointed to and then we extract the value and then return."
   ]
  },
  {
   "cell_type": "code",
   "execution_count": null,
   "metadata": {},
   "outputs": [],
   "source": [
    "class VarExtractor(VarExtractor):\n",
    "    def extract_typedef_val(self, symbol):\n",
    "        true_type = self.strip_typedef(symbol)\n",
    "\n",
    "        if true_type.code == gdb.TYPE_CODE_STRUCT:\n",
    "            fields = true_type.fields()"
   ]
  },
  {
   "cell_type": "markdown",
   "metadata": {},
   "source": [
    "### GDBContext\n",
    "\n",
    "We've seen previously that the `Context` class provides easy access to the information such as the current module, and parameter names. We can also obtain same information using `GDB` API  to access the frame as seen below.\n",
    "\n",
    "We call our new context class `GDBContext`."
   ]
  },
  {
   "cell_type": "code",
   "execution_count": null,
   "metadata": {},
   "outputs": [],
   "source": [
    "from GrammarMiner import Context"
   ]
  },
  {
   "cell_type": "code",
   "execution_count": null,
   "metadata": {},
   "outputs": [],
   "source": [
    "class GDBContext(Context):\n",
    "    def __init__(self, frame):\n",
    "        self.method = frame.name()\n",
    "        self.parameter_names = self.get_arg_names(frame)\n",
    "        self.line_no = frame.find_sal().line\n",
    "        self.file_name = frame.find_sal().symtab.fullname()"
   ]
  },
  {
   "cell_type": "code",
   "execution_count": null,
   "metadata": {},
   "outputs": [],
   "source": [
    "class GDBContext(GDBContext):\n",
    "    def get_arg_names(self, frame):\n",
    "        return [symbol.name for symbol in frame.block() if symbol.is_argument]"
   ]
  },
  {
   "cell_type": "markdown",
   "metadata": {},
   "source": [
    "The `get_arg_names` is a custom function which takes a `frame` as input, extract the name of the arguments and return a list of argument names. `GDB` represents variables, constants, arguments as symbols in a block. In a more descriptive sense, a block is just a scope in the source code. Also, `gdb.Block` is iterable just as we can see in the `get_arg_names` function."
   ]
  },
  {
   "cell_type": "code",
   "execution_count": null,
   "metadata": {},
   "outputs": [],
   "source": [
    "class GDBContext(GDBContext):\n",
    "    def extract_vars(self, frame):\n",
    "        vals = {}\n",
    "        extractor = VarExtractor(frame)\n",
    "\n",
    "        symbols = [\n",
    "            sym for sym in frame.block() if sym.is_variable or sym.is_argument\n",
    "        ]\n",
    "        for symbol in symbols:\n",
    "            if symbol.type.code == gdb.TYPE_CODE_INT:\n",
    "                vals[symbol.name] = extractor.extract_int_val(symbol)\n",
    "\n",
    "            elif symbol.type.code == gdb.TYPE_CODE_PTR:\n",
    "                vals[symbol.name] = extractor.extract_pointer_val(symbol)\n",
    "\n",
    "            elif symbol.type.code == gdb.TYPE_CODE_TYPEDEF:\n",
    "                x = extractor.extract_typedef_val(symbol)\n",
    "\n",
    "        return {k1: v1 for k, v in vals.items() for k1, v1 in flatten(k, v)}"
   ]
  },
  {
   "cell_type": "markdown",
   "metadata": {},
   "source": [
    "We also extend the `extract_vars` which is a convenience method that acts on the frame within the `GDBContext` class. In this case we iterate through all `symbols` in the current `block`. If the symbol is a variable or an argument, we check what type they carry and then we extract their corresponding values based on their type and then we add them to  dictionary `vals` as defined."
   ]
  },
  {
   "cell_type": "markdown",
   "metadata": {},
   "source": [
    "### GDBTracer\n",
    "\n",
    "Previously, we have seen how `Tracer` class was used to trace through a python program to obtain the trace information. In our case, we define a new class `GDBTracer` that inherits the base implementation of our `Tracer` class, the only exception we have is to use the `GDBContext` class which we already defined above. To do this, we override the function `create_context` and then return an instance of `GDBContext`."
   ]
  },
  {
   "cell_type": "code",
   "execution_count": null,
   "metadata": {},
   "outputs": [],
   "source": [
    "from GrammarMiner import Tracer"
   ]
  },
  {
   "cell_type": "markdown",
   "metadata": {},
   "source": [
    "IMPORTANT: verify that the version of fuzzingbook you use uses `create_context()` in the `traceit()` method."
   ]
  },
  {
   "cell_type": "code",
   "execution_count": null,
   "metadata": {},
   "outputs": [],
   "source": [
    "class GDBTracer(Tracer):\n",
    "    def create_context(self, frame):\n",
    "        return GDBContext(frame)"
   ]
  },
  {
   "cell_type": "markdown",
   "metadata": {},
   "source": [
    "### Recovering Grammars \n",
    "\n",
    "We make use of the function `recover_grammar` which we have seen before but this time we make use of the `GDBDebugger` class we implemented above."
   ]
  },
  {
   "cell_type": "code",
   "execution_count": null,
   "metadata": {},
   "outputs": [],
   "source": [
    "from GrammarMiner import ScopedGrammarMiner, readable, flatten, VEHICLES"
   ]
  },
  {
   "cell_type": "code",
   "execution_count": null,
   "metadata": {},
   "outputs": [],
   "source": [
    "def recover_grammar(f, inp, **kwargs):\n",
    "    inp_list = inp.split('\\n')\n",
    "    miner = ScopedGrammarMiner()\n",
    "\n",
    "    for inpstr in inp_list:\n",
    "        d = GDBDebugger(gdb, f, inpstr, **kwargs)\n",
    "        d.event_loop()\n",
    "\n",
    "        miner.update_grammar(inpstr, d.tracer.trace)\n",
    "    return (readable(miner.clean_grammar()))"
   ]
  },
  {
   "cell_type": "code",
   "execution_count": null,
   "metadata": {},
   "outputs": [],
   "source": [
    "import sys\n",
    "import inspect"
   ]
  },
  {
   "cell_type": "code",
   "execution_count": null,
   "metadata": {
    "scrolled": false
   },
   "outputs": [],
   "source": [
    "tracer_head = \"\"\"\\\n",
    "import sys\n",
    "sys.path.extend([%s])\n",
    "sys.path.append('.')\n",
    "import matplotlib.pyplot\n",
    "matplotlib.pyplot._IP_REGISTERED = True # Hack\n",
    "import fuzzingbook_utils\n",
    "from GrammarMiner import GrammarMiner, Context, Tracer, Coverage, ScopedGrammarMiner, readable, flatten\n",
    "import jsonpickle\n",
    "import os\n",
    "import gdb\n",
    "\"\"\" % (', '.join(\"'%s'\" % str(i) for i in sys.path if i))\n",
    "debugger_src = fuzzingbook_utils.extract_class_definition(Debugger)\n",
    "context_src = fuzzingbook_utils.extract_class_definition(GDBContext)\n",
    "gdbtracer_src = fuzzingbook_utils.extract_class_definition(GDBTracer)\n",
    "varextractor_src = fuzzingbook_utils.extract_class_definition(VarExtractor)\n",
    "gdbdebugger_src = fuzzingbook_utils.extract_class_definition(GDBDebugger)\n",
    "tracer_tail=\"\"\"\n",
    "file_name = 'gdbtrace'\n",
    "def recover_trace(f, inp, **kwargs):\n",
    "    d = GDBDebugger(gdb, f, inp, **kwargs)\n",
    "    d.event_loop()\n",
    "    with open(file_name, 'w+') as f:\n",
    "        print(jsonpickle.encode(d.tracer.trace), file=f)\n",
    "binary = 'a.out'\n",
    "recover_trace(binary, arg0, files=files.split(' '))\n",
    "\"\"\"\n",
    "tracer_src = '\\n'.join([tracer_head, debugger_src, context_src, gdbtracer_src, varextractor_src, gdbdebugger_src, tracer_tail])"
   ]
  },
  {
   "cell_type": "code",
   "execution_count": null,
   "metadata": {},
   "outputs": [],
   "source": [
    "with open('debugger.py', 'w+') as f:\n",
    "    print(tracer_src, file=f)"
   ]
  },
  {
   "cell_type": "markdown",
   "metadata": {},
   "source": [
    "In order to recover the input grammar for the inventory program we do the following:"
   ]
  },
  {
   "cell_type": "code",
   "execution_count": null,
   "metadata": {},
   "outputs": [],
   "source": [
    "!gcc -g -o a.out inventory.c"
   ]
  },
  {
   "cell_type": "code",
   "execution_count": null,
   "metadata": {},
   "outputs": [],
   "source": [
    "import jsonpickle"
   ]
  },
  {
   "cell_type": "code",
   "execution_count": null,
   "metadata": {},
   "outputs": [],
   "source": [
    "traces = []\n",
    "for inp in VEHICLES:\n",
    "    arg = '\\'py arg0=\"%s\"\\'' % inp\n",
    "    argfiles = '\\'py files=\"%s\"\\'' % 'inventory.c'\n",
    "    print(arg)\n",
    "    !gdb --batch-silent -ex {arg} -ex {argfiles} -x debugger.py\n",
    "    with open('gdbtrace', 'rb') as f:\n",
    "        traces.append((inp, jsonpickle.decode(f.read())))"
   ]
  },
  {
   "cell_type": "code",
   "execution_count": null,
   "metadata": {},
   "outputs": [],
   "source": [
    "miner = ScopedGrammarMiner()\n",
    "for inp, trace in traces:\n",
    "    miner.update_grammar(inp, trace)"
   ]
  },
  {
   "cell_type": "code",
   "execution_count": null,
   "metadata": {
    "scrolled": false
   },
   "outputs": [],
   "source": [
    "grammar = readable(miner.grammar)"
   ]
  },
  {
   "cell_type": "code",
   "execution_count": null,
   "metadata": {},
   "outputs": [],
   "source": [
    "grammar"
   ]
  },
  {
   "cell_type": "code",
   "execution_count": null,
   "metadata": {},
   "outputs": [],
   "source": [
    "from Grammars import START_SYMBOL, syntax_diagram, is_nonterminal\n",
    "from GrammarFuzzer import GrammarFuzzer"
   ]
  },
  {
   "cell_type": "code",
   "execution_count": null,
   "metadata": {
    "scrolled": true
   },
   "outputs": [],
   "source": [
    "syntax_diagram(grammar)"
   ]
  },
  {
   "cell_type": "code",
   "execution_count": null,
   "metadata": {},
   "outputs": [],
   "source": [
    "f = GrammarFuzzer(grammar)\n",
    "for _a in range(10):\n",
    "    print(f.fuzz())"
   ]
  },
  {
   "cell_type": "markdown",
   "metadata": {},
   "source": [
    "## Recovering  Grammar for Url Parser"
   ]
  },
  {
   "cell_type": "markdown",
   "metadata": {},
   "source": [
    "Firstly, we have an header file for the url parser."
   ]
  },
  {
   "cell_type": "code",
   "execution_count": null,
   "metadata": {},
   "outputs": [],
   "source": [
    "urlparse_h = \"\"\"\\\n",
    "\n",
    "/*_\n",
    " * Copyright 2010 Scyphus Solutions Co. Ltd.  All rights reserved.\n",
    " *\n",
    " * Authors:\n",
    " *      Hirochika Asai\n",
    " */\n",
    "\n",
    "#ifndef _URL_PARSER_H\n",
    "#define _URL_PARSER_H\n",
    "\n",
    "/*\n",
    " * URL storage\n",
    " */\n",
    "struct parsed_url {\n",
    "    char *scheme;               /* mandatory */\n",
    "    char *host;                 /* mandatory */\n",
    "    char *port;                 /* optional */\n",
    "    char *path;                 /* optional */\n",
    "    char *query;                /* optional */\n",
    "    char *fragment;             /* optional */\n",
    "    char *username;             /* optional */\n",
    "    char *password;             /* optional */\n",
    "};\n",
    "\n",
    "#ifdef __cplusplus\n",
    "extern \"C\" {\n",
    "#endif\n",
    "\n",
    "    /*\n",
    "     * Declaration of function prototypes\n",
    "     */\n",
    "    struct parsed_url * parse_url(const char *, struct parsed_url* obj);\n",
    "    void parsed_url_free(struct parsed_url *);\n",
    "\n",
    "#ifdef __cplusplus\n",
    "}\n",
    "#endif\n",
    "\n",
    "#endif /* _URL_PARSER_H */\n",
    "\n",
    "/*\n",
    " * Local variables:\n",
    " * tab-width: 4\n",
    " * c-basic-offset: 4\n",
    " * End:\n",
    " * vim600: sw=4 ts=4 fdm=marker\n",
    " * vim<600: sw=4 ts=4\n",
    " */\n",
    "\"\"\""
   ]
  },
  {
   "cell_type": "code",
   "execution_count": null,
   "metadata": {},
   "outputs": [],
   "source": [
    "with open('url_parser.h', 'w+') as f:\n",
    "    print(urlparse_h, file=f)"
   ]
  },
  {
   "cell_type": "markdown",
   "metadata": {},
   "source": [
    "Next, we have the `.c` file."
   ]
  },
  {
   "cell_type": "code",
   "execution_count": 1,
   "metadata": {},
   "outputs": [],
   "source": [
    "urlparse_src = \"\"\"\\\n",
    "/*\n",
    " * urlparse.c\n",
    " *\n",
    " * Decompose a URL into its components.\n",
    " */\n",
    "#include <string.h>\n",
    "#include <stdlib.h>\n",
    "#include <stdio.h>\n",
    "\n",
    "enum url_type {\n",
    "    URL_NORMAL,\n",
    "    URL_OLD_TFTP,\n",
    "    URL_PREFIX\n",
    "};\n",
    "\n",
    "struct url_info {\n",
    "    char *scheme;\n",
    "    char *user;\n",
    "    char *passwd;\n",
    "    char *host;\n",
    "    unsigned int port;\n",
    "    char *path;\t\t\t/* Includes query */\n",
    "    enum url_type type;\n",
    "};\n",
    "\n",
    "void parse_url(struct url_info *ui, char *url){\n",
    "    char *p = url;\n",
    "    char *q, *r, *s;\n",
    "\n",
    "    memset(ui, 0, sizeof *ui);\n",
    "\n",
    "    q = strstr(p, \"://\");\n",
    "    if (!q) {\n",
    "        q = strstr(p, \"::\");\n",
    "        if (q) {\n",
    "            *q = '\\\\000';\n",
    "            ui->scheme = \"tftp\";\n",
    "            ui->host = p;\n",
    "            ui->path = q+2;\n",
    "            ui->type = URL_OLD_TFTP;\n",
    "            return;\n",
    "        } else {\n",
    "            ui->path = p;\n",
    "            ui->type = URL_PREFIX;\n",
    "            return;\n",
    "        }\n",
    "    }\n",
    "\n",
    "    ui->type = URL_NORMAL;\n",
    "\n",
    "    ui->scheme = p;\n",
    "    *q = '\\\\000';\n",
    "    p = q+3;\n",
    "\n",
    "    q = strchr(p, '/');\n",
    "    if (q) {\n",
    "        *q = '\\\\000';\n",
    "        ui->path = q+1;\n",
    "        q = strchr(q+1, '#');\n",
    "    if (q)\n",
    "        *q = '\\\\000';\n",
    "    } else {\n",
    "        ui->path = \"\";\n",
    "    }\n",
    "\n",
    "    r = strchr(p, '@');\n",
    "    if (r) {\n",
    "        ui->user = p;\n",
    "        *r = '\\\\000';\n",
    "        s = strchr(p, ':');\n",
    "        if (s) {\n",
    "            *s = '\\\\000';\n",
    "            ui->passwd = s+1;\n",
    "        }\n",
    "        p = r+1;\n",
    "    }\n",
    "\n",
    "    ui->host = p;\n",
    "    r = strchr(p, ':');\n",
    "    if (r) {\n",
    "        *r = '\\\\000';\n",
    "        ui->port = atoi(r+1);\n",
    "    }\n",
    "}\n",
    "\n",
    "char *url_escape_unsafe(const char *input){\n",
    "    const char *p = input;\n",
    "    unsigned char c;\n",
    "    char *out, *q;\n",
    "    int n = 0;\n",
    "\n",
    "    while ((c = *p++)) {\n",
    "        if (c < ' ' || c > '~') {\n",
    "            n += 3;\t\t/* Need escaping */\n",
    "        } else {\n",
    "            n++;\n",
    "        }\n",
    "    }\n",
    "\n",
    "    q = out = malloc(n+1);\n",
    "    while ((c = *p++)) {\n",
    "        if (c < ' ' || c > '~') {\n",
    "            q += snprintf(q, 3, \"%02X\", c);\n",
    "        } else {\n",
    "            *q++ = c;\n",
    "        }\n",
    "    }\n",
    "\n",
    "    *q = '\\\\000';\n",
    "\n",
    "    return out;\n",
    "}\n",
    "\n",
    "static int hexdigit(char c){\n",
    "    if (c >= '0' && c <= '9')\n",
    "        return c - '0';\n",
    "    c |= 0x20;\n",
    "    if (c >= 'a' && c <= 'f')\n",
    "        return c - 'a' + 10;\n",
    "    return -1;\n",
    "}\n",
    "\n",
    "void url_unescape(char *buffer){\n",
    "    const char *p = buffer;\n",
    "    char *q = buffer;\n",
    "    unsigned char c;\n",
    "    int x, y;\n",
    "\n",
    "    while ((c = *p++)) {\n",
    "        if (c == '%') {\n",
    "            x = hexdigit(p[0]);\n",
    "            if (x >= 0) {\n",
    "                y = hexdigit(p[1]);\n",
    "                if (y >= 0) {\n",
    "                    *q++ = (x << 4) + y;\n",
    "                    p += 2;\n",
    "                    continue;\n",
    "                }\n",
    "            }\n",
    "        }\n",
    "        *q++ = c;\n",
    "    }\n",
    "    *q = '\\\\000';\n",
    "}\n",
    "\n",
    "\n",
    "int main(int argc, char* argv[]) {\n",
    "    struct url_info url;\n",
    "    parse_url(&url, argv[1]);\n",
    "    return 0;\n",
    "}\n",
    "\"\"\""
   ]
  },
  {
   "cell_type": "code",
   "execution_count": null,
   "metadata": {},
   "outputs": [],
   "source": [
    "with open('urlparse.c', 'w+') as f:\n",
    "    print(urlparse_src, file=f)"
   ]
  },
  {
   "cell_type": "code",
   "execution_count": null,
   "metadata": {},
   "outputs": [],
   "source": [
    "!gcc -g -o a.out urlparse.c"
   ]
  },
  {
   "cell_type": "code",
   "execution_count": null,
   "metadata": {
    "scrolled": false
   },
   "outputs": [],
   "source": [
    "from GrammarMiner import URLS_X"
   ]
  },
  {
   "cell_type": "code",
   "execution_count": null,
   "metadata": {
    "scrolled": false
   },
   "outputs": [],
   "source": [
    "traces = []\n",
    "for inp in URLS_X:\n",
    "    arg = '\\'py arg0=\"%s\"\\'' % inp\n",
    "    argfiles = '\\'py files=\"%s\"\\'' % 'urlparse.c'\n",
    "    print(arg)\n",
    "    !gdb --batch-silent -ex {arg} -ex {argfiles} -x debugger.py\n",
    "    with open('gdbtrace', 'rb') as f:\n",
    "        traces.append((inp, jsonpickle.decode(f.read())))"
   ]
  },
  {
   "cell_type": "code",
   "execution_count": null,
   "metadata": {},
   "outputs": [],
   "source": [
    "miner = ScopedGrammarMiner()\n",
    "for inp, trace in traces:\n",
    "    miner.update_grammar(inp, trace)"
   ]
  },
  {
   "cell_type": "code",
   "execution_count": null,
   "metadata": {
    "scrolled": false
   },
   "outputs": [],
   "source": [
    "grammar = readable(miner.grammar)"
   ]
  },
  {
   "cell_type": "code",
   "execution_count": null,
   "metadata": {
    "scrolled": true
   },
   "outputs": [],
   "source": [
    "syntax_diagram(grammar)"
   ]
  },
  {
   "cell_type": "code",
   "execution_count": null,
   "metadata": {},
   "outputs": [],
   "source": [
    "f = GrammarFuzzer(grammar)\n",
    "for _a in range(10):\n",
    "    print(f.fuzz())"
   ]
  }
 ],
 "metadata": {
  "kernelspec": {
   "display_name": "Python 3",
   "language": "python",
   "name": "python3"
  },
  "language_info": {
   "codemirror_mode": {
    "name": "ipython",
    "version": 3
   },
   "file_extension": ".py",
   "mimetype": "text/x-python",
   "name": "python",
   "nbconvert_exporter": "python",
   "pygments_lexer": "ipython3",
   "version": "3.7.1"
  },
  "latex_envs": {
   "LaTeX_envs_menu_present": true,
   "autoclose": false,
   "autocomplete": true,
   "bibliofile": "biblio.bib",
   "cite_by": "apalike",
   "current_citInitial": 1,
   "eqLabelWithNumbers": true,
   "eqNumInitial": 1,
   "hotkeys": {
    "equation": "Ctrl-E",
    "itemize": "Ctrl-I"
   },
   "labels_anchors": false,
   "latex_user_defs": false,
   "report_style_numbering": false,
   "user_envs_cfg": false
  },
  "toc": {
   "base_numbering": 1,
   "nav_menu": {},
   "number_sections": true,
   "sideBar": true,
   "skip_h1_title": false,
   "title_cell": "Table of Contents",
   "title_sidebar": "Contents",
   "toc_cell": false,
   "toc_position": {
    "height": "1161px",
    "left": "336px",
    "top": "336px",
    "width": "382.594px"
   },
   "toc_section_display": true,
   "toc_window_display": true
  }
 },
 "nbformat": 4,
 "nbformat_minor": 2
}
