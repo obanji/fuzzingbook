{
 "cells": [
  {
   "cell_type": "markdown",
   "metadata": {},
   "source": [
    "# Mining Input Grammar from Binaries\n",
    "\n",
    "In the [chapter on grammar miner](GrammarMiner.ipynb), we have seen various techniques that _automatically mine grammars for programs_ – by executing the programs and observing how they process which parts of the input. \n",
    "\n",
    "From the above mentioned chapter, we must have seen that most of these techniques have only been demonstrated for python programs, and have we ever thought of our how these techniques could be explored on larger programs implemented in other programming languages such as `C, C++`?  \n",
    "\n",
    "In this notebook, our focus is to demonstrate how this techniques can be further used to automatically mine syntactically valid input grammars from `C` executables that can be used for efficient and effective fuzzing."
   ]
  },
  {
   "cell_type": "markdown",
   "metadata": {},
   "source": [
    "**Prerequisites**\n",
    "* Prior knowledge on the [chapter on grammar mining](GrammarMiner.ipynb) is helpful."
   ]
  },
  {
   "cell_type": "code",
   "execution_count": null,
   "metadata": {
    "ExecuteTime": {
     "end_time": "2019-10-29T12:02:59.725836Z",
     "start_time": "2019-10-29T12:02:59.554214Z"
    }
   },
   "outputs": [],
   "source": [
    "import fuzzingbook_utils"
   ]
  },
  {
   "cell_type": "markdown",
   "metadata": {},
   "source": [
    "## Recovering the Inventory Grammar\n",
    "\n",
    "Suppose we convert the `inventory` system example we saw in the chapter on [parsers](Parser.ipynb) into `C`:"
   ]
  },
  {
   "cell_type": "code",
   "execution_count": null,
   "metadata": {
    "ExecuteTime": {
     "end_time": "2019-10-25T16:09:37.557008Z",
     "start_time": "2019-10-25T16:09:37.550976Z"
    }
   },
   "outputs": [],
   "source": [
    "inventory_src = \"\"\"\\\n",
    "#include <stdio.h>\n",
    "#include <string.h>\n",
    "#include <stdlib.h>\n",
    "\n",
    "int max_size = 1024;\n",
    "\n",
    "char* process_van(char* year, char* company, char* model, char* my_string) {\n",
    "    char *current = my_string;\n",
    "    char* fmt = \"We have a %s %s van from %s vintage.\\\\n\";\n",
    "    int written = snprintf(current, max_size, fmt, company, model, year);\n",
    "\n",
    "    current += written;\n",
    "    int rem = (max_size - written);\n",
    "\n",
    "    if(atoi(year) > 2010) {\n",
    "        snprintf(current, rem, \"It is a recent model!\\\\n\");\n",
    "    } else {\n",
    "        snprintf(current, rem, \"It is an old but reliable model!\\\\n\");\n",
    "    }\n",
    "    return my_string;\n",
    "}\n",
    "\n",
    "char* process_car(char* year, char* company, char* model, char* my_string) {\n",
    "    char *current = my_string;\n",
    "    char* fmt = \"We have a %s %s car from %s vintage.\\\\n\";\n",
    "    int written = snprintf(current, max_size, fmt, company, model, year);\n",
    "    int rem = (max_size - written);\n",
    "\n",
    "    if(atoi(year) > 2010) {\n",
    "        snprintf(current, rem, \"It is a recent model!\\\\n\");\n",
    "    } else {\n",
    "        snprintf(current, rem, \"It is an old but reliable model!\\\\n\");\n",
    "    }\n",
    "    return my_string;\n",
    "}\n",
    "\n",
    "char* process_vehicle(char* vehicle_str, char* my_string) {\n",
    "    char *data[4];\n",
    "    int index = 0;\n",
    "    char* str = vehicle_str;\n",
    "\n",
    "    for(;;) {\n",
    "       data[index] = strtok(str, \",\");\n",
    "       if (!data[index]) break;\n",
    "\n",
    "       str = NULL;\n",
    "       index += 1;\n",
    "    }\n",
    "\n",
    "    char* year = data[0];\n",
    "    char* kind = data[1];\n",
    "    char* company = data[2];\n",
    "    char* model = data[3];\n",
    "\n",
    "    if(!strcmp(kind, \"van\")) {\n",
    "        return process_van(year, company, model, my_string);\n",
    "    } else if (!strcmp(kind, \"car\")) {\n",
    "        return process_car(year, company, model, my_string);\n",
    "    } else {\n",
    "        fprintf(stderr, \"Invalid entry\");\n",
    "        return NULL;\n",
    "    }\n",
    "}\n",
    "\n",
    "int main(int argc, char* argv[]) {\n",
    "    /* format: year, kind, company, model */\n",
    "    char *my_string = malloc(sizeof(char) * max_size);\n",
    "    char* result = process_vehicle(argv[1], my_string);\n",
    "    printf(\"%s\", result);\n",
    "    \n",
    "    free(my_string);\n",
    "    return 0;\n",
    "}\n",
    "\"\"\""
   ]
  },
  {
   "cell_type": "code",
   "execution_count": null,
   "metadata": {
    "ExecuteTime": {
     "end_time": "2019-10-25T16:09:40.386233Z",
     "start_time": "2019-10-25T16:09:40.382133Z"
    }
   },
   "outputs": [],
   "source": [
    "with open('inventory.c', 'w+') as f:\n",
    "    print(inventory_src, file=f)"
   ]
  },
  {
   "cell_type": "markdown",
   "metadata": {},
   "source": [
    "In order to be able observe the process of parsing and also recovering it's input grammar. We need to hook into the program runtime observe the arguments to a function, local variables and the context of execution by inspecting the `frame`.\n",
    "\n",
    "To do this, we make use of `GDB`, the GNU Project debugger which allow us to trace through a program and also gives us access to the same contextual information as we have seen previously in the example implemented in python.`GDB` provides a python API which can be use in debugging binary programs and also accessing program information at runtime. "
   ]
  },
  {
   "cell_type": "markdown",
   "metadata": {},
   "source": [
    "**Note:** For the sake of clarity, it is important to know that `GDB` Api for python is not a library and we cannot directly import it as a python module within a python script.`GDB` only gets imported at runtime."
   ]
  },
  {
   "cell_type": "markdown",
   "metadata": {},
   "source": [
    "### Debugger\n",
    "\n",
    "Before we can start debugging programs we need to leverage `GDB` python API to implement a debugger that would suit our aim. To do this, we first create an interface that provides functions which a standard debugger would have."
   ]
  },
  {
   "cell_type": "code",
   "execution_count": null,
   "metadata": {
    "ExecuteTime": {
     "end_time": "2019-10-29T12:03:03.728139Z",
     "start_time": "2019-10-29T12:03:03.717134Z"
    },
    "code_folding": []
   },
   "outputs": [],
   "source": [
    "class Debugger:\n",
    "    def run(self):\n",
    "        raise NotImplementedError()\n",
    "\n",
    "    def step(self):\n",
    "        raise NotImplementedError()\n",
    "\n",
    "    def break_at(self, line):\n",
    "        raise NotImplementedError()\n",
    "\n",
    "    def start_program(self, inp, binary):\n",
    "        raise NotImplementedError()\n",
    "\n",
    "    def event_loop(self):\n",
    "        raise NotImplementedError()"
   ]
  },
  {
   "cell_type": "markdown",
   "metadata": {},
   "source": [
    "### GDBDebugger\n",
    "\n",
    "Next, we consider another class called `GDBDebugger` which extends and provides concrete implementation of the interface which it inherits. In addtion, this class also take some inputs such as, the *binary* to be debugged, the *program input* as well an instance of `GDB` itself. Also, the variable `trace` takes an instance of `GDBTracer` which is used for tracing later on."
   ]
  },
  {
   "cell_type": "code",
   "execution_count": null,
   "metadata": {
    "ExecuteTime": {
     "end_time": "2019-10-29T12:03:05.376797Z",
     "start_time": "2019-10-29T12:03:05.369830Z"
    },
    "code_folding": []
   },
   "outputs": [],
   "source": [
    "class GDBDebugger(Debugger):\n",
    "    def __init__(self, gdb, binary, inp, **kwargs):\n",
    "        self.options(kwargs)\n",
    "        self.gdb, self.binary, self.inp = gdb, binary, inp\n",
    "        self.frames = []\n",
    "\n",
    "        self._set_printer()\n",
    "        self._set_logger()\n",
    "        self._skip_std_files()\n",
    "        self.tracer = GDBTracer(self.inp, files=self.files)"
   ]
  },
  {
   "cell_type": "code",
   "execution_count": null,
   "metadata": {
    "ExecuteTime": {
     "end_time": "2019-10-29T12:03:08.019918Z",
     "start_time": "2019-10-29T12:03:08.011327Z"
    }
   },
   "outputs": [],
   "source": [
    "class GDBDebugger(GDBDebugger):\n",
    "    def run(self):\n",
    "        self.gdb.execute('run')"
   ]
  },
  {
   "cell_type": "code",
   "execution_count": null,
   "metadata": {
    "ExecuteTime": {
     "end_time": "2019-10-29T12:03:09.906763Z",
     "start_time": "2019-10-29T12:03:09.902206Z"
    }
   },
   "outputs": [],
   "source": [
    "class GDBDebugger(GDBDebugger):\n",
    "    def step(self):\n",
    "        self.gdb.execute('step')"
   ]
  },
  {
   "cell_type": "code",
   "execution_count": null,
   "metadata": {
    "ExecuteTime": {
     "end_time": "2019-10-29T12:03:11.314313Z",
     "start_time": "2019-10-29T12:03:11.306037Z"
    }
   },
   "outputs": [],
   "source": [
    "class GDBDebugger(GDBDebugger):\n",
    "    def break_at(self, line):\n",
    "        self.gdb.execute(\"break '%s'\" % line)\n",
    "        self.run()"
   ]
  },
  {
   "cell_type": "code",
   "execution_count": null,
   "metadata": {
    "ExecuteTime": {
     "end_time": "2019-10-29T12:03:13.033871Z",
     "start_time": "2019-10-29T12:03:13.022103Z"
    }
   },
   "outputs": [],
   "source": [
    "class GDBDebugger(GDBDebugger):\n",
    "    def start_program(self, inp, binary):\n",
    "        self.gdb.execute(\"set args '%s'\" % inp)\n",
    "        self.gdb.execute(\"file %s\" % binary)"
   ]
  },
  {
   "cell_type": "markdown",
   "metadata": {},
   "source": [
    "Also, we added a few private methods to our `GDBDebugger`. The first one is the `_set_printer`, this method helps us tell `GDB` not to include address in whatever information we are trying to access at runtime."
   ]
  },
  {
   "cell_type": "code",
   "execution_count": null,
   "metadata": {
    "ExecuteTime": {
     "end_time": "2019-10-29T12:03:15.567701Z",
     "start_time": "2019-10-29T12:03:15.560951Z"
    }
   },
   "outputs": [],
   "source": [
    "class GDBDebugger(GDBDebugger):\n",
    "    def _set_printer(self):\n",
    "        if not self.printer:\n",
    "            self.gdb.execute('set print address off')"
   ]
  },
  {
   "cell_type": "markdown",
   "metadata": {},
   "source": [
    "The `_set_logger` function carries out three commands related to logging. Firstly, it tell `GDB` to overwrite the it's output logfile each time we run our program. Also by  default `GDB` logs it's output both to terminal and logfile.Hence, we instruct `GDB` via the second command to only redirect it's output to the logfile. Lastly, we instruct `GDB` to enable logging."
   ]
  },
  {
   "cell_type": "code",
   "execution_count": null,
   "metadata": {
    "ExecuteTime": {
     "end_time": "2019-10-29T12:03:17.063130Z",
     "start_time": "2019-10-29T12:03:17.050254Z"
    }
   },
   "outputs": [],
   "source": [
    "class GDBDebugger(GDBDebugger):\n",
    "    def _set_logger(self):\n",
    "        self.gdb.execute('set logging overwrite on')\n",
    "        self.gdb.execute('set logging redirect on')\n",
    "        self.gdb.execute('set logging on')"
   ]
  },
  {
   "cell_type": "markdown",
   "metadata": {},
   "source": [
    "When stepping through binary programs, we need to make sure we avoid stepping into files which are not of interest to us such as the *standard libraries files*. One of the ways to do this is to tell `GDB` to skip all files which are of a particular format, an example is the *.S files."
   ]
  },
  {
   "cell_type": "code",
   "execution_count": null,
   "metadata": {
    "ExecuteTime": {
     "end_time": "2019-10-29T12:03:19.658797Z",
     "start_time": "2019-10-29T12:03:19.652452Z"
    }
   },
   "outputs": [],
   "source": [
    "class GDBDebugger(GDBDebugger):\n",
    "    def _skip_std_files(self):\n",
    "        self.gdb.execute('skip -gfi *.S')"
   ]
  },
  {
   "cell_type": "markdown",
   "metadata": {},
   "source": [
    "Furthermore, in order to efficiently avoid stepping into files we are not interested, we define a variable `file` which holds an array of file names which we are interested in tracing."
   ]
  },
  {
   "cell_type": "code",
   "execution_count": null,
   "metadata": {
    "ExecuteTime": {
     "end_time": "2019-10-29T12:03:22.112430Z",
     "start_time": "2019-10-29T12:03:22.107563Z"
    }
   },
   "outputs": [],
   "source": [
    "class GDBDebugger(GDBDebugger):\n",
    "    def options(self, kwargs):\n",
    "        self.files = kwargs.get('files', [])\n",
    "        self.printer = kwargs.get('printer', True)"
   ]
  },
  {
   "cell_type": "markdown",
   "metadata": {},
   "source": [
    "At each step in our program we need to always check if we are within the context which we are most interested in. To do this, we provide the function `in_context` which take the selected frame at each *step* in our program an then to a check if we are still within the context that we are interested."
   ]
  },
  {
   "cell_type": "code",
   "execution_count": null,
   "metadata": {
    "ExecuteTime": {
     "end_time": "2019-10-29T12:03:24.741608Z",
     "start_time": "2019-10-29T12:03:24.731778Z"
    }
   },
   "outputs": [],
   "source": [
    "class GDBDebugger(GDBDebugger):\n",
    "    def in_context(self, frame):\n",
    "        file_name = frame.find_sal().symtab.fullname()\n",
    "        return any(file_name.endswith(f) for f in self.files)"
   ]
  },
  {
   "cell_type": "markdown",
   "metadata": {},
   "source": [
    "The function `get_event` keeps track of how frame are being created when stepping through our program. The idea behind this is that whenever a frame is newly created, it is added to the frame list and that shows that a function call has occurred within our program then we assign the event as a `call`. Also, whenever a frame is the last frame being added to our frame list that also implies that we are still within that particular frame  and then we assign the event as `line`. Lastly, if none of the above has occurred then it shows that particular frame has exited and then we assign our event as `return`."
   ]
  },
  {
   "cell_type": "code",
   "execution_count": null,
   "metadata": {
    "ExecuteTime": {
     "end_time": "2019-10-29T12:03:27.510814Z",
     "start_time": "2019-10-29T12:03:27.505541Z"
    }
   },
   "outputs": [],
   "source": [
    "class GDBDebugger(GDBDebugger):\n",
    "    def get_event(self, frame):\n",
    "        fname = frame.name()\n",
    "        if fname not in self.frames:\n",
    "            self.frames.append(fname)\n",
    "            return 'call'\n",
    "        elif fname == self.frames[-1]:\n",
    "            return 'line'\n",
    "        else:\n",
    "            self.frames.pop()\n",
    "            return 'return'"
   ]
  },
  {
   "cell_type": "markdown",
   "metadata": {},
   "source": [
    "The `event_loop` starts our program and the auto-step through our program while it runs. Once we start our program we get the selected frame and then assign it to the variable called `frame`. The `frame` variable in gdb automatically becomes `False` when the program exits even though we never explicitly assign to it. Also, at each step in our program we check if there is a new frame and if the frame is within our scope of interest. If not, we instruct `GDB` to finish execution from the uninterested scope and then returns back to it's caller."
   ]
  },
  {
   "cell_type": "code",
   "execution_count": null,
   "metadata": {
    "ExecuteTime": {
     "end_time": "2019-10-29T12:03:29.841791Z",
     "start_time": "2019-10-29T12:03:29.835184Z"
    }
   },
   "outputs": [],
   "source": [
    "class GDBDebugger(GDBDebugger):\n",
    "    def event_loop(self):\n",
    "        self.start_program(self.inp, self.binary)\n",
    "        self.break_at('main')\n",
    "        frame = self.gdb.selected_frame()\n",
    "        try:\n",
    "            while frame.is_valid():\n",
    "                if self.gdb.selected_frame() != frame:\n",
    "                    self.step()\n",
    "                    current_frame = self.gdb.selected_frame()\n",
    "                    if not self.in_context(current_frame):\n",
    "                        # simply finish the current function execution.\n",
    "                        self.gdb.execute('finish')\n",
    "                        continue\n",
    "                    event = self.get_event(current_frame)\n",
    "                    self.tracer.traceit(current_frame, event, None)\n",
    "                else:\n",
    "                    self.step()\n",
    "                    if not self.in_context(self.gdb.selected_frame()):\n",
    "                        self.gdb.execute('finish')\n",
    "        except gdb.error:\n",
    "            return"
   ]
  },
  {
   "cell_type": "markdown",
   "metadata": {},
   "source": [
    "### VarExtractor\n",
    "\n",
    "Next, We also define a class called `VarExtractor` which provides various logic that can be used to extract and process variables which are in a frame."
   ]
  },
  {
   "cell_type": "code",
   "execution_count": null,
   "metadata": {
    "ExecuteTime": {
     "end_time": "2019-10-29T12:03:33.244248Z",
     "start_time": "2019-10-29T12:03:33.235300Z"
    }
   },
   "outputs": [],
   "source": [
    "class VarExtractor:\n",
    "    def __init__(self, frame):\n",
    "        self.frame = frame"
   ]
  },
  {
   "cell_type": "markdown",
   "metadata": {},
   "source": [
    "The function `extract_int_val` takes a symbol which type is an integer as argument and then looks up such symbol in the frame and then returns the value of such symbols. This form of extraction works for an integer which does not have a pointer type."
   ]
  },
  {
   "cell_type": "code",
   "execution_count": null,
   "metadata": {
    "ExecuteTime": {
     "end_time": "2019-10-29T12:03:35.716161Z",
     "start_time": "2019-10-29T12:03:35.709753Z"
    }
   },
   "outputs": [],
   "source": [
    "class VarExtractor(VarExtractor):\n",
    "    def extract_int_val(self, symbol):\n",
    "        return '{}'.format(symbol.value(self.frame))"
   ]
  },
  {
   "cell_type": "markdown",
   "metadata": {},
   "source": [
    "`dereference_pointer_type` is solely used for symbols which are of the type `pointer`. This function basically dereference a pointer type and then returns the actual type which it points to."
   ]
  },
  {
   "cell_type": "code",
   "execution_count": null,
   "metadata": {
    "ExecuteTime": {
     "end_time": "2019-10-29T12:03:38.207878Z",
     "start_time": "2019-10-29T12:03:38.199176Z"
    }
   },
   "outputs": [],
   "source": [
    "class VarExtractor(VarExtractor):\n",
    "    def dereference_pointer_type(self, symbol):\n",
    "        return symbol.value(self.frame).dereference()"
   ]
  },
  {
   "cell_type": "markdown",
   "metadata": {},
   "source": [
    "`extract_struct_val` take a symbol which is of type `struct` and then returns the value as a key, value pair."
   ]
  },
  {
   "cell_type": "code",
   "execution_count": null,
   "metadata": {
    "ExecuteTime": {
     "end_time": "2019-10-29T12:03:41.195135Z",
     "start_time": "2019-10-29T12:03:41.184491Z"
    }
   },
   "outputs": [],
   "source": [
    "class VarExtractor(VarExtractor):\n",
    "    def extract_struct_val(self, struct):\n",
    "        return {\n",
    "            f.name: str(struct[f]).strip('\"')\n",
    "            for f in struct.type.fields()\n",
    "        }"
   ]
  },
  {
   "cell_type": "markdown",
   "metadata": {},
   "source": [
    "Lastly, we have the function called `extract_pointer_val` which firstly dereference a pointer type and then returns the true type of the object it points to. Next, we check the type of the object being pointed to and then we extract the value and then return."
   ]
  },
  {
   "cell_type": "code",
   "execution_count": null,
   "metadata": {
    "ExecuteTime": {
     "end_time": "2019-10-29T12:03:46.115038Z",
     "start_time": "2019-10-29T12:03:46.103930Z"
    }
   },
   "outputs": [],
   "source": [
    "class VarExtractor(VarExtractor):\n",
    "    def extract_pointer_val(self, symbol):\n",
    "        true_value = self.dereference_pointer_type(symbol)\n",
    "\n",
    "        if true_value.type.code == gdb.TYPE_CODE_INT:\n",
    "            return '{}'.format(true_value.address).strip('\"')\n",
    "\n",
    "        elif true_value.type.code == gdb.TYPE_CODE_STRUCT:\n",
    "            return self.extract_struct_val(true_value)"
   ]
  },
  {
   "cell_type": "markdown",
   "metadata": {},
   "source": [
    "### GDBContext\n",
    "\n",
    "We've seen previously that the `Context` class provides easy access to the information such as the current module, and parameter names. We can also obtain same information using `GDB`  to access the frame as seen below.\n",
    "\n",
    "We call our new context class `GDBContext`."
   ]
  },
  {
   "cell_type": "code",
   "execution_count": null,
   "metadata": {
    "ExecuteTime": {
     "end_time": "2019-10-29T12:03:50.139753Z",
     "start_time": "2019-10-29T12:03:48.209595Z"
    }
   },
   "outputs": [],
   "source": [
    "from GrammarMiner import Context"
   ]
  },
  {
   "cell_type": "code",
   "execution_count": null,
   "metadata": {
    "ExecuteTime": {
     "end_time": "2019-10-29T12:03:52.745656Z",
     "start_time": "2019-10-29T12:03:52.734164Z"
    }
   },
   "outputs": [],
   "source": [
    "class GDBContext(Context):\n",
    "    def __init__(self, frame):\n",
    "        self.method = frame.name()\n",
    "        self.parameter_names = self.get_arg_names(frame)\n",
    "        self.line_no = frame.find_sal().line\n",
    "        self.file_name = frame.find_sal().symtab.fullname()"
   ]
  },
  {
   "cell_type": "markdown",
   "metadata": {},
   "source": [
    "The `get_arg_names` is a custom function which takes a `frame` as input, extract the name of the arguments and return a list of argument names. `GDB` represents variables, constants, arguments as symbols in a block. In a more descriptive sense, a block is just a scope in the source code. Also, `gdb.Block` is iterable just as we can see in the `get_arg_names` function."
   ]
  },
  {
   "cell_type": "code",
   "execution_count": null,
   "metadata": {
    "ExecuteTime": {
     "end_time": "2019-10-29T12:03:54.709075Z",
     "start_time": "2019-10-29T12:03:54.704438Z"
    }
   },
   "outputs": [],
   "source": [
    "class GDBContext(GDBContext):\n",
    "    def get_arg_names(self, frame):\n",
    "        return [symbol.name for symbol in frame.block() if symbol.is_argument]"
   ]
  },
  {
   "cell_type": "markdown",
   "metadata": {},
   "source": [
    "We also extend the `extract_vars` which is a convenience method that acts on the frame within the `GDBContext` class. In this case we iterate through all `symbols` in the current `block`. If the symbol is a variable or an argument, we check what type they carry and then we extract their corresponding values based on their type and then we add them to  dictionary `vals` as defined."
   ]
  },
  {
   "cell_type": "code",
   "execution_count": null,
   "metadata": {
    "ExecuteTime": {
     "end_time": "2019-10-29T12:03:56.530253Z",
     "start_time": "2019-10-29T12:03:56.518216Z"
    }
   },
   "outputs": [],
   "source": [
    "class GDBContext(GDBContext):\n",
    "    def extract_vars(self, frame):\n",
    "        vals = {}\n",
    "        extractor = VarExtractor(frame)\n",
    "\n",
    "        symbols = [\n",
    "            sym for sym in frame.block() if sym.is_variable or sym.is_argument\n",
    "        ]\n",
    "        for symbol in symbols:\n",
    "            if symbol.type.code == gdb.TYPE_CODE_INT:\n",
    "                vals[symbol.name] = extractor.extract_int_val(symbol)\n",
    "\n",
    "            elif symbol.type.code == gdb.TYPE_CODE_PTR:\n",
    "                vals[symbol.name] = extractor.extract_pointer_val(symbol)\n",
    "\n",
    "        return {k1: v1 for k, v in vals.items() for k1, v1 in flatten(k, v)}"
   ]
  },
  {
   "cell_type": "markdown",
   "metadata": {},
   "source": [
    "### GDBTracer\n",
    "\n",
    "Previously, we have seen how `Tracer` class was used to trace through a python program to obtain the trace information. In our case, we define a new class `GDBTracer` that inherits the base implementation of our `Tracer` class, the only exception we have is to use the `GDBContext` class which we already defined above. To do this, we override the function `create_context` and then return an instance of `GDBContext`."
   ]
  },
  {
   "cell_type": "code",
   "execution_count": null,
   "metadata": {
    "ExecuteTime": {
     "end_time": "2019-10-29T12:03:59.581315Z",
     "start_time": "2019-10-29T12:03:59.578636Z"
    }
   },
   "outputs": [],
   "source": [
    "from GrammarMiner import Tracer"
   ]
  },
  {
   "cell_type": "markdown",
   "metadata": {},
   "source": [
    "**IMPORTANT**: verify that your current version of fuzzingbook you use uses `create_context()` in the `traceit()` method."
   ]
  },
  {
   "cell_type": "code",
   "execution_count": null,
   "metadata": {
    "ExecuteTime": {
     "end_time": "2019-10-29T12:04:01.056077Z",
     "start_time": "2019-10-29T12:04:01.047826Z"
    }
   },
   "outputs": [],
   "source": [
    "class GDBTracer(Tracer):\n",
    "    def create_context(self, frame):\n",
    "        return GDBContext(frame)"
   ]
  },
  {
   "cell_type": "markdown",
   "metadata": {},
   "source": [
    "### Recovering Grammars "
   ]
  },
  {
   "cell_type": "markdown",
   "metadata": {},
   "source": [
    "Due to the limitation we have that `GDB` API is not a library, we cannot execute our implementation directly within the notebook cell. To address this limitation, we use the fuzzingbook `extract_class_definition` function to extract each of the classes we have implemented so far and then we write them to a `.py` file which would then be execute under `GDB`."
   ]
  },
  {
   "cell_type": "code",
   "execution_count": null,
   "metadata": {
    "ExecuteTime": {
     "end_time": "2019-10-29T12:04:03.636097Z",
     "start_time": "2019-10-29T12:04:03.628839Z"
    }
   },
   "outputs": [],
   "source": [
    "import sys\n",
    "import inspect"
   ]
  },
  {
   "cell_type": "code",
   "execution_count": null,
   "metadata": {
    "ExecuteTime": {
     "end_time": "2019-10-08T14:53:23.173853Z",
     "start_time": "2019-10-08T14:53:23.157243Z"
    },
    "scrolled": false
   },
   "outputs": [],
   "source": [
    "tracer_head = \"\"\"\\\n",
    "import sys\n",
    "sys.path.extend([%s])\n",
    "sys.path.append('.')\n",
    "import matplotlib.pyplot\n",
    "matplotlib.pyplot._IP_REGISTERED = True # Hack\n",
    "import fuzzingbook_utils\n",
    "from GrammarMiner import GrammarMiner, Context, Tracer, Coverage, ScopedGrammarMiner, readable, flatten\n",
    "import jsonpickle\n",
    "import os\n",
    "import gdb\n",
    "\"\"\" % (', '.join(\"'%s'\" % str(i) for i in sys.path if i))\n",
    "debugger_src = fuzzingbook_utils.extract_class_definition(Debugger)\n",
    "context_src = fuzzingbook_utils.extract_class_definition(GDBContext)\n",
    "gdbtracer_src = fuzzingbook_utils.extract_class_definition(GDBTracer)\n",
    "varextractor_src = fuzzingbook_utils.extract_class_definition(VarExtractor)\n",
    "gdbdebugger_src = fuzzingbook_utils.extract_class_definition(GDBDebugger)\n",
    "tracer_tail=\"\"\"\n",
    "file_name = 'gdbtrace'\n",
    "def recover_trace(f, inp, **kwargs):\n",
    "    d = GDBDebugger(gdb, f, inp, **kwargs)\n",
    "    d.event_loop()\n",
    "    with open(file_name, 'w+') as f:\n",
    "        print(jsonpickle.encode(d.tracer.trace), file=f)\n",
    "binary = 'a.out'\n",
    "recover_trace(binary, arg0, files=files.split(' '))\n",
    "\"\"\"\n",
    "tracer_src = '\\n'.join([tracer_head, debugger_src, context_src, gdbtracer_src, varextractor_src, gdbdebugger_src, tracer_tail])"
   ]
  },
  {
   "cell_type": "code",
   "execution_count": null,
   "metadata": {
    "ExecuteTime": {
     "end_time": "2019-10-08T14:53:23.183158Z",
     "start_time": "2019-10-08T14:53:23.175707Z"
    }
   },
   "outputs": [],
   "source": [
    "with open('debugger.py', 'w+') as f:\n",
    "    print(tracer_src, file=f)"
   ]
  },
  {
   "cell_type": "markdown",
   "metadata": {},
   "source": [
    "We compile the `.c` file using `gcc` to obtain the binary as follows:"
   ]
  },
  {
   "cell_type": "code",
   "execution_count": null,
   "metadata": {
    "ExecuteTime": {
     "end_time": "2019-10-08T14:53:23.367681Z",
     "start_time": "2019-10-08T14:53:23.184804Z"
    }
   },
   "outputs": [],
   "source": [
    "!gcc -g -o a.out inventory.c"
   ]
  },
  {
   "cell_type": "code",
   "execution_count": null,
   "metadata": {
    "ExecuteTime": {
     "end_time": "2019-10-29T12:04:07.624408Z",
     "start_time": "2019-10-29T12:04:07.617137Z"
    }
   },
   "outputs": [],
   "source": [
    "from GrammarMiner import ScopedGrammarMiner, readable, flatten, VEHICLES"
   ]
  },
  {
   "cell_type": "code",
   "execution_count": null,
   "metadata": {
    "ExecuteTime": {
     "end_time": "2019-10-29T12:04:09.850317Z",
     "start_time": "2019-10-29T12:04:09.843511Z"
    }
   },
   "outputs": [],
   "source": [
    "import jsonpickle"
   ]
  },
  {
   "cell_type": "markdown",
   "metadata": {},
   "source": [
    "Here, the `recover_grammar` function is similar to the one implemented in python. The exception it has is that we execute the `debugger.py` file under `GDB` and then we read the trace before updating the scope grammar miner instance."
   ]
  },
  {
   "cell_type": "code",
   "execution_count": null,
   "metadata": {
    "ExecuteTime": {
     "end_time": "2019-10-29T12:04:11.706776Z",
     "start_time": "2019-10-29T12:04:11.694923Z"
    },
    "code_folding": []
   },
   "outputs": [],
   "source": [
    "def recover_grammar(inps, src):\n",
    "    traces = []\n",
    "    miner = ScopedGrammarMiner()\n",
    "\n",
    "    for inp in inps:\n",
    "        arg = '\\'py arg0=\"%s\"\\'' % inp\n",
    "        argfiles = '\\'py files=\"%s\"\\'' % src\n",
    "        print(arg)\n",
    "        !gdb --batch-silent -ex {arg} -ex {argfiles} -x debugger.py\n",
    "        with open('gdbtrace', 'rb') as f:\n",
    "            traces.append((inp, jsonpickle.decode(f.read())))\n",
    "    \n",
    "    for inp, trace in traces:\n",
    "        miner.update_grammar(inp, trace)\n",
    "    return (readable(miner.clean_grammar()))"
   ]
  },
  {
   "cell_type": "code",
   "execution_count": null,
   "metadata": {
    "ExecuteTime": {
     "end_time": "2019-10-08T14:53:36.060225Z",
     "start_time": "2019-10-08T14:53:23.415996Z"
    },
    "scrolled": false
   },
   "outputs": [],
   "source": [
    "grammar = recover_grammar(VEHICLES, 'inventory.c')"
   ]
  },
  {
   "cell_type": "code",
   "execution_count": null,
   "metadata": {
    "ExecuteTime": {
     "end_time": "2019-10-29T12:04:13.947886Z",
     "start_time": "2019-10-29T12:04:13.943714Z"
    }
   },
   "outputs": [],
   "source": [
    "from Grammars import START_SYMBOL, syntax_diagram, is_nonterminal\n",
    "from GrammarFuzzer import GrammarFuzzer"
   ]
  },
  {
   "cell_type": "code",
   "execution_count": null,
   "metadata": {
    "ExecuteTime": {
     "end_time": "2019-10-08T14:53:36.079023Z",
     "start_time": "2019-10-08T14:53:36.066993Z"
    }
   },
   "outputs": [],
   "source": [
    "grammar"
   ]
  },
  {
   "cell_type": "code",
   "execution_count": null,
   "metadata": {
    "ExecuteTime": {
     "end_time": "2019-10-08T14:53:36.096255Z",
     "start_time": "2019-10-08T14:53:36.080831Z"
    }
   },
   "outputs": [],
   "source": [
    "f = GrammarFuzzer(grammar)\n",
    "for _a in range(10):\n",
    "    print(f.fuzz())"
   ]
  },
  {
   "cell_type": "markdown",
   "metadata": {},
   "source": [
    "## Recovering  Grammar for Url Parser"
   ]
  },
  {
   "cell_type": "markdown",
   "metadata": {},
   "source": [
    "Firstly, we have an header file for the url parser."
   ]
  },
  {
   "cell_type": "code",
   "execution_count": null,
   "metadata": {
    "ExecuteTime": {
     "end_time": "2019-10-19T09:49:09.217464Z",
     "start_time": "2019-10-19T09:49:09.214405Z"
    }
   },
   "outputs": [],
   "source": [
    "urlparse_h = \"\"\"\\\n",
    "\n",
    "/*_\n",
    " * Copyright 2010 Scyphus Solutions Co. Ltd.  All rights reserved.\n",
    " *\n",
    " * Authors:\n",
    " *      Hirochika Asai\n",
    " */\n",
    "\n",
    "#ifndef _URL_PARSER_H\n",
    "#define _URL_PARSER_H\n",
    "\n",
    "/*\n",
    " * URL storage\n",
    " */\n",
    "struct parsed_url {\n",
    "    char *scheme;               /* mandatory */\n",
    "    char *host;                 /* mandatory */\n",
    "    char *port;                 /* optional */\n",
    "    char *path;                 /* optional */\n",
    "    char *query;                /* optional */\n",
    "    char *fragment;             /* optional */\n",
    "    char *username;             /* optional */\n",
    "    char *password;             /* optional */\n",
    "};\n",
    "\n",
    "#ifdef __cplusplus\n",
    "extern \"C\" {\n",
    "#endif\n",
    "\n",
    "    /*\n",
    "     * Declaration of function prototypes\n",
    "     */\n",
    "    struct parsed_url * parse_url(const char *, struct parsed_url* obj);\n",
    "    void parsed_url_free(struct parsed_url *);\n",
    "\n",
    "#ifdef __cplusplus\n",
    "}\n",
    "#endif\n",
    "\n",
    "#endif /* _URL_PARSER_H */\n",
    "\n",
    "/*\n",
    " * Local variables:\n",
    " * tab-width: 4\n",
    " * c-basic-offset: 4\n",
    " * End:\n",
    " * vim600: sw=4 ts=4 fdm=marker\n",
    " * vim<600: sw=4 ts=4\n",
    " */\n",
    "\"\"\""
   ]
  },
  {
   "cell_type": "code",
   "execution_count": null,
   "metadata": {
    "ExecuteTime": {
     "end_time": "2019-10-19T09:49:12.355361Z",
     "start_time": "2019-10-19T09:49:12.342374Z"
    }
   },
   "outputs": [],
   "source": [
    "with open('url_parser.h', 'w+') as f:\n",
    "    print(urlparse_h, file=f)"
   ]
  },
  {
   "cell_type": "markdown",
   "metadata": {},
   "source": [
    "Next, we have the `.c` file."
   ]
  },
  {
   "cell_type": "code",
   "execution_count": null,
   "metadata": {
    "ExecuteTime": {
     "end_time": "2019-10-21T14:53:40.699262Z",
     "start_time": "2019-10-21T14:53:40.693830Z"
    }
   },
   "outputs": [],
   "source": [
    "urlparse_src = \"\"\"\\\n",
    "/*\n",
    " * urlparse.c\n",
    " *\n",
    " * Decompose a URL into its components.\n",
    " */\n",
    "#include <string.h>\n",
    "#include <stdlib.h>\n",
    "#include <stdio.h>\n",
    "\n",
    "enum url_type {\n",
    "    URL_NORMAL,\n",
    "    URL_OLD_TFTP,\n",
    "    URL_PREFIX\n",
    "};\n",
    "\n",
    "struct url_info {\n",
    "    char *scheme;\n",
    "    char *user;\n",
    "    char *passwd;\n",
    "    char *host;\n",
    "    unsigned int port;\n",
    "    char *path;\t\t\t/* Includes query */\n",
    "    enum url_type type;\n",
    "};\n",
    "\n",
    "void parse_url(struct url_info *ui, char *url){\n",
    "    char *p = url;\n",
    "    char *q, *r, *s;\n",
    "\n",
    "    memset(ui, 0, sizeof *ui);\n",
    "\n",
    "    q = strstr(p, \"://\");\n",
    "    if (!q) {\n",
    "        q = strstr(p, \"::\");\n",
    "        if (q) {\n",
    "            *q = '\\\\000';\n",
    "            ui->scheme = \"tftp\";\n",
    "            ui->host = p;\n",
    "            ui->path = q+2;\n",
    "            ui->type = URL_OLD_TFTP;\n",
    "            return;\n",
    "        } else {\n",
    "            ui->path = p;\n",
    "            ui->type = URL_PREFIX;\n",
    "            return;\n",
    "        }\n",
    "    }\n",
    "\n",
    "    ui->type = URL_NORMAL;\n",
    "\n",
    "    ui->scheme = p;\n",
    "    *q = '\\\\000';\n",
    "    p = q+3;\n",
    "\n",
    "    q = strchr(p, '/');\n",
    "    if (q) {\n",
    "        *q = '\\\\000';\n",
    "        ui->path = q+1;\n",
    "        q = strchr(q+1, '#');\n",
    "    if (q)\n",
    "        *q = '\\\\000';\n",
    "    } else {\n",
    "        ui->path = \"\";\n",
    "    }\n",
    "\n",
    "    r = strchr(p, '@');\n",
    "    if (r) {\n",
    "        ui->user = p;\n",
    "        *r = '\\\\000';\n",
    "        s = strchr(p, ':');\n",
    "        if (s) {\n",
    "            *s = '\\\\000';\n",
    "            ui->passwd = s+1;\n",
    "        }\n",
    "        p = r+1;\n",
    "    }\n",
    "\n",
    "    ui->host = p;\n",
    "    r = strchr(p, ':');\n",
    "    if (r) {\n",
    "        *r = '\\\\000';\n",
    "        ui->port = atoi(r+1);\n",
    "    }\n",
    "}\n",
    "\n",
    "char *url_escape_unsafe(const char *input){\n",
    "    const char *p = input;\n",
    "    unsigned char c;\n",
    "    char *out, *q;\n",
    "    int n = 0;\n",
    "\n",
    "    while ((c = *p++)) {\n",
    "        if (c < ' ' || c > '~') {\n",
    "            n += 3;\t\t/* Need escaping */\n",
    "        } else {\n",
    "            n++;\n",
    "        }\n",
    "    }\n",
    "\n",
    "    q = out = malloc(n+1);\n",
    "    while ((c = *p++)) {\n",
    "        if (c < ' ' || c > '~') {\n",
    "            q += snprintf(q, 3, \"%02X\", c);\n",
    "        } else {\n",
    "            *q++ = c;\n",
    "        }\n",
    "    }\n",
    "\n",
    "    *q = '\\\\000';\n",
    "\n",
    "    return out;\n",
    "}\n",
    "\n",
    "static int hexdigit(char c){\n",
    "    if (c >= '0' && c <= '9')\n",
    "        return c - '0';\n",
    "    c |= 0x20;\n",
    "    if (c >= 'a' && c <= 'f')\n",
    "        return c - 'a' + 10;\n",
    "    return -1;\n",
    "}\n",
    "\n",
    "void url_unescape(char *buffer){\n",
    "    const char *p = buffer;\n",
    "    char *q = buffer;\n",
    "    unsigned char c;\n",
    "    int x, y;\n",
    "\n",
    "    while ((c = *p++)) {\n",
    "        if (c == '%') {\n",
    "            x = hexdigit(p[0]);\n",
    "            if (x >= 0) {\n",
    "                y = hexdigit(p[1]);\n",
    "                if (y >= 0) {\n",
    "                    *q++ = (x << 4) + y;\n",
    "                    p += 2;\n",
    "                    continue;\n",
    "                }\n",
    "            }\n",
    "        }\n",
    "        *q++ = c;\n",
    "    }\n",
    "    *q = '\\\\000';\n",
    "}\n",
    "\n",
    "\n",
    "int main(int argc, char* argv[]) {\n",
    "    struct url_info url;\n",
    "    parse_url(&url, argv[1]);\n",
    "    return 0;\n",
    "}\n",
    "\"\"\""
   ]
  },
  {
   "cell_type": "code",
   "execution_count": null,
   "metadata": {
    "ExecuteTime": {
     "end_time": "2019-10-19T09:49:18.865718Z",
     "start_time": "2019-10-19T09:49:18.853154Z"
    }
   },
   "outputs": [],
   "source": [
    "with open('urlparse.c', 'w+') as f:\n",
    "    print(urlparse_src, file=f)"
   ]
  },
  {
   "cell_type": "code",
   "execution_count": null,
   "metadata": {
    "ExecuteTime": {
     "end_time": "2019-10-19T09:49:23.380843Z",
     "start_time": "2019-10-19T09:49:23.189739Z"
    }
   },
   "outputs": [],
   "source": [
    "!gcc -g -o a.out urlparse.c"
   ]
  },
  {
   "cell_type": "code",
   "execution_count": null,
   "metadata": {
    "ExecuteTime": {
     "end_time": "2019-10-08T21:23:08.461527Z",
     "start_time": "2019-10-08T21:23:08.332210Z"
    }
   },
   "outputs": [],
   "source": [
    "!strip -s a.out"
   ]
  },
  {
   "cell_type": "code",
   "execution_count": null,
   "metadata": {
    "ExecuteTime": {
     "end_time": "2019-10-21T14:53:45.093907Z",
     "start_time": "2019-10-21T14:53:45.087255Z"
    },
    "scrolled": false
   },
   "outputs": [],
   "source": [
    "from GrammarMiner import URLS_X"
   ]
  },
  {
   "cell_type": "code",
   "execution_count": null,
   "metadata": {
    "ExecuteTime": {
     "end_time": "2019-10-08T14:53:51.481677Z",
     "start_time": "2019-10-08T14:53:36.357556Z"
    },
    "scrolled": false
   },
   "outputs": [],
   "source": [
    "grammar = recover_grammar(URLS_X, 'urlparse.c')"
   ]
  },
  {
   "cell_type": "code",
   "execution_count": null,
   "metadata": {
    "ExecuteTime": {
     "end_time": "2019-10-08T14:53:51.487643Z",
     "start_time": "2019-10-08T14:53:51.483464Z"
    }
   },
   "outputs": [],
   "source": [
    "grammar"
   ]
  },
  {
   "cell_type": "code",
   "execution_count": null,
   "metadata": {
    "ExecuteTime": {
     "end_time": "2019-10-08T14:53:51.502512Z",
     "start_time": "2019-10-08T14:53:51.489569Z"
    }
   },
   "outputs": [],
   "source": [
    "f = GrammarFuzzer(grammar)\n",
    "for _a in range(10):\n",
    "    print(f.fuzz())"
   ]
  },
  {
   "cell_type": "markdown",
   "metadata": {},
   "source": [
    "## Grammar from Stripped Binaries and Unstripped Binaries"
   ]
  },
  {
   "cell_type": "code",
   "execution_count": null,
   "metadata": {},
   "outputs": [],
   "source": []
  },
  {
   "cell_type": "markdown",
   "metadata": {},
   "source": [
    "### Stripped Context\n",
    "\n",
    "The stripped context is similar to previous context classes which we have seen earlier. It basically extract information from the frame."
   ]
  },
  {
   "cell_type": "code",
   "execution_count": null,
   "metadata": {
    "ExecuteTime": {
     "end_time": "2019-10-29T12:04:26.631999Z",
     "start_time": "2019-10-29T12:04:26.617094Z"
    }
   },
   "outputs": [],
   "source": [
    "class StrippedContext(GDBContext):\n",
    "    def __init__(self, frame):\n",
    "        self.method = frame.function\n",
    "        self.parameter_names = [k for k, v in frame.arguments.items()]\n",
    "        self.line_no = frame.line_no\n",
    "        self.file_name = frame.file_name"
   ]
  },
  {
   "cell_type": "code",
   "execution_count": null,
   "metadata": {
    "ExecuteTime": {
     "end_time": "2019-10-29T12:04:25.339026Z",
     "start_time": "2019-10-29T12:04:25.329731Z"
    }
   },
   "outputs": [],
   "source": [
    "class StrippedContext(GDBContext):\n",
    "    def extract_vars(self, frame):\n",
    "        return {k1: v1 for k, v in frame.locals_vars.items() for k1, v1 in flatten(k, v)}\n",
    "    def __repr__(self):\n",
    "        return \"%s:%s:%s(%s)\" % self._t()"
   ]
  },
  {
   "cell_type": "markdown",
   "metadata": {},
   "source": [
    "### Stripped Tracer"
   ]
  },
  {
   "cell_type": "code",
   "execution_count": null,
   "metadata": {
    "ExecuteTime": {
     "end_time": "2019-10-29T12:04:28.361346Z",
     "start_time": "2019-10-29T12:04:28.356783Z"
    }
   },
   "outputs": [],
   "source": [
    "class StrippedTracer(GDBTracer):\n",
    "    def create_context(self, frame):\n",
    "        return StrippedContext(frame)"
   ]
  },
  {
   "cell_type": "markdown",
   "metadata": {},
   "source": [
    "### Stripped Debugger"
   ]
  },
  {
   "cell_type": "code",
   "execution_count": null,
   "metadata": {
    "ExecuteTime": {
     "end_time": "2019-10-29T12:04:30.845175Z",
     "start_time": "2019-10-29T12:04:30.837714Z"
    }
   },
   "outputs": [],
   "source": [
    "class StrippedBinaryDebugger(GDBDebugger):\n",
    "    def __init__(self, gdb, binary, inp, **kwargs):\n",
    "        super().__init__(gdb, binary, inp, **kwargs)\n",
    "        self.tracer = StrippedTracer(self.inp, files=self.files)"
   ]
  },
  {
   "cell_type": "code",
   "execution_count": null,
   "metadata": {
    "ExecuteTime": {
     "end_time": "2019-10-29T12:04:32.359759Z",
     "start_time": "2019-10-29T12:04:32.347970Z"
    }
   },
   "outputs": [],
   "source": [
    "class StrippedBinaryDebugger(GDBDebugger):\n",
    "    def break_at(self, address):\n",
    "        self.gdb.execute(\"break *%s\" % address)\n",
    "\n",
    "    def finish(self):\n",
    "        self.gdb.execute('finish')\n",
    "\n",
    "    def step(self):\n",
    "        self.gdb.execute('stepi')\n",
    "\n",
    "    def resume(self):\n",
    "        self.gdb.execute('continue')\n",
    "\n",
    "    def nexti(self):\n",
    "        self.gdb.execute('nexti')\n",
    "\n",
    "    def get_instruction(self):\n",
    "        return self.gdb.execute('x/i $rip', to_string=True)"
   ]
  },
  {
   "cell_type": "code",
   "execution_count": null,
   "metadata": {
    "ExecuteTime": {
     "end_time": "2019-10-29T12:04:35.493129Z",
     "start_time": "2019-10-29T12:04:35.482081Z"
    }
   },
   "outputs": [],
   "source": [
    "class StrippedBinaryDebugger(StrippedBinaryDebugger):\n",
    "    def get_entry_point(self):\n",
    "        self.gdb.execute(\"set args '%s'\" % self.inp)\n",
    "        self.gdb.execute(\"file %s\" % self.binary)\n",
    "        self.run()\n",
    "\n",
    "        info_file = self.gdb.execute('info file', to_string=True)\n",
    "        e = info_file.splitlines()[3]\n",
    "        entry_address = e.split(':')[1]\n",
    "        return entry_address"
   ]
  },
  {
   "cell_type": "code",
   "execution_count": null,
   "metadata": {
    "ExecuteTime": {
     "end_time": "2019-10-29T12:04:37.738792Z",
     "start_time": "2019-10-29T12:04:37.727671Z"
    }
   },
   "outputs": [],
   "source": [
    "class StrippedBinaryDebugger(StrippedBinaryDebugger):\n",
    "    def get_main(self):\n",
    "        entry_addr = self.get_entry_point()\n",
    "        self.break_at(entry_addr)\n",
    "        self.run()\n",
    "\n",
    "        instructions = []\n",
    "        while True:\n",
    "            next_i = self.get_instruction()\n",
    "            if CALL in next_i:\n",
    "                break\n",
    "            instructions.append(next_i)\n",
    "            self.step()\n",
    "\n",
    "        instr = instructions[-1].split()\n",
    "        return instr[-1]"
   ]
  },
  {
   "cell_type": "code",
   "execution_count": null,
   "metadata": {
    "ExecuteTime": {
     "end_time": "2019-10-29T12:04:39.750690Z",
     "start_time": "2019-10-29T12:04:39.739448Z"
    }
   },
   "outputs": [],
   "source": [
    "class StrippedBinaryDebugger(StrippedBinaryDebugger):\n",
    "    def get_event(self, frame):\n",
    "        fname = frame.function\n",
    "        if fname not in self.frames:\n",
    "            self.frames.append(fname)\n",
    "            return 'call'\n",
    "        elif fname == self.frames[-1]:\n",
    "            return 'line'\n",
    "        else:\n",
    "            self.frames.pop()\n",
    "            return 'return'"
   ]
  },
  {
   "cell_type": "code",
   "execution_count": null,
   "metadata": {
    "ExecuteTime": {
     "end_time": "2019-10-29T12:04:41.719650Z",
     "start_time": "2019-10-29T12:04:41.708723Z"
    }
   },
   "outputs": [],
   "source": [
    "class StrippedBinaryDebugger(StrippedBinaryDebugger):\n",
    "    def in_scope(self, instr, start, end):\n",
    "        instr= instr.split()\n",
    "        del instr[0]\n",
    "\n",
    "        current_addr = instr[0].strip(':')\n",
    "        hex_val = int(current_addr, 16)\n",
    "        if hex_val in range(int(start, 16), int(end, 16)):\n",
    "            return True\n",
    "        else:\n",
    "            return False"
   ]
  },
  {
   "cell_type": "code",
   "execution_count": null,
   "metadata": {
    "ExecuteTime": {
     "end_time": "2019-10-29T12:04:43.776615Z",
     "start_time": "2019-10-29T12:04:43.764081Z"
    }
   },
   "outputs": [],
   "source": [
    "class StrippedBinaryDebugger(StrippedBinaryDebugger):\n",
    "    def get_address_range(self):\n",
    "        start_addr = None\n",
    "        end_addr = None\n",
    "        mappings = self.gdb.execute('info proc mappings', to_string=True)\n",
    "\n",
    "        for i, line in enumerate(mappings.splitlines()):\n",
    "            if i == 4:\n",
    "                start_addr = line.split()[0]\n",
    "            elif i == 6:\n",
    "                end_addr = line.split()[1]\n",
    "        return (start_addr, end_addr)"
   ]
  },
  {
   "cell_type": "code",
   "execution_count": null,
   "metadata": {
    "ExecuteTime": {
     "end_time": "2019-10-29T12:04:46.363228Z",
     "start_time": "2019-10-29T12:04:46.343074Z"
    },
    "code_folding": []
   },
   "outputs": [],
   "source": [
    "class StrippedBinaryDebugger(StrippedBinaryDebugger):\n",
    "    def event_loop(self):\n",
    "        main = self.get_main()\n",
    "        self.break_at(main)\n",
    "        self.resume()\n",
    "\n",
    "        start, end = self.get_address_range()\n",
    "        nexti = ''\n",
    "        current_frame = None\n",
    "        while True:\n",
    "            try:\n",
    "                self.step()\n",
    "                nexti = self.get_instruction()\n",
    "                if self.in_scope(nexti, start, end):\n",
    "                    h = Instruction(nexti)\n",
    "                    if h.instr_type == 'callq':\n",
    "                        if h.symbol_name != None:\n",
    "                            self.nexti()\n",
    "                            continue\n",
    "                        else:\n",
    "                            current_frame = Frame(h, self.inp)\n",
    "                    else:\n",
    "                        if current_frame != None:\n",
    "                            current_frame.update(h)\n",
    "                        else:\n",
    "                            continue\n",
    "                    event = self.get_event(current_frame)\n",
    "                    self.tracer.traceit(current_frame, event, None)\n",
    "                else:\n",
    "                    self.finish()\n",
    "            except gdb.error:\n",
    "                break"
   ]
  },
  {
   "cell_type": "code",
   "execution_count": null,
   "metadata": {
    "ExecuteTime": {
     "end_time": "2019-10-30T01:53:30.712668Z",
     "start_time": "2019-10-30T01:53:30.705553Z"
    }
   },
   "outputs": [],
   "source": [
    "from GrammarMiner import to_nonterminal, ScopeTreeMiner, URLS_X, INVENTORY"
   ]
  },
  {
   "cell_type": "code",
   "execution_count": null,
   "metadata": {
    "ExecuteTime": {
     "end_time": "2019-10-30T09:38:04.427449Z",
     "start_time": "2019-10-30T09:38:04.417646Z"
    }
   },
   "outputs": [],
   "source": [
    "class StrippedScopeTreeMiner(ScopeTreeMiner):\n",
    "    def nt_var(self, key):\n",
    "        method, seq, var, lno = key\n",
    "        return to_nonterminal(\"%s@%s:%s\" % (method, lno, var))"
   ]
  },
  {
   "cell_type": "code",
   "execution_count": null,
   "metadata": {
    "ExecuteTime": {
     "end_time": "2019-10-30T09:38:01.729955Z",
     "start_time": "2019-10-30T09:38:01.722331Z"
    }
   },
   "outputs": [],
   "source": [
    "class StrippedScopedGrammarMiner(ScopedGrammarMiner):\n",
    "    def create_tree_miner(self, *args):\n",
    "        return StrippedScopeTreeMiner(*args)"
   ]
  },
  {
   "cell_type": "code",
   "execution_count": null,
   "metadata": {
    "ExecuteTime": {
     "end_time": "2019-10-08T14:53:51.863339Z",
     "start_time": "2019-10-08T14:53:51.829326Z"
    }
   },
   "outputs": [],
   "source": [
    "tracer_head = \"\"\"\\\n",
    "import sys\n",
    "sys.path.extend([%s])\n",
    "sys.path.append('.')\n",
    "import matplotlib.pyplot\n",
    "matplotlib.pyplot._IP_REGISTERED = True # Hack\n",
    "import fuzzingbook_utils\n",
    "from GrammarMiner import GrammarMiner, Context, Tracer, Coverage, ScopedGrammarMiner, readable, flatten\n",
    "import jsonpickle\n",
    "import os\n",
    "import gdb\n",
    "import re\n",
    "\"\"\" % (', '.join(\"'%s'\" % str(i) for i in sys.path if i))\n",
    "debugger_src = fuzzingbook_utils.extract_class_definition(Debugger)\n",
    "context_src = fuzzingbook_utils.extract_class_definition(GDBContext)\n",
    "gdbtracer_src = fuzzingbook_utils.extract_class_definition(GDBTracer)\n",
    "varextractor_src = fuzzingbook_utils.extract_class_definition(VarExtractor)\n",
    "gdbdebugger_src = fuzzingbook_utils.extract_class_definition(GDBDebugger)\n",
    "\n",
    "frame_src = fuzzingbook_utils.extract_class_definition(Frame)\n",
    "instr_src = fuzzingbook_utils.extract_class_definition(Instruction)\n",
    "stripped_cxt_src = fuzzingbook_utils.extract_class_definition(StrippedContext)\n",
    "stripped_debugger_src = fuzzingbook_utils.extract_class_definition(\n",
    "    StrippedBinaryDebugger)\n",
    "\n",
    "tracer_tail = \"\"\"\n",
    "file_name = 'gdbtrace'\n",
    "def recover_trace(f, inp, **kwargs):\n",
    "    d = StrippedBinaryDebugger(gdb, f, inp, **kwargs)\n",
    "    d.event_loop()\n",
    "    with open(file_name, 'w+') as f:\n",
    "        print(jsonpickle.encode(d.tracer.trace), file=f)\n",
    "binary = 'a.out'\n",
    "recover_trace(binary, arg0, files=[binary])\n",
    "\"\"\"\n",
    "tracer_src = '\\n'.join([\n",
    "    tracer_head, debugger_src, context_src, gdbtracer_src, varextractor_src,\n",
    "    gdbdebugger_src, stripped_cxt_src, frame_src, instr_src,\n",
    "    stripped_debugger_src, tracer_tail\n",
    "])"
   ]
  },
  {
   "cell_type": "code",
   "execution_count": null,
   "metadata": {
    "ExecuteTime": {
     "end_time": "2019-10-30T09:34:32.598535Z",
     "start_time": "2019-10-30T09:34:32.589001Z"
    },
    "code_folding": []
   },
   "outputs": [],
   "source": [
    "with open('debugger.py', 'w+') as f:\n",
    "    print(tracer_src, file=f)"
   ]
  },
  {
   "cell_type": "code",
   "execution_count": null,
   "metadata": {
    "ExecuteTime": {
     "end_time": "2019-10-30T01:39:41.428711Z",
     "start_time": "2019-10-30T01:39:41.417093Z"
    },
    "code_folding": []
   },
   "outputs": [],
   "source": [
    "import jsonpickle\n",
    "def recover_grammar(inps, src):\n",
    "    traces = []\n",
    "    miner = StrippedScopedGrammarMiner()\n",
    "    \n",
    "    for c, inp in enumerate(inps):\n",
    "        arg = '\\'py arg0=\"%s\"\\'' % inp\n",
    "        argfiles = '\\'py files=\"%s\"\\'' % src\n",
    "        print(arg)\n",
    "        !gdb --batch-silent -ex {arg} -ex {argfiles} -x debugger.py\n",
    "        with open(f'gdbtrace', 'rb') as f:\n",
    "            traces.append((inp, jsonpickle.decode(f.read())))\n",
    "        !cp gdbtrace gdbtrace.{c}\n",
    "    \n",
    "    for inp, trace in traces:\n",
    "        miner.update_grammar(inp, trace)\n",
    "    return (readable(miner.clean_grammar()))"
   ]
  },
  {
   "cell_type": "code",
   "execution_count": null,
   "metadata": {
    "ExecuteTime": {
     "end_time": "2019-10-30T01:40:06.338581Z",
     "start_time": "2019-10-30T01:40:02.403035Z"
    },
    "scrolled": false
   },
   "outputs": [],
   "source": [
    "grammar = recover_grammar([\"abcd\"], 'a.out')\n",
    "grammar"
   ]
  }
 ],
 "metadata": {
  "kernelspec": {
   "display_name": "Python 3",
   "language": "python",
   "name": "python3"
  },
  "language_info": {
   "codemirror_mode": {
    "name": "ipython",
    "version": 3
   },
   "file_extension": ".py",
   "mimetype": "text/x-python",
   "name": "python",
   "nbconvert_exporter": "python",
   "pygments_lexer": "ipython3",
   "version": "3.7.1"
  },
  "latex_envs": {
   "LaTeX_envs_menu_present": true,
   "autoclose": false,
   "autocomplete": true,
   "bibliofile": "biblio.bib",
   "cite_by": "apalike",
   "current_citInitial": 1,
   "eqLabelWithNumbers": true,
   "eqNumInitial": 1,
   "hotkeys": {
    "equation": "Ctrl-E",
    "itemize": "Ctrl-I"
   },
   "labels_anchors": false,
   "latex_user_defs": false,
   "report_style_numbering": false,
   "user_envs_cfg": false
  },
  "toc": {
   "base_numbering": 1,
   "nav_menu": {},
   "number_sections": true,
   "sideBar": true,
   "skip_h1_title": false,
   "title_cell": "Table of Contents",
   "title_sidebar": "Contents",
   "toc_cell": false,
   "toc_position": {
    "height": "1161px",
    "left": "40px",
    "top": "141px",
    "width": "684px"
   },
   "toc_section_display": true,
   "toc_window_display": true
  },
  "varInspector": {
   "cols": {
    "lenName": 16,
    "lenType": 16,
    "lenVar": 40
   },
   "kernels_config": {
    "python": {
     "delete_cmd_postfix": "",
     "delete_cmd_prefix": "del ",
     "library": "var_list.py",
     "varRefreshCmd": "print(var_dic_list())"
    },
    "r": {
     "delete_cmd_postfix": ") ",
     "delete_cmd_prefix": "rm(",
     "library": "var_list.r",
     "varRefreshCmd": "cat(var_dic_list()) "
    }
   },
   "types_to_exclude": [
    "module",
    "function",
    "builtin_function_or_method",
    "instance",
    "_Feature"
   ],
   "window_display": false
  }
 },
 "nbformat": 4,
 "nbformat_minor": 2
}
