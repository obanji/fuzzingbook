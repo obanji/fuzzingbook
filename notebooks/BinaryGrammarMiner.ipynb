{
 "cells": [
  {
   "cell_type": "markdown",
   "metadata": {},
   "source": [
    "# Mining Input Grammar from Binary Programs\n",
    "\n",
    "In the [chapter on grammar miner](GrammarMiner.ipynb), we have seen various techniques that _automatically mine grammars for programs_ – by executing the programs and observing how they process which parts of the input. \n",
    "\n",
    "From the above mentioned chapter, we must have seen that most of these techniques have only been demonstrated for python programs, and have we ever thought of our how these techniques could be explored on larger programs implemented in other programming languages such as `C, C++`?  \n",
    "\n",
    "In this notebook, our focus is to demonstrate how this techniques can be further used to automatically mine syntactically valid input grammars from `C` executables that can be used for efficient and effective fuzzing."
   ]
  },
  {
   "cell_type": "markdown",
   "metadata": {},
   "source": [
    "**Prerequisites**\n",
    "* Prior knowledge on the [chapter on grammar mining](GrammarMiner.ipynb) is helpful."
   ]
  },
  {
   "cell_type": "code",
   "execution_count": 395,
   "metadata": {},
   "outputs": [],
   "source": [
    "import fuzzingbook_utils"
   ]
  },
  {
   "cell_type": "markdown",
   "metadata": {},
   "source": [
    "## Recovering the Inventory Grammar\n",
    "\n",
    "Suppose we convert the `inventory` system example we saw in the chapter on [parsers](Parser.ipynb) into `C`:"
   ]
  },
  {
   "cell_type": "code",
   "execution_count": 397,
   "metadata": {},
   "outputs": [],
   "source": [
    "inventory_src = \"\"\"\\\n",
    "#include <stdio.h>\n",
    "#include <string.h>\n",
    "#include <stdlib.h>\n",
    "\n",
    "int max_size = 1024;\n",
    "\n",
    "char* process_van(char* year, char* company, char* model, char* my_string) {\n",
    "    char *current = my_string;\n",
    "    char* fmt = \"We have a %s %s van from %s vintage.\\\\n\";\n",
    "    int written = snprintf(current, max_size, fmt, company, model, year);\n",
    "\n",
    "    current += written;\n",
    "    int rem = (max_size - written);\n",
    "\n",
    "    if(atoi(year) > 2010) {\n",
    "        snprintf(current, rem, \"It is a recent model!\\\\n\");\n",
    "    } else {\n",
    "        snprintf(current, rem, \"It is an old but reliable model!\\\\n\");\n",
    "    }\n",
    "    return my_string;\n",
    "}\n",
    "\n",
    "char* process_car(char* year, char* company, char* model, char* my_string) {\n",
    "    char *current = my_string;\n",
    "    char* fmt = \"We have a %s %s car from %s vintage.\\\\n\";\n",
    "    int written = snprintf(current, max_size, fmt, company, model, year);\n",
    "    int rem = (max_size - written);\n",
    "\n",
    "    if(atoi(year) > 2010) {\n",
    "        snprintf(current, rem, \"It is a recent model!\\\\n\");\n",
    "    } else {\n",
    "        snprintf(current, rem, \"It is an old but reliable model!\\\\n\");\n",
    "    }\n",
    "    return my_string;\n",
    "}\n",
    "\n",
    "char* process_vehicle(char* vehicle_str, char* my_string) {\n",
    "    char *data[4];\n",
    "    int index = 0;\n",
    "    char* str = vehicle_str;\n",
    "\n",
    "    for(;;) {\n",
    "       data[index] = strtok(str, \",\");\n",
    "       if (!data[index]) break;\n",
    "\n",
    "       str = NULL;\n",
    "       index += 1;\n",
    "    }\n",
    "\n",
    "    char* year = data[0];\n",
    "    char* kind = data[1];\n",
    "    char* company = data[2];\n",
    "    char* model = data[3];\n",
    "\n",
    "    if(!strcmp(kind, \"van\")) {\n",
    "        return process_van(year, company, model, my_string);\n",
    "    } else if (!strcmp(kind, \"car\")) {\n",
    "        return process_car(year, company, model, my_string);\n",
    "    } else {\n",
    "        fprintf(stderr, \"Invalid entry\");\n",
    "        return NULL;\n",
    "    }\n",
    "}\n",
    "\n",
    "int main(int argc, char* argv[]) {\n",
    "    /* format: year, kind, company, model */\n",
    "    char *my_string = malloc(sizeof(char) * max_size);\n",
    "    char* result = process_vehicle(argv[1], my_string);\n",
    "    printf(\"%s\", result);\n",
    "    \n",
    "    free(my_string);\n",
    "    return 0;\n",
    "}\n",
    "\"\"\""
   ]
  },
  {
   "cell_type": "code",
   "execution_count": 398,
   "metadata": {},
   "outputs": [],
   "source": [
    "with open('inventory.c', 'w+') as f:\n",
    "    print(inventory_src, file=f)"
   ]
  },
  {
   "cell_type": "markdown",
   "metadata": {},
   "source": [
    "In order to be able observe the process of parsing and also recovering it's input grammar. We need to hook into the program runtime observe the arguments to a function, local variables and the context of execution by inspecting the `frame`.\n",
    "\n",
    "To do this, we make use of `GDB`, the GNU Project debugger which allow us to trace through a program and also gives us access to the same contextual information as we have seen previously in the example implemented in python.`GDB` provides a python API which can be use in debugging binary programs and also accessing program information at runtime. "
   ]
  },
  {
   "cell_type": "markdown",
   "metadata": {},
   "source": [
    "**Note:** For the sake of clarity, it is important to know that `GDB` Api for python is not a library and we cannot directly import it as a python module within a python script.`GDB` only gets imported at runtime."
   ]
  },
  {
   "cell_type": "markdown",
   "metadata": {},
   "source": [
    "### Debugger\n",
    "\n",
    "Before we can start debugging programs we need to leverage `GDB` python API to implement a debugger that would suit our aim. To do this, we first create an interface that provides functions which a standard debugger would have."
   ]
  },
  {
   "cell_type": "code",
   "execution_count": 34,
   "metadata": {
    "code_folding": []
   },
   "outputs": [],
   "source": [
    "class Debugger:\n",
    "    def run(self):\n",
    "        raise NotImplementedError()\n",
    "\n",
    "    def step(self):\n",
    "        raise NotImplementedError()\n",
    "\n",
    "    def break_at(self, line):\n",
    "        raise NotImplementedError()\n",
    "\n",
    "    def start_program(self, inp, binary):\n",
    "        raise NotImplementedError()\n",
    "\n",
    "    def event_loop(self):\n",
    "        raise NotImplementedError()"
   ]
  },
  {
   "cell_type": "markdown",
   "metadata": {},
   "source": [
    "### GDBDebugger\n",
    "\n",
    "Next, we consider another class called `GDBDebugger` which extends and provides concrete implementation of the interface which it inherits. In addtion, this class also take some inputs such as, the *binary* to be debugged, the *program input* as well an instance of `GDB` itself. Also, the variable `trace` takes an instance of `GDBTracer` which is used for tracing later on."
   ]
  },
  {
   "cell_type": "code",
   "execution_count": 36,
   "metadata": {
    "code_folding": []
   },
   "outputs": [],
   "source": [
    "class GDBDebugger(Debugger):\n",
    "    def __init__(self, gdb, binary, inp, **kwargs):\n",
    "        self.options(kwargs)\n",
    "        self.gdb, self.binary, self.inp = gdb, binary, inp\n",
    "        self.frames = []\n",
    "\n",
    "        self._set_printer()\n",
    "        self._set_logger()\n",
    "        self._skip_std_files()\n",
    "        self.tracer = GDBTracer(self.inp, files=self.files)"
   ]
  },
  {
   "cell_type": "code",
   "execution_count": 38,
   "metadata": {},
   "outputs": [],
   "source": [
    "class GDBDebugger(GDBDebugger):\n",
    "    def run(self):\n",
    "        self.gdb.execute('run')"
   ]
  },
  {
   "cell_type": "code",
   "execution_count": 40,
   "metadata": {},
   "outputs": [],
   "source": [
    "class GDBDebugger(GDBDebugger):\n",
    "    def step(self):\n",
    "        self.gdb.execute('step')"
   ]
  },
  {
   "cell_type": "code",
   "execution_count": 41,
   "metadata": {},
   "outputs": [],
   "source": [
    "class GDBDebugger(GDBDebugger):\n",
    "    def break_at(self, line):\n",
    "        self.gdb.execute(\"break '%s'\" % line)\n",
    "        self.run()"
   ]
  },
  {
   "cell_type": "code",
   "execution_count": 42,
   "metadata": {},
   "outputs": [],
   "source": [
    "class GDBDebugger(GDBDebugger):\n",
    "    def start_program(self, inp, binary):\n",
    "        self.gdb.execute(\"set args '%s'\" % inp)\n",
    "        self.gdb.execute(\"file %s\" % binary)"
   ]
  },
  {
   "cell_type": "markdown",
   "metadata": {},
   "source": [
    "Also, we added a few private methods to our `GDBDebugger`. The first one is the `_set_printer`, this method helps us tell `GDB` not to include address in whatever information we are trying to access at runtime."
   ]
  },
  {
   "cell_type": "code",
   "execution_count": 43,
   "metadata": {},
   "outputs": [],
   "source": [
    "class GDBDebugger(GDBDebugger):\n",
    "    def _set_printer(self):\n",
    "        if not self.printer:\n",
    "            self.gdb.execute('set print address off')"
   ]
  },
  {
   "cell_type": "markdown",
   "metadata": {},
   "source": [
    "The `_set_logger` function carries out three commands related to logging. Firstly, it tell `GDB` to overwrite the it's output logfile each time we run our program. Also by  default `GDB` logs it's output both to terminal and logfile.Hence, we instruct `GDB` via the second command to only redirect it's output to the logfile. Lastly, we instruct `GDB` to enable logging."
   ]
  },
  {
   "cell_type": "code",
   "execution_count": 45,
   "metadata": {},
   "outputs": [],
   "source": [
    "class GDBDebugger(GDBDebugger):\n",
    "    def _set_logger(self):\n",
    "        self.gdb.execute('set logging overwrite on')\n",
    "        self.gdb.execute('set logging redirect on')\n",
    "        self.gdb.execute('set logging on')"
   ]
  },
  {
   "cell_type": "markdown",
   "metadata": {},
   "source": [
    "When stepping through binary programs, we need to make sure we avoid stepping into files which are not of interest to us such as the *standard libraries files*. One of the ways to do this is to tell `GDB` to skip all files which are of a particular format, an example is the *.S files."
   ]
  },
  {
   "cell_type": "code",
   "execution_count": 47,
   "metadata": {},
   "outputs": [],
   "source": [
    "class GDBDebugger(GDBDebugger):\n",
    "    def _skip_std_files(self):\n",
    "        self.gdb.execute('skip -gfi *.S')"
   ]
  },
  {
   "cell_type": "markdown",
   "metadata": {},
   "source": [
    "Furthermore, in order to efficiently avoid stepping into files we are not interested, we define a variable `file` which holds an array of file names which we are interested in tracing."
   ]
  },
  {
   "cell_type": "code",
   "execution_count": 49,
   "metadata": {},
   "outputs": [],
   "source": [
    "class GDBDebugger(GDBDebugger):\n",
    "    def options(self, kwargs):\n",
    "        self.files = kwargs.get('files', [])\n",
    "        self.printer = kwargs.get('printer', True)"
   ]
  },
  {
   "cell_type": "markdown",
   "metadata": {},
   "source": [
    "At each step in our program we need to always check if we are within the context which we are most interested in. To do this, we provide the function `in_context` which take the selected frame at each *step* in our program an then to a check if we are still within the context that we are interested."
   ]
  },
  {
   "cell_type": "code",
   "execution_count": 51,
   "metadata": {},
   "outputs": [],
   "source": [
    "class GDBDebugger(GDBDebugger):\n",
    "    def in_context(self, frame):\n",
    "        file_name = frame.find_sal().symtab.fullname()\n",
    "        return any(file_name.endswith(f) for f in self.files)"
   ]
  },
  {
   "cell_type": "markdown",
   "metadata": {},
   "source": [
    "The function `get_event` keeps track of how frame are being created when stepping through our program. The idea behind this is that whenever a frame is newly created, it is added to the frame list and that shows that a function call has occurred within our program then we assign the event as a `call`. Also, whenever a frame is the last frame being added to our frame list that also implies that we are still within that particular frame  and then we assign the event as `line`. Lastly, if none of the above has occurred then it shows that particular frame has exited and then we assign our event as `return`."
   ]
  },
  {
   "cell_type": "code",
   "execution_count": 53,
   "metadata": {},
   "outputs": [],
   "source": [
    "class GDBDebugger(GDBDebugger):\n",
    "    def get_event(self, frame):\n",
    "        fname = frame.name()\n",
    "        if fname not in self.frames:\n",
    "            self.frames.append(fname)\n",
    "            return 'call'\n",
    "        elif fname == self.frames[-1]:\n",
    "            return 'line'\n",
    "        else:\n",
    "            self.frames.pop()\n",
    "            return 'return'"
   ]
  },
  {
   "cell_type": "markdown",
   "metadata": {},
   "source": [
    "The `event_loop` starts our program and the auto-step through our program while it runs. Once we start our program we get the selected frame and then assign it to the variable called `frame`. The `frame` variable in gdb automatically becomes `False` when the program exits even though we never explicitly assign to it. Also, at each step in our program we check if there is a new frame and if the frame is within our scope of interest. If not, we instruct `GDB` to finish execution from the uninterested scope and then returns back to it's caller."
   ]
  },
  {
   "cell_type": "code",
   "execution_count": 55,
   "metadata": {},
   "outputs": [],
   "source": [
    "class GDBDebugger(GDBDebugger):\n",
    "    def event_loop(self):\n",
    "        self.start_program(self.inp, self.binary)\n",
    "        self.break_at('main')\n",
    "        frame = self.gdb.selected_frame()\n",
    "        try:\n",
    "            while frame.is_valid():\n",
    "                if self.gdb.selected_frame() != frame:\n",
    "                    self.step()\n",
    "                    current_frame = self.gdb.selected_frame()\n",
    "                    if not self.in_context(current_frame):\n",
    "                        # simply finish the current function execution.\n",
    "                        self.gdb.execute('finish')\n",
    "                        continue\n",
    "                    event = self.get_event(current_frame)\n",
    "                    self.tracer.traceit(current_frame, event, None)\n",
    "                else:\n",
    "                    self.step()\n",
    "                    if not self.in_context(self.gdb.selected_frame()):\n",
    "                        self.gdb.execute('finish')\n",
    "        except gdb.error:\n",
    "            return"
   ]
  },
  {
   "cell_type": "markdown",
   "metadata": {},
   "source": [
    "### VarExtractor\n",
    "\n",
    "Next, We also define a class called `VarExtractor` which provides various logic that can be used to extract and process variables which are in a frame."
   ]
  },
  {
   "cell_type": "code",
   "execution_count": 57,
   "metadata": {},
   "outputs": [],
   "source": [
    "class VarExtractor:\n",
    "    def __init__(self, frame):\n",
    "        self.frame = frame"
   ]
  },
  {
   "cell_type": "markdown",
   "metadata": {},
   "source": [
    "The function `extract_int_val` takes a symbol which type is an integer as argument and then looks up such symbol in the frame and then returns the value of such symbols. This form of extraction works for an integer which does not have a pointer type."
   ]
  },
  {
   "cell_type": "code",
   "execution_count": 59,
   "metadata": {},
   "outputs": [],
   "source": [
    "class VarExtractor(VarExtractor):\n",
    "    def extract_int_val(self, symbol):\n",
    "        return '{}'.format(symbol.value(self.frame))"
   ]
  },
  {
   "cell_type": "markdown",
   "metadata": {},
   "source": [
    "`dereference_pointer_type` is solely used for symbols which are of the type `pointer`. This function basically dereference a pointer type and then returns the actual type which it points to."
   ]
  },
  {
   "cell_type": "code",
   "execution_count": 65,
   "metadata": {},
   "outputs": [],
   "source": [
    "class VarExtractor(VarExtractor):\n",
    "    def dereference_pointer_type(self, symbol):\n",
    "        return symbol.value(self.frame).dereference()"
   ]
  },
  {
   "cell_type": "markdown",
   "metadata": {},
   "source": [
    "`extract_struct_val` take a symbol which is of type `struct` and then returns the value as a key, value pair."
   ]
  },
  {
   "cell_type": "code",
   "execution_count": 63,
   "metadata": {},
   "outputs": [],
   "source": [
    "class VarExtractor(VarExtractor):\n",
    "    def extract_struct_val(self, struct):\n",
    "        return {\n",
    "            f.name: str(struct[f]).strip('\"')\n",
    "            for f in struct.type.fields()\n",
    "        }"
   ]
  },
  {
   "cell_type": "markdown",
   "metadata": {},
   "source": [
    "Lastly, we have the function called `extract_pointer_val` which firstly dereference a pointer type and then returns the true type of the object it points to. Next, we check the type of the object being pointed to and then we extract the value and then return."
   ]
  },
  {
   "cell_type": "code",
   "execution_count": 68,
   "metadata": {},
   "outputs": [],
   "source": [
    "class VarExtractor(VarExtractor):\n",
    "    def extract_pointer_val(self, symbol):\n",
    "        true_value = self.dereference_pointer_type(symbol)\n",
    "\n",
    "        if true_value.type.code == gdb.TYPE_CODE_INT:\n",
    "            return '{}'.format(true_value.address).strip('\"')\n",
    "\n",
    "        elif true_value.type.code == gdb.TYPE_CODE_STRUCT:\n",
    "            return self.extract_struct_val(true_value)"
   ]
  },
  {
   "cell_type": "markdown",
   "metadata": {},
   "source": [
    "### GDBContext\n",
    "\n",
    "We've seen previously that the `Context` class provides easy access to the information such as the current module, and parameter names. We can also obtain same information using `GDB`  to access the frame as seen below.\n",
    "\n",
    "We call our new context class `GDBContext`."
   ]
  },
  {
   "cell_type": "code",
   "execution_count": 69,
   "metadata": {},
   "outputs": [],
   "source": [
    "from GrammarMiner import Context"
   ]
  },
  {
   "cell_type": "code",
   "execution_count": 70,
   "metadata": {},
   "outputs": [],
   "source": [
    "class GDBContext(Context):\n",
    "    def __init__(self, frame):\n",
    "        self.method = frame.name()\n",
    "        self.parameter_names = self.get_arg_names(frame)\n",
    "        self.line_no = frame.find_sal().line\n",
    "        self.file_name = frame.find_sal().symtab.fullname()"
   ]
  },
  {
   "cell_type": "markdown",
   "metadata": {},
   "source": [
    "The `get_arg_names` is a custom function which takes a `frame` as input, extract the name of the arguments and return a list of argument names. `GDB` represents variables, constants, arguments as symbols in a block. In a more descriptive sense, a block is just a scope in the source code. Also, `gdb.Block` is iterable just as we can see in the `get_arg_names` function."
   ]
  },
  {
   "cell_type": "code",
   "execution_count": 72,
   "metadata": {},
   "outputs": [],
   "source": [
    "class GDBContext(GDBContext):\n",
    "    def get_arg_names(self, frame):\n",
    "        return [symbol.name for symbol in frame.block() if symbol.is_argument]"
   ]
  },
  {
   "cell_type": "markdown",
   "metadata": {},
   "source": [
    "We also extend the `extract_vars` which is a convenience method that acts on the frame within the `GDBContext` class. In this case we iterate through all `symbols` in the current `block`. If the symbol is a variable or an argument, we check what type they carry and then we extract their corresponding values based on their type and then we add them to  dictionary `vals` as defined."
   ]
  },
  {
   "cell_type": "code",
   "execution_count": 74,
   "metadata": {},
   "outputs": [],
   "source": [
    "class GDBContext(GDBContext):\n",
    "    def extract_vars(self, frame):\n",
    "        vals = {}\n",
    "        extractor = VarExtractor(frame)\n",
    "\n",
    "        symbols = [\n",
    "            sym for sym in frame.block() if sym.is_variable or sym.is_argument\n",
    "        ]\n",
    "        for symbol in symbols:\n",
    "            if symbol.type.code == gdb.TYPE_CODE_INT:\n",
    "                vals[symbol.name] = extractor.extract_int_val(symbol)\n",
    "\n",
    "            elif symbol.type.code == gdb.TYPE_CODE_PTR:\n",
    "                vals[symbol.name] = extractor.extract_pointer_val(symbol)\n",
    "\n",
    "        return {k1: v1 for k, v in vals.items() for k1, v1 in flatten(k, v)}"
   ]
  },
  {
   "cell_type": "markdown",
   "metadata": {},
   "source": [
    "### GDBTracer\n",
    "\n",
    "Previously, we have seen how `Tracer` class was used to trace through a python program to obtain the trace information. In our case, we define a new class `GDBTracer` that inherits the base implementation of our `Tracer` class, the only exception we have is to use the `GDBContext` class which we already defined above. To do this, we override the function `create_context` and then return an instance of `GDBContext`."
   ]
  },
  {
   "cell_type": "code",
   "execution_count": 76,
   "metadata": {},
   "outputs": [],
   "source": [
    "from GrammarMiner import Tracer"
   ]
  },
  {
   "cell_type": "markdown",
   "metadata": {},
   "source": [
    "**IMPORTANT**: verify that your current version of fuzzingbook you use uses `create_context()` in the `traceit()` method."
   ]
  },
  {
   "cell_type": "code",
   "execution_count": 78,
   "metadata": {},
   "outputs": [],
   "source": [
    "class GDBTracer(Tracer):\n",
    "    def create_context(self, frame):\n",
    "        return GDBContext(frame)"
   ]
  },
  {
   "cell_type": "markdown",
   "metadata": {},
   "source": [
    "### Recovering Grammars "
   ]
  },
  {
   "cell_type": "markdown",
   "metadata": {},
   "source": [
    "Due to the limitation we have that `GDB` API is not a library, we cannot execute our implementation directly within the notebook cell. To address this limitation, we use the fuzzingbook `extract_class_definition` function to extract each of the classes we have implemented so far and then we write them to a `.py` file which would then be execute under `GDB`."
   ]
  },
  {
   "cell_type": "code",
   "execution_count": 79,
   "metadata": {},
   "outputs": [],
   "source": [
    "import sys\n",
    "import inspect"
   ]
  },
  {
   "cell_type": "code",
   "execution_count": 31,
   "metadata": {
    "scrolled": false
   },
   "outputs": [],
   "source": [
    "tracer_head = \"\"\"\\\n",
    "import sys\n",
    "sys.path.extend([%s])\n",
    "sys.path.append('.')\n",
    "import matplotlib.pyplot\n",
    "matplotlib.pyplot._IP_REGISTERED = True # Hack\n",
    "import fuzzingbook_utils\n",
    "from GrammarMiner import GrammarMiner, Context, Tracer, Coverage, ScopedGrammarMiner, readable, flatten\n",
    "import jsonpickle\n",
    "import os\n",
    "import gdb\n",
    "\"\"\" % (', '.join(\"'%s'\" % str(i) for i in sys.path if i))\n",
    "debugger_src = fuzzingbook_utils.extract_class_definition(Debugger)\n",
    "context_src = fuzzingbook_utils.extract_class_definition(GDBContext)\n",
    "gdbtracer_src = fuzzingbook_utils.extract_class_definition(GDBTracer)\n",
    "varextractor_src = fuzzingbook_utils.extract_class_definition(VarExtractor)\n",
    "gdbdebugger_src = fuzzingbook_utils.extract_class_definition(GDBDebugger)\n",
    "tracer_tail=\"\"\"\n",
    "file_name = 'gdbtrace'\n",
    "def recover_trace(f, inp, **kwargs):\n",
    "    d = GDBDebugger(gdb, f, inp, **kwargs)\n",
    "    d.event_loop()\n",
    "    with open(file_name, 'w+') as f:\n",
    "        print(jsonpickle.encode(d.tracer.trace), file=f)\n",
    "binary = 'a.out'\n",
    "recover_trace(binary, arg0, files=files.split(' '))\n",
    "\"\"\"\n",
    "tracer_src = '\\n'.join([tracer_head, debugger_src, context_src, gdbtracer_src, varextractor_src, gdbdebugger_src, tracer_tail])"
   ]
  },
  {
   "cell_type": "code",
   "execution_count": 307,
   "metadata": {},
   "outputs": [],
   "source": [
    "with open('debugger.py', 'w+') as f:\n",
    "    print(tracer_src, file=f)"
   ]
  },
  {
   "cell_type": "markdown",
   "metadata": {},
   "source": [
    "We compile the `.c` file using `gcc` to obtain the binary as follows:"
   ]
  },
  {
   "cell_type": "code",
   "execution_count": 304,
   "metadata": {},
   "outputs": [],
   "source": [
    "!gcc -g -o a.out inventory.c"
   ]
  },
  {
   "cell_type": "code",
   "execution_count": 80,
   "metadata": {},
   "outputs": [],
   "source": [
    "from GrammarMiner import ScopedGrammarMiner, readable, flatten, VEHICLES"
   ]
  },
  {
   "cell_type": "code",
   "execution_count": 82,
   "metadata": {},
   "outputs": [],
   "source": [
    "import jsonpickle"
   ]
  },
  {
   "cell_type": "markdown",
   "metadata": {},
   "source": [
    "Here, the `recover_grammar` function is similar to the one implemented in python. The exception it has is that we execute the `debugger.py` file under `GDB` and then we read the trace before updating the scope grammar miner instance."
   ]
  },
  {
   "cell_type": "code",
   "execution_count": 83,
   "metadata": {
    "code_folding": []
   },
   "outputs": [],
   "source": [
    "def recover_grammar(inps, src):\n",
    "    traces = []\n",
    "    miner = ScopedGrammarMiner()\n",
    "\n",
    "    for inp in inps:\n",
    "        arg = '\\'py arg0=\"%s\"\\'' % inp\n",
    "        argfiles = '\\'py files=\"%s\"\\'' % src\n",
    "        print(arg)\n",
    "        !gdb --batch-silent -ex {arg} -ex {argfiles} -x debugger.py\n",
    "        with open('gdbtrace', 'rb') as f:\n",
    "            traces.append((inp, jsonpickle.decode(f.read())))\n",
    "    \n",
    "    for inp, trace in traces:\n",
    "        miner.update_grammar(inp, trace)\n",
    "    return (readable(miner.clean_grammar()))"
   ]
  },
  {
   "cell_type": "code",
   "execution_count": 311,
   "metadata": {
    "scrolled": false
   },
   "outputs": [
    {
     "name": "stdout",
     "output_type": "stream",
     "text": [
      "'py arg0=\"1997,van,Ford,E350\"'\n",
      "We have a Ford E350 van from 1997 vintage.\n",
      "It is an old but reliable model!\n",
      "'py arg0=\"2000,car,Mercury,Cougar\"'\n",
      "It is an old but reliable model!\n",
      "'py arg0=\"1999,car,Chevy,Venture\"'\n",
      "It is an old but reliable model!\n"
     ]
    }
   ],
   "source": [
    "grammar = recover_grammar(VEHICLES, 'inventory.c')"
   ]
  },
  {
   "cell_type": "code",
   "execution_count": 142,
   "metadata": {},
   "outputs": [],
   "source": [
    "from Grammars import START_SYMBOL, syntax_diagram, is_nonterminal\n",
    "from GrammarFuzzer import GrammarFuzzer"
   ]
  },
  {
   "cell_type": "code",
   "execution_count": 311,
   "metadata": {},
   "outputs": [
    {
     "data": {
      "text/plain": [
       "{'<start>': ['2000,car,Mercury,Cougar',\n",
       "  '1997,van,Ford,E350',\n",
       "  '1999,car,Chevy,Venture']}"
      ]
     },
     "execution_count": 311,
     "metadata": {},
     "output_type": "execute_result"
    }
   ],
   "source": [
    "grammar"
   ]
  },
  {
   "cell_type": "code",
   "execution_count": null,
   "metadata": {},
   "outputs": [],
   "source": [
    "f = GrammarFuzzer(grammar)\n",
    "for _a in range(10):\n",
    "    print(f.fuzz())"
   ]
  },
  {
   "cell_type": "markdown",
   "metadata": {},
   "source": [
    "## Recovering  Grammar for Url Parser"
   ]
  },
  {
   "cell_type": "markdown",
   "metadata": {},
   "source": [
    "Firstly, we have an header file for the url parser."
   ]
  },
  {
   "cell_type": "code",
   "execution_count": 310,
   "metadata": {},
   "outputs": [],
   "source": [
    "urlparse_h = \"\"\"\\\n",
    "\n",
    "/*_\n",
    " * Copyright 2010 Scyphus Solutions Co. Ltd.  All rights reserved.\n",
    " *\n",
    " * Authors:\n",
    " *      Hirochika Asai\n",
    " */\n",
    "\n",
    "#ifndef _URL_PARSER_H\n",
    "#define _URL_PARSER_H\n",
    "\n",
    "/*\n",
    " * URL storage\n",
    " */\n",
    "struct parsed_url {\n",
    "    char *scheme;               /* mandatory */\n",
    "    char *host;                 /* mandatory */\n",
    "    char *port;                 /* optional */\n",
    "    char *path;                 /* optional */\n",
    "    char *query;                /* optional */\n",
    "    char *fragment;             /* optional */\n",
    "    char *username;             /* optional */\n",
    "    char *password;             /* optional */\n",
    "};\n",
    "\n",
    "#ifdef __cplusplus\n",
    "extern \"C\" {\n",
    "#endif\n",
    "\n",
    "    /*\n",
    "     * Declaration of function prototypes\n",
    "     */\n",
    "    struct parsed_url * parse_url(const char *, struct parsed_url* obj);\n",
    "    void parsed_url_free(struct parsed_url *);\n",
    "\n",
    "#ifdef __cplusplus\n",
    "}\n",
    "#endif\n",
    "\n",
    "#endif /* _URL_PARSER_H */\n",
    "\n",
    "/*\n",
    " * Local variables:\n",
    " * tab-width: 4\n",
    " * c-basic-offset: 4\n",
    " * End:\n",
    " * vim600: sw=4 ts=4 fdm=marker\n",
    " * vim<600: sw=4 ts=4\n",
    " */\n",
    "\"\"\""
   ]
  },
  {
   "cell_type": "code",
   "execution_count": 311,
   "metadata": {},
   "outputs": [],
   "source": [
    "with open('url_parser.h', 'w+') as f:\n",
    "    print(urlparse_h, file=f)"
   ]
  },
  {
   "cell_type": "markdown",
   "metadata": {},
   "source": [
    "Next, we have the `.c` file."
   ]
  },
  {
   "cell_type": "code",
   "execution_count": 312,
   "metadata": {},
   "outputs": [],
   "source": [
    "urlparse_src = \"\"\"\\\n",
    "/*\n",
    " * urlparse.c\n",
    " *\n",
    " * Decompose a URL into its components.\n",
    " */\n",
    "#include <string.h>\n",
    "#include <stdlib.h>\n",
    "#include <stdio.h>\n",
    "\n",
    "enum url_type {\n",
    "    URL_NORMAL,\n",
    "    URL_OLD_TFTP,\n",
    "    URL_PREFIX\n",
    "};\n",
    "\n",
    "struct url_info {\n",
    "    char *scheme;\n",
    "    char *user;\n",
    "    char *passwd;\n",
    "    char *host;\n",
    "    unsigned int port;\n",
    "    char *path;\t\t\t/* Includes query */\n",
    "    enum url_type type;\n",
    "};\n",
    "\n",
    "void parse_url(struct url_info *ui, char *url){\n",
    "    char *p = url;\n",
    "    char *q, *r, *s;\n",
    "\n",
    "    memset(ui, 0, sizeof *ui);\n",
    "\n",
    "    q = strstr(p, \"://\");\n",
    "    if (!q) {\n",
    "        q = strstr(p, \"::\");\n",
    "        if (q) {\n",
    "            *q = '\\\\000';\n",
    "            ui->scheme = \"tftp\";\n",
    "            ui->host = p;\n",
    "            ui->path = q+2;\n",
    "            ui->type = URL_OLD_TFTP;\n",
    "            return;\n",
    "        } else {\n",
    "            ui->path = p;\n",
    "            ui->type = URL_PREFIX;\n",
    "            return;\n",
    "        }\n",
    "    }\n",
    "\n",
    "    ui->type = URL_NORMAL;\n",
    "\n",
    "    ui->scheme = p;\n",
    "    *q = '\\\\000';\n",
    "    p = q+3;\n",
    "\n",
    "    q = strchr(p, '/');\n",
    "    if (q) {\n",
    "        *q = '\\\\000';\n",
    "        ui->path = q+1;\n",
    "        q = strchr(q+1, '#');\n",
    "    if (q)\n",
    "        *q = '\\\\000';\n",
    "    } else {\n",
    "        ui->path = \"\";\n",
    "    }\n",
    "\n",
    "    r = strchr(p, '@');\n",
    "    if (r) {\n",
    "        ui->user = p;\n",
    "        *r = '\\\\000';\n",
    "        s = strchr(p, ':');\n",
    "        if (s) {\n",
    "            *s = '\\\\000';\n",
    "            ui->passwd = s+1;\n",
    "        }\n",
    "        p = r+1;\n",
    "    }\n",
    "\n",
    "    ui->host = p;\n",
    "    r = strchr(p, ':');\n",
    "    if (r) {\n",
    "        *r = '\\\\000';\n",
    "        ui->port = atoi(r+1);\n",
    "    }\n",
    "}\n",
    "\n",
    "char *url_escape_unsafe(const char *input){\n",
    "    const char *p = input;\n",
    "    unsigned char c;\n",
    "    char *out, *q;\n",
    "    int n = 0;\n",
    "\n",
    "    while ((c = *p++)) {\n",
    "        if (c < ' ' || c > '~') {\n",
    "            n += 3;\t\t/* Need escaping */\n",
    "        } else {\n",
    "            n++;\n",
    "        }\n",
    "    }\n",
    "\n",
    "    q = out = malloc(n+1);\n",
    "    while ((c = *p++)) {\n",
    "        if (c < ' ' || c > '~') {\n",
    "            q += snprintf(q, 3, \"%02X\", c);\n",
    "        } else {\n",
    "            *q++ = c;\n",
    "        }\n",
    "    }\n",
    "\n",
    "    *q = '\\\\000';\n",
    "\n",
    "    return out;\n",
    "}\n",
    "\n",
    "static int hexdigit(char c){\n",
    "    if (c >= '0' && c <= '9')\n",
    "        return c - '0';\n",
    "    c |= 0x20;\n",
    "    if (c >= 'a' && c <= 'f')\n",
    "        return c - 'a' + 10;\n",
    "    return -1;\n",
    "}\n",
    "\n",
    "void url_unescape(char *buffer){\n",
    "    const char *p = buffer;\n",
    "    char *q = buffer;\n",
    "    unsigned char c;\n",
    "    int x, y;\n",
    "\n",
    "    while ((c = *p++)) {\n",
    "        if (c == '%') {\n",
    "            x = hexdigit(p[0]);\n",
    "            if (x >= 0) {\n",
    "                y = hexdigit(p[1]);\n",
    "                if (y >= 0) {\n",
    "                    *q++ = (x << 4) + y;\n",
    "                    p += 2;\n",
    "                    continue;\n",
    "                }\n",
    "            }\n",
    "        }\n",
    "        *q++ = c;\n",
    "    }\n",
    "    *q = '\\\\000';\n",
    "}\n",
    "\n",
    "\n",
    "int main(int argc, char* argv[]) {\n",
    "    struct url_info url;\n",
    "    parse_url(&url, argv[1]);\n",
    "    return 0;\n",
    "}\n",
    "\"\"\""
   ]
  },
  {
   "cell_type": "code",
   "execution_count": 313,
   "metadata": {},
   "outputs": [],
   "source": [
    "with open('urlparse.c', 'w+') as f:\n",
    "    print(urlparse_src, file=f)"
   ]
  },
  {
   "cell_type": "code",
   "execution_count": 318,
   "metadata": {},
   "outputs": [],
   "source": [
    "!gcc -g -O0 -o a.out urlparse.c"
   ]
  },
  {
   "cell_type": "code",
   "execution_count": 146,
   "metadata": {
    "scrolled": false
   },
   "outputs": [],
   "source": [
    "from GrammarMiner import URLS_X"
   ]
  },
  {
   "cell_type": "code",
   "execution_count": null,
   "metadata": {
    "scrolled": false
   },
   "outputs": [],
   "source": [
    "grammar = recover_grammar(URLS_X, 'urlparse.c')"
   ]
  },
  {
   "cell_type": "code",
   "execution_count": null,
   "metadata": {},
   "outputs": [],
   "source": [
    "grammar"
   ]
  },
  {
   "cell_type": "code",
   "execution_count": null,
   "metadata": {},
   "outputs": [],
   "source": [
    "f = GrammarFuzzer(grammar)\n",
    "for _a in range(10):\n",
    "    print(f.fuzz())"
   ]
  },
  {
   "cell_type": "markdown",
   "metadata": {},
   "source": [
    "## Mining Grammar from Stripped Binaries"
   ]
  },
  {
   "cell_type": "markdown",
   "metadata": {},
   "source": [
    "### Instruction"
   ]
  },
  {
   "cell_type": "code",
   "execution_count": 354,
   "metadata": {},
   "outputs": [],
   "source": [
    "class Instruction:\n",
    "    def __init__(self, instr):\n",
    "        self.symbol_name = None\n",
    "        self.pointed_address = None\n",
    "        self.dest_reg = None\n",
    "        self._parse(instr)"
   ]
  },
  {
   "cell_type": "code",
   "execution_count": 355,
   "metadata": {},
   "outputs": [],
   "source": [
    "import re"
   ]
  },
  {
   "cell_type": "code",
   "execution_count": 356,
   "metadata": {},
   "outputs": [],
   "source": [
    "CALL = 'callq'\n",
    "RETURN = 'retq'\n",
    "LINE = 'line'"
   ]
  },
  {
   "cell_type": "code",
   "execution_count": 357,
   "metadata": {},
   "outputs": [],
   "source": [
    "class Instruction(Instruction):\n",
    "    def _parse(self, instr):\n",
    "        instr_list = instr.split()\n",
    "        instr_list.pop(0)\n",
    "\n",
    "        self.current_address = instr_list[0]\n",
    "        self.instr_type = instr_list[1]\n",
    "\n",
    "        if 'mov' in self.instr_type:\n",
    "            d = instr_list[2]\n",
    "            if d[-1] != ')':\n",
    "                self.dest_reg = d[-3:]\n",
    "            elif re.match(r',\\d\\)', d[-3:]):\n",
    "                self.dest_reg = d[-6:-3]\n",
    "            else:\n",
    "                self.dest_reg = d[-4:-1]\n",
    "\n",
    "        elif self.instr_type == 'callq':\n",
    "            self.pointed_address = instr_list[2]\n",
    "            if len(instr_list) > 3:\n",
    "                self.symbol_name = instr_list[-1]\n",
    "\n",
    "        elif self.instr_type == 'push':\n",
    "            d = instr_list[2]\n",
    "            self.dest_reg = d[1:]\n",
    "\n",
    "        elif self.instr_type == 'cmpq':\n",
    "            d = instr_list[2]\n",
    "            self.dest_reg = d[-4:-1]"
   ]
  },
  {
   "cell_type": "code",
   "execution_count": 358,
   "metadata": {},
   "outputs": [],
   "source": [
    "ARG_REGISTERS = ['rdi', 'rsi', 'rdx', 'rcx', 'r8', 'r9']"
   ]
  },
  {
   "cell_type": "code",
   "execution_count": 387,
   "metadata": {},
   "outputs": [],
   "source": [
    "ADDR_COUNTER_ = 0\n",
    "F_ADDR_COUNTER_ = 0\n",
    "L_ADDR_COUNTER = 0\n",
    "\n",
    "ADDR_STORE = {}\n",
    "F_ADDR_STORE = {}\n",
    "L_ADDR_STORE = {}\n",
    "\n",
    "def get_addr(addr):\n",
    "    global ADDR_COUNTER_\n",
    "    if addr in ADDR_STORE: return ADDR_STORE[addr]\n",
    "    ADDR_COUNTER_ += 1\n",
    "    ADDR_STORE[addr] = ADDR_COUNTER_\n",
    "    return ADDR_STORE[addr]\n",
    "\n",
    "def get_fn_addr(addr):\n",
    "    global F_ADDR_COUNTER_\n",
    "    if addr in F_ADDR_STORE: return F_ADDR_STORE[addr]\n",
    "    F_ADDR_COUNTER_ += 1\n",
    "    F_ADDR_STORE[addr] = F_ADDR_COUNTER_\n",
    "    return F_ADDR_STORE[addr]\n",
    "\n",
    "def get_fn(fnaddr):\n",
    "    aid = get_fn_addr(fnaddr)\n",
    "    return \"fn_%d\" % aid\n",
    "\n",
    "def get_var(varaddr):\n",
    "    aid = get_addr(varaddr)\n",
    "    return \"var_%d\" % aid\n",
    "\n",
    "def get_lno(addr):\n",
    "    global L_ADDR_COUNTER\n",
    "    if addr in L_ADDR_STORE: return 'a_%d' % (L_ADDR_STORE[addr])\n",
    "    L_ADDR_COUNTER += 1\n",
    "    L_ADDR_STORE[addr] = L_ADDR_COUNTER\n",
    "    s = 'a_%d' % (L_ADDR_STORE[addr])\n",
    "    return s"
   ]
  },
  {
   "cell_type": "code",
   "execution_count": 360,
   "metadata": {},
   "outputs": [],
   "source": [
    "from GrammarMiner import AssignmentVars"
   ]
  },
  {
   "cell_type": "code",
   "execution_count": 362,
   "metadata": {
    "code_folding": []
   },
   "outputs": [],
   "source": [
    "class Frame:\n",
    "    def __init__(self, instr, inp):\n",
    "        self.inp = inp\n",
    "        self._instr = instr\n",
    "        self.arguments = []\n",
    "        self.locals_vars = {}\n",
    "        self.line_no = None\n",
    "        self.file_name = None\n",
    "        self.function = None\n",
    "        self.event = None\n",
    "        self.reassignment = AssignmentVars('')\n",
    "        self._parse()"
   ]
  },
  {
   "cell_type": "code",
   "execution_count": 365,
   "metadata": {},
   "outputs": [],
   "source": [
    "class Frame(Frame):\n",
    "    def _read_register(self, r, l_no):\n",
    "        val = gdb.execute('x/s $%s' % r, to_string=True)\n",
    "        val = re.sub('\\s+', '', val)\n",
    "        try:\n",
    "            v = None\n",
    "            for i, j in enumerate(val):\n",
    "                if j == ':':\n",
    "                    v = val[i + 1:]\n",
    "                    break\n",
    "            var = get_var(l_no)\n",
    "            return (var, v.strip('\"'))\n",
    "        except Exception:\n",
    "            return"
   ]
  },
  {
   "cell_type": "code",
   "execution_count": 366,
   "metadata": {},
   "outputs": [],
   "source": [
    "class Frame(Frame):\n",
    "    def _read_arg_register(self):\n",
    "        kv_pair = []\n",
    "        vals = [\n",
    "            self._read_register(reg, self.line_no) for reg in ARG_REGISTERS\n",
    "        ]\n",
    "        return {\n",
    "            key: val\n",
    "            for key, val in filter(None, vals) if val in self.inp and val != ''\n",
    "        }"
   ]
  },
  {
   "cell_type": "code",
   "execution_count": 369,
   "metadata": {},
   "outputs": [],
   "source": [
    "class Frame(Frame):\n",
    "    def _parse(self):\n",
    "        self.function = get_fn(self._instr.pointed_address)\n",
    "        self.line_no = get_lno(self._instr.current_address.strip(':'))\n",
    "        self.arguments = self._read_arg_register()\n",
    "        self.event = self._instr.event_type\n",
    "        self.file_name = \"a.out\"\n",
    "        self.locals_vars.update(self.arguments)"
   ]
  },
  {
   "cell_type": "code",
   "execution_count": 370,
   "metadata": {},
   "outputs": [],
   "source": [
    "class Frame(Frame):\n",
    "    def update(self, instr):\n",
    "        self.line_no = get_lno(instr.current_address.strip(':'))\n",
    "        self.event = 'line'\n",
    "        x = instr.dest_reg\n",
    "        \n",
    "        try:\n",
    "            addr, val = self._read_register(x, self.line_no) \n",
    "            if addr in self.locals_vars.keys() and self.locals_vars[addr] != val:\n",
    "                self.reassignment[addr] = val\n",
    "                for k, v in self.reassignment.defs.items():\n",
    "                    if v == val:\n",
    "                        nv = '%s_%d' % k\n",
    "                        self.locals_vars[nv] = val\n",
    "            else:\n",
    "                self.locals_vars[addr] = val       \n",
    "        except:\n",
    "            return"
   ]
  },
  {
   "cell_type": "markdown",
   "metadata": {},
   "source": [
    "### Stripped Context\n",
    "\n",
    "The stripped context is similar to previous context classes which we have seen earlier. It basically extract information from the frame."
   ]
  },
  {
   "cell_type": "code",
   "execution_count": 371,
   "metadata": {},
   "outputs": [],
   "source": [
    "class StrippedContext(GDBContext):\n",
    "    def __init__(self, frame):\n",
    "        self.method = frame.function\n",
    "        self.parameter_names = [k for k, v in frame.arguments.items()]\n",
    "        self.line_no = frame.line_no\n",
    "        self.file_name = frame.file_name"
   ]
  },
  {
   "cell_type": "code",
   "execution_count": 372,
   "metadata": {},
   "outputs": [],
   "source": [
    "class StrippedContext(GDBContext):\n",
    "    def extract_vars(self, frame):\n",
    "        return {k1: v1 for k, v in frame.locals_vars.items() for k1, v1 in flatten(k, v)}"
   ]
  },
  {
   "cell_type": "markdown",
   "metadata": {},
   "source": [
    "### Stripped Tracer"
   ]
  },
  {
   "cell_type": "code",
   "execution_count": 373,
   "metadata": {},
   "outputs": [],
   "source": [
    "class StrippedTracer(GDBTracer):\n",
    "    def create_context(self, frame):\n",
    "        return StrippedContext(frame)"
   ]
  },
  {
   "cell_type": "markdown",
   "metadata": {},
   "source": [
    "### Stripped Debugger"
   ]
  },
  {
   "cell_type": "code",
   "execution_count": 376,
   "metadata": {},
   "outputs": [],
   "source": [
    "class StrippedBinaryDebugger(GDBDebugger):\n",
    "    def __init__(self, gdb, binary, inp, **kwargs):\n",
    "        super().__init__(gdb, binary, inp, **kwargs)\n",
    "        self.tracer = StrippedTracer(self.inp, files=self.files)"
   ]
  },
  {
   "cell_type": "code",
   "execution_count": 378,
   "metadata": {},
   "outputs": [],
   "source": [
    "class StrippedBinaryDebugger(GDBDebugger):\n",
    "    def break_at(self, address):\n",
    "        self.gdb.execute(\"break *%s\" % address)\n",
    "\n",
    "    def finish(self):\n",
    "        self.gdb.execute('finish')\n",
    "\n",
    "    def step(self):\n",
    "        self.gdb.execute('stepi')\n",
    "\n",
    "    def resume(self):\n",
    "        self.gdb.execute('continue')\n",
    "\n",
    "    def nexti(self):\n",
    "        self.gdb.execute('nexti')\n",
    "\n",
    "    def get_instruction(self):\n",
    "        return self.gdb.execute('x/i $rip', to_string=True)"
   ]
  },
  {
   "cell_type": "code",
   "execution_count": 379,
   "metadata": {},
   "outputs": [],
   "source": [
    "class StrippedBinaryDebugger(StrippedBinaryDebugger):\n",
    "    def get_entry_point(self):\n",
    "        self.gdb.execute(\"set args '%s'\" % self.inp)\n",
    "        self.gdb.execute(\"file %s\" % self.binary)\n",
    "        self.run()\n",
    "\n",
    "        info_file = self.gdb.execute('info file', to_string=True)\n",
    "        e = info_file.splitlines()[3]\n",
    "        entry_address = e.split(':')[1]\n",
    "        return entry_address"
   ]
  },
  {
   "cell_type": "code",
   "execution_count": 131,
   "metadata": {},
   "outputs": [],
   "source": [
    "class StrippedBinaryDebugger(StrippedBinaryDebugger):\n",
    "    def get_main(self):\n",
    "        entry_addr = self.get_entry_point()\n",
    "        self.break_at(entry_addr)\n",
    "        self.run()\n",
    "\n",
    "        instructions = []\n",
    "        while True:\n",
    "            next_i = self.get_instruction()\n",
    "            if CALL in next_i:\n",
    "                break\n",
    "            instructions.append(next_i)\n",
    "            self.step()\n",
    "\n",
    "        instr = instructions[-1].split()\n",
    "        return instr[-1]"
   ]
  },
  {
   "cell_type": "code",
   "execution_count": 289,
   "metadata": {},
   "outputs": [],
   "source": [
    "class StrippedBinaryDebugger(StrippedBinaryDebugger):\n",
    "    def get_event(self, frame):\n",
    "        fname = frame.function\n",
    "        if fname not in self.frames:\n",
    "            self.frames.append(fname)\n",
    "            return 'call'\n",
    "        elif fname == self.frames[-1]:\n",
    "            return 'line'\n",
    "        else:\n",
    "            self.frames.pop()\n",
    "            return 'return'"
   ]
  },
  {
   "cell_type": "code",
   "execution_count": 409,
   "metadata": {},
   "outputs": [],
   "source": [
    "class StrippedBinaryDebugger(StrippedBinaryDebugger):\n",
    "    def in_scope(self, instr, start, end):\n",
    "        instr= instr.split()\n",
    "        del instr[0]\n",
    "\n",
    "        current_addr = instr[0].strip(':')\n",
    "        hex_val = int(current_addr, 16)\n",
    "        if hex_val in range(int(start, 16), int(end, 16)):\n",
    "            return True\n",
    "        else:\n",
    "            return False"
   ]
  },
  {
   "cell_type": "code",
   "execution_count": 407,
   "metadata": {},
   "outputs": [],
   "source": [
    "class StrippedBinaryDebugger(StrippedBinaryDebugger):\n",
    "    def get_address_range(self):\n",
    "        start_addr = None\n",
    "        end_addr = None\n",
    "        mappings = self.gdb.execute('info proc mappings', to_string=True)\n",
    "\n",
    "        for i, line in enumerate(mappings.splitlines()):\n",
    "            if i == 4:\n",
    "                start_addr = line.split()[0]\n",
    "            elif i == 6:\n",
    "                end_addr = line.split()[1]\n",
    "        return (start_addr, end_addr)"
   ]
  },
  {
   "cell_type": "code",
   "execution_count": 390,
   "metadata": {},
   "outputs": [],
   "source": [
    "class StrippedBinaryDebugger(StrippedBinaryDebugger):\n",
    "    def event_loop(self):\n",
    "        main = self.get_main()\n",
    "        self.break_at(main)\n",
    "        self.resume()\n",
    "        \n",
    "        start, end = self.get_address_range()\n",
    "        nexti = ''\n",
    "        current_frame = None\n",
    "        while True:\n",
    "            try:\n",
    "                self.step()\n",
    "                nexti = self.get_instruction()\n",
    "                if self.in_scope(nexti, start, end):\n",
    "                    h = Instruction(nexti)\n",
    "                    if h.instr_type == 'callq':\n",
    "                        if h.symbol_name != None:\n",
    "                            self.nexti()\n",
    "                            continue\n",
    "                        else:\n",
    "                            current_frame = Frame(h, self.inp)\n",
    "                    else:\n",
    "                        if current_frame != None:\n",
    "                            current_frame.update(h)\n",
    "                        else:\n",
    "                            continue\n",
    "                    event = self.get_event(current_frame)\n",
    "                    self.tracer.traceit(current_frame, event, None)\n",
    "                else:\n",
    "                    self.finish()\n",
    "            except gdb.error:\n",
    "                break"
   ]
  },
  {
   "cell_type": "code",
   "execution_count": 145,
   "metadata": {},
   "outputs": [],
   "source": [
    "from GrammarMiner import to_nonterminal, ScopeTreeMiner, URLS_X, INVENTORY"
   ]
  },
  {
   "cell_type": "code",
   "execution_count": 148,
   "metadata": {},
   "outputs": [],
   "source": [
    "class StrippedScopeTreeMiner(ScopeTreeMiner):\n",
    "    def nt_var(self, key):\n",
    "        method, seq, var, lno = key\n",
    "        return to_nonterminal(\"%s@%s:%s\" % (method, lno, var))"
   ]
  },
  {
   "cell_type": "code",
   "execution_count": 151,
   "metadata": {},
   "outputs": [],
   "source": [
    "class StrippedScopedGrammarMiner(ScopedGrammarMiner):\n",
    "    def create_tree_miner(self, *args):\n",
    "        return StrippedScopeTreeMiner(*args)"
   ]
  },
  {
   "cell_type": "code",
   "execution_count": 954,
   "metadata": {},
   "outputs": [],
   "source": [
    "tracer_head = \"\"\"\\\n",
    "import sys\n",
    "sys.path.extend([%s])\n",
    "sys.path.append('.')\n",
    "import matplotlib.pyplot\n",
    "matplotlib.pyplot._IP_REGISTERED = True # Hack\n",
    "import fuzzingbook_utils\n",
    "from GrammarMiner import GrammarMiner, Context, Tracer, Coverage, ScopedGrammarMiner, readable, flatten\n",
    "import jsonpickle\n",
    "import os\n",
    "import gdb\n",
    "import re\n",
    "\"\"\" % (', '.join(\"'%s'\" % str(i) for i in sys.path if i))\n",
    "debugger_src = fuzzingbook_utils.extract_class_definition(Debugger)\n",
    "context_src = fuzzingbook_utils.extract_class_definition(GDBContext)\n",
    "gdbtracer_src = fuzzingbook_utils.extract_class_definition(GDBTracer)\n",
    "varextractor_src = fuzzingbook_utils.extract_class_definition(VarExtractor)\n",
    "gdbdebugger_src = fuzzingbook_utils.extract_class_definition(GDBDebugger)\n",
    "\n",
    "frame_src = fuzzingbook_utils.extract_class_definition(Frame)\n",
    "instr_src = fuzzingbook_utils.extract_class_definition(Instruction)\n",
    "stripped_cxt_src = fuzzingbook_utils.extract_class_definition(StrippedContext)\n",
    "stripped_debugger_src = fuzzingbook_utils.extract_class_definition(\n",
    "    StrippedBinaryDebugger)\n",
    "\n",
    "tracer_tail = \"\"\"\n",
    "file_name = 'gdbtrace'\n",
    "def recover_trace(f, inp, **kwargs):\n",
    "    d = StrippedBinaryDebugger(gdb, f, inp, **kwargs)\n",
    "    d.event_loop()\n",
    "    with open(file_name, 'w+') as f:\n",
    "        print(jsonpickle.encode(d.tracer.trace), file=f)\n",
    "binary = 'a.out'\n",
    "recover_trace(binary, arg0, files=[binary])\n",
    "\"\"\"\n",
    "tracer_src = '\\n'.join([\n",
    "    tracer_head, debugger_src, context_src, gdbtracer_src, varextractor_src,\n",
    "    gdbdebugger_src, stripped_cxt_src, frame_src, instr_src,\n",
    "    stripped_debugger_src, tracer_tail\n",
    "])"
   ]
  },
  {
   "cell_type": "code",
   "execution_count": 683,
   "metadata": {
    "code_folding": []
   },
   "outputs": [],
   "source": [
    "with open('debugger.py', 'w+') as f:\n",
    "    print(tracer_src, file=f)"
   ]
  },
  {
   "cell_type": "code",
   "execution_count": 253,
   "metadata": {
    "code_folding": []
   },
   "outputs": [],
   "source": [
    "def recover_grammar(inps, src):\n",
    "    traces = []\n",
    "    miner = StrippedScopedGrammarMiner()\n",
    "    \n",
    "    for c, inp in enumerate(inps):\n",
    "        arg = '\\'py arg0=\"%s\"\\'' % inp\n",
    "        argfiles = '\\'py files=\"%s\"\\'' % src\n",
    "        print(arg)\n",
    "        !gdb --batch-silent -ex {arg} -ex {argfiles} -x debugger.py\n",
    "        with open(f'gdbtrace', 'rb') as f:\n",
    "            traces.append((inp, jsonpickle.decode(f.read())))\n",
    "        !cp gdbtrace gdbtrace.{c}\n",
    "    \n",
    "    for inp, trace in traces:\n",
    "        miner.update_grammar(inp, trace)\n",
    "    return (readable(miner.clean_grammar()))"
   ]
  },
  {
   "cell_type": "code",
   "execution_count": 403,
   "metadata": {},
   "outputs": [
    {
     "name": "stdout",
     "output_type": "stream",
     "text": [
      "'py arg0=\"1997,van,Ford,E350\"'\n",
      "We have a Ford E350 van from 1997 vintage.\n",
      "It is an old but reliable model!\n",
      "We have a Ford E350 van from 1997 vintage.\n",
      "It is an old but reliable model!\n"
     ]
    },
    {
     "data": {
      "text/plain": [
       "{'<start>': ['<fn_1@a_14:var_12>'],\n",
       " '<fn_1@a_14:var_12>': ['<fn_1@a_29:var_20>,<fn_1@a_43:var_32>,<fn_1@a_33:var_24>,<fn_2@a_65:var_49>'],\n",
       " '<fn_1@a_29:var_20>': ['1997'],\n",
       " '<fn_1@a_43:var_32>': ['van'],\n",
       " '<fn_1@a_33:var_24>': ['Ford'],\n",
       " '<fn_2@a_65:var_49>': ['E350']}"
      ]
     },
     "execution_count": 403,
     "metadata": {},
     "output_type": "execute_result"
    }
   ],
   "source": [
    "grammar = recover_grammar([VEHICLES[0]], 'a.out')\n",
    "grammar"
   ]
  },
  {
   "cell_type": "code",
   "execution_count": 383,
   "metadata": {
    "scrolled": true
   },
   "outputs": [
    {
     "name": "stdout",
     "output_type": "stream",
     "text": [
      "start\n"
     ]
    },
    {
     "data": {
      "image/svg+xml": [
       "<svg class=\"railroad-diagram\" height=\"62\" viewBox=\"0 0 276.0 62\" width=\"276.0\" xmlns=\"http://www.w3.org/2000/svg\">\n",
       "<g transform=\"translate(.5 .5)\">\n",
       "<style>/* <![CDATA[ */\n",
       "    svg.railroad-diagram {\n",
       "        background-color:hsl(100,100%,100%);\n",
       "    }\n",
       "    svg.railroad-diagram path {\n",
       "        stroke-width:3;\n",
       "        stroke:black;\n",
       "        fill:rgba(0,0,0,0);\n",
       "    }\n",
       "    svg.railroad-diagram text {\n",
       "        font:bold 14px monospace;\n",
       "        text-anchor:middle;\n",
       "    }\n",
       "    svg.railroad-diagram text.label{\n",
       "        text-anchor:start;\n",
       "    }\n",
       "    svg.railroad-diagram text.comment{\n",
       "        font:italic 12px monospace;\n",
       "    }\n",
       "    svg.railroad-diagram rect{\n",
       "        stroke-width:3;\n",
       "        stroke:black;\n",
       "        fill:hsl(0,62%,82%);\n",
       "    }\n",
       "\n",
       "/* ]]> */\n",
       "</style><g>\n",
       "<path d=\"M20 21v20m10 -20v20m-10 -10h20\"/></g><g>\n",
       "<path d=\"M40 31h0.0\"/><path d=\"M236.0 31h0.0\"/><path d=\"M40.0 31h20\"/><g>\n",
       "<path d=\"M60.0 31h0.0\"/><path d=\"M216.0 31h0.0\"/><g class=\"non-terminal\">\n",
       "<path d=\"M60.0 31h0.0\"/><path d=\"M216.0 31h0.0\"/><rect height=\"22\" width=\"156.0\" x=\"60.0\" y=\"20\"/><text x=\"138.0\" y=\"35\">fn_1@a_14:var_12</text></g></g><path d=\"M216.0 31h20\"/></g><path d=\"M 236.0 31 h 20 m -10 -10 v 20 m 10 -20 v 20\"/></g></svg>"
      ],
      "text/plain": [
       "<IPython.core.display.SVG object>"
      ]
     },
     "metadata": {},
     "output_type": "display_data"
    },
    {
     "name": "stdout",
     "output_type": "stream",
     "text": [
      "fn_1@a_14:var_12\n"
     ]
    },
    {
     "data": {
      "image/svg+xml": [
       "<svg class=\"railroad-diagram\" height=\"62\" viewBox=\"0 0 949.5 62\" width=\"949.5\" xmlns=\"http://www.w3.org/2000/svg\">\n",
       "<g transform=\"translate(.5 .5)\">\n",
       "<style>/* <![CDATA[ */\n",
       "    svg.railroad-diagram {\n",
       "        background-color:hsl(100,100%,100%);\n",
       "    }\n",
       "    svg.railroad-diagram path {\n",
       "        stroke-width:3;\n",
       "        stroke:black;\n",
       "        fill:rgba(0,0,0,0);\n",
       "    }\n",
       "    svg.railroad-diagram text {\n",
       "        font:bold 14px monospace;\n",
       "        text-anchor:middle;\n",
       "    }\n",
       "    svg.railroad-diagram text.label{\n",
       "        text-anchor:start;\n",
       "    }\n",
       "    svg.railroad-diagram text.comment{\n",
       "        font:italic 12px monospace;\n",
       "    }\n",
       "    svg.railroad-diagram rect{\n",
       "        stroke-width:3;\n",
       "        stroke:black;\n",
       "        fill:hsl(0,62%,82%);\n",
       "    }\n",
       "\n",
       "/* ]]> */\n",
       "</style><g>\n",
       "<path d=\"M20 21v20m10 -20v20m-10 -10h20\"/></g><g>\n",
       "<path d=\"M40 31h0.0\"/><path d=\"M909.5 31h0.0\"/><path d=\"M40.0 31h20\"/><g>\n",
       "<path d=\"M60.0 31h0.0\"/><path d=\"M889.5 31h0.0\"/><g class=\"non-terminal\">\n",
       "<path d=\"M60.0 31h0.0\"/><path d=\"M216.0 31h0.0\"/><rect height=\"22\" width=\"156.0\" x=\"60.0\" y=\"20\"/><text x=\"138.0\" y=\"35\">fn_1@a_29:var_20</text></g><path d=\"M216.0 31h10\"/><path d=\"M226.0 31h10\"/><g class=\"terminal\">\n",
       "<path d=\"M236.0 31h0.0\"/><path d=\"M264.5 31h0.0\"/><rect height=\"22\" rx=\"10\" ry=\"10\" width=\"28.5\" x=\"236.0\" y=\"20\"/><text x=\"250.25\" y=\"35\">,</text></g><path d=\"M264.5 31h10\"/><path d=\"M274.5 31h10\"/><g class=\"non-terminal\">\n",
       "<path d=\"M284.5 31h0.0\"/><path d=\"M440.5 31h0.0\"/><rect height=\"22\" width=\"156.0\" x=\"284.5\" y=\"20\"/><text x=\"362.5\" y=\"35\">fn_1@a_43:var_32</text></g><path d=\"M440.5 31h10\"/><path d=\"M450.5 31h10\"/><g class=\"terminal\">\n",
       "<path d=\"M460.5 31h0.0\"/><path d=\"M489.0 31h0.0\"/><rect height=\"22\" rx=\"10\" ry=\"10\" width=\"28.5\" x=\"460.5\" y=\"20\"/><text x=\"474.75\" y=\"35\">,</text></g><path d=\"M489.0 31h10\"/><path d=\"M499.0 31h10\"/><g class=\"non-terminal\">\n",
       "<path d=\"M509.0 31h0.0\"/><path d=\"M665.0 31h0.0\"/><rect height=\"22\" width=\"156.0\" x=\"509.0\" y=\"20\"/><text x=\"587.0\" y=\"35\">fn_1@a_33:var_24</text></g><path d=\"M665.0 31h10\"/><path d=\"M675.0 31h10\"/><g class=\"terminal\">\n",
       "<path d=\"M685.0 31h0.0\"/><path d=\"M713.5 31h0.0\"/><rect height=\"22\" rx=\"10\" ry=\"10\" width=\"28.5\" x=\"685.0\" y=\"20\"/><text x=\"699.25\" y=\"35\">,</text></g><path d=\"M713.5 31h10\"/><path d=\"M723.5 31h10\"/><g class=\"non-terminal\">\n",
       "<path d=\"M733.5 31h0.0\"/><path d=\"M889.5 31h0.0\"/><rect height=\"22\" width=\"156.0\" x=\"733.5\" y=\"20\"/><text x=\"811.5\" y=\"35\">fn_2@a_65:var_49</text></g></g><path d=\"M889.5 31h20\"/></g><path d=\"M 909.5 31 h 20 m -10 -10 v 20 m 10 -20 v 20\"/></g></svg>"
      ],
      "text/plain": [
       "<IPython.core.display.SVG object>"
      ]
     },
     "metadata": {},
     "output_type": "display_data"
    },
    {
     "name": "stdout",
     "output_type": "stream",
     "text": [
      "fn_1@a_29:var_20\n"
     ]
    },
    {
     "data": {
      "image/svg+xml": [
       "<svg class=\"railroad-diagram\" height=\"62\" viewBox=\"0 0 174.0 62\" width=\"174.0\" xmlns=\"http://www.w3.org/2000/svg\">\n",
       "<g transform=\"translate(.5 .5)\">\n",
       "<style>/* <![CDATA[ */\n",
       "    svg.railroad-diagram {\n",
       "        background-color:hsl(100,100%,100%);\n",
       "    }\n",
       "    svg.railroad-diagram path {\n",
       "        stroke-width:3;\n",
       "        stroke:black;\n",
       "        fill:rgba(0,0,0,0);\n",
       "    }\n",
       "    svg.railroad-diagram text {\n",
       "        font:bold 14px monospace;\n",
       "        text-anchor:middle;\n",
       "    }\n",
       "    svg.railroad-diagram text.label{\n",
       "        text-anchor:start;\n",
       "    }\n",
       "    svg.railroad-diagram text.comment{\n",
       "        font:italic 12px monospace;\n",
       "    }\n",
       "    svg.railroad-diagram rect{\n",
       "        stroke-width:3;\n",
       "        stroke:black;\n",
       "        fill:hsl(0,62%,82%);\n",
       "    }\n",
       "\n",
       "/* ]]> */\n",
       "</style><g>\n",
       "<path d=\"M20 21v20m10 -20v20m-10 -10h20\"/></g><g>\n",
       "<path d=\"M40 31h0.0\"/><path d=\"M134.0 31h0.0\"/><path d=\"M40.0 31h20\"/><g>\n",
       "<path d=\"M60.0 31h0.0\"/><path d=\"M114.0 31h0.0\"/><g class=\"terminal\">\n",
       "<path d=\"M60.0 31h0.0\"/><path d=\"M114.0 31h0.0\"/><rect height=\"22\" rx=\"10\" ry=\"10\" width=\"54.0\" x=\"60.0\" y=\"20\"/><text x=\"87.0\" y=\"35\">1997</text></g></g><path d=\"M114.0 31h20\"/></g><path d=\"M 134.0 31 h 20 m -10 -10 v 20 m 10 -20 v 20\"/></g></svg>"
      ],
      "text/plain": [
       "<IPython.core.display.SVG object>"
      ]
     },
     "metadata": {},
     "output_type": "display_data"
    },
    {
     "name": "stdout",
     "output_type": "stream",
     "text": [
      "fn_1@a_43:var_32\n"
     ]
    },
    {
     "data": {
      "image/svg+xml": [
       "<svg class=\"railroad-diagram\" height=\"62\" viewBox=\"0 0 165.5 62\" width=\"165.5\" xmlns=\"http://www.w3.org/2000/svg\">\n",
       "<g transform=\"translate(.5 .5)\">\n",
       "<style>/* <![CDATA[ */\n",
       "    svg.railroad-diagram {\n",
       "        background-color:hsl(100,100%,100%);\n",
       "    }\n",
       "    svg.railroad-diagram path {\n",
       "        stroke-width:3;\n",
       "        stroke:black;\n",
       "        fill:rgba(0,0,0,0);\n",
       "    }\n",
       "    svg.railroad-diagram text {\n",
       "        font:bold 14px monospace;\n",
       "        text-anchor:middle;\n",
       "    }\n",
       "    svg.railroad-diagram text.label{\n",
       "        text-anchor:start;\n",
       "    }\n",
       "    svg.railroad-diagram text.comment{\n",
       "        font:italic 12px monospace;\n",
       "    }\n",
       "    svg.railroad-diagram rect{\n",
       "        stroke-width:3;\n",
       "        stroke:black;\n",
       "        fill:hsl(0,62%,82%);\n",
       "    }\n",
       "\n",
       "/* ]]> */\n",
       "</style><g>\n",
       "<path d=\"M20 21v20m10 -20v20m-10 -10h20\"/></g><g>\n",
       "<path d=\"M40 31h0.0\"/><path d=\"M125.5 31h0.0\"/><path d=\"M40.0 31h20\"/><g>\n",
       "<path d=\"M60.0 31h0.0\"/><path d=\"M105.5 31h0.0\"/><g class=\"terminal\">\n",
       "<path d=\"M60.0 31h0.0\"/><path d=\"M105.5 31h0.0\"/><rect height=\"22\" rx=\"10\" ry=\"10\" width=\"45.5\" x=\"60.0\" y=\"20\"/><text x=\"82.75\" y=\"35\">van</text></g></g><path d=\"M105.5 31h20\"/></g><path d=\"M 125.5 31 h 20 m -10 -10 v 20 m 10 -20 v 20\"/></g></svg>"
      ],
      "text/plain": [
       "<IPython.core.display.SVG object>"
      ]
     },
     "metadata": {},
     "output_type": "display_data"
    },
    {
     "name": "stdout",
     "output_type": "stream",
     "text": [
      "fn_1@a_33:var_24\n"
     ]
    },
    {
     "data": {
      "image/svg+xml": [
       "<svg class=\"railroad-diagram\" height=\"62\" viewBox=\"0 0 174.0 62\" width=\"174.0\" xmlns=\"http://www.w3.org/2000/svg\">\n",
       "<g transform=\"translate(.5 .5)\">\n",
       "<style>/* <![CDATA[ */\n",
       "    svg.railroad-diagram {\n",
       "        background-color:hsl(100,100%,100%);\n",
       "    }\n",
       "    svg.railroad-diagram path {\n",
       "        stroke-width:3;\n",
       "        stroke:black;\n",
       "        fill:rgba(0,0,0,0);\n",
       "    }\n",
       "    svg.railroad-diagram text {\n",
       "        font:bold 14px monospace;\n",
       "        text-anchor:middle;\n",
       "    }\n",
       "    svg.railroad-diagram text.label{\n",
       "        text-anchor:start;\n",
       "    }\n",
       "    svg.railroad-diagram text.comment{\n",
       "        font:italic 12px monospace;\n",
       "    }\n",
       "    svg.railroad-diagram rect{\n",
       "        stroke-width:3;\n",
       "        stroke:black;\n",
       "        fill:hsl(0,62%,82%);\n",
       "    }\n",
       "\n",
       "/* ]]> */\n",
       "</style><g>\n",
       "<path d=\"M20 21v20m10 -20v20m-10 -10h20\"/></g><g>\n",
       "<path d=\"M40 31h0.0\"/><path d=\"M134.0 31h0.0\"/><path d=\"M40.0 31h20\"/><g>\n",
       "<path d=\"M60.0 31h0.0\"/><path d=\"M114.0 31h0.0\"/><g class=\"terminal\">\n",
       "<path d=\"M60.0 31h0.0\"/><path d=\"M114.0 31h0.0\"/><rect height=\"22\" rx=\"10\" ry=\"10\" width=\"54.0\" x=\"60.0\" y=\"20\"/><text x=\"87.0\" y=\"35\">Ford</text></g></g><path d=\"M114.0 31h20\"/></g><path d=\"M 134.0 31 h 20 m -10 -10 v 20 m 10 -20 v 20\"/></g></svg>"
      ],
      "text/plain": [
       "<IPython.core.display.SVG object>"
      ]
     },
     "metadata": {},
     "output_type": "display_data"
    },
    {
     "name": "stdout",
     "output_type": "stream",
     "text": [
      "fn_2@a_65:var_49\n"
     ]
    },
    {
     "data": {
      "image/svg+xml": [
       "<svg class=\"railroad-diagram\" height=\"62\" viewBox=\"0 0 174.0 62\" width=\"174.0\" xmlns=\"http://www.w3.org/2000/svg\">\n",
       "<g transform=\"translate(.5 .5)\">\n",
       "<style>/* <![CDATA[ */\n",
       "    svg.railroad-diagram {\n",
       "        background-color:hsl(100,100%,100%);\n",
       "    }\n",
       "    svg.railroad-diagram path {\n",
       "        stroke-width:3;\n",
       "        stroke:black;\n",
       "        fill:rgba(0,0,0,0);\n",
       "    }\n",
       "    svg.railroad-diagram text {\n",
       "        font:bold 14px monospace;\n",
       "        text-anchor:middle;\n",
       "    }\n",
       "    svg.railroad-diagram text.label{\n",
       "        text-anchor:start;\n",
       "    }\n",
       "    svg.railroad-diagram text.comment{\n",
       "        font:italic 12px monospace;\n",
       "    }\n",
       "    svg.railroad-diagram rect{\n",
       "        stroke-width:3;\n",
       "        stroke:black;\n",
       "        fill:hsl(0,62%,82%);\n",
       "    }\n",
       "\n",
       "/* ]]> */\n",
       "</style><g>\n",
       "<path d=\"M20 21v20m10 -20v20m-10 -10h20\"/></g><g>\n",
       "<path d=\"M40 31h0.0\"/><path d=\"M134.0 31h0.0\"/><path d=\"M40.0 31h20\"/><g>\n",
       "<path d=\"M60.0 31h0.0\"/><path d=\"M114.0 31h0.0\"/><g class=\"terminal\">\n",
       "<path d=\"M60.0 31h0.0\"/><path d=\"M114.0 31h0.0\"/><rect height=\"22\" rx=\"10\" ry=\"10\" width=\"54.0\" x=\"60.0\" y=\"20\"/><text x=\"87.0\" y=\"35\">E350</text></g></g><path d=\"M114.0 31h20\"/></g><path d=\"M 134.0 31 h 20 m -10 -10 v 20 m 10 -20 v 20\"/></g></svg>"
      ],
      "text/plain": [
       "<IPython.core.display.SVG object>"
      ]
     },
     "metadata": {},
     "output_type": "display_data"
    }
   ],
   "source": [
    "syntax_diagram(grammar)"
   ]
  }
 ],
 "metadata": {
  "kernelspec": {
   "display_name": "Python 3",
   "language": "python",
   "name": "python3"
  },
  "language_info": {
   "codemirror_mode": {
    "name": "ipython",
    "version": 3
   },
   "file_extension": ".py",
   "mimetype": "text/x-python",
   "name": "python",
   "nbconvert_exporter": "python",
   "pygments_lexer": "ipython3",
   "version": "3.7.1"
  },
  "latex_envs": {
   "LaTeX_envs_menu_present": true,
   "autoclose": false,
   "autocomplete": true,
   "bibliofile": "biblio.bib",
   "cite_by": "apalike",
   "current_citInitial": 1,
   "eqLabelWithNumbers": true,
   "eqNumInitial": 1,
   "hotkeys": {
    "equation": "Ctrl-E",
    "itemize": "Ctrl-I"
   },
   "labels_anchors": false,
   "latex_user_defs": false,
   "report_style_numbering": false,
   "user_envs_cfg": false
  },
  "toc": {
   "base_numbering": 1,
   "nav_menu": {},
   "number_sections": true,
   "sideBar": true,
   "skip_h1_title": false,
   "title_cell": "Table of Contents",
   "title_sidebar": "Contents",
   "toc_cell": false,
   "toc_position": {
    "height": "1161px",
    "left": "336px",
    "top": "336px",
    "width": "416px"
   },
   "toc_section_display": true,
   "toc_window_display": true
  },
  "varInspector": {
   "cols": {
    "lenName": 16,
    "lenType": 16,
    "lenVar": 40
   },
   "kernels_config": {
    "python": {
     "delete_cmd_postfix": "",
     "delete_cmd_prefix": "del ",
     "library": "var_list.py",
     "varRefreshCmd": "print(var_dic_list())"
    },
    "r": {
     "delete_cmd_postfix": ") ",
     "delete_cmd_prefix": "rm(",
     "library": "var_list.r",
     "varRefreshCmd": "cat(var_dic_list()) "
    }
   },
   "types_to_exclude": [
    "module",
    "function",
    "builtin_function_or_method",
    "instance",
    "_Feature"
   ],
   "window_display": false
  }
 },
 "nbformat": 4,
 "nbformat_minor": 2
}
