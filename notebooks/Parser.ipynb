{
 "cells": [
  {
   "cell_type": "markdown",
   "metadata": {
    "button": false,
    "new_sheet": false,
    "run_control": {
     "read_only": false
    },
    "slideshow": {
     "slide_type": "notes"
    },
    "toc-hr-collapsed": false
   },
   "source": [
    "# Parsing Inputs\n",
    "\n",
    "In the chapter on [Grammars](Grammars.ipynb), we discussed how grammars can be\n",
    "used to represent various languages. We also saw how grammars can be used to\n",
    "generate strings of the corresponding language. Grammars can also perform the\n",
    "reverse. That is, given a string, one can decompose the string into its\n",
    "constituent parts that correspond to the parts of grammar used to generate it\n",
    "– the _derivation tree_ of that string. These parts (and parts from other similar\n",
    "strings) can later be recombined using the same grammar to produce new strings.\n",
    "\n",
    "In this chapter, we use grammars to parse and decompose a given set of valid seed inputs into their corresponding derivation trees. This structural representation allows us to mutate, crossover, and recombine their parts in order to generate new valid, slightly changed inputs (i.e., fuzz)"
   ]
  },
  {
   "cell_type": "markdown",
   "metadata": {
    "slideshow": {
     "slide_type": "skip"
    }
   },
   "source": [
    "**Prerequisites**\n",
    "\n",
    "* You should have read the [chapter on grammars](Grammars.ipynb).\n",
    "* An understanding of derivation trees from the [chapter on grammar fuzzer](GrammarFuzzer.ipynb)\n",
    "  is also required."
   ]
  },
  {
   "cell_type": "markdown",
   "metadata": {},
   "source": [
    "## Synopsis\n",
    "<!-- Automatically generated. Do not edit. -->\n",
    "\n",
    "To [use the code provided in this chapter](Importing.ipynb), write\n",
    "\n",
    "```python\n",
    ">>> from fuzzingbook.Parser import <identifier>\n",
    "```\n",
    "\n",
    "and then make use of the following features.\n",
    "\n",
    "\n",
    "This chapter introduces `Parser` classes, parsing a string into a _derivation tree_ as introduced in the [chapter on efficient grammar fuzzing](GrammarFuzzer.ipynb).  Two important parser classes are provided:\n",
    "\n",
    "* [Parsing Expression Grammar parsers](#Parsing-Expression-Grammars) (`PEGParser`), which are very efficient, but limited to specific grammar structure; and\n",
    "* [Earley parsers](#Parsing-Context-Free-Grammars) (`EarleyParser`), which accept any kind of context-free grammars.\n",
    "\n",
    "Using any of these is fairly easy, though.  First, instantiate them with a grammar:\n",
    "\n",
    "```python\n",
    ">>> from Grammars import US_PHONE_GRAMMAR\n",
    ">>> us_phone_parser = EarleyParser(US_PHONE_GRAMMAR)\n",
    "```\n",
    "Then, use the `parse()` method to retrieve a list of possible derivation trees:\n",
    "\n",
    "```python\n",
    ">>> trees = us_phone_parser.parse(\"(555)987-6543\")\n",
    ">>> tree = list(trees)[0]\n",
    ">>> display_tree(tree)\n",
    "```\n",
    "\n",
    "![](PICS/Parser-synopsis-1.svg)\n",
    "\n",
    "These derivation trees can then be used for test generation, notably for mutating and recombining existing inputs.\n",
    "\n"
   ]
  },
  {
   "cell_type": "markdown",
   "metadata": {},
   "source": [
    "## Fuzzing a Simple Program"
   ]
  },
  {
   "cell_type": "markdown",
   "metadata": {},
   "source": [
    "Here is a simple program that accepts a CSV file of vehicle details and processes this information."
   ]
  },
  {
   "cell_type": "code",
   "execution_count": 1,
   "metadata": {},
   "outputs": [],
   "source": [
    "def process_inventory(inventory):\n",
    "    res = []\n",
    "    for vehicle in inventory.split('\\n'):\n",
    "        ret = process_vehicle(vehicle)\n",
    "        res.extend(ret)\n",
    "    return '\\n'.join(res)"
   ]
  },
  {
   "cell_type": "markdown",
   "metadata": {},
   "source": [
    "The CSV file contains details of one vehicle per line. Each row is processed in `process_vehicle()`."
   ]
  },
  {
   "cell_type": "code",
   "execution_count": 2,
   "metadata": {},
   "outputs": [],
   "source": [
    "def process_vehicle(vehicle):\n",
    "    year, kind, company, model, *_ = vehicle.split(',')\n",
    "    if kind == 'van':\n",
    "        return process_van(year, company, model)\n",
    "\n",
    "    elif kind == 'car':\n",
    "        return process_car(year, company, model)\n",
    "\n",
    "    else:\n",
    "        raise Exception('Invalid entry')"
   ]
  },
  {
   "cell_type": "markdown",
   "metadata": {},
   "source": [
    "Depending on the kind of vehicle, the processing changes."
   ]
  },
  {
   "cell_type": "code",
   "execution_count": 3,
   "metadata": {},
   "outputs": [],
   "source": [
    "def process_van(year, company, model):\n",
    "    res = [\"We have a %s %s van from %s vintage.\" % (company, model, year)]\n",
    "    iyear = int(year)\n",
    "    if iyear > 2010:\n",
    "        res.append(\"It is a recent model!\")\n",
    "    else:\n",
    "        res.append(\"It is an old but reliable model!\")\n",
    "    return res"
   ]
  },
  {
   "cell_type": "code",
   "execution_count": 4,
   "metadata": {},
   "outputs": [],
   "source": [
    "def process_car(year, company, model):\n",
    "    res = [\"We have a %s %s car from %s vintage.\" % (company, model, year)]\n",
    "    iyear = int(year)\n",
    "    if iyear > 2016:\n",
    "        res.append(\"It is a recent model!\")\n",
    "    else:\n",
    "        res.append(\"It is an old but reliable model!\")\n",
    "    return res"
   ]
  },
  {
   "cell_type": "markdown",
   "metadata": {},
   "source": [
    "Here is a sample of inputs that the `process_inventory()` accepts."
   ]
  },
  {
   "cell_type": "code",
   "execution_count": 5,
   "metadata": {},
   "outputs": [
    {
     "name": "stdout",
     "output_type": "stream",
     "text": [
      "We have a Ford E350 van from 1997 vintage.\n",
      "It is an old but reliable model!\n",
      "We have a Mercury Cougar car from 2000 vintage.\n",
      "It is an old but reliable model!\n"
     ]
    }
   ],
   "source": [
    "mystring = \"\"\"\\\n",
    "1997,van,Ford,E350\n",
    "2000,car,Mercury,Cougar\\\n",
    "\"\"\"\n",
    "print(process_inventory(mystring))"
   ]
  },
  {
   "cell_type": "markdown",
   "metadata": {},
   "source": [
    "Let us try to fuzz this program. Given that the `process_inventory()` takes a CSV file, we can write a simple grammar for generating comma separated values, and generate the required CSV rows. For convenience, we fuzz `process_vehicle()` directly."
   ]
  },
  {
   "cell_type": "code",
   "execution_count": 6,
   "metadata": {},
   "outputs": [],
   "source": [
    "import string"
   ]
  },
  {
   "cell_type": "code",
   "execution_count": 7,
   "metadata": {},
   "outputs": [],
   "source": [
    "CSV_GRAMMAR = {\n",
    "    '<start>': ['<csvline>'],\n",
    "    '<csvline>': ['<items>'],\n",
    "    '<items>': ['<item>,<items>', '<item>'],\n",
    "    '<item>': ['<letters>'],\n",
    "    '<letters>': ['<letter><letters>', '<letter>'],\n",
    "    '<letter>': list(string.ascii_letters + string.digits + string.punctuation + ' \\t\\n')\n",
    "}"
   ]
  },
  {
   "cell_type": "markdown",
   "metadata": {},
   "source": [
    " We need some infrastructure first for viewing the grammar."
   ]
  },
  {
   "cell_type": "code",
   "execution_count": 8,
   "metadata": {},
   "outputs": [],
   "source": [
    "import fuzzingbook_utils"
   ]
  },
  {
   "cell_type": "code",
   "execution_count": 9,
   "metadata": {
    "slideshow": {
     "slide_type": "skip"
    }
   },
   "outputs": [],
   "source": [
    "from Grammars import EXPR_GRAMMAR, START_SYMBOL, RE_NONTERMINAL, is_valid_grammar, syntax_diagram\n",
    "from Fuzzer import Fuzzer\n",
    "from GrammarFuzzer import GrammarFuzzer, FasterGrammarFuzzer, display_tree, tree_to_string, dot_escape\n",
    "\n",
    "from ExpectError import ExpectError\n",
    "from Timer import Timer"
   ]
  },
  {
   "cell_type": "code",
   "execution_count": 10,
   "metadata": {},
   "outputs": [
    {
     "name": "stdout",
     "output_type": "stream",
     "text": [
      "start\n"
     ]
    },
    {
     "data": {
      "image/svg+xml": [
       "<svg class=\"railroad-diagram\" height=\"62\" viewBox=\"0 0 199.5 62\" width=\"199.5\" xmlns=\"http://www.w3.org/2000/svg\">\n",
       "<g transform=\"translate(.5 .5)\">\n",
       "<style>/* <![CDATA[ */\n",
       "    svg.railroad-diagram {\n",
       "        background-color:hsl(100,100%,100%);\n",
       "    }\n",
       "    svg.railroad-diagram path {\n",
       "        stroke-width:3;\n",
       "        stroke:black;\n",
       "        fill:rgba(0,0,0,0);\n",
       "    }\n",
       "    svg.railroad-diagram text {\n",
       "        font:bold 14px monospace;\n",
       "        text-anchor:middle;\n",
       "    }\n",
       "    svg.railroad-diagram text.label{\n",
       "        text-anchor:start;\n",
       "    }\n",
       "    svg.railroad-diagram text.comment{\n",
       "        font:italic 12px monospace;\n",
       "    }\n",
       "    svg.railroad-diagram rect{\n",
       "        stroke-width:3;\n",
       "        stroke:black;\n",
       "        fill:hsl(0,62%,82%);\n",
       "    }\n",
       "\n",
       "/* ]]> */\n",
       "</style><g>\n",
       "<path d=\"M20 21v20m10 -20v20m-10 -10h20\"/></g><g>\n",
       "<path d=\"M40 31h0.0\"/><path d=\"M159.5 31h0.0\"/><path d=\"M40.0 31h20\"/><g>\n",
       "<path d=\"M60.0 31h0.0\"/><path d=\"M139.5 31h0.0\"/><g class=\"non-terminal\">\n",
       "<path d=\"M60.0 31h0.0\"/><path d=\"M139.5 31h0.0\"/><rect height=\"22\" width=\"79.5\" x=\"60.0\" y=\"20\"/><text x=\"99.75\" y=\"35\">csvline</text></g></g><path d=\"M139.5 31h20\"/></g><path d=\"M 159.5 31 h 20 m -10 -10 v 20 m 10 -20 v 20\"/></g></svg>"
      ],
      "text/plain": [
       "<IPython.core.display.SVG object>"
      ]
     },
     "metadata": {},
     "output_type": "display_data"
    },
    {
     "name": "stdout",
     "output_type": "stream",
     "text": [
      "csvline\n"
     ]
    },
    {
     "data": {
      "image/svg+xml": [
       "<svg class=\"railroad-diagram\" height=\"62\" viewBox=\"0 0 182.5 62\" width=\"182.5\" xmlns=\"http://www.w3.org/2000/svg\">\n",
       "<g transform=\"translate(.5 .5)\">\n",
       "<style>/* <![CDATA[ */\n",
       "    svg.railroad-diagram {\n",
       "        background-color:hsl(100,100%,100%);\n",
       "    }\n",
       "    svg.railroad-diagram path {\n",
       "        stroke-width:3;\n",
       "        stroke:black;\n",
       "        fill:rgba(0,0,0,0);\n",
       "    }\n",
       "    svg.railroad-diagram text {\n",
       "        font:bold 14px monospace;\n",
       "        text-anchor:middle;\n",
       "    }\n",
       "    svg.railroad-diagram text.label{\n",
       "        text-anchor:start;\n",
       "    }\n",
       "    svg.railroad-diagram text.comment{\n",
       "        font:italic 12px monospace;\n",
       "    }\n",
       "    svg.railroad-diagram rect{\n",
       "        stroke-width:3;\n",
       "        stroke:black;\n",
       "        fill:hsl(0,62%,82%);\n",
       "    }\n",
       "\n",
       "/* ]]> */\n",
       "</style><g>\n",
       "<path d=\"M20 21v20m10 -20v20m-10 -10h20\"/></g><g>\n",
       "<path d=\"M40 31h0.0\"/><path d=\"M142.5 31h0.0\"/><path d=\"M40.0 31h20\"/><g>\n",
       "<path d=\"M60.0 31h0.0\"/><path d=\"M122.5 31h0.0\"/><g class=\"non-terminal\">\n",
       "<path d=\"M60.0 31h0.0\"/><path d=\"M122.5 31h0.0\"/><rect height=\"22\" width=\"62.5\" x=\"60.0\" y=\"20\"/><text x=\"91.25\" y=\"35\">items</text></g></g><path d=\"M122.5 31h20\"/></g><path d=\"M 142.5 31 h 20 m -10 -10 v 20 m 10 -20 v 20\"/></g></svg>"
      ],
      "text/plain": [
       "<IPython.core.display.SVG object>"
      ]
     },
     "metadata": {},
     "output_type": "display_data"
    },
    {
     "name": "stdout",
     "output_type": "stream",
     "text": [
      "items\n"
     ]
    },
    {
     "data": {
      "image/svg+xml": [
       "<svg class=\"railroad-diagram\" height=\"92\" viewBox=\"0 0 305.0 92\" width=\"305.0\" xmlns=\"http://www.w3.org/2000/svg\">\n",
       "<g transform=\"translate(.5 .5)\">\n",
       "<style>/* <![CDATA[ */\n",
       "    svg.railroad-diagram {\n",
       "        background-color:hsl(100,100%,100%);\n",
       "    }\n",
       "    svg.railroad-diagram path {\n",
       "        stroke-width:3;\n",
       "        stroke:black;\n",
       "        fill:rgba(0,0,0,0);\n",
       "    }\n",
       "    svg.railroad-diagram text {\n",
       "        font:bold 14px monospace;\n",
       "        text-anchor:middle;\n",
       "    }\n",
       "    svg.railroad-diagram text.label{\n",
       "        text-anchor:start;\n",
       "    }\n",
       "    svg.railroad-diagram text.comment{\n",
       "        font:italic 12px monospace;\n",
       "    }\n",
       "    svg.railroad-diagram rect{\n",
       "        stroke-width:3;\n",
       "        stroke:black;\n",
       "        fill:hsl(0,62%,82%);\n",
       "    }\n",
       "\n",
       "/* ]]> */\n",
       "</style><g>\n",
       "<path d=\"M20 51v20m10 -20v20m-10 -10h20\"/></g><g>\n",
       "<path d=\"M40 61h0.0\"/><path d=\"M265.0 61h0.0\"/><path d=\"M40.0 61a10 10 0 0 0 10 -10v-10a10 10 0 0 1 10 -10\"/><g>\n",
       "<path d=\"M60.0 31h0.0\"/><path d=\"M245.0 31h0.0\"/><g class=\"non-terminal\">\n",
       "<path d=\"M60.0 31h0.0\"/><path d=\"M114.0 31h0.0\"/><rect height=\"22\" width=\"54.0\" x=\"60.0\" y=\"20\"/><text x=\"87.0\" y=\"35\">item</text></g><path d=\"M114.0 31h10\"/><path d=\"M124.0 31h10\"/><g class=\"terminal\">\n",
       "<path d=\"M134.0 31h0.0\"/><path d=\"M162.5 31h0.0\"/><rect height=\"22\" rx=\"10\" ry=\"10\" width=\"28.5\" x=\"134.0\" y=\"20\"/><text x=\"148.25\" y=\"35\">,</text></g><path d=\"M162.5 31h10\"/><path d=\"M172.5 31h10\"/><g class=\"non-terminal\">\n",
       "<path d=\"M182.5 31h0.0\"/><path d=\"M245.0 31h0.0\"/><rect height=\"22\" width=\"62.5\" x=\"182.5\" y=\"20\"/><text x=\"213.75\" y=\"35\">items</text></g></g><path d=\"M245.0 31a10 10 0 0 1 10 10v10a10 10 0 0 0 10 10\"/><path d=\"M40.0 61h20\"/><g>\n",
       "<path d=\"M60.0 61h65.5\"/><path d=\"M179.5 61h65.5\"/><g class=\"non-terminal\">\n",
       "<path d=\"M125.5 61h0.0\"/><path d=\"M179.5 61h0.0\"/><rect height=\"22\" width=\"54.0\" x=\"125.5\" y=\"50\"/><text x=\"152.5\" y=\"65\">item</text></g></g><path d=\"M245.0 61h20\"/></g><path d=\"M 265.0 61 h 20 m -10 -10 v 20 m 10 -20 v 20\"/></g></svg>"
      ],
      "text/plain": [
       "<IPython.core.display.SVG object>"
      ]
     },
     "metadata": {},
     "output_type": "display_data"
    },
    {
     "name": "stdout",
     "output_type": "stream",
     "text": [
      "item\n"
     ]
    },
    {
     "data": {
      "image/svg+xml": [
       "<svg class=\"railroad-diagram\" height=\"62\" viewBox=\"0 0 199.5 62\" width=\"199.5\" xmlns=\"http://www.w3.org/2000/svg\">\n",
       "<g transform=\"translate(.5 .5)\">\n",
       "<style>/* <![CDATA[ */\n",
       "    svg.railroad-diagram {\n",
       "        background-color:hsl(100,100%,100%);\n",
       "    }\n",
       "    svg.railroad-diagram path {\n",
       "        stroke-width:3;\n",
       "        stroke:black;\n",
       "        fill:rgba(0,0,0,0);\n",
       "    }\n",
       "    svg.railroad-diagram text {\n",
       "        font:bold 14px monospace;\n",
       "        text-anchor:middle;\n",
       "    }\n",
       "    svg.railroad-diagram text.label{\n",
       "        text-anchor:start;\n",
       "    }\n",
       "    svg.railroad-diagram text.comment{\n",
       "        font:italic 12px monospace;\n",
       "    }\n",
       "    svg.railroad-diagram rect{\n",
       "        stroke-width:3;\n",
       "        stroke:black;\n",
       "        fill:hsl(0,62%,82%);\n",
       "    }\n",
       "\n",
       "/* ]]> */\n",
       "</style><g>\n",
       "<path d=\"M20 21v20m10 -20v20m-10 -10h20\"/></g><g>\n",
       "<path d=\"M40 31h0.0\"/><path d=\"M159.5 31h0.0\"/><path d=\"M40.0 31h20\"/><g>\n",
       "<path d=\"M60.0 31h0.0\"/><path d=\"M139.5 31h0.0\"/><g class=\"non-terminal\">\n",
       "<path d=\"M60.0 31h0.0\"/><path d=\"M139.5 31h0.0\"/><rect height=\"22\" width=\"79.5\" x=\"60.0\" y=\"20\"/><text x=\"99.75\" y=\"35\">letters</text></g></g><path d=\"M139.5 31h20\"/></g><path d=\"M 159.5 31 h 20 m -10 -10 v 20 m 10 -20 v 20\"/></g></svg>"
      ],
      "text/plain": [
       "<IPython.core.display.SVG object>"
      ]
     },
     "metadata": {},
     "output_type": "display_data"
    },
    {
     "name": "stdout",
     "output_type": "stream",
     "text": [
      "letters\n"
     ]
    },
    {
     "data": {
      "image/svg+xml": [
       "<svg class=\"railroad-diagram\" height=\"92\" viewBox=\"0 0 290.5 92\" width=\"290.5\" xmlns=\"http://www.w3.org/2000/svg\">\n",
       "<g transform=\"translate(.5 .5)\">\n",
       "<style>/* <![CDATA[ */\n",
       "    svg.railroad-diagram {\n",
       "        background-color:hsl(100,100%,100%);\n",
       "    }\n",
       "    svg.railroad-diagram path {\n",
       "        stroke-width:3;\n",
       "        stroke:black;\n",
       "        fill:rgba(0,0,0,0);\n",
       "    }\n",
       "    svg.railroad-diagram text {\n",
       "        font:bold 14px monospace;\n",
       "        text-anchor:middle;\n",
       "    }\n",
       "    svg.railroad-diagram text.label{\n",
       "        text-anchor:start;\n",
       "    }\n",
       "    svg.railroad-diagram text.comment{\n",
       "        font:italic 12px monospace;\n",
       "    }\n",
       "    svg.railroad-diagram rect{\n",
       "        stroke-width:3;\n",
       "        stroke:black;\n",
       "        fill:hsl(0,62%,82%);\n",
       "    }\n",
       "\n",
       "/* ]]> */\n",
       "</style><g>\n",
       "<path d=\"M20 51v20m10 -20v20m-10 -10h20\"/></g><g>\n",
       "<path d=\"M40 61h0.0\"/><path d=\"M250.5 61h0.0\"/><path d=\"M40.0 61a10 10 0 0 0 10 -10v-10a10 10 0 0 1 10 -10\"/><g>\n",
       "<path d=\"M60.0 31h0.0\"/><path d=\"M230.5 31h0.0\"/><g class=\"non-terminal\">\n",
       "<path d=\"M60.0 31h0.0\"/><path d=\"M131.0 31h0.0\"/><rect height=\"22\" width=\"71.0\" x=\"60.0\" y=\"20\"/><text x=\"95.5\" y=\"35\">letter</text></g><path d=\"M131.0 31h10\"/><path d=\"M141.0 31h10\"/><g class=\"non-terminal\">\n",
       "<path d=\"M151.0 31h0.0\"/><path d=\"M230.5 31h0.0\"/><rect height=\"22\" width=\"79.5\" x=\"151.0\" y=\"20\"/><text x=\"190.75\" y=\"35\">letters</text></g></g><path d=\"M230.5 31a10 10 0 0 1 10 10v10a10 10 0 0 0 10 10\"/><path d=\"M40.0 61h20\"/><g>\n",
       "<path d=\"M60.0 61h49.75\"/><path d=\"M180.75 61h49.75\"/><g class=\"non-terminal\">\n",
       "<path d=\"M109.75 61h0.0\"/><path d=\"M180.75 61h0.0\"/><rect height=\"22\" width=\"71.0\" x=\"109.75\" y=\"50\"/><text x=\"145.25\" y=\"65\">letter</text></g></g><path d=\"M230.5 61h20\"/></g><path d=\"M 250.5 61 h 20 m -10 -10 v 20 m 10 -20 v 20\"/></g></svg>"
      ],
      "text/plain": [
       "<IPython.core.display.SVG object>"
      ]
     },
     "metadata": {},
     "output_type": "display_data"
    },
    {
     "name": "stdout",
     "output_type": "stream",
     "text": [
      "letter\n"
     ]
    },
    {
     "data": {
      "image/svg+xml": [
       "<svg class=\"railroad-diagram\" height=\"618\" viewBox=\"0 0 611.0 618\" width=\"611.0\" xmlns=\"http://www.w3.org/2000/svg\">\n",
       "<g transform=\"translate(.5 .5)\">\n",
       "<style>/* <![CDATA[ */\n",
       "    svg.railroad-diagram {\n",
       "        background-color:hsl(100,100%,100%);\n",
       "    }\n",
       "    svg.railroad-diagram path {\n",
       "        stroke-width:3;\n",
       "        stroke:black;\n",
       "        fill:rgba(0,0,0,0);\n",
       "    }\n",
       "    svg.railroad-diagram text {\n",
       "        font:bold 14px monospace;\n",
       "        text-anchor:middle;\n",
       "    }\n",
       "    svg.railroad-diagram text.label{\n",
       "        text-anchor:start;\n",
       "    }\n",
       "    svg.railroad-diagram text.comment{\n",
       "        font:italic 12px monospace;\n",
       "    }\n",
       "    svg.railroad-diagram rect{\n",
       "        stroke-width:3;\n",
       "        stroke:black;\n",
       "        fill:hsl(0,62%,82%);\n",
       "    }\n",
       "\n",
       "/* ]]> */\n",
       "</style><g>\n",
       "<path d=\"M20 299v20m10 -20v20m-10 -10h20\"/></g><g>\n",
       "<path d=\"M40 309h0.0\"/><path d=\"M571.0 309h0.0\"/><path d=\"M40.0 309a10 10 0 0 0 10 -10v-269a10 10 0 0 1 10 -10h412.5\"/><path d=\"M138.5 598h412.5a10 10 0 0 0 10 -10v-269a10 10 0 0 1 10 -10\"/><path d=\"M40.0 309h10\"/><g>\n",
       "<path d=\"M50.0 309h0.0\"/><path d=\"M118.5 309h0.0\"/><path d=\"M50.0 309a10 10 0 0 0 10 -10v-10a10 10 0 0 1 10 -10\"/><g>\n",
       "<path d=\"M70.0 279h0.0\"/><path d=\"M98.5 279h0.0\"/><g class=\"terminal\">\n",
       "<path d=\"M70.0 279h0.0\"/><path d=\"M98.5 279h0.0\"/><rect height=\"22\" rx=\"10\" ry=\"10\" width=\"28.5\" x=\"70.0\" y=\"268\"/><text x=\"84.25\" y=\"283\">i</text></g></g><path d=\"M98.5 279a10 10 0 0 1 10 10v10a10 10 0 0 0 10 10\"/><path d=\"M50.0 309a10 10 0 0 0 10 -10v-40a10 10 0 0 1 10 -10\"/><g>\n",
       "<path d=\"M70.0 249h0.0\"/><path d=\"M98.5 249h0.0\"/><g class=\"terminal\">\n",
       "<path d=\"M70.0 249h0.0\"/><path d=\"M98.5 249h0.0\"/><rect height=\"22\" rx=\"10\" ry=\"10\" width=\"28.5\" x=\"70.0\" y=\"238\"/><text x=\"84.25\" y=\"253\">h</text></g></g><path d=\"M98.5 249a10 10 0 0 1 10 10v40a10 10 0 0 0 10 10\"/><path d=\"M50.0 309a10 10 0 0 0 10 -10v-70a10 10 0 0 1 10 -10\"/><g>\n",
       "<path d=\"M70.0 219h0.0\"/><path d=\"M98.5 219h0.0\"/><g class=\"terminal\">\n",
       "<path d=\"M70.0 219h0.0\"/><path d=\"M98.5 219h0.0\"/><rect height=\"22\" rx=\"10\" ry=\"10\" width=\"28.5\" x=\"70.0\" y=\"208\"/><text x=\"84.25\" y=\"223\">g</text></g></g><path d=\"M98.5 219a10 10 0 0 1 10 10v70a10 10 0 0 0 10 10\"/><path d=\"M50.0 309a10 10 0 0 0 10 -10v-100a10 10 0 0 1 10 -10\"/><g>\n",
       "<path d=\"M70.0 189h0.0\"/><path d=\"M98.5 189h0.0\"/><g class=\"terminal\">\n",
       "<path d=\"M70.0 189h0.0\"/><path d=\"M98.5 189h0.0\"/><rect height=\"22\" rx=\"10\" ry=\"10\" width=\"28.5\" x=\"70.0\" y=\"178\"/><text x=\"84.25\" y=\"193\">f</text></g></g><path d=\"M98.5 189a10 10 0 0 1 10 10v100a10 10 0 0 0 10 10\"/><path d=\"M50.0 309a10 10 0 0 0 10 -10v-130a10 10 0 0 1 10 -10\"/><g>\n",
       "<path d=\"M70.0 159h0.0\"/><path d=\"M98.5 159h0.0\"/><g class=\"terminal\">\n",
       "<path d=\"M70.0 159h0.0\"/><path d=\"M98.5 159h0.0\"/><rect height=\"22\" rx=\"10\" ry=\"10\" width=\"28.5\" x=\"70.0\" y=\"148\"/><text x=\"84.25\" y=\"163\">e</text></g></g><path d=\"M98.5 159a10 10 0 0 1 10 10v130a10 10 0 0 0 10 10\"/><path d=\"M50.0 309a10 10 0 0 0 10 -10v-160a10 10 0 0 1 10 -10\"/><g>\n",
       "<path d=\"M70.0 129h0.0\"/><path d=\"M98.5 129h0.0\"/><g class=\"terminal\">\n",
       "<path d=\"M70.0 129h0.0\"/><path d=\"M98.5 129h0.0\"/><rect height=\"22\" rx=\"10\" ry=\"10\" width=\"28.5\" x=\"70.0\" y=\"118\"/><text x=\"84.25\" y=\"133\">d</text></g></g><path d=\"M98.5 129a10 10 0 0 1 10 10v160a10 10 0 0 0 10 10\"/><path d=\"M50.0 309a10 10 0 0 0 10 -10v-190a10 10 0 0 1 10 -10\"/><g>\n",
       "<path d=\"M70.0 99h0.0\"/><path d=\"M98.5 99h0.0\"/><g class=\"terminal\">\n",
       "<path d=\"M70.0 99h0.0\"/><path d=\"M98.5 99h0.0\"/><rect height=\"22\" rx=\"10\" ry=\"10\" width=\"28.5\" x=\"70.0\" y=\"88\"/><text x=\"84.25\" y=\"103\">c</text></g></g><path d=\"M98.5 99a10 10 0 0 1 10 10v190a10 10 0 0 0 10 10\"/><path d=\"M50.0 309a10 10 0 0 0 10 -10v-220a10 10 0 0 1 10 -10\"/><g>\n",
       "<path d=\"M70.0 69h0.0\"/><path d=\"M98.5 69h0.0\"/><g class=\"terminal\">\n",
       "<path d=\"M70.0 69h0.0\"/><path d=\"M98.5 69h0.0\"/><rect height=\"22\" rx=\"10\" ry=\"10\" width=\"28.5\" x=\"70.0\" y=\"58\"/><text x=\"84.25\" y=\"73\">b</text></g></g><path d=\"M98.5 69a10 10 0 0 1 10 10v220a10 10 0 0 0 10 10\"/><path d=\"M50.0 309a10 10 0 0 0 10 -10v-250a10 10 0 0 1 10 -10\"/><g>\n",
       "<path d=\"M70.0 39h0.0\"/><path d=\"M98.5 39h0.0\"/><g class=\"terminal\">\n",
       "<path d=\"M70.0 39h0.0\"/><path d=\"M98.5 39h0.0\"/><rect height=\"22\" rx=\"10\" ry=\"10\" width=\"28.5\" x=\"70.0\" y=\"28\"/><text x=\"84.25\" y=\"43\">a</text></g></g><path d=\"M98.5 39a10 10 0 0 1 10 10v250a10 10 0 0 0 10 10\"/><path d=\"M50.0 309h20\"/><g>\n",
       "<path d=\"M70.0 309h0.0\"/><path d=\"M98.5 309h0.0\"/><g class=\"terminal\">\n",
       "<path d=\"M70.0 309h0.0\"/><path d=\"M98.5 309h0.0\"/><rect height=\"22\" rx=\"10\" ry=\"10\" width=\"28.5\" x=\"70.0\" y=\"298\"/><text x=\"84.25\" y=\"313\">j</text></g></g><path d=\"M98.5 309h20\"/><path d=\"M50.0 309a10 10 0 0 1 10 10v10a10 10 0 0 0 10 10\"/><g>\n",
       "<path d=\"M70.0 339h0.0\"/><path d=\"M98.5 339h0.0\"/><g class=\"terminal\">\n",
       "<path d=\"M70.0 339h0.0\"/><path d=\"M98.5 339h0.0\"/><rect height=\"22\" rx=\"10\" ry=\"10\" width=\"28.5\" x=\"70.0\" y=\"328\"/><text x=\"84.25\" y=\"343\">k</text></g></g><path d=\"M98.5 339a10 10 0 0 0 10 -10v-10a10 10 0 0 1 10 -10\"/><path d=\"M50.0 309a10 10 0 0 1 10 10v40a10 10 0 0 0 10 10\"/><g>\n",
       "<path d=\"M70.0 369h0.0\"/><path d=\"M98.5 369h0.0\"/><g class=\"terminal\">\n",
       "<path d=\"M70.0 369h0.0\"/><path d=\"M98.5 369h0.0\"/><rect height=\"22\" rx=\"10\" ry=\"10\" width=\"28.5\" x=\"70.0\" y=\"358\"/><text x=\"84.25\" y=\"373\">l</text></g></g><path d=\"M98.5 369a10 10 0 0 0 10 -10v-40a10 10 0 0 1 10 -10\"/><path d=\"M50.0 309a10 10 0 0 1 10 10v70a10 10 0 0 0 10 10\"/><g>\n",
       "<path d=\"M70.0 399h0.0\"/><path d=\"M98.5 399h0.0\"/><g class=\"terminal\">\n",
       "<path d=\"M70.0 399h0.0\"/><path d=\"M98.5 399h0.0\"/><rect height=\"22\" rx=\"10\" ry=\"10\" width=\"28.5\" x=\"70.0\" y=\"388\"/><text x=\"84.25\" y=\"403\">m</text></g></g><path d=\"M98.5 399a10 10 0 0 0 10 -10v-70a10 10 0 0 1 10 -10\"/><path d=\"M50.0 309a10 10 0 0 1 10 10v100a10 10 0 0 0 10 10\"/><g>\n",
       "<path d=\"M70.0 429h0.0\"/><path d=\"M98.5 429h0.0\"/><g class=\"terminal\">\n",
       "<path d=\"M70.0 429h0.0\"/><path d=\"M98.5 429h0.0\"/><rect height=\"22\" rx=\"10\" ry=\"10\" width=\"28.5\" x=\"70.0\" y=\"418\"/><text x=\"84.25\" y=\"433\">n</text></g></g><path d=\"M98.5 429a10 10 0 0 0 10 -10v-100a10 10 0 0 1 10 -10\"/><path d=\"M50.0 309a10 10 0 0 1 10 10v130a10 10 0 0 0 10 10\"/><g>\n",
       "<path d=\"M70.0 459h0.0\"/><path d=\"M98.5 459h0.0\"/><g class=\"terminal\">\n",
       "<path d=\"M70.0 459h0.0\"/><path d=\"M98.5 459h0.0\"/><rect height=\"22\" rx=\"10\" ry=\"10\" width=\"28.5\" x=\"70.0\" y=\"448\"/><text x=\"84.25\" y=\"463\">o</text></g></g><path d=\"M98.5 459a10 10 0 0 0 10 -10v-130a10 10 0 0 1 10 -10\"/><path d=\"M50.0 309a10 10 0 0 1 10 10v160a10 10 0 0 0 10 10\"/><g>\n",
       "<path d=\"M70.0 489h0.0\"/><path d=\"M98.5 489h0.0\"/><g class=\"terminal\">\n",
       "<path d=\"M70.0 489h0.0\"/><path d=\"M98.5 489h0.0\"/><rect height=\"22\" rx=\"10\" ry=\"10\" width=\"28.5\" x=\"70.0\" y=\"478\"/><text x=\"84.25\" y=\"493\">p</text></g></g><path d=\"M98.5 489a10 10 0 0 0 10 -10v-160a10 10 0 0 1 10 -10\"/><path d=\"M50.0 309a10 10 0 0 1 10 10v190a10 10 0 0 0 10 10\"/><g>\n",
       "<path d=\"M70.0 519h0.0\"/><path d=\"M98.5 519h0.0\"/><g class=\"terminal\">\n",
       "<path d=\"M70.0 519h0.0\"/><path d=\"M98.5 519h0.0\"/><rect height=\"22\" rx=\"10\" ry=\"10\" width=\"28.5\" x=\"70.0\" y=\"508\"/><text x=\"84.25\" y=\"523\">q</text></g></g><path d=\"M98.5 519a10 10 0 0 0 10 -10v-190a10 10 0 0 1 10 -10\"/><path d=\"M50.0 309a10 10 0 0 1 10 10v220a10 10 0 0 0 10 10\"/><g>\n",
       "<path d=\"M70.0 549h0.0\"/><path d=\"M98.5 549h0.0\"/><g class=\"terminal\">\n",
       "<path d=\"M70.0 549h0.0\"/><path d=\"M98.5 549h0.0\"/><rect height=\"22\" rx=\"10\" ry=\"10\" width=\"28.5\" x=\"70.0\" y=\"538\"/><text x=\"84.25\" y=\"553\">r</text></g></g><path d=\"M98.5 549a10 10 0 0 0 10 -10v-220a10 10 0 0 1 10 -10\"/><path d=\"M50.0 309a10 10 0 0 1 10 10v250a10 10 0 0 0 10 10\"/><g>\n",
       "<path d=\"M70.0 579h0.0\"/><path d=\"M98.5 579h0.0\"/><g class=\"terminal\">\n",
       "<path d=\"M70.0 579h0.0\"/><path d=\"M98.5 579h0.0\"/><rect height=\"22\" rx=\"10\" ry=\"10\" width=\"28.5\" x=\"70.0\" y=\"568\"/><text x=\"84.25\" y=\"583\">s</text></g></g><path d=\"M98.5 579a10 10 0 0 0 10 -10v-250a10 10 0 0 1 10 -10\"/></g><path d=\"M118.5 309a10 10 0 0 1 10 10v269a10 10 0 0 0 10 10\"/><path d=\"M118.5 20a10 10 0 0 1 10 10v269a10 10 0 0 0 10 10\"/><g>\n",
       "<path d=\"M138.5 309h0.0\"/><path d=\"M207.0 309h0.0\"/><path d=\"M138.5 309a10 10 0 0 0 10 -10v-10a10 10 0 0 1 10 -10\"/><g>\n",
       "<path d=\"M158.5 279h0.0\"/><path d=\"M187.0 279h0.0\"/><g class=\"terminal\">\n",
       "<path d=\"M158.5 279h0.0\"/><path d=\"M187.0 279h0.0\"/><rect height=\"22\" rx=\"10\" ry=\"10\" width=\"28.5\" x=\"158.5\" y=\"268\"/><text x=\"172.75\" y=\"283\">B</text></g></g><path d=\"M187.0 279a10 10 0 0 1 10 10v10a10 10 0 0 0 10 10\"/><path d=\"M138.5 309a10 10 0 0 0 10 -10v-40a10 10 0 0 1 10 -10\"/><g>\n",
       "<path d=\"M158.5 249h0.0\"/><path d=\"M187.0 249h0.0\"/><g class=\"terminal\">\n",
       "<path d=\"M158.5 249h0.0\"/><path d=\"M187.0 249h0.0\"/><rect height=\"22\" rx=\"10\" ry=\"10\" width=\"28.5\" x=\"158.5\" y=\"238\"/><text x=\"172.75\" y=\"253\">A</text></g></g><path d=\"M187.0 249a10 10 0 0 1 10 10v40a10 10 0 0 0 10 10\"/><path d=\"M138.5 309a10 10 0 0 0 10 -10v-70a10 10 0 0 1 10 -10\"/><g>\n",
       "<path d=\"M158.5 219h0.0\"/><path d=\"M187.0 219h0.0\"/><g class=\"terminal\">\n",
       "<path d=\"M158.5 219h0.0\"/><path d=\"M187.0 219h0.0\"/><rect height=\"22\" rx=\"10\" ry=\"10\" width=\"28.5\" x=\"158.5\" y=\"208\"/><text x=\"172.75\" y=\"223\">z</text></g></g><path d=\"M187.0 219a10 10 0 0 1 10 10v70a10 10 0 0 0 10 10\"/><path d=\"M138.5 309a10 10 0 0 0 10 -10v-100a10 10 0 0 1 10 -10\"/><g>\n",
       "<path d=\"M158.5 189h0.0\"/><path d=\"M187.0 189h0.0\"/><g class=\"terminal\">\n",
       "<path d=\"M158.5 189h0.0\"/><path d=\"M187.0 189h0.0\"/><rect height=\"22\" rx=\"10\" ry=\"10\" width=\"28.5\" x=\"158.5\" y=\"178\"/><text x=\"172.75\" y=\"193\">y</text></g></g><path d=\"M187.0 189a10 10 0 0 1 10 10v100a10 10 0 0 0 10 10\"/><path d=\"M138.5 309a10 10 0 0 0 10 -10v-130a10 10 0 0 1 10 -10\"/><g>\n",
       "<path d=\"M158.5 159h0.0\"/><path d=\"M187.0 159h0.0\"/><g class=\"terminal\">\n",
       "<path d=\"M158.5 159h0.0\"/><path d=\"M187.0 159h0.0\"/><rect height=\"22\" rx=\"10\" ry=\"10\" width=\"28.5\" x=\"158.5\" y=\"148\"/><text x=\"172.75\" y=\"163\">x</text></g></g><path d=\"M187.0 159a10 10 0 0 1 10 10v130a10 10 0 0 0 10 10\"/><path d=\"M138.5 309a10 10 0 0 0 10 -10v-160a10 10 0 0 1 10 -10\"/><g>\n",
       "<path d=\"M158.5 129h0.0\"/><path d=\"M187.0 129h0.0\"/><g class=\"terminal\">\n",
       "<path d=\"M158.5 129h0.0\"/><path d=\"M187.0 129h0.0\"/><rect height=\"22\" rx=\"10\" ry=\"10\" width=\"28.5\" x=\"158.5\" y=\"118\"/><text x=\"172.75\" y=\"133\">w</text></g></g><path d=\"M187.0 129a10 10 0 0 1 10 10v160a10 10 0 0 0 10 10\"/><path d=\"M138.5 309a10 10 0 0 0 10 -10v-190a10 10 0 0 1 10 -10\"/><g>\n",
       "<path d=\"M158.5 99h0.0\"/><path d=\"M187.0 99h0.0\"/><g class=\"terminal\">\n",
       "<path d=\"M158.5 99h0.0\"/><path d=\"M187.0 99h0.0\"/><rect height=\"22\" rx=\"10\" ry=\"10\" width=\"28.5\" x=\"158.5\" y=\"88\"/><text x=\"172.75\" y=\"103\">v</text></g></g><path d=\"M187.0 99a10 10 0 0 1 10 10v190a10 10 0 0 0 10 10\"/><path d=\"M138.5 309a10 10 0 0 0 10 -10v-220a10 10 0 0 1 10 -10\"/><g>\n",
       "<path d=\"M158.5 69h0.0\"/><path d=\"M187.0 69h0.0\"/><g class=\"terminal\">\n",
       "<path d=\"M158.5 69h0.0\"/><path d=\"M187.0 69h0.0\"/><rect height=\"22\" rx=\"10\" ry=\"10\" width=\"28.5\" x=\"158.5\" y=\"58\"/><text x=\"172.75\" y=\"73\">u</text></g></g><path d=\"M187.0 69a10 10 0 0 1 10 10v220a10 10 0 0 0 10 10\"/><path d=\"M138.5 309a10 10 0 0 0 10 -10v-250a10 10 0 0 1 10 -10\"/><g>\n",
       "<path d=\"M158.5 39h0.0\"/><path d=\"M187.0 39h0.0\"/><g class=\"terminal\">\n",
       "<path d=\"M158.5 39h0.0\"/><path d=\"M187.0 39h0.0\"/><rect height=\"22\" rx=\"10\" ry=\"10\" width=\"28.5\" x=\"158.5\" y=\"28\"/><text x=\"172.75\" y=\"43\">t</text></g></g><path d=\"M187.0 39a10 10 0 0 1 10 10v250a10 10 0 0 0 10 10\"/><path d=\"M138.5 309h20\"/><g>\n",
       "<path d=\"M158.5 309h0.0\"/><path d=\"M187.0 309h0.0\"/><g class=\"terminal\">\n",
       "<path d=\"M158.5 309h0.0\"/><path d=\"M187.0 309h0.0\"/><rect height=\"22\" rx=\"10\" ry=\"10\" width=\"28.5\" x=\"158.5\" y=\"298\"/><text x=\"172.75\" y=\"313\">C</text></g></g><path d=\"M187.0 309h20\"/><path d=\"M138.5 309a10 10 0 0 1 10 10v10a10 10 0 0 0 10 10\"/><g>\n",
       "<path d=\"M158.5 339h0.0\"/><path d=\"M187.0 339h0.0\"/><g class=\"terminal\">\n",
       "<path d=\"M158.5 339h0.0\"/><path d=\"M187.0 339h0.0\"/><rect height=\"22\" rx=\"10\" ry=\"10\" width=\"28.5\" x=\"158.5\" y=\"328\"/><text x=\"172.75\" y=\"343\">D</text></g></g><path d=\"M187.0 339a10 10 0 0 0 10 -10v-10a10 10 0 0 1 10 -10\"/><path d=\"M138.5 309a10 10 0 0 1 10 10v40a10 10 0 0 0 10 10\"/><g>\n",
       "<path d=\"M158.5 369h0.0\"/><path d=\"M187.0 369h0.0\"/><g class=\"terminal\">\n",
       "<path d=\"M158.5 369h0.0\"/><path d=\"M187.0 369h0.0\"/><rect height=\"22\" rx=\"10\" ry=\"10\" width=\"28.5\" x=\"158.5\" y=\"358\"/><text x=\"172.75\" y=\"373\">E</text></g></g><path d=\"M187.0 369a10 10 0 0 0 10 -10v-40a10 10 0 0 1 10 -10\"/><path d=\"M138.5 309a10 10 0 0 1 10 10v70a10 10 0 0 0 10 10\"/><g>\n",
       "<path d=\"M158.5 399h0.0\"/><path d=\"M187.0 399h0.0\"/><g class=\"terminal\">\n",
       "<path d=\"M158.5 399h0.0\"/><path d=\"M187.0 399h0.0\"/><rect height=\"22\" rx=\"10\" ry=\"10\" width=\"28.5\" x=\"158.5\" y=\"388\"/><text x=\"172.75\" y=\"403\">F</text></g></g><path d=\"M187.0 399a10 10 0 0 0 10 -10v-70a10 10 0 0 1 10 -10\"/><path d=\"M138.5 309a10 10 0 0 1 10 10v100a10 10 0 0 0 10 10\"/><g>\n",
       "<path d=\"M158.5 429h0.0\"/><path d=\"M187.0 429h0.0\"/><g class=\"terminal\">\n",
       "<path d=\"M158.5 429h0.0\"/><path d=\"M187.0 429h0.0\"/><rect height=\"22\" rx=\"10\" ry=\"10\" width=\"28.5\" x=\"158.5\" y=\"418\"/><text x=\"172.75\" y=\"433\">G</text></g></g><path d=\"M187.0 429a10 10 0 0 0 10 -10v-100a10 10 0 0 1 10 -10\"/><path d=\"M138.5 309a10 10 0 0 1 10 10v130a10 10 0 0 0 10 10\"/><g>\n",
       "<path d=\"M158.5 459h0.0\"/><path d=\"M187.0 459h0.0\"/><g class=\"terminal\">\n",
       "<path d=\"M158.5 459h0.0\"/><path d=\"M187.0 459h0.0\"/><rect height=\"22\" rx=\"10\" ry=\"10\" width=\"28.5\" x=\"158.5\" y=\"448\"/><text x=\"172.75\" y=\"463\">H</text></g></g><path d=\"M187.0 459a10 10 0 0 0 10 -10v-130a10 10 0 0 1 10 -10\"/><path d=\"M138.5 309a10 10 0 0 1 10 10v160a10 10 0 0 0 10 10\"/><g>\n",
       "<path d=\"M158.5 489h0.0\"/><path d=\"M187.0 489h0.0\"/><g class=\"terminal\">\n",
       "<path d=\"M158.5 489h0.0\"/><path d=\"M187.0 489h0.0\"/><rect height=\"22\" rx=\"10\" ry=\"10\" width=\"28.5\" x=\"158.5\" y=\"478\"/><text x=\"172.75\" y=\"493\">I</text></g></g><path d=\"M187.0 489a10 10 0 0 0 10 -10v-160a10 10 0 0 1 10 -10\"/><path d=\"M138.5 309a10 10 0 0 1 10 10v190a10 10 0 0 0 10 10\"/><g>\n",
       "<path d=\"M158.5 519h0.0\"/><path d=\"M187.0 519h0.0\"/><g class=\"terminal\">\n",
       "<path d=\"M158.5 519h0.0\"/><path d=\"M187.0 519h0.0\"/><rect height=\"22\" rx=\"10\" ry=\"10\" width=\"28.5\" x=\"158.5\" y=\"508\"/><text x=\"172.75\" y=\"523\">J</text></g></g><path d=\"M187.0 519a10 10 0 0 0 10 -10v-190a10 10 0 0 1 10 -10\"/><path d=\"M138.5 309a10 10 0 0 1 10 10v220a10 10 0 0 0 10 10\"/><g>\n",
       "<path d=\"M158.5 549h0.0\"/><path d=\"M187.0 549h0.0\"/><g class=\"terminal\">\n",
       "<path d=\"M158.5 549h0.0\"/><path d=\"M187.0 549h0.0\"/><rect height=\"22\" rx=\"10\" ry=\"10\" width=\"28.5\" x=\"158.5\" y=\"538\"/><text x=\"172.75\" y=\"553\">K</text></g></g><path d=\"M187.0 549a10 10 0 0 0 10 -10v-220a10 10 0 0 1 10 -10\"/><path d=\"M138.5 309a10 10 0 0 1 10 10v250a10 10 0 0 0 10 10\"/><g>\n",
       "<path d=\"M158.5 579h0.0\"/><path d=\"M187.0 579h0.0\"/><g class=\"terminal\">\n",
       "<path d=\"M158.5 579h0.0\"/><path d=\"M187.0 579h0.0\"/><rect height=\"22\" rx=\"10\" ry=\"10\" width=\"28.5\" x=\"158.5\" y=\"568\"/><text x=\"172.75\" y=\"583\">L</text></g></g><path d=\"M187.0 579a10 10 0 0 0 10 -10v-250a10 10 0 0 1 10 -10\"/></g><path d=\"M207.0 309a10 10 0 0 1 10 10v269a10 10 0 0 0 10 10\"/><path d=\"M207.0 20a10 10 0 0 1 10 10v269a10 10 0 0 0 10 10\"/><g>\n",
       "<path d=\"M227.0 309h0.0\"/><path d=\"M295.5 309h0.0\"/><path d=\"M227.0 309a10 10 0 0 0 10 -10v-10a10 10 0 0 1 10 -10\"/><g>\n",
       "<path d=\"M247.0 279h0.0\"/><path d=\"M275.5 279h0.0\"/><g class=\"terminal\">\n",
       "<path d=\"M247.0 279h0.0\"/><path d=\"M275.5 279h0.0\"/><rect height=\"22\" rx=\"10\" ry=\"10\" width=\"28.5\" x=\"247.0\" y=\"268\"/><text x=\"261.25\" y=\"283\">U</text></g></g><path d=\"M275.5 279a10 10 0 0 1 10 10v10a10 10 0 0 0 10 10\"/><path d=\"M227.0 309a10 10 0 0 0 10 -10v-40a10 10 0 0 1 10 -10\"/><g>\n",
       "<path d=\"M247.0 249h0.0\"/><path d=\"M275.5 249h0.0\"/><g class=\"terminal\">\n",
       "<path d=\"M247.0 249h0.0\"/><path d=\"M275.5 249h0.0\"/><rect height=\"22\" rx=\"10\" ry=\"10\" width=\"28.5\" x=\"247.0\" y=\"238\"/><text x=\"261.25\" y=\"253\">T</text></g></g><path d=\"M275.5 249a10 10 0 0 1 10 10v40a10 10 0 0 0 10 10\"/><path d=\"M227.0 309a10 10 0 0 0 10 -10v-70a10 10 0 0 1 10 -10\"/><g>\n",
       "<path d=\"M247.0 219h0.0\"/><path d=\"M275.5 219h0.0\"/><g class=\"terminal\">\n",
       "<path d=\"M247.0 219h0.0\"/><path d=\"M275.5 219h0.0\"/><rect height=\"22\" rx=\"10\" ry=\"10\" width=\"28.5\" x=\"247.0\" y=\"208\"/><text x=\"261.25\" y=\"223\">S</text></g></g><path d=\"M275.5 219a10 10 0 0 1 10 10v70a10 10 0 0 0 10 10\"/><path d=\"M227.0 309a10 10 0 0 0 10 -10v-100a10 10 0 0 1 10 -10\"/><g>\n",
       "<path d=\"M247.0 189h0.0\"/><path d=\"M275.5 189h0.0\"/><g class=\"terminal\">\n",
       "<path d=\"M247.0 189h0.0\"/><path d=\"M275.5 189h0.0\"/><rect height=\"22\" rx=\"10\" ry=\"10\" width=\"28.5\" x=\"247.0\" y=\"178\"/><text x=\"261.25\" y=\"193\">R</text></g></g><path d=\"M275.5 189a10 10 0 0 1 10 10v100a10 10 0 0 0 10 10\"/><path d=\"M227.0 309a10 10 0 0 0 10 -10v-130a10 10 0 0 1 10 -10\"/><g>\n",
       "<path d=\"M247.0 159h0.0\"/><path d=\"M275.5 159h0.0\"/><g class=\"terminal\">\n",
       "<path d=\"M247.0 159h0.0\"/><path d=\"M275.5 159h0.0\"/><rect height=\"22\" rx=\"10\" ry=\"10\" width=\"28.5\" x=\"247.0\" y=\"148\"/><text x=\"261.25\" y=\"163\">Q</text></g></g><path d=\"M275.5 159a10 10 0 0 1 10 10v130a10 10 0 0 0 10 10\"/><path d=\"M227.0 309a10 10 0 0 0 10 -10v-160a10 10 0 0 1 10 -10\"/><g>\n",
       "<path d=\"M247.0 129h0.0\"/><path d=\"M275.5 129h0.0\"/><g class=\"terminal\">\n",
       "<path d=\"M247.0 129h0.0\"/><path d=\"M275.5 129h0.0\"/><rect height=\"22\" rx=\"10\" ry=\"10\" width=\"28.5\" x=\"247.0\" y=\"118\"/><text x=\"261.25\" y=\"133\">P</text></g></g><path d=\"M275.5 129a10 10 0 0 1 10 10v160a10 10 0 0 0 10 10\"/><path d=\"M227.0 309a10 10 0 0 0 10 -10v-190a10 10 0 0 1 10 -10\"/><g>\n",
       "<path d=\"M247.0 99h0.0\"/><path d=\"M275.5 99h0.0\"/><g class=\"terminal\">\n",
       "<path d=\"M247.0 99h0.0\"/><path d=\"M275.5 99h0.0\"/><rect height=\"22\" rx=\"10\" ry=\"10\" width=\"28.5\" x=\"247.0\" y=\"88\"/><text x=\"261.25\" y=\"103\">O</text></g></g><path d=\"M275.5 99a10 10 0 0 1 10 10v190a10 10 0 0 0 10 10\"/><path d=\"M227.0 309a10 10 0 0 0 10 -10v-220a10 10 0 0 1 10 -10\"/><g>\n",
       "<path d=\"M247.0 69h0.0\"/><path d=\"M275.5 69h0.0\"/><g class=\"terminal\">\n",
       "<path d=\"M247.0 69h0.0\"/><path d=\"M275.5 69h0.0\"/><rect height=\"22\" rx=\"10\" ry=\"10\" width=\"28.5\" x=\"247.0\" y=\"58\"/><text x=\"261.25\" y=\"73\">N</text></g></g><path d=\"M275.5 69a10 10 0 0 1 10 10v220a10 10 0 0 0 10 10\"/><path d=\"M227.0 309a10 10 0 0 0 10 -10v-250a10 10 0 0 1 10 -10\"/><g>\n",
       "<path d=\"M247.0 39h0.0\"/><path d=\"M275.5 39h0.0\"/><g class=\"terminal\">\n",
       "<path d=\"M247.0 39h0.0\"/><path d=\"M275.5 39h0.0\"/><rect height=\"22\" rx=\"10\" ry=\"10\" width=\"28.5\" x=\"247.0\" y=\"28\"/><text x=\"261.25\" y=\"43\">M</text></g></g><path d=\"M275.5 39a10 10 0 0 1 10 10v250a10 10 0 0 0 10 10\"/><path d=\"M227.0 309h20\"/><g>\n",
       "<path d=\"M247.0 309h0.0\"/><path d=\"M275.5 309h0.0\"/><g class=\"terminal\">\n",
       "<path d=\"M247.0 309h0.0\"/><path d=\"M275.5 309h0.0\"/><rect height=\"22\" rx=\"10\" ry=\"10\" width=\"28.5\" x=\"247.0\" y=\"298\"/><text x=\"261.25\" y=\"313\">V</text></g></g><path d=\"M275.5 309h20\"/><path d=\"M227.0 309a10 10 0 0 1 10 10v10a10 10 0 0 0 10 10\"/><g>\n",
       "<path d=\"M247.0 339h0.0\"/><path d=\"M275.5 339h0.0\"/><g class=\"terminal\">\n",
       "<path d=\"M247.0 339h0.0\"/><path d=\"M275.5 339h0.0\"/><rect height=\"22\" rx=\"10\" ry=\"10\" width=\"28.5\" x=\"247.0\" y=\"328\"/><text x=\"261.25\" y=\"343\">W</text></g></g><path d=\"M275.5 339a10 10 0 0 0 10 -10v-10a10 10 0 0 1 10 -10\"/><path d=\"M227.0 309a10 10 0 0 1 10 10v40a10 10 0 0 0 10 10\"/><g>\n",
       "<path d=\"M247.0 369h0.0\"/><path d=\"M275.5 369h0.0\"/><g class=\"terminal\">\n",
       "<path d=\"M247.0 369h0.0\"/><path d=\"M275.5 369h0.0\"/><rect height=\"22\" rx=\"10\" ry=\"10\" width=\"28.5\" x=\"247.0\" y=\"358\"/><text x=\"261.25\" y=\"373\">X</text></g></g><path d=\"M275.5 369a10 10 0 0 0 10 -10v-40a10 10 0 0 1 10 -10\"/><path d=\"M227.0 309a10 10 0 0 1 10 10v70a10 10 0 0 0 10 10\"/><g>\n",
       "<path d=\"M247.0 399h0.0\"/><path d=\"M275.5 399h0.0\"/><g class=\"terminal\">\n",
       "<path d=\"M247.0 399h0.0\"/><path d=\"M275.5 399h0.0\"/><rect height=\"22\" rx=\"10\" ry=\"10\" width=\"28.5\" x=\"247.0\" y=\"388\"/><text x=\"261.25\" y=\"403\">Y</text></g></g><path d=\"M275.5 399a10 10 0 0 0 10 -10v-70a10 10 0 0 1 10 -10\"/><path d=\"M227.0 309a10 10 0 0 1 10 10v100a10 10 0 0 0 10 10\"/><g>\n",
       "<path d=\"M247.0 429h0.0\"/><path d=\"M275.5 429h0.0\"/><g class=\"terminal\">\n",
       "<path d=\"M247.0 429h0.0\"/><path d=\"M275.5 429h0.0\"/><rect height=\"22\" rx=\"10\" ry=\"10\" width=\"28.5\" x=\"247.0\" y=\"418\"/><text x=\"261.25\" y=\"433\">Z</text></g></g><path d=\"M275.5 429a10 10 0 0 0 10 -10v-100a10 10 0 0 1 10 -10\"/><path d=\"M227.0 309a10 10 0 0 1 10 10v130a10 10 0 0 0 10 10\"/><g>\n",
       "<path d=\"M247.0 459h0.0\"/><path d=\"M275.5 459h0.0\"/><g class=\"terminal\">\n",
       "<path d=\"M247.0 459h0.0\"/><path d=\"M275.5 459h0.0\"/><rect height=\"22\" rx=\"10\" ry=\"10\" width=\"28.5\" x=\"247.0\" y=\"448\"/><text x=\"261.25\" y=\"463\">0</text></g></g><path d=\"M275.5 459a10 10 0 0 0 10 -10v-130a10 10 0 0 1 10 -10\"/><path d=\"M227.0 309a10 10 0 0 1 10 10v160a10 10 0 0 0 10 10\"/><g>\n",
       "<path d=\"M247.0 489h0.0\"/><path d=\"M275.5 489h0.0\"/><g class=\"terminal\">\n",
       "<path d=\"M247.0 489h0.0\"/><path d=\"M275.5 489h0.0\"/><rect height=\"22\" rx=\"10\" ry=\"10\" width=\"28.5\" x=\"247.0\" y=\"478\"/><text x=\"261.25\" y=\"493\">1</text></g></g><path d=\"M275.5 489a10 10 0 0 0 10 -10v-160a10 10 0 0 1 10 -10\"/><path d=\"M227.0 309a10 10 0 0 1 10 10v190a10 10 0 0 0 10 10\"/><g>\n",
       "<path d=\"M247.0 519h0.0\"/><path d=\"M275.5 519h0.0\"/><g class=\"terminal\">\n",
       "<path d=\"M247.0 519h0.0\"/><path d=\"M275.5 519h0.0\"/><rect height=\"22\" rx=\"10\" ry=\"10\" width=\"28.5\" x=\"247.0\" y=\"508\"/><text x=\"261.25\" y=\"523\">2</text></g></g><path d=\"M275.5 519a10 10 0 0 0 10 -10v-190a10 10 0 0 1 10 -10\"/><path d=\"M227.0 309a10 10 0 0 1 10 10v220a10 10 0 0 0 10 10\"/><g>\n",
       "<path d=\"M247.0 549h0.0\"/><path d=\"M275.5 549h0.0\"/><g class=\"terminal\">\n",
       "<path d=\"M247.0 549h0.0\"/><path d=\"M275.5 549h0.0\"/><rect height=\"22\" rx=\"10\" ry=\"10\" width=\"28.5\" x=\"247.0\" y=\"538\"/><text x=\"261.25\" y=\"553\">3</text></g></g><path d=\"M275.5 549a10 10 0 0 0 10 -10v-220a10 10 0 0 1 10 -10\"/><path d=\"M227.0 309a10 10 0 0 1 10 10v250a10 10 0 0 0 10 10\"/><g>\n",
       "<path d=\"M247.0 579h0.0\"/><path d=\"M275.5 579h0.0\"/><g class=\"terminal\">\n",
       "<path d=\"M247.0 579h0.0\"/><path d=\"M275.5 579h0.0\"/><rect height=\"22\" rx=\"10\" ry=\"10\" width=\"28.5\" x=\"247.0\" y=\"568\"/><text x=\"261.25\" y=\"583\">4</text></g></g><path d=\"M275.5 579a10 10 0 0 0 10 -10v-250a10 10 0 0 1 10 -10\"/></g><path d=\"M295.5 309a10 10 0 0 1 10 10v269a10 10 0 0 0 10 10\"/><path d=\"M295.5 20a10 10 0 0 1 10 10v269a10 10 0 0 0 10 10\"/><g>\n",
       "<path d=\"M315.5 309h0.0\"/><path d=\"M384.0 309h0.0\"/><path d=\"M315.5 309a10 10 0 0 0 10 -10v-10a10 10 0 0 1 10 -10\"/><g>\n",
       "<path d=\"M335.5 279h0.0\"/><path d=\"M364.0 279h0.0\"/><g class=\"terminal\">\n",
       "<path d=\"M335.5 279h0.0\"/><path d=\"M364.0 279h0.0\"/><rect height=\"22\" rx=\"10\" ry=\"10\" width=\"28.5\" x=\"335.5\" y=\"268\"/><text x=\"349.75\" y=\"283\">$</text></g></g><path d=\"M364.0 279a10 10 0 0 1 10 10v10a10 10 0 0 0 10 10\"/><path d=\"M315.5 309a10 10 0 0 0 10 -10v-40a10 10 0 0 1 10 -10\"/><g>\n",
       "<path d=\"M335.5 249h0.0\"/><path d=\"M364.0 249h0.0\"/><g class=\"terminal\">\n",
       "<path d=\"M335.5 249h0.0\"/><path d=\"M364.0 249h0.0\"/><rect height=\"22\" rx=\"10\" ry=\"10\" width=\"28.5\" x=\"335.5\" y=\"238\"/><text x=\"349.75\" y=\"253\">#</text></g></g><path d=\"M364.0 249a10 10 0 0 1 10 10v40a10 10 0 0 0 10 10\"/><path d=\"M315.5 309a10 10 0 0 0 10 -10v-70a10 10 0 0 1 10 -10\"/><g>\n",
       "<path d=\"M335.5 219h0.0\"/><path d=\"M364.0 219h0.0\"/><g class=\"terminal\">\n",
       "<path d=\"M335.5 219h0.0\"/><path d=\"M364.0 219h0.0\"/><rect height=\"22\" rx=\"10\" ry=\"10\" width=\"28.5\" x=\"335.5\" y=\"208\"/><text x=\"349.75\" y=\"223\">&quot;</text></g></g><path d=\"M364.0 219a10 10 0 0 1 10 10v70a10 10 0 0 0 10 10\"/><path d=\"M315.5 309a10 10 0 0 0 10 -10v-100a10 10 0 0 1 10 -10\"/><g>\n",
       "<path d=\"M335.5 189h0.0\"/><path d=\"M364.0 189h0.0\"/><g class=\"terminal\">\n",
       "<path d=\"M335.5 189h0.0\"/><path d=\"M364.0 189h0.0\"/><rect height=\"22\" rx=\"10\" ry=\"10\" width=\"28.5\" x=\"335.5\" y=\"178\"/><text x=\"349.75\" y=\"193\">!</text></g></g><path d=\"M364.0 189a10 10 0 0 1 10 10v100a10 10 0 0 0 10 10\"/><path d=\"M315.5 309a10 10 0 0 0 10 -10v-130a10 10 0 0 1 10 -10\"/><g>\n",
       "<path d=\"M335.5 159h0.0\"/><path d=\"M364.0 159h0.0\"/><g class=\"terminal\">\n",
       "<path d=\"M335.5 159h0.0\"/><path d=\"M364.0 159h0.0\"/><rect height=\"22\" rx=\"10\" ry=\"10\" width=\"28.5\" x=\"335.5\" y=\"148\"/><text x=\"349.75\" y=\"163\">9</text></g></g><path d=\"M364.0 159a10 10 0 0 1 10 10v130a10 10 0 0 0 10 10\"/><path d=\"M315.5 309a10 10 0 0 0 10 -10v-160a10 10 0 0 1 10 -10\"/><g>\n",
       "<path d=\"M335.5 129h0.0\"/><path d=\"M364.0 129h0.0\"/><g class=\"terminal\">\n",
       "<path d=\"M335.5 129h0.0\"/><path d=\"M364.0 129h0.0\"/><rect height=\"22\" rx=\"10\" ry=\"10\" width=\"28.5\" x=\"335.5\" y=\"118\"/><text x=\"349.75\" y=\"133\">8</text></g></g><path d=\"M364.0 129a10 10 0 0 1 10 10v160a10 10 0 0 0 10 10\"/><path d=\"M315.5 309a10 10 0 0 0 10 -10v-190a10 10 0 0 1 10 -10\"/><g>\n",
       "<path d=\"M335.5 99h0.0\"/><path d=\"M364.0 99h0.0\"/><g class=\"terminal\">\n",
       "<path d=\"M335.5 99h0.0\"/><path d=\"M364.0 99h0.0\"/><rect height=\"22\" rx=\"10\" ry=\"10\" width=\"28.5\" x=\"335.5\" y=\"88\"/><text x=\"349.75\" y=\"103\">7</text></g></g><path d=\"M364.0 99a10 10 0 0 1 10 10v190a10 10 0 0 0 10 10\"/><path d=\"M315.5 309a10 10 0 0 0 10 -10v-220a10 10 0 0 1 10 -10\"/><g>\n",
       "<path d=\"M335.5 69h0.0\"/><path d=\"M364.0 69h0.0\"/><g class=\"terminal\">\n",
       "<path d=\"M335.5 69h0.0\"/><path d=\"M364.0 69h0.0\"/><rect height=\"22\" rx=\"10\" ry=\"10\" width=\"28.5\" x=\"335.5\" y=\"58\"/><text x=\"349.75\" y=\"73\">6</text></g></g><path d=\"M364.0 69a10 10 0 0 1 10 10v220a10 10 0 0 0 10 10\"/><path d=\"M315.5 309a10 10 0 0 0 10 -10v-250a10 10 0 0 1 10 -10\"/><g>\n",
       "<path d=\"M335.5 39h0.0\"/><path d=\"M364.0 39h0.0\"/><g class=\"terminal\">\n",
       "<path d=\"M335.5 39h0.0\"/><path d=\"M364.0 39h0.0\"/><rect height=\"22\" rx=\"10\" ry=\"10\" width=\"28.5\" x=\"335.5\" y=\"28\"/><text x=\"349.75\" y=\"43\">5</text></g></g><path d=\"M364.0 39a10 10 0 0 1 10 10v250a10 10 0 0 0 10 10\"/><path d=\"M315.5 309h20\"/><g>\n",
       "<path d=\"M335.5 309h0.0\"/><path d=\"M364.0 309h0.0\"/><g class=\"terminal\">\n",
       "<path d=\"M335.5 309h0.0\"/><path d=\"M364.0 309h0.0\"/><rect height=\"22\" rx=\"10\" ry=\"10\" width=\"28.5\" x=\"335.5\" y=\"298\"/><text x=\"349.75\" y=\"313\">%</text></g></g><path d=\"M364.0 309h20\"/><path d=\"M315.5 309a10 10 0 0 1 10 10v10a10 10 0 0 0 10 10\"/><g>\n",
       "<path d=\"M335.5 339h0.0\"/><path d=\"M364.0 339h0.0\"/><g class=\"terminal\">\n",
       "<path d=\"M335.5 339h0.0\"/><path d=\"M364.0 339h0.0\"/><rect height=\"22\" rx=\"10\" ry=\"10\" width=\"28.5\" x=\"335.5\" y=\"328\"/><text x=\"349.75\" y=\"343\">&amp;</text></g></g><path d=\"M364.0 339a10 10 0 0 0 10 -10v-10a10 10 0 0 1 10 -10\"/><path d=\"M315.5 309a10 10 0 0 1 10 10v40a10 10 0 0 0 10 10\"/><g>\n",
       "<path d=\"M335.5 369h0.0\"/><path d=\"M364.0 369h0.0\"/><g class=\"terminal\">\n",
       "<path d=\"M335.5 369h0.0\"/><path d=\"M364.0 369h0.0\"/><rect height=\"22\" rx=\"10\" ry=\"10\" width=\"28.5\" x=\"335.5\" y=\"358\"/><text x=\"349.75\" y=\"373\">'</text></g></g><path d=\"M364.0 369a10 10 0 0 0 10 -10v-40a10 10 0 0 1 10 -10\"/><path d=\"M315.5 309a10 10 0 0 1 10 10v70a10 10 0 0 0 10 10\"/><g>\n",
       "<path d=\"M335.5 399h0.0\"/><path d=\"M364.0 399h0.0\"/><g class=\"terminal\">\n",
       "<path d=\"M335.5 399h0.0\"/><path d=\"M364.0 399h0.0\"/><rect height=\"22\" rx=\"10\" ry=\"10\" width=\"28.5\" x=\"335.5\" y=\"388\"/><text x=\"349.75\" y=\"403\">(</text></g></g><path d=\"M364.0 399a10 10 0 0 0 10 -10v-70a10 10 0 0 1 10 -10\"/><path d=\"M315.5 309a10 10 0 0 1 10 10v100a10 10 0 0 0 10 10\"/><g>\n",
       "<path d=\"M335.5 429h0.0\"/><path d=\"M364.0 429h0.0\"/><g class=\"terminal\">\n",
       "<path d=\"M335.5 429h0.0\"/><path d=\"M364.0 429h0.0\"/><rect height=\"22\" rx=\"10\" ry=\"10\" width=\"28.5\" x=\"335.5\" y=\"418\"/><text x=\"349.75\" y=\"433\">)</text></g></g><path d=\"M364.0 429a10 10 0 0 0 10 -10v-100a10 10 0 0 1 10 -10\"/><path d=\"M315.5 309a10 10 0 0 1 10 10v130a10 10 0 0 0 10 10\"/><g>\n",
       "<path d=\"M335.5 459h0.0\"/><path d=\"M364.0 459h0.0\"/><g class=\"terminal\">\n",
       "<path d=\"M335.5 459h0.0\"/><path d=\"M364.0 459h0.0\"/><rect height=\"22\" rx=\"10\" ry=\"10\" width=\"28.5\" x=\"335.5\" y=\"448\"/><text x=\"349.75\" y=\"463\">*</text></g></g><path d=\"M364.0 459a10 10 0 0 0 10 -10v-130a10 10 0 0 1 10 -10\"/><path d=\"M315.5 309a10 10 0 0 1 10 10v160a10 10 0 0 0 10 10\"/><g>\n",
       "<path d=\"M335.5 489h0.0\"/><path d=\"M364.0 489h0.0\"/><g class=\"terminal\">\n",
       "<path d=\"M335.5 489h0.0\"/><path d=\"M364.0 489h0.0\"/><rect height=\"22\" rx=\"10\" ry=\"10\" width=\"28.5\" x=\"335.5\" y=\"478\"/><text x=\"349.75\" y=\"493\">+</text></g></g><path d=\"M364.0 489a10 10 0 0 0 10 -10v-160a10 10 0 0 1 10 -10\"/><path d=\"M315.5 309a10 10 0 0 1 10 10v190a10 10 0 0 0 10 10\"/><g>\n",
       "<path d=\"M335.5 519h0.0\"/><path d=\"M364.0 519h0.0\"/><g class=\"terminal\">\n",
       "<path d=\"M335.5 519h0.0\"/><path d=\"M364.0 519h0.0\"/><rect height=\"22\" rx=\"10\" ry=\"10\" width=\"28.5\" x=\"335.5\" y=\"508\"/><text x=\"349.75\" y=\"523\">,</text></g></g><path d=\"M364.0 519a10 10 0 0 0 10 -10v-190a10 10 0 0 1 10 -10\"/><path d=\"M315.5 309a10 10 0 0 1 10 10v220a10 10 0 0 0 10 10\"/><g>\n",
       "<path d=\"M335.5 549h0.0\"/><path d=\"M364.0 549h0.0\"/><g class=\"terminal\">\n",
       "<path d=\"M335.5 549h0.0\"/><path d=\"M364.0 549h0.0\"/><rect height=\"22\" rx=\"10\" ry=\"10\" width=\"28.5\" x=\"335.5\" y=\"538\"/><text x=\"349.75\" y=\"553\">-</text></g></g><path d=\"M364.0 549a10 10 0 0 0 10 -10v-220a10 10 0 0 1 10 -10\"/><path d=\"M315.5 309a10 10 0 0 1 10 10v250a10 10 0 0 0 10 10\"/><g>\n",
       "<path d=\"M335.5 579h0.0\"/><path d=\"M364.0 579h0.0\"/><g class=\"terminal\">\n",
       "<path d=\"M335.5 579h0.0\"/><path d=\"M364.0 579h0.0\"/><rect height=\"22\" rx=\"10\" ry=\"10\" width=\"28.5\" x=\"335.5\" y=\"568\"/><text x=\"349.75\" y=\"583\">.</text></g></g><path d=\"M364.0 579a10 10 0 0 0 10 -10v-250a10 10 0 0 1 10 -10\"/></g><path d=\"M384.0 309a10 10 0 0 1 10 10v269a10 10 0 0 0 10 10\"/><path d=\"M384.0 20a10 10 0 0 1 10 10v269a10 10 0 0 0 10 10\"/><g>\n",
       "<path d=\"M404.0 309h0.0\"/><path d=\"M472.5 309h0.0\"/><path d=\"M404.0 309a10 10 0 0 0 10 -10v-10a10 10 0 0 1 10 -10\"/><g>\n",
       "<path d=\"M424.0 279h0.0\"/><path d=\"M452.5 279h0.0\"/><g class=\"terminal\">\n",
       "<path d=\"M424.0 279h0.0\"/><path d=\"M452.5 279h0.0\"/><rect height=\"22\" rx=\"10\" ry=\"10\" width=\"28.5\" x=\"424.0\" y=\"268\"/><text x=\"438.25\" y=\"283\">[</text></g></g><path d=\"M452.5 279a10 10 0 0 1 10 10v10a10 10 0 0 0 10 10\"/><path d=\"M404.0 309a10 10 0 0 0 10 -10v-40a10 10 0 0 1 10 -10\"/><g>\n",
       "<path d=\"M424.0 249h0.0\"/><path d=\"M452.5 249h0.0\"/><g class=\"terminal\">\n",
       "<path d=\"M424.0 249h0.0\"/><path d=\"M452.5 249h0.0\"/><rect height=\"22\" rx=\"10\" ry=\"10\" width=\"28.5\" x=\"424.0\" y=\"238\"/><text x=\"438.25\" y=\"253\">@</text></g></g><path d=\"M452.5 249a10 10 0 0 1 10 10v40a10 10 0 0 0 10 10\"/><path d=\"M404.0 309a10 10 0 0 0 10 -10v-70a10 10 0 0 1 10 -10\"/><g>\n",
       "<path d=\"M424.0 219h0.0\"/><path d=\"M452.5 219h0.0\"/><g class=\"terminal\">\n",
       "<path d=\"M424.0 219h0.0\"/><path d=\"M452.5 219h0.0\"/><rect height=\"22\" rx=\"10\" ry=\"10\" width=\"28.5\" x=\"424.0\" y=\"208\"/><text x=\"438.25\" y=\"223\">?</text></g></g><path d=\"M452.5 219a10 10 0 0 1 10 10v70a10 10 0 0 0 10 10\"/><path d=\"M404.0 309a10 10 0 0 0 10 -10v-100a10 10 0 0 1 10 -10\"/><g>\n",
       "<path d=\"M424.0 189h0.0\"/><path d=\"M452.5 189h0.0\"/><g class=\"terminal\">\n",
       "<path d=\"M424.0 189h0.0\"/><path d=\"M452.5 189h0.0\"/><rect height=\"22\" rx=\"10\" ry=\"10\" width=\"28.5\" x=\"424.0\" y=\"178\"/><text x=\"438.25\" y=\"193\">&gt;</text></g></g><path d=\"M452.5 189a10 10 0 0 1 10 10v100a10 10 0 0 0 10 10\"/><path d=\"M404.0 309a10 10 0 0 0 10 -10v-130a10 10 0 0 1 10 -10\"/><g>\n",
       "<path d=\"M424.0 159h0.0\"/><path d=\"M452.5 159h0.0\"/><g class=\"terminal\">\n",
       "<path d=\"M424.0 159h0.0\"/><path d=\"M452.5 159h0.0\"/><rect height=\"22\" rx=\"10\" ry=\"10\" width=\"28.5\" x=\"424.0\" y=\"148\"/><text x=\"438.25\" y=\"163\">=</text></g></g><path d=\"M452.5 159a10 10 0 0 1 10 10v130a10 10 0 0 0 10 10\"/><path d=\"M404.0 309a10 10 0 0 0 10 -10v-160a10 10 0 0 1 10 -10\"/><g>\n",
       "<path d=\"M424.0 129h0.0\"/><path d=\"M452.5 129h0.0\"/><g class=\"terminal\">\n",
       "<path d=\"M424.0 129h0.0\"/><path d=\"M452.5 129h0.0\"/><rect height=\"22\" rx=\"10\" ry=\"10\" width=\"28.5\" x=\"424.0\" y=\"118\"/><text x=\"438.25\" y=\"133\">&lt;</text></g></g><path d=\"M452.5 129a10 10 0 0 1 10 10v160a10 10 0 0 0 10 10\"/><path d=\"M404.0 309a10 10 0 0 0 10 -10v-190a10 10 0 0 1 10 -10\"/><g>\n",
       "<path d=\"M424.0 99h0.0\"/><path d=\"M452.5 99h0.0\"/><g class=\"terminal\">\n",
       "<path d=\"M424.0 99h0.0\"/><path d=\"M452.5 99h0.0\"/><rect height=\"22\" rx=\"10\" ry=\"10\" width=\"28.5\" x=\"424.0\" y=\"88\"/><text x=\"438.25\" y=\"103\">;</text></g></g><path d=\"M452.5 99a10 10 0 0 1 10 10v190a10 10 0 0 0 10 10\"/><path d=\"M404.0 309a10 10 0 0 0 10 -10v-220a10 10 0 0 1 10 -10\"/><g>\n",
       "<path d=\"M424.0 69h0.0\"/><path d=\"M452.5 69h0.0\"/><g class=\"terminal\">\n",
       "<path d=\"M424.0 69h0.0\"/><path d=\"M452.5 69h0.0\"/><rect height=\"22\" rx=\"10\" ry=\"10\" width=\"28.5\" x=\"424.0\" y=\"58\"/><text x=\"438.25\" y=\"73\">:</text></g></g><path d=\"M452.5 69a10 10 0 0 1 10 10v220a10 10 0 0 0 10 10\"/><path d=\"M404.0 309a10 10 0 0 0 10 -10v-250a10 10 0 0 1 10 -10\"/><g>\n",
       "<path d=\"M424.0 39h0.0\"/><path d=\"M452.5 39h0.0\"/><g class=\"terminal\">\n",
       "<path d=\"M424.0 39h0.0\"/><path d=\"M452.5 39h0.0\"/><rect height=\"22\" rx=\"10\" ry=\"10\" width=\"28.5\" x=\"424.0\" y=\"28\"/><text x=\"438.25\" y=\"43\">/</text></g></g><path d=\"M452.5 39a10 10 0 0 1 10 10v250a10 10 0 0 0 10 10\"/><path d=\"M404.0 309h20\"/><g>\n",
       "<path d=\"M424.0 309h0.0\"/><path d=\"M452.5 309h0.0\"/><g class=\"terminal\">\n",
       "<path d=\"M424.0 309h0.0\"/><path d=\"M452.5 309h0.0\"/><rect height=\"22\" rx=\"10\" ry=\"10\" width=\"28.5\" x=\"424.0\" y=\"298\"/><text x=\"438.25\" y=\"313\">\\</text></g></g><path d=\"M452.5 309h20\"/><path d=\"M404.0 309a10 10 0 0 1 10 10v10a10 10 0 0 0 10 10\"/><g>\n",
       "<path d=\"M424.0 339h0.0\"/><path d=\"M452.5 339h0.0\"/><g class=\"terminal\">\n",
       "<path d=\"M424.0 339h0.0\"/><path d=\"M452.5 339h0.0\"/><rect height=\"22\" rx=\"10\" ry=\"10\" width=\"28.5\" x=\"424.0\" y=\"328\"/><text x=\"438.25\" y=\"343\">]</text></g></g><path d=\"M452.5 339a10 10 0 0 0 10 -10v-10a10 10 0 0 1 10 -10\"/><path d=\"M404.0 309a10 10 0 0 1 10 10v40a10 10 0 0 0 10 10\"/><g>\n",
       "<path d=\"M424.0 369h0.0\"/><path d=\"M452.5 369h0.0\"/><g class=\"terminal\">\n",
       "<path d=\"M424.0 369h0.0\"/><path d=\"M452.5 369h0.0\"/><rect height=\"22\" rx=\"10\" ry=\"10\" width=\"28.5\" x=\"424.0\" y=\"358\"/><text x=\"438.25\" y=\"373\">^</text></g></g><path d=\"M452.5 369a10 10 0 0 0 10 -10v-40a10 10 0 0 1 10 -10\"/><path d=\"M404.0 309a10 10 0 0 1 10 10v70a10 10 0 0 0 10 10\"/><g>\n",
       "<path d=\"M424.0 399h0.0\"/><path d=\"M452.5 399h0.0\"/><g class=\"terminal\">\n",
       "<path d=\"M424.0 399h0.0\"/><path d=\"M452.5 399h0.0\"/><rect height=\"22\" rx=\"10\" ry=\"10\" width=\"28.5\" x=\"424.0\" y=\"388\"/><text x=\"438.25\" y=\"403\">_</text></g></g><path d=\"M452.5 399a10 10 0 0 0 10 -10v-70a10 10 0 0 1 10 -10\"/><path d=\"M404.0 309a10 10 0 0 1 10 10v100a10 10 0 0 0 10 10\"/><g>\n",
       "<path d=\"M424.0 429h0.0\"/><path d=\"M452.5 429h0.0\"/><g class=\"terminal\">\n",
       "<path d=\"M424.0 429h0.0\"/><path d=\"M452.5 429h0.0\"/><rect height=\"22\" rx=\"10\" ry=\"10\" width=\"28.5\" x=\"424.0\" y=\"418\"/><text x=\"438.25\" y=\"433\">`</text></g></g><path d=\"M452.5 429a10 10 0 0 0 10 -10v-100a10 10 0 0 1 10 -10\"/><path d=\"M404.0 309a10 10 0 0 1 10 10v130a10 10 0 0 0 10 10\"/><g>\n",
       "<path d=\"M424.0 459h0.0\"/><path d=\"M452.5 459h0.0\"/><g class=\"terminal\">\n",
       "<path d=\"M424.0 459h0.0\"/><path d=\"M452.5 459h0.0\"/><rect height=\"22\" rx=\"10\" ry=\"10\" width=\"28.5\" x=\"424.0\" y=\"448\"/><text x=\"438.25\" y=\"463\">{</text></g></g><path d=\"M452.5 459a10 10 0 0 0 10 -10v-130a10 10 0 0 1 10 -10\"/><path d=\"M404.0 309a10 10 0 0 1 10 10v160a10 10 0 0 0 10 10\"/><g>\n",
       "<path d=\"M424.0 489h0.0\"/><path d=\"M452.5 489h0.0\"/><g class=\"terminal\">\n",
       "<path d=\"M424.0 489h0.0\"/><path d=\"M452.5 489h0.0\"/><rect height=\"22\" rx=\"10\" ry=\"10\" width=\"28.5\" x=\"424.0\" y=\"478\"/><text x=\"438.25\" y=\"493\">|</text></g></g><path d=\"M452.5 489a10 10 0 0 0 10 -10v-160a10 10 0 0 1 10 -10\"/><path d=\"M404.0 309a10 10 0 0 1 10 10v190a10 10 0 0 0 10 10\"/><g>\n",
       "<path d=\"M424.0 519h0.0\"/><path d=\"M452.5 519h0.0\"/><g class=\"terminal\">\n",
       "<path d=\"M424.0 519h0.0\"/><path d=\"M452.5 519h0.0\"/><rect height=\"22\" rx=\"10\" ry=\"10\" width=\"28.5\" x=\"424.0\" y=\"508\"/><text x=\"438.25\" y=\"523\">}</text></g></g><path d=\"M452.5 519a10 10 0 0 0 10 -10v-190a10 10 0 0 1 10 -10\"/><path d=\"M404.0 309a10 10 0 0 1 10 10v220a10 10 0 0 0 10 10\"/><g>\n",
       "<path d=\"M424.0 549h0.0\"/><path d=\"M452.5 549h0.0\"/><g class=\"terminal\">\n",
       "<path d=\"M424.0 549h0.0\"/><path d=\"M452.5 549h0.0\"/><rect height=\"22\" rx=\"10\" ry=\"10\" width=\"28.5\" x=\"424.0\" y=\"538\"/><text x=\"438.25\" y=\"553\">~</text></g></g><path d=\"M452.5 549a10 10 0 0 0 10 -10v-220a10 10 0 0 1 10 -10\"/><path d=\"M404.0 309a10 10 0 0 1 10 10v250a10 10 0 0 0 10 10\"/><g>\n",
       "<path d=\"M424.0 579h0.0\"/><path d=\"M452.5 579h0.0\"/><g class=\"terminal\">\n",
       "<path d=\"M424.0 579h0.0\"/><path d=\"M452.5 579h0.0\"/><rect height=\"22\" rx=\"10\" ry=\"10\" width=\"28.5\" x=\"424.0\" y=\"568\"/><text x=\"438.25\" y=\"583\"> </text></g></g><path d=\"M452.5 579a10 10 0 0 0 10 -10v-250a10 10 0 0 1 10 -10\"/></g><path d=\"M472.5 309a10 10 0 0 1 10 10v269a10 10 0 0 0 10 10\"/><path d=\"M472.5 20a10 10 0 0 1 10 10v269a10 10 0 0 0 10 10\"/><g>\n",
       "<path d=\"M492.5 309h0.0\"/><path d=\"M561.0 309h0.0\"/><path d=\"M492.5 309a10 10 0 0 0 10 -10v-10a10 10 0 0 1 10 -10\"/><g>\n",
       "<path d=\"M512.5 279h0.0\"/><path d=\"M541.0 279h0.0\"/><g class=\"terminal\">\n",
       "<path d=\"M512.5 279h0.0\"/><path d=\"M541.0 279h0.0\"/><rect height=\"22\" rx=\"10\" ry=\"10\" width=\"28.5\" x=\"512.5\" y=\"268\"/><text x=\"526.75\" y=\"283\">\t</text></g></g><path d=\"M541.0 279a10 10 0 0 1 10 10v10a10 10 0 0 0 10 10\"/><path d=\"M492.5 309h20\"/><g>\n",
       "<path d=\"M512.5 309h0.0\"/><path d=\"M541.0 309h0.0\"/><g class=\"terminal\">\n",
       "<path d=\"M512.5 309h0.0\"/><path d=\"M541.0 309h0.0\"/><rect height=\"22\" rx=\"10\" ry=\"10\" width=\"28.5\" x=\"512.5\" y=\"298\"/><text x=\"526.75\" y=\"313\">\n",
       "</text></g></g><path d=\"M541.0 309h20\"/></g><path d=\"M561.0 309h10\"/></g><path d=\"M 571.0 309 h 20 m -10 -10 v 20 m 10 -20 v 20\"/></g></svg>"
      ],
      "text/plain": [
       "<IPython.core.display.SVG object>"
      ]
     },
     "metadata": {},
     "output_type": "display_data"
    }
   ],
   "source": [
    "syntax_diagram(CSV_GRAMMAR)"
   ]
  },
  {
   "cell_type": "markdown",
   "metadata": {},
   "source": [
    "We generate `1000` values, and evaluate the `process_vehicle()` with each."
   ]
  },
  {
   "cell_type": "code",
   "execution_count": 11,
   "metadata": {},
   "outputs": [
    {
     "name": "stdout",
     "output_type": "stream",
     "text": [
      "0 valid strings, that is GrammarFuzzer generated 0.000000% valid entries from 1000 inputs\n",
      "Total time of 8.528764 seconds\n"
     ]
    }
   ],
   "source": [
    "gf = GrammarFuzzer(CSV_GRAMMAR, min_nonterminals=4)\n",
    "trials = 1000\n",
    "valid = []\n",
    "time = 0\n",
    "for i in range(trials):\n",
    "    with Timer() as t:\n",
    "        vehicle_info = gf.fuzz()\n",
    "        try:\n",
    "            process_vehicle(vehicle_info)\n",
    "            valid.append(vehicle_info)\n",
    "        except:\n",
    "            pass\n",
    "        time += t.elapsed_time()\n",
    "print(\"%d valid strings, that is GrammarFuzzer generated %f%% valid entries from %d inputs\" %\n",
    "      (len(valid), len(valid) * 100.0 / trials, trials))\n",
    "print(\"Total time of %f seconds\" % time)"
   ]
  },
  {
   "cell_type": "markdown",
   "metadata": {},
   "source": [
    "This is obviously not working. But why?"
   ]
  },
  {
   "cell_type": "code",
   "execution_count": 12,
   "metadata": {},
   "outputs": [
    {
     "name": "stdout",
     "output_type": "stream",
     "text": [
      "'9w9J\\'/,LU<\"l,|,Y,Zv)Amvx,c\\n'\t Invalid entry\n",
      "'(n8].H7,qolS'\t not enough values to unpack (expected at least 4, got 2)\n",
      "'\\nQoLWQ,jSa'\t not enough values to unpack (expected at least 4, got 2)\n",
      "'K1,\\n,RE,fq,%,,sT+aAb'\t Invalid entry\n",
      "\"m,d,,8j4'),-yQ,B7\"\t Invalid entry\n",
      "'g4,s1\\t[}{.,M,<,\\nzd,.am'\t Invalid entry\n",
      "',Z[,z,c,#x1,gc.F'\t Invalid entry\n",
      "'pWs,rT`,R'\t not enough values to unpack (expected at least 4, got 3)\n",
      "'iN,br%,Q,R'\t Invalid entry\n",
      "'ol,\\nH<\\tn,^#,=A'\t Invalid entry\n"
     ]
    }
   ],
   "source": [
    "gf = GrammarFuzzer(CSV_GRAMMAR, min_nonterminals=4)\n",
    "trials = 10\n",
    "valid = []\n",
    "time = 0\n",
    "for i in range(trials):\n",
    "    vehicle_info = gf.fuzz()\n",
    "    try:\n",
    "        print(repr(vehicle_info), end=\"\")\n",
    "        process_vehicle(vehicle_info)\n",
    "    except Exception as e:\n",
    "        print(\"\\t\", e)\n",
    "    else:\n",
    "        print()"
   ]
  },
  {
   "cell_type": "markdown",
   "metadata": {},
   "source": [
    "None of the entries will get through unless the fuzzer can produce either `van` or `car`.\n",
    "Indeed, the reason is that the grammar itself does not capture the complete information about the format. So here is another idea. We modify the `GrammarFuzzer` to know a bit about our format."
   ]
  },
  {
   "cell_type": "code",
   "execution_count": 13,
   "metadata": {
    "slideshow": {
     "slide_type": "skip"
    }
   },
   "outputs": [],
   "source": [
    "import copy"
   ]
  },
  {
   "cell_type": "code",
   "execution_count": 14,
   "metadata": {
    "slideshow": {
     "slide_type": "skip"
    }
   },
   "outputs": [],
   "source": [
    "import random"
   ]
  },
  {
   "cell_type": "code",
   "execution_count": 15,
   "metadata": {
    "slideshow": {
     "slide_type": "skip"
    }
   },
   "outputs": [],
   "source": [
    "class PooledGrammarFuzzer(GrammarFuzzer):\n",
    "    def __init__(self, *args, **kwargs):\n",
    "        super().__init__(*args, **kwargs)\n",
    "        self._node_cache = {}\n",
    "\n",
    "    def update_cache(self, key, values):\n",
    "        self._node_cache[key] = values\n",
    "\n",
    "    def expand_node_randomly(self, node):\n",
    "        (symbol, children) = node\n",
    "        assert children is None\n",
    "        if symbol in self._node_cache:\n",
    "            if random.randint(0, 1) == 1:\n",
    "                return super().expand_node_randomly(node)\n",
    "            return copy.deepcopy(random.choice(self._node_cache[symbol]))\n",
    "        return super().expand_node_randomly(node)"
   ]
  },
  {
   "cell_type": "markdown",
   "metadata": {},
   "source": [
    "Let us try again!"
   ]
  },
  {
   "cell_type": "code",
   "execution_count": 16,
   "metadata": {},
   "outputs": [
    {
     "name": "stdout",
     "output_type": "stream",
     "text": [
      "',h,van,|'\t Invalid entry\n",
      "'M,w:K,car,car,van'\t Invalid entry\n",
      "'J,?Y,van,van,car,J,~D+'\t Invalid entry\n",
      "'S4,car,car,o'\t invalid literal for int() with base 10: 'S4'\n",
      "'2*-,van'\t not enough values to unpack (expected at least 4, got 2)\n",
      "'van,%,5,]'\t Invalid entry\n",
      "'van,G3{y,j,h:'\t Invalid entry\n",
      "'$0;o,M,car,car'\t Invalid entry\n",
      "'2d,f,e'\t not enough values to unpack (expected at least 4, got 3)\n",
      "'/~NE,car,car'\t not enough values to unpack (expected at least 4, got 3)\n"
     ]
    }
   ],
   "source": [
    "gf = PooledGrammarFuzzer(CSV_GRAMMAR, min_nonterminals=4)\n",
    "gf.update_cache('<item>', [\n",
    "    ('<item>', [('car', [])]),\n",
    "    ('<item>', [('van', [])]),\n",
    "])\n",
    "trials = 10\n",
    "valid = []\n",
    "time = 0\n",
    "for i in range(trials):\n",
    "    vehicle_info = gf.fuzz()\n",
    "    try:\n",
    "        print(repr(vehicle_info), end=\"\")\n",
    "        process_vehicle(vehicle_info)\n",
    "    except Exception as e:\n",
    "        print(\"\\t\", e)\n",
    "    else:\n",
    "        print()"
   ]
  },
  {
   "cell_type": "markdown",
   "metadata": {},
   "source": [
    "At least we are getting somewhere! It would be really nice if _we could incorporate what we know about the sample data in our fuzzer._ In fact, it would be nice if we could _extract_ the template and valid values from samples, and use them in our fuzzing. How do we do that?  The quick answer to this question is: Use a *parser*.  "
   ]
  },
  {
   "cell_type": "markdown",
   "metadata": {},
   "source": [
    "## Using a Parser\n",
    "\n",
    "Generally speaking, a _parser_ is the part of a a program that processes (structured) input.  The parsers we discuss in this chapter transform an input string into a _derivation tree_ (discussed in the [chapter on efficient grammar fuzzing](GrammarFuzzer.ipynb)).  From a user's perspective, all it takes to parse an input is two steps: \n",
    "\n",
    "1. Initialize the parser with a grammar, as in\n",
    "```\n",
    "parser = Parser(grammar)\n",
    "```\n",
    "\n",
    "2. Using the parser to retrieve a list of derivation trees:\n",
    "\n",
    "```python\n",
    "trees = parser.parse(input)\n",
    "```\n",
    "\n",
    "Once we have parsed a tree, we can use it just as the derivation trees produced from grammar fuzzing.\n",
    "\n",
    "We discuss a number of such parsers, in particular\n",
    "* [parsing expression grammar parsers](#Parsing-Expression-Grammars) (`PEGParser`), which are very efficient, but limited to specific grammar structure; and\n",
    "* [Earley parsers](#Parsing-Context-Free-Grammars) (`EarleyParser`), which accept any kind of context-free grammars.\n",
    "\n",
    "If you just want to _use_ parsers (say, because your main focus is testing), you can just stop here and move on [to the next chapter](LangFuzzer.ipynb), where we learn how to make use of parsed inputs to mutate and recombine them.  If you want to _understand_ how parsers work, though, this chapter is right for you."
   ]
  },
  {
   "cell_type": "markdown",
   "metadata": {},
   "source": [
    "## An Ad Hoc Parser\n",
    "\n",
    "As we saw in the previous section, programmers often have to extract parts of data that obey certain rules. For example, for *CSV* files, each element in a row is separated by *commas*, and multiple raws are used to store the data."
   ]
  },
  {
   "cell_type": "markdown",
   "metadata": {},
   "source": [
    "To extract the information, we write an ad hoc parser `parse_csv()`."
   ]
  },
  {
   "cell_type": "code",
   "execution_count": 17,
   "metadata": {},
   "outputs": [],
   "source": [
    "def parse_csv(mystring):\n",
    "    children = []\n",
    "    tree = (START_SYMBOL, children)\n",
    "    for i, line in enumerate(mystring.split('\\n')):\n",
    "        children.append((\"record %d\" % i, [(cell, [])\n",
    "                                           for cell in line.split(',')]))\n",
    "    return tree"
   ]
  },
  {
   "cell_type": "markdown",
   "metadata": {},
   "source": [
    "We also change the default orientation of the graph to *left to right* rather than *top to bottom* for easier viewing using `lr_graph()`."
   ]
  },
  {
   "cell_type": "code",
   "execution_count": 18,
   "metadata": {},
   "outputs": [],
   "source": [
    "def lr_graph(dot):\n",
    "    dot.attr('node', shape='plain')\n",
    "    dot.graph_attr['rankdir'] = 'LR'"
   ]
  },
  {
   "cell_type": "markdown",
   "metadata": {},
   "source": [
    "The `display_tree()` shows the structure of our CSV file after parsing."
   ]
  },
  {
   "cell_type": "code",
   "execution_count": 19,
   "metadata": {},
   "outputs": [
    {
     "data": {
      "image/svg+xml": [
       "<?xml version=\"1.0\" encoding=\"UTF-8\" standalone=\"no\"?>\n",
       "<!DOCTYPE svg PUBLIC \"-//W3C//DTD SVG 1.1//EN\"\n",
       " \"http://www.w3.org/Graphics/SVG/1.1/DTD/svg11.dtd\">\n",
       "<!-- Generated by graphviz version 2.40.1 (20161225.0304)\n",
       " -->\n",
       "<!-- Title: %3 Pages: 1 -->\n",
       "<svg width=\"214pt\" height=\"254pt\"\n",
       " viewBox=\"0.00 0.00 214.00 254.00\" xmlns=\"http://www.w3.org/2000/svg\" xmlns:xlink=\"http://www.w3.org/1999/xlink\">\n",
       "<g id=\"graph0\" class=\"graph\" transform=\"scale(1 1) rotate(0) translate(4 250)\">\n",
       "<title>%3</title>\n",
       "<polygon fill=\"#ffffff\" stroke=\"transparent\" points=\"-4,4 -4,-250 210,-250 210,4 -4,4\"/>\n",
       "<!-- 0 -->\n",
       "<g id=\"node1\" class=\"node\">\n",
       "<title>0</title>\n",
       "<text text-anchor=\"middle\" x=\"20\" y=\"-118.8\" font-family=\"Times,serif\" font-size=\"14.00\" fill=\"#000000\">&lt;start&gt;</text>\n",
       "</g>\n",
       "<!-- 1 -->\n",
       "<g id=\"node2\" class=\"node\">\n",
       "<title>1</title>\n",
       "<text text-anchor=\"middle\" x=\"99\" y=\"-168.8\" font-family=\"Times,serif\" font-size=\"14.00\" fill=\"#000000\">record 0</text>\n",
       "</g>\n",
       "<!-- 0&#45;&gt;1 -->\n",
       "<g id=\"edge1\" class=\"edge\">\n",
       "<title>0&#45;&gt;1</title>\n",
       "<path fill=\"none\" stroke=\"#000000\" d=\"M31.9984,-130.0939C44.3663,-137.9217 63.8753,-150.2692 78.6592,-159.6261\"/>\n",
       "<polygon fill=\"#000000\" stroke=\"#000000\" points=\"76.8259,-162.6079 87.1475,-164.9984 80.5695,-156.693 76.8259,-162.6079\"/>\n",
       "</g>\n",
       "<!-- 6 -->\n",
       "<g id=\"node7\" class=\"node\">\n",
       "<title>6</title>\n",
       "<text text-anchor=\"middle\" x=\"99\" y=\"-69.8\" font-family=\"Times,serif\" font-size=\"14.00\" fill=\"#000000\">record 1</text>\n",
       "</g>\n",
       "<!-- 0&#45;&gt;6 -->\n",
       "<g id=\"edge6\" class=\"edge\">\n",
       "<title>0&#45;&gt;6</title>\n",
       "<path fill=\"none\" stroke=\"#000000\" d=\"M32.3438,-114.8438C44.5184,-107.2924 63.364,-95.6034 77.9146,-86.5783\"/>\n",
       "<polygon fill=\"#000000\" stroke=\"#000000\" points=\"80.0897,-89.3478 86.7429,-81.1025 76.4,-83.3992 80.0897,-89.3478\"/>\n",
       "</g>\n",
       "<!-- 2 -->\n",
       "<g id=\"node3\" class=\"node\">\n",
       "<title>2</title>\n",
       "<text text-anchor=\"middle\" x=\"182\" y=\"-234.8\" font-family=\"Times,serif\" font-size=\"14.00\" fill=\"#000000\">1997</text>\n",
       "</g>\n",
       "<!-- 1&#45;&gt;2 -->\n",
       "<g id=\"edge2\" class=\"edge\">\n",
       "<title>1&#45;&gt;2</title>\n",
       "<path fill=\"none\" stroke=\"#000000\" d=\"M107.5382,-180.2775C118.7884,-190.3974 139.3384,-208.4452 158,-222.5 159.2,-223.4038 160.4484,-224.3155 161.7173,-225.2208\"/>\n",
       "<polygon fill=\"#000000\" stroke=\"#000000\" points=\"159.8643,-228.1938 170.0939,-230.9517 163.8169,-222.4165 159.8643,-228.1938\"/>\n",
       "</g>\n",
       "<!-- 3 -->\n",
       "<g id=\"node4\" class=\"node\">\n",
       "<title>3</title>\n",
       "<text text-anchor=\"middle\" x=\"182\" y=\"-201.8\" font-family=\"Times,serif\" font-size=\"14.00\" fill=\"#000000\">van</text>\n",
       "</g>\n",
       "<!-- 1&#45;&gt;3 -->\n",
       "<g id=\"edge3\" class=\"edge\">\n",
       "<title>1&#45;&gt;3</title>\n",
       "<path fill=\"none\" stroke=\"#000000\" d=\"M118.2505,-180.1538C131.4004,-185.3821 148.7819,-192.2928 162.0737,-197.5775\"/>\n",
       "<polygon fill=\"#000000\" stroke=\"#000000\" points=\"161.112,-200.9616 171.6976,-201.4039 163.6983,-194.4568 161.112,-200.9616\"/>\n",
       "</g>\n",
       "<!-- 4 -->\n",
       "<g id=\"node5\" class=\"node\">\n",
       "<title>4</title>\n",
       "<text text-anchor=\"middle\" x=\"182\" y=\"-168.8\" font-family=\"Times,serif\" font-size=\"14.00\" fill=\"#000000\">Ford</text>\n",
       "</g>\n",
       "<!-- 1&#45;&gt;4 -->\n",
       "<g id=\"edge4\" class=\"edge\">\n",
       "<title>1&#45;&gt;4</title>\n",
       "<path fill=\"none\" stroke=\"#000000\" d=\"M122.1201,-172.5C133.4613,-172.5 147.0974,-172.5 158.4904,-172.5\"/>\n",
       "<polygon fill=\"#000000\" stroke=\"#000000\" points=\"158.5782,-176.0001 168.5781,-172.5 158.5781,-169.0001 158.5782,-176.0001\"/>\n",
       "</g>\n",
       "<!-- 5 -->\n",
       "<g id=\"node6\" class=\"node\">\n",
       "<title>5</title>\n",
       "<text text-anchor=\"middle\" x=\"182\" y=\"-135.8\" font-family=\"Times,serif\" font-size=\"14.00\" fill=\"#000000\">E350</text>\n",
       "</g>\n",
       "<!-- 1&#45;&gt;5 -->\n",
       "<g id=\"edge5\" class=\"edge\">\n",
       "<title>1&#45;&gt;5</title>\n",
       "<path fill=\"none\" stroke=\"#000000\" d=\"M118.2505,-164.8462C130.0401,-160.1588 145.231,-154.119 157.8265,-149.1111\"/>\n",
       "<polygon fill=\"#000000\" stroke=\"#000000\" points=\"159.2576,-152.3087 167.2569,-145.3617 156.6713,-145.804 159.2576,-152.3087\"/>\n",
       "</g>\n",
       "<!-- 7 -->\n",
       "<g id=\"node8\" class=\"node\">\n",
       "<title>7</title>\n",
       "<text text-anchor=\"middle\" x=\"182\" y=\"-102.8\" font-family=\"Times,serif\" font-size=\"14.00\" fill=\"#000000\">2000</text>\n",
       "</g>\n",
       "<!-- 6&#45;&gt;7 -->\n",
       "<g id=\"edge7\" class=\"edge\">\n",
       "<title>6&#45;&gt;7</title>\n",
       "<path fill=\"none\" stroke=\"#000000\" d=\"M118.2505,-81.1538C130.1913,-85.9013 145.6211,-92.0361 158.3097,-97.081\"/>\n",
       "<polygon fill=\"#000000\" stroke=\"#000000\" points=\"157.1934,-100.4036 167.779,-100.8459 159.7796,-93.8988 157.1934,-100.4036\"/>\n",
       "</g>\n",
       "<!-- 8 -->\n",
       "<g id=\"node9\" class=\"node\">\n",
       "<title>8</title>\n",
       "<text text-anchor=\"middle\" x=\"182\" y=\"-69.8\" font-family=\"Times,serif\" font-size=\"14.00\" fill=\"#000000\">car</text>\n",
       "</g>\n",
       "<!-- 6&#45;&gt;8 -->\n",
       "<g id=\"edge8\" class=\"edge\">\n",
       "<title>6&#45;&gt;8</title>\n",
       "<path fill=\"none\" stroke=\"#000000\" d=\"M122.1201,-73.5C135.0607,-73.5 150.9892,-73.5 163.164,-73.5\"/>\n",
       "<polygon fill=\"#000000\" stroke=\"#000000\" points=\"163.4665,-77.0001 173.4665,-73.5 163.4665,-70.0001 163.4665,-77.0001\"/>\n",
       "</g>\n",
       "<!-- 9 -->\n",
       "<g id=\"node10\" class=\"node\">\n",
       "<title>9</title>\n",
       "<text text-anchor=\"middle\" x=\"182\" y=\"-36.8\" font-family=\"Times,serif\" font-size=\"14.00\" fill=\"#000000\">Mercury</text>\n",
       "</g>\n",
       "<!-- 6&#45;&gt;9 -->\n",
       "<g id=\"edge9\" class=\"edge\">\n",
       "<title>6&#45;&gt;9</title>\n",
       "<path fill=\"none\" stroke=\"#000000\" d=\"M118.2505,-65.8462C128.7262,-61.6812 141.8872,-56.4485 153.5268,-51.8207\"/>\n",
       "<polygon fill=\"#000000\" stroke=\"#000000\" points=\"154.8546,-55.0593 162.8539,-48.1123 152.2683,-48.5546 154.8546,-55.0593\"/>\n",
       "</g>\n",
       "<!-- 10 -->\n",
       "<g id=\"node11\" class=\"node\">\n",
       "<title>10</title>\n",
       "<text text-anchor=\"middle\" x=\"182\" y=\"-3.8\" font-family=\"Times,serif\" font-size=\"14.00\" fill=\"#000000\">Cougar</text>\n",
       "</g>\n",
       "<!-- 6&#45;&gt;10 -->\n",
       "<g id=\"edge10\" class=\"edge\">\n",
       "<title>6&#45;&gt;10</title>\n",
       "<path fill=\"none\" stroke=\"#000000\" d=\"M107.6255,-65.9807C118.9702,-56.1742 139.6222,-38.6072 158,-24.5 159.3923,-23.4312 160.8434,-22.343 162.3125,-21.2597\"/>\n",
       "<polygon fill=\"#000000\" stroke=\"#000000\" points=\"164.5567,-23.9571 170.6374,-15.281 160.4734,-18.2714 164.5567,-23.9571\"/>\n",
       "</g>\n",
       "</g>\n",
       "</svg>\n"
      ],
      "text/plain": [
       "<graphviz.dot.Digraph at 0x7f928474f160>"
      ]
     },
     "execution_count": 19,
     "metadata": {},
     "output_type": "execute_result"
    }
   ],
   "source": [
    "tree = parse_csv(mystring)\n",
    "display_tree(tree, graph_attr=lr_graph)"
   ]
  },
  {
   "cell_type": "markdown",
   "metadata": {},
   "source": [
    "This is of course simple. What if we encounter slightly more complexity? Again, another example from the Wikipedia."
   ]
  },
  {
   "cell_type": "code",
   "execution_count": 20,
   "metadata": {},
   "outputs": [
    {
     "name": "stdout",
     "output_type": "stream",
     "text": [
      "1997,Ford,E350,\"ac, abs, moon\",3000.00\n"
     ]
    }
   ],
   "source": [
    "mystring = '''\\\n",
    "1997,Ford,E350,\"ac, abs, moon\",3000.00\\\n",
    "'''\n",
    "print(mystring)"
   ]
  },
  {
   "cell_type": "markdown",
   "metadata": {},
   "source": [
    "We define a new annotation method `highlight_node()` to mark the nodes that are interesting."
   ]
  },
  {
   "cell_type": "code",
   "execution_count": 21,
   "metadata": {},
   "outputs": [],
   "source": [
    "def highlight_node(predicate):\n",
    "    def hl_node(dot, nid, symbol, ann):\n",
    "        if predicate(dot, nid, symbol, ann):\n",
    "            dot.node(repr(nid), dot_escape(symbol), fontcolor='red')\n",
    "        else:\n",
    "            dot.node(repr(nid), dot_escape(symbol))\n",
    "    return hl_node"
   ]
  },
  {
   "cell_type": "markdown",
   "metadata": {},
   "source": [
    "Using `highlight_node()` we can highlight particular nodes that we were wrongly parsed."
   ]
  },
  {
   "cell_type": "code",
   "execution_count": 22,
   "metadata": {},
   "outputs": [],
   "source": [
    "tree = parse_csv(mystring)\n",
    "bad_nodes = {5, 6, 7, 12, 13, 20, 22, 23, 24, 25}"
   ]
  },
  {
   "cell_type": "code",
   "execution_count": 23,
   "metadata": {},
   "outputs": [],
   "source": [
    "def hl_predicate(_d, nid, _s, _a): return nid in bad_nodes"
   ]
  },
  {
   "cell_type": "code",
   "execution_count": 24,
   "metadata": {},
   "outputs": [
    {
     "data": {
      "image/svg+xml": [
       "<?xml version=\"1.0\" encoding=\"UTF-8\" standalone=\"no\"?>\n",
       "<!DOCTYPE svg PUBLIC \"-//W3C//DTD SVG 1.1//EN\"\n",
       " \"http://www.w3.org/Graphics/SVG/1.1/DTD/svg11.dtd\">\n",
       "<!-- Generated by graphviz version 2.40.1 (20161225.0304)\n",
       " -->\n",
       "<!-- Title: %3 Pages: 1 -->\n",
       "<svg width=\"211pt\" height=\"221pt\"\n",
       " viewBox=\"0.00 0.00 211.00 221.00\" xmlns=\"http://www.w3.org/2000/svg\" xmlns:xlink=\"http://www.w3.org/1999/xlink\">\n",
       "<g id=\"graph0\" class=\"graph\" transform=\"scale(1 1) rotate(0) translate(4 217)\">\n",
       "<title>%3</title>\n",
       "<polygon fill=\"#ffffff\" stroke=\"transparent\" points=\"-4,4 -4,-217 207,-217 207,4 -4,4\"/>\n",
       "<!-- 0 -->\n",
       "<g id=\"node1\" class=\"node\">\n",
       "<title>0</title>\n",
       "<text text-anchor=\"middle\" x=\"20\" y=\"-102.8\" font-family=\"Times,serif\" font-size=\"14.00\" fill=\"#000000\">&lt;start&gt;</text>\n",
       "</g>\n",
       "<!-- 1 -->\n",
       "<g id=\"node2\" class=\"node\">\n",
       "<title>1</title>\n",
       "<text text-anchor=\"middle\" x=\"99\" y=\"-102.8\" font-family=\"Times,serif\" font-size=\"14.00\" fill=\"#000000\">record 0</text>\n",
       "</g>\n",
       "<!-- 0&#45;&gt;1 -->\n",
       "<g id=\"edge1\" class=\"edge\">\n",
       "<title>0&#45;&gt;1</title>\n",
       "<path fill=\"none\" stroke=\"#000000\" d=\"M40.3445,-106.5C48.0799,-106.5 57.1086,-106.5 65.731,-106.5\"/>\n",
       "<polygon fill=\"#000000\" stroke=\"#000000\" points=\"65.9326,-110.0001 75.9326,-106.5 65.9325,-103.0001 65.9326,-110.0001\"/>\n",
       "</g>\n",
       "<!-- 2 -->\n",
       "<g id=\"node3\" class=\"node\">\n",
       "<title>2</title>\n",
       "<text text-anchor=\"middle\" x=\"180.5\" y=\"-201.8\" font-family=\"Times,serif\" font-size=\"14.00\" fill=\"#000000\">1997</text>\n",
       "</g>\n",
       "<!-- 1&#45;&gt;2 -->\n",
       "<g id=\"edge2\" class=\"edge\">\n",
       "<title>1&#45;&gt;2</title>\n",
       "<path fill=\"none\" stroke=\"#000000\" d=\"M103.1662,-114.0026C111.9308,-129.3604 133.4998,-164.9955 158,-189.5 158.6524,-190.1525 159.3339,-190.7973 160.0364,-191.432\"/>\n",
       "<polygon fill=\"#000000\" stroke=\"#000000\" points=\"157.9853,-194.272 168.0014,-197.7259 162.3253,-188.7798 157.9853,-194.272\"/>\n",
       "</g>\n",
       "<!-- 3 -->\n",
       "<g id=\"node4\" class=\"node\">\n",
       "<title>3</title>\n",
       "<text text-anchor=\"middle\" x=\"180.5\" y=\"-168.8\" font-family=\"Times,serif\" font-size=\"14.00\" fill=\"#000000\">Ford</text>\n",
       "</g>\n",
       "<!-- 1&#45;&gt;3 -->\n",
       "<g id=\"edge3\" class=\"edge\">\n",
       "<title>1&#45;&gt;3</title>\n",
       "<path fill=\"none\" stroke=\"#000000\" d=\"M107.6041,-114.1915C118.9255,-124.2182 139.5524,-142.1655 158,-156.5 159.0219,-157.2941 160.0786,-158.0986 161.1512,-158.9026\"/>\n",
       "<polygon fill=\"#000000\" stroke=\"#000000\" points=\"159.2278,-161.8312 169.3771,-164.8711 163.3387,-156.1655 159.2278,-161.8312\"/>\n",
       "</g>\n",
       "<!-- 4 -->\n",
       "<g id=\"node5\" class=\"node\">\n",
       "<title>4</title>\n",
       "<text text-anchor=\"middle\" x=\"180.5\" y=\"-135.8\" font-family=\"Times,serif\" font-size=\"14.00\" fill=\"#000000\">E350</text>\n",
       "</g>\n",
       "<!-- 1&#45;&gt;4 -->\n",
       "<g id=\"edge4\" class=\"edge\">\n",
       "<title>1&#45;&gt;4</title>\n",
       "<path fill=\"none\" stroke=\"#000000\" d=\"M117.9026,-114.1538C129.291,-118.7651 143.9117,-124.6851 156.1586,-129.644\"/>\n",
       "<polygon fill=\"#000000\" stroke=\"#000000\" points=\"155.182,-133.0245 165.7646,-133.5335 157.8092,-126.5362 155.182,-133.0245\"/>\n",
       "</g>\n",
       "<!-- 5 -->\n",
       "<g id=\"node6\" class=\"node\">\n",
       "<title>5</title>\n",
       "<text text-anchor=\"middle\" x=\"180.5\" y=\"-102.8\" font-family=\"Times,serif\" font-size=\"14.00\" fill=\"#ff0000\">&quot;ac</text>\n",
       "</g>\n",
       "<!-- 1&#45;&gt;5 -->\n",
       "<g id=\"edge5\" class=\"edge\">\n",
       "<title>1&#45;&gt;5</title>\n",
       "<path fill=\"none\" stroke=\"#000000\" d=\"M122.1366,-106.5C134.2621,-106.5 148.9639,-106.5 160.5783,-106.5\"/>\n",
       "<polygon fill=\"#000000\" stroke=\"#000000\" points=\"160.5829,-110.0001 170.5829,-106.5 160.5829,-103.0001 160.5829,-110.0001\"/>\n",
       "</g>\n",
       "<!-- 6 -->\n",
       "<g id=\"node7\" class=\"node\">\n",
       "<title>6</title>\n",
       "<text text-anchor=\"middle\" x=\"180.5\" y=\"-69.8\" font-family=\"Times,serif\" font-size=\"14.00\" fill=\"#ff0000\"> abs</text>\n",
       "</g>\n",
       "<!-- 1&#45;&gt;6 -->\n",
       "<g id=\"edge6\" class=\"edge\">\n",
       "<title>1&#45;&gt;6</title>\n",
       "<path fill=\"none\" stroke=\"#000000\" d=\"M117.9026,-98.8462C130.5181,-93.7381 147.0997,-87.024 160.0274,-81.7895\"/>\n",
       "<polygon fill=\"#000000\" stroke=\"#000000\" points=\"161.5108,-84.965 169.4662,-77.9677 158.8836,-78.4767 161.5108,-84.965\"/>\n",
       "</g>\n",
       "<!-- 7 -->\n",
       "<g id=\"node8\" class=\"node\">\n",
       "<title>7</title>\n",
       "<text text-anchor=\"middle\" x=\"180.5\" y=\"-36.8\" font-family=\"Times,serif\" font-size=\"14.00\" fill=\"#ff0000\"> moon&quot;</text>\n",
       "</g>\n",
       "<!-- 1&#45;&gt;7 -->\n",
       "<g id=\"edge7\" class=\"edge\">\n",
       "<title>1&#45;&gt;7</title>\n",
       "<path fill=\"none\" stroke=\"#000000\" d=\"M108.0904,-98.7291C119.5867,-88.953 140.0499,-71.7227 158,-57.5 159.3718,-56.413 160.7993,-55.2981 162.2401,-54.1843\"/>\n",
       "<polygon fill=\"#000000\" stroke=\"#000000\" points=\"164.5049,-56.859 170.3438,-48.0183 160.2661,-51.2883 164.5049,-56.859\"/>\n",
       "</g>\n",
       "<!-- 8 -->\n",
       "<g id=\"node9\" class=\"node\">\n",
       "<title>8</title>\n",
       "<text text-anchor=\"middle\" x=\"180.5\" y=\"-3.8\" font-family=\"Times,serif\" font-size=\"14.00\" fill=\"#000000\">3000.00</text>\n",
       "</g>\n",
       "<!-- 1&#45;&gt;8 -->\n",
       "<g id=\"edge8\" class=\"edge\">\n",
       "<title>1&#45;&gt;8</title>\n",
       "<path fill=\"none\" stroke=\"#000000\" d=\"M103.5219,-98.6832C112.6009,-83.3796 134.2238,-48.8378 158,-24.5 158.9237,-23.5544 159.9029,-22.6192 160.9155,-21.7027\"/>\n",
       "<polygon fill=\"#000000\" stroke=\"#000000\" points=\"163.3996,-24.1948 168.9681,-15.1813 158.9941,-18.755 163.3996,-24.1948\"/>\n",
       "</g>\n",
       "</g>\n",
       "</svg>\n"
      ],
      "text/plain": [
       "<graphviz.dot.Digraph at 0x7f92846f22b0>"
      ]
     },
     "execution_count": 24,
     "metadata": {},
     "output_type": "execute_result"
    }
   ],
   "source": [
    "highlight_err_node = highlight_node(hl_predicate)\n",
    "display_tree(tree, log=False, node_attr=highlight_err_node,\n",
    "             graph_attr=lr_graph)"
   ]
  },
  {
   "cell_type": "markdown",
   "metadata": {},
   "source": [
    "The marked nodes indicate where our parsing went wrong. We can of course extend our parser to understand quotes. First we define some of the helper functions `parse_quote()`, `find_comma()` and `comma_split()`"
   ]
  },
  {
   "cell_type": "code",
   "execution_count": 25,
   "metadata": {},
   "outputs": [],
   "source": [
    "def parse_quote(string, i):\n",
    "    v = string[i + 1:].find('\"')\n",
    "    return v + i + 1 if v >= 0 else -1"
   ]
  },
  {
   "cell_type": "code",
   "execution_count": 26,
   "metadata": {},
   "outputs": [],
   "source": [
    "def find_comma(string, i):\n",
    "    slen = len(string)\n",
    "    while i < slen:\n",
    "        if string[i] == '\"':\n",
    "            i = parse_quote(string, i)\n",
    "            if i == -1:\n",
    "                return -1\n",
    "        if string[i] == ',':\n",
    "            return i\n",
    "        i += 1\n",
    "    return -1"
   ]
  },
  {
   "cell_type": "code",
   "execution_count": 27,
   "metadata": {},
   "outputs": [],
   "source": [
    "def comma_split(string):\n",
    "    slen = len(string)\n",
    "    i = 0\n",
    "    while i < slen:\n",
    "        c = find_comma(string, i)\n",
    "        if c == -1:\n",
    "            yield string[i:]\n",
    "            return\n",
    "        else:\n",
    "            yield string[i:c]\n",
    "        i = c + 1"
   ]
  },
  {
   "cell_type": "markdown",
   "metadata": {},
   "source": [
    "We can update our `parse_csv()` procedure to use our advanced quote parser."
   ]
  },
  {
   "cell_type": "code",
   "execution_count": 28,
   "metadata": {},
   "outputs": [],
   "source": [
    "def parse_csv(mystring):\n",
    "    children = []\n",
    "    tree = (START_SYMBOL, children)\n",
    "    for i, line in enumerate(mystring.split('\\n')):\n",
    "        children.append((\"record %d\" % i, [(cell, [])\n",
    "                                           for cell in comma_split(line)]))\n",
    "    return tree"
   ]
  },
  {
   "cell_type": "markdown",
   "metadata": {},
   "source": [
    "Our new `parse_csv()` can now handle quotes correctly."
   ]
  },
  {
   "cell_type": "code",
   "execution_count": 29,
   "metadata": {},
   "outputs": [
    {
     "data": {
      "image/svg+xml": [
       "<?xml version=\"1.0\" encoding=\"UTF-8\" standalone=\"no\"?>\n",
       "<!DOCTYPE svg PUBLIC \"-//W3C//DTD SVG 1.1//EN\"\n",
       " \"http://www.w3.org/Graphics/SVG/1.1/DTD/svg11.dtd\">\n",
       "<!-- Generated by graphviz version 2.40.1 (20161225.0304)\n",
       " -->\n",
       "<!-- Title: %3 Pages: 1 -->\n",
       "<svg width=\"255pt\" height=\"155pt\"\n",
       " viewBox=\"0.00 0.00 255.00 155.00\" xmlns=\"http://www.w3.org/2000/svg\" xmlns:xlink=\"http://www.w3.org/1999/xlink\">\n",
       "<g id=\"graph0\" class=\"graph\" transform=\"scale(1 1) rotate(0) translate(4 151)\">\n",
       "<title>%3</title>\n",
       "<polygon fill=\"#ffffff\" stroke=\"transparent\" points=\"-4,4 -4,-151 251,-151 251,4 -4,4\"/>\n",
       "<!-- 0 -->\n",
       "<g id=\"node1\" class=\"node\">\n",
       "<title>0</title>\n",
       "<text text-anchor=\"middle\" x=\"20\" y=\"-69.8\" font-family=\"Times,serif\" font-size=\"14.00\" fill=\"#000000\">&lt;start&gt;</text>\n",
       "</g>\n",
       "<!-- 1 -->\n",
       "<g id=\"node2\" class=\"node\">\n",
       "<title>1</title>\n",
       "<text text-anchor=\"middle\" x=\"99\" y=\"-69.8\" font-family=\"Times,serif\" font-size=\"14.00\" fill=\"#000000\">record 0</text>\n",
       "</g>\n",
       "<!-- 0&#45;&gt;1 -->\n",
       "<g id=\"edge1\" class=\"edge\">\n",
       "<title>0&#45;&gt;1</title>\n",
       "<path fill=\"none\" stroke=\"#000000\" d=\"M40.3445,-73.5C48.0799,-73.5 57.1086,-73.5 65.731,-73.5\"/>\n",
       "<polygon fill=\"#000000\" stroke=\"#000000\" points=\"65.9326,-77.0001 75.9326,-73.5 65.9325,-70.0001 65.9326,-77.0001\"/>\n",
       "</g>\n",
       "<!-- 2 -->\n",
       "<g id=\"node3\" class=\"node\">\n",
       "<title>2</title>\n",
       "<text text-anchor=\"middle\" x=\"202.5\" y=\"-135.8\" font-family=\"Times,serif\" font-size=\"14.00\" fill=\"#000000\">1997</text>\n",
       "</g>\n",
       "<!-- 1&#45;&gt;2 -->\n",
       "<g id=\"edge2\" class=\"edge\">\n",
       "<title>1&#45;&gt;2</title>\n",
       "<path fill=\"none\" stroke=\"#000000\" d=\"M106.3314,-81.2658C116.867,-92.0391 137.3085,-111.5403 158,-123.5 164.3994,-127.1989 171.8015,-130.275 178.7096,-132.7089\"/>\n",
       "<polygon fill=\"#000000\" stroke=\"#000000\" points=\"177.711,-136.0644 188.3028,-135.813 179.866,-129.4043 177.711,-136.0644\"/>\n",
       "</g>\n",
       "<!-- 3 -->\n",
       "<g id=\"node4\" class=\"node\">\n",
       "<title>3</title>\n",
       "<text text-anchor=\"middle\" x=\"202.5\" y=\"-102.8\" font-family=\"Times,serif\" font-size=\"14.00\" fill=\"#000000\">Ford</text>\n",
       "</g>\n",
       "<!-- 1&#45;&gt;3 -->\n",
       "<g id=\"edge3\" class=\"edge\">\n",
       "<title>1&#45;&gt;3</title>\n",
       "<path fill=\"none\" stroke=\"#000000\" d=\"M122.2274,-80.9058C139.4034,-86.3822 162.6757,-93.8024 179.7397,-99.2431\"/>\n",
       "<polygon fill=\"#000000\" stroke=\"#000000\" points=\"178.8616,-102.6367 189.4523,-102.3399 180.9881,-95.9674 178.8616,-102.6367\"/>\n",
       "</g>\n",
       "<!-- 4 -->\n",
       "<g id=\"node5\" class=\"node\">\n",
       "<title>4</title>\n",
       "<text text-anchor=\"middle\" x=\"202.5\" y=\"-69.8\" font-family=\"Times,serif\" font-size=\"14.00\" fill=\"#000000\">E350</text>\n",
       "</g>\n",
       "<!-- 1&#45;&gt;4 -->\n",
       "<g id=\"edge4\" class=\"edge\">\n",
       "<title>1&#45;&gt;4</title>\n",
       "<path fill=\"none\" stroke=\"#000000\" d=\"M122.2274,-73.5C138.7525,-73.5 160.9205,-73.5 177.7736,-73.5\"/>\n",
       "<polygon fill=\"#000000\" stroke=\"#000000\" points=\"177.9683,-77.0001 187.9682,-73.5 177.9682,-70.0001 177.9683,-77.0001\"/>\n",
       "</g>\n",
       "<!-- 5 -->\n",
       "<g id=\"node6\" class=\"node\">\n",
       "<title>5</title>\n",
       "<text text-anchor=\"middle\" x=\"202.5\" y=\"-36.8\" font-family=\"Times,serif\" font-size=\"14.00\" fill=\"#000000\">&quot;ac, abs, moon&quot;</text>\n",
       "</g>\n",
       "<!-- 1&#45;&gt;5 -->\n",
       "<g id=\"edge5\" class=\"edge\">\n",
       "<title>1&#45;&gt;5</title>\n",
       "<path fill=\"none\" stroke=\"#000000\" d=\"M122.2274,-66.0942C136.0146,-61.6982 153.7298,-56.0499 169.009,-51.1783\"/>\n",
       "<polygon fill=\"#000000\" stroke=\"#000000\" points=\"170.1679,-54.4824 178.6322,-48.11 168.0415,-47.8132 170.1679,-54.4824\"/>\n",
       "</g>\n",
       "<!-- 6 -->\n",
       "<g id=\"node7\" class=\"node\">\n",
       "<title>6</title>\n",
       "<text text-anchor=\"middle\" x=\"202.5\" y=\"-3.8\" font-family=\"Times,serif\" font-size=\"14.00\" fill=\"#000000\">3000.00</text>\n",
       "</g>\n",
       "<!-- 1&#45;&gt;6 -->\n",
       "<g id=\"edge6\" class=\"edge\">\n",
       "<title>1&#45;&gt;6</title>\n",
       "<path fill=\"none\" stroke=\"#000000\" d=\"M106.3955,-65.9564C117.0074,-55.4781 137.5388,-36.4608 158,-24.5 161.7752,-22.2932 165.8893,-20.2727 170.0412,-18.4558\"/>\n",
       "<polygon fill=\"#000000\" stroke=\"#000000\" points=\"171.6812,-21.5689 179.6561,-14.5938 169.0721,-15.0733 171.6812,-21.5689\"/>\n",
       "</g>\n",
       "</g>\n",
       "</svg>\n"
      ],
      "text/plain": [
       "<graphviz.dot.Digraph at 0x7f92846f2cf8>"
      ]
     },
     "execution_count": 29,
     "metadata": {},
     "output_type": "execute_result"
    }
   ],
   "source": [
    "tree = parse_csv(mystring)\n",
    "display_tree(tree, graph_attr=lr_graph)"
   ]
  },
  {
   "cell_type": "markdown",
   "metadata": {},
   "source": [
    "That of course does not survive long:"
   ]
  },
  {
   "cell_type": "code",
   "execution_count": 30,
   "metadata": {},
   "outputs": [
    {
     "name": "stdout",
     "output_type": "stream",
     "text": [
      "1999,Chevy,\"Venture \\\"Extended Edition, Very Large\\\"\",,5000.00\n"
     ]
    }
   ],
   "source": [
    "mystring = '''\\\n",
    "1999,Chevy,\"Venture \\\\\"Extended Edition, Very Large\\\\\"\",,5000.00\\\n",
    "'''\n",
    "print(mystring)"
   ]
  },
  {
   "cell_type": "markdown",
   "metadata": {},
   "source": [
    "A few embedded quotes are sufficient to confuse our parser again."
   ]
  },
  {
   "cell_type": "code",
   "execution_count": 31,
   "metadata": {},
   "outputs": [
    {
     "data": {
      "image/svg+xml": [
       "<?xml version=\"1.0\" encoding=\"UTF-8\" standalone=\"no\"?>\n",
       "<!DOCTYPE svg PUBLIC \"-//W3C//DTD SVG 1.1//EN\"\n",
       " \"http://www.w3.org/Graphics/SVG/1.1/DTD/svg11.dtd\">\n",
       "<!-- Generated by graphviz version 2.40.1 (20161225.0304)\n",
       " -->\n",
       "<!-- Title: %3 Pages: 1 -->\n",
       "<svg width=\"324pt\" height=\"174pt\"\n",
       " viewBox=\"0.00 0.00 324.00 174.00\" xmlns=\"http://www.w3.org/2000/svg\" xmlns:xlink=\"http://www.w3.org/1999/xlink\">\n",
       "<g id=\"graph0\" class=\"graph\" transform=\"scale(1 1) rotate(0) translate(4 170)\">\n",
       "<title>%3</title>\n",
       "<polygon fill=\"#ffffff\" stroke=\"transparent\" points=\"-4,4 -4,-170 320,-170 320,4 -4,4\"/>\n",
       "<!-- 0 -->\n",
       "<g id=\"node1\" class=\"node\">\n",
       "<title>0</title>\n",
       "<text text-anchor=\"middle\" x=\"20\" y=\"-71.8\" font-family=\"Times,serif\" font-size=\"14.00\" fill=\"#000000\">&lt;start&gt;</text>\n",
       "</g>\n",
       "<!-- 1 -->\n",
       "<g id=\"node2\" class=\"node\">\n",
       "<title>1</title>\n",
       "<text text-anchor=\"middle\" x=\"99\" y=\"-71.8\" font-family=\"Times,serif\" font-size=\"14.00\" fill=\"#000000\">record 0</text>\n",
       "</g>\n",
       "<!-- 0&#45;&gt;1 -->\n",
       "<g id=\"edge1\" class=\"edge\">\n",
       "<title>0&#45;&gt;1</title>\n",
       "<path fill=\"none\" stroke=\"#000000\" d=\"M40.3445,-75.5C48.0799,-75.5 57.1086,-75.5 65.731,-75.5\"/>\n",
       "<polygon fill=\"#000000\" stroke=\"#000000\" points=\"65.9326,-79.0001 75.9326,-75.5 65.9325,-72.0001 65.9326,-79.0001\"/>\n",
       "</g>\n",
       "<!-- 2 -->\n",
       "<g id=\"node3\" class=\"node\">\n",
       "<title>2</title>\n",
       "<text text-anchor=\"middle\" x=\"237\" y=\"-154.8\" font-family=\"Times,serif\" font-size=\"14.00\" fill=\"#000000\">1999</text>\n",
       "</g>\n",
       "<!-- 1&#45;&gt;2 -->\n",
       "<g id=\"edge2\" class=\"edge\">\n",
       "<title>1&#45;&gt;2</title>\n",
       "<path fill=\"none\" stroke=\"#000000\" d=\"M103.3886,-83.1754C111.9321,-97.3637 132.2393,-127.6024 158,-142.5 174.6339,-152.1195 196.1521,-156.0229 212.5293,-157.5746\"/>\n",
       "<polygon fill=\"#000000\" stroke=\"#000000\" points=\"212.6995,-161.0954 222.9228,-158.3144 213.1966,-154.1131 212.6995,-161.0954\"/>\n",
       "</g>\n",
       "<!-- 3 -->\n",
       "<g id=\"node4\" class=\"node\">\n",
       "<title>3</title>\n",
       "<text text-anchor=\"middle\" x=\"237\" y=\"-121.8\" font-family=\"Times,serif\" font-size=\"14.00\" fill=\"#000000\">Chevy</text>\n",
       "</g>\n",
       "<!-- 1&#45;&gt;3 -->\n",
       "<g id=\"edge3\" class=\"edge\">\n",
       "<title>1&#45;&gt;3</title>\n",
       "<path fill=\"none\" stroke=\"#000000\" d=\"M109.7761,-83.1475C121.2168,-90.9128 140.0847,-102.7298 158,-109.5 174.3792,-115.6897 193.6198,-119.651 209.0118,-122.0836\"/>\n",
       "<polygon fill=\"#000000\" stroke=\"#000000\" points=\"208.5708,-125.5562 218.9705,-123.5321 209.5784,-118.6291 208.5708,-125.5562\"/>\n",
       "</g>\n",
       "<!-- 4 -->\n",
       "<g id=\"node5\" class=\"node\">\n",
       "<title>4</title>\n",
       "<text text-anchor=\"middle\" x=\"237\" y=\"-88.8\" font-family=\"Times,serif\" font-size=\"14.00\" fill=\"#ff0000\">&quot;Venture \\&quot;Extended Edition</text>\n",
       "</g>\n",
       "<!-- 1&#45;&gt;4 -->\n",
       "<g id=\"edge4\" class=\"edge\">\n",
       "<title>1&#45;&gt;4</title>\n",
       "<path fill=\"none\" stroke=\"#000000\" d=\"M122.0981,-78.3454C134.2458,-79.8419 149.8675,-81.7663 165.6531,-83.7109\"/>\n",
       "<polygon fill=\"#000000\" stroke=\"#000000\" points=\"165.6624,-87.2384 176.0153,-84.9874 166.5183,-80.2909 165.6624,-87.2384\"/>\n",
       "</g>\n",
       "<!-- 5 -->\n",
       "<g id=\"node6\" class=\"node\">\n",
       "<title>5</title>\n",
       "<text text-anchor=\"middle\" x=\"237\" y=\"-55.8\" font-family=\"Times,serif\" font-size=\"14.00\" fill=\"#ff0000\"> Very Large\\&quot;&quot;</text>\n",
       "</g>\n",
       "<!-- 1&#45;&gt;5 -->\n",
       "<g id=\"edge5\" class=\"edge\">\n",
       "<title>1&#45;&gt;5</title>\n",
       "<path fill=\"none\" stroke=\"#000000\" d=\"M122.0981,-72.822C139.4526,-70.8098 163.8972,-67.9757 185.781,-65.4384\"/>\n",
       "<polygon fill=\"#000000\" stroke=\"#000000\" points=\"186.4169,-68.8882 195.9472,-64.2597 185.6106,-61.9348 186.4169,-68.8882\"/>\n",
       "</g>\n",
       "<!-- 6 -->\n",
       "<g id=\"node7\" class=\"node\">\n",
       "<title>6</title>\n",
       "</g>\n",
       "<!-- 1&#45;&gt;6 -->\n",
       "<g id=\"edge6\" class=\"edge\">\n",
       "<title>1&#45;&gt;6</title>\n",
       "<path fill=\"none\" stroke=\"#000000\" d=\"M110.1808,-67.7852C110.2256,-67.7559 110.2705,-67.7266 110.3155,-67.6972\"/>\n",
       "<polygon fill=\"#000000\" stroke=\"#000000\" points=\"103.9929,-76.0111 110.4508,-67.6088 100.1626,-70.15 103.9929,-76.0111\"/>\n",
       "</g>\n",
       "<!-- 7 -->\n",
       "<g id=\"node8\" class=\"node\">\n",
       "<title>7</title>\n",
       "<text text-anchor=\"middle\" x=\"237\" y=\"-3.8\" font-family=\"Times,serif\" font-size=\"14.00\" fill=\"#000000\">5000.00</text>\n",
       "</g>\n",
       "<!-- 1&#45;&gt;7 -->\n",
       "<g id=\"edge7\" class=\"edge\">\n",
       "<title>1&#45;&gt;7</title>\n",
       "<path fill=\"none\" stroke=\"#000000\" d=\"M105.4112,-67.9348C115.4294,-56.6319 135.9457,-35.4922 158,-24.5 172.2463,-17.3995 189.3826,-13.2536 204.0488,-10.8381\"/>\n",
       "<polygon fill=\"#000000\" stroke=\"#000000\" points=\"204.8189,-14.2632 214.2148,-9.3676 203.8167,-7.3353 204.8189,-14.2632\"/>\n",
       "</g>\n",
       "</g>\n",
       "</svg>\n"
      ],
      "text/plain": [
       "<graphviz.dot.Digraph at 0x7f92846f2320>"
      ]
     },
     "execution_count": 31,
     "metadata": {},
     "output_type": "execute_result"
    }
   ],
   "source": [
    "tree = parse_csv(mystring)\n",
    "bad_nodes = {4, 5}\n",
    "display_tree(tree, node_attr=highlight_err_node, graph_attr=lr_graph)"
   ]
  },
  {
   "cell_type": "markdown",
   "metadata": {},
   "source": [
    "Here is another record from that CSV file:"
   ]
  },
  {
   "cell_type": "code",
   "execution_count": 32,
   "metadata": {},
   "outputs": [
    {
     "name": "stdout",
     "output_type": "stream",
     "text": [
      "1996,Jeep,Grand Cherokee,\"MUST SELL!\n",
      "air, moon roof, loaded\",4799.00\n",
      "\n"
     ]
    }
   ],
   "source": [
    "mystring = '''\\\n",
    "1996,Jeep,Grand Cherokee,\"MUST SELL!\n",
    "air, moon roof, loaded\",4799.00\n",
    "'''\n",
    "print(mystring)"
   ]
  },
  {
   "cell_type": "code",
   "execution_count": 33,
   "metadata": {},
   "outputs": [
    {
     "data": {
      "image/svg+xml": [
       "<?xml version=\"1.0\" encoding=\"UTF-8\" standalone=\"no\"?>\n",
       "<!DOCTYPE svg PUBLIC \"-//W3C//DTD SVG 1.1//EN\"\n",
       " \"http://www.w3.org/Graphics/SVG/1.1/DTD/svg11.dtd\">\n",
       "<!-- Generated by graphviz version 2.40.1 (20161225.0304)\n",
       " -->\n",
       "<!-- Title: %3 Pages: 1 -->\n",
       "<svg width=\"260pt\" height=\"221pt\"\n",
       " viewBox=\"0.00 0.00 260.00 221.00\" xmlns=\"http://www.w3.org/2000/svg\" xmlns:xlink=\"http://www.w3.org/1999/xlink\">\n",
       "<g id=\"graph0\" class=\"graph\" transform=\"scale(1 1) rotate(0) translate(4 217)\">\n",
       "<title>%3</title>\n",
       "<polygon fill=\"#ffffff\" stroke=\"transparent\" points=\"-4,4 -4,-217 256,-217 256,4 -4,4\"/>\n",
       "<!-- 0 -->\n",
       "<g id=\"node1\" class=\"node\">\n",
       "<title>0</title>\n",
       "<text text-anchor=\"middle\" x=\"20\" y=\"-53.8\" font-family=\"Times,serif\" font-size=\"14.00\" fill=\"#000000\">&lt;start&gt;</text>\n",
       "</g>\n",
       "<!-- 1 -->\n",
       "<g id=\"node2\" class=\"node\">\n",
       "<title>1</title>\n",
       "<text text-anchor=\"middle\" x=\"99\" y=\"-135.8\" font-family=\"Times,serif\" font-size=\"14.00\" fill=\"#000000\">record 0</text>\n",
       "</g>\n",
       "<!-- 0&#45;&gt;1 -->\n",
       "<g id=\"edge1\" class=\"edge\">\n",
       "<title>0&#45;&gt;1</title>\n",
       "<path fill=\"none\" stroke=\"#000000\" d=\"M27.2905,-65.0674C40.2753,-78.5452 67.6286,-106.9373 84.5468,-124.498\"/>\n",
       "<polygon fill=\"#000000\" stroke=\"#000000\" points=\"82.038,-126.9385 91.4966,-131.7117 87.0791,-122.0818 82.038,-126.9385\"/>\n",
       "</g>\n",
       "<!-- 6 -->\n",
       "<g id=\"node7\" class=\"node\">\n",
       "<title>6</title>\n",
       "<text text-anchor=\"middle\" x=\"99\" y=\"-53.8\" font-family=\"Times,serif\" font-size=\"14.00\" fill=\"#ff0000\">record 1</text>\n",
       "</g>\n",
       "<!-- 0&#45;&gt;6 -->\n",
       "<g id=\"edge6\" class=\"edge\">\n",
       "<title>0&#45;&gt;6</title>\n",
       "<path fill=\"none\" stroke=\"#000000\" d=\"M40.3445,-57.5C48.0799,-57.5 57.1086,-57.5 65.731,-57.5\"/>\n",
       "<polygon fill=\"#000000\" stroke=\"#000000\" points=\"65.9326,-61.0001 75.9326,-57.5 65.9325,-54.0001 65.9326,-61.0001\"/>\n",
       "</g>\n",
       "<!-- 10 -->\n",
       "<g id=\"node11\" class=\"node\">\n",
       "<title>10</title>\n",
       "<text text-anchor=\"middle\" x=\"99\" y=\"-20.8\" font-family=\"Times,serif\" font-size=\"14.00\" fill=\"#ff0000\">record 2</text>\n",
       "</g>\n",
       "<!-- 0&#45;&gt;10 -->\n",
       "<g id=\"edge10\" class=\"edge\">\n",
       "<title>0&#45;&gt;10</title>\n",
       "<path fill=\"none\" stroke=\"#000000\" d=\"M38.3228,-49.8462C48.0942,-45.7645 60.3203,-40.6573 71.2326,-36.099\"/>\n",
       "<polygon fill=\"#000000\" stroke=\"#000000\" points=\"72.8984,-39.1964 80.7766,-32.1123 70.2002,-32.7372 72.8984,-39.1964\"/>\n",
       "</g>\n",
       "<!-- 2 -->\n",
       "<g id=\"node3\" class=\"node\">\n",
       "<title>2</title>\n",
       "<text text-anchor=\"middle\" x=\"205\" y=\"-201.8\" font-family=\"Times,serif\" font-size=\"14.00\" fill=\"#000000\">1996</text>\n",
       "</g>\n",
       "<!-- 1&#45;&gt;2 -->\n",
       "<g id=\"edge2\" class=\"edge\">\n",
       "<title>1&#45;&gt;2</title>\n",
       "<path fill=\"none\" stroke=\"#000000\" d=\"M106.3032,-147.315C116.8054,-158.1467 137.2073,-177.717 158,-189.5 165.1148,-193.5319 173.4114,-196.7729 181.0367,-199.2554\"/>\n",
       "<polygon fill=\"#000000\" stroke=\"#000000\" points=\"180.2616,-202.6764 190.8445,-202.1736 182.258,-195.9671 180.2616,-202.6764\"/>\n",
       "</g>\n",
       "<!-- 3 -->\n",
       "<g id=\"node4\" class=\"node\">\n",
       "<title>3</title>\n",
       "<text text-anchor=\"middle\" x=\"205\" y=\"-168.8\" font-family=\"Times,serif\" font-size=\"14.00\" fill=\"#000000\">Jeep</text>\n",
       "</g>\n",
       "<!-- 1&#45;&gt;3 -->\n",
       "<g id=\"edge3\" class=\"edge\">\n",
       "<title>1&#45;&gt;3</title>\n",
       "<path fill=\"none\" stroke=\"#000000\" d=\"M122.0004,-146.6605C140.019,-152.2701 164.9353,-160.027 182.7567,-165.5752\"/>\n",
       "<polygon fill=\"#000000\" stroke=\"#000000\" points=\"181.7357,-168.923 192.3241,-168.5537 183.8165,-162.2394 181.7357,-168.923\"/>\n",
       "</g>\n",
       "<!-- 4 -->\n",
       "<g id=\"node5\" class=\"node\">\n",
       "<title>4</title>\n",
       "<text text-anchor=\"middle\" x=\"205\" y=\"-135.8\" font-family=\"Times,serif\" font-size=\"14.00\" fill=\"#000000\">Grand Cherokee</text>\n",
       "</g>\n",
       "<!-- 1&#45;&gt;4 -->\n",
       "<g id=\"edge4\" class=\"edge\">\n",
       "<title>1&#45;&gt;4</title>\n",
       "<path fill=\"none\" stroke=\"#000000\" d=\"M122.0004,-139.5C130.2253,-139.5 139.8873,-139.5 149.6558,-139.5\"/>\n",
       "<polygon fill=\"#000000\" stroke=\"#000000\" points=\"149.8183,-143.0001 159.8183,-139.5 149.8182,-136.0001 149.8183,-143.0001\"/>\n",
       "</g>\n",
       "<!-- 5 -->\n",
       "<g id=\"node6\" class=\"node\">\n",
       "<title>5</title>\n",
       "<text text-anchor=\"middle\" x=\"205\" y=\"-102.8\" font-family=\"Times,serif\" font-size=\"14.00\" fill=\"#ff0000\">&quot;MUST SELL!</text>\n",
       "</g>\n",
       "<!-- 1&#45;&gt;5 -->\n",
       "<g id=\"edge5\" class=\"edge\">\n",
       "<title>1&#45;&gt;5</title>\n",
       "<path fill=\"none\" stroke=\"#000000\" d=\"M122.0004,-132.3395C136.3209,-127.8812 154.9983,-122.0666 171.0082,-117.0823\"/>\n",
       "<polygon fill=\"#000000\" stroke=\"#000000\" points=\"172.0616,-120.4202 180.5692,-114.1058 169.9808,-113.7366 172.0616,-120.4202\"/>\n",
       "</g>\n",
       "<!-- 7 -->\n",
       "<g id=\"node8\" class=\"node\">\n",
       "<title>7</title>\n",
       "<text text-anchor=\"middle\" x=\"205\" y=\"-69.8\" font-family=\"Times,serif\" font-size=\"14.00\" fill=\"#ff0000\">air</text>\n",
       "</g>\n",
       "<!-- 6&#45;&gt;7 -->\n",
       "<g id=\"edge7\" class=\"edge\">\n",
       "<title>6&#45;&gt;7</title>\n",
       "<path fill=\"none\" stroke=\"#000000\" d=\"M122.0004,-60.9718C141.6735,-63.9413 169.5691,-68.1519 187.4756,-70.8548\"/>\n",
       "<polygon fill=\"#000000\" stroke=\"#000000\" points=\"186.9823,-74.3199 197.3927,-72.3517 188.0271,-67.3983 186.9823,-74.3199\"/>\n",
       "</g>\n",
       "<!-- 8 -->\n",
       "<g id=\"node9\" class=\"node\">\n",
       "<title>8</title>\n",
       "<text text-anchor=\"middle\" x=\"205\" y=\"-36.8\" font-family=\"Times,serif\" font-size=\"14.00\" fill=\"#ff0000\"> moon roof</text>\n",
       "</g>\n",
       "<!-- 6&#45;&gt;8 -->\n",
       "<g id=\"edge8\" class=\"edge\">\n",
       "<title>6&#45;&gt;8</title>\n",
       "<path fill=\"none\" stroke=\"#000000\" d=\"M122.0004,-53.8113C134.2497,-51.8467 149.6867,-49.371 163.9154,-47.089\"/>\n",
       "<polygon fill=\"#000000\" stroke=\"#000000\" points=\"164.6802,-50.5112 173.9997,-45.4717 163.5716,-43.5995 164.6802,-50.5112\"/>\n",
       "</g>\n",
       "<!-- 9 -->\n",
       "<g id=\"node10\" class=\"node\">\n",
       "<title>9</title>\n",
       "<text text-anchor=\"middle\" x=\"205\" y=\"-3.8\" font-family=\"Times,serif\" font-size=\"14.00\" fill=\"#ff0000\"> loaded&quot;,4799.00</text>\n",
       "</g>\n",
       "<!-- 6&#45;&gt;9 -->\n",
       "<g id=\"edge9\" class=\"edge\">\n",
       "<title>6&#45;&gt;9</title>\n",
       "<path fill=\"none\" stroke=\"#000000\" d=\"M111.3514,-49.8102C123.0806,-42.6977 141.3466,-32.1077 158,-24.5 162.4987,-22.4449 167.3242,-20.4621 172.1079,-18.6214\"/>\n",
       "<polygon fill=\"#000000\" stroke=\"#000000\" points=\"173.5792,-21.8092 181.7502,-15.0649 171.1568,-15.2417 173.5792,-21.8092\"/>\n",
       "</g>\n",
       "</g>\n",
       "</svg>\n"
      ],
      "text/plain": [
       "<graphviz.dot.Digraph at 0x7f92846f2630>"
      ]
     },
     "execution_count": 33,
     "metadata": {},
     "output_type": "execute_result"
    }
   ],
   "source": [
    "tree = parse_csv(mystring)\n",
    "bad_nodes = {5, 6, 7, 8, 9, 10}\n",
    "display_tree(tree, node_attr=highlight_err_node, graph_attr=lr_graph)"
   ]
  },
  {
   "cell_type": "markdown",
   "metadata": {},
   "source": [
    "Fixing this would require modifying both inner `parse_quote()` and the outer `parse_csv()` procedures. We note that each of these features actually documented in the CSV [RFC 4180](https://tools.ietf.org/html/rfc4180)"
   ]
  },
  {
   "cell_type": "markdown",
   "metadata": {},
   "source": [
    "Indeed, each additional improvement falls apart even with a little extra complexity. The problem becomes severe when one encounters recursive expressions. For example, JSON is a common alternative to CSV files for saving data. Similarly, one may have to parse data from an HTML table instead of a CSV file if one is getting the data from the web.\n",
    "\n",
    "One might be tempted to fix it with a little more ad hoc parsing, with a bit of *regular expressions* thrown in. However, that is the [path to insanity](https://stackoverflow.com/a/1732454)."
   ]
  },
  {
   "cell_type": "markdown",
   "metadata": {},
   "source": [
    "It is here that _formal parsers_ shine. The main idea is that, any given set of strings belong to a language, and these languages can be specified by their grammars (as we saw in the [chapter on grammars](Grammars.ipynb)). The great thing about grammars is that they can be _composed_. That is, one can introduce finer and finer details into an internal structure without affecting the external structure, and similarly, one can change the external structure without much impact on the internal structure. We briefly describe grammars in the next section."
   ]
  },
  {
   "cell_type": "markdown",
   "metadata": {
    "slideshow": {
     "slide_type": "slide"
    },
    "toc-hr-collapsed": true
   },
   "source": [
    "## Grammars\n",
    "\n",
    "A grammar, as you have read from the [chapter on grammars](Grammars.ipynb) is a set of _rules_ that explain how the start symbol can be expanded. Each rule has a name, also called a _nonterminal_, and a set of _alternative choices_ in how the nonterminal can be expanded."
   ]
  },
  {
   "cell_type": "code",
   "execution_count": 34,
   "metadata": {
    "slideshow": {
     "slide_type": "subslide"
    }
   },
   "outputs": [],
   "source": [
    "A1_GRAMMAR = {\n",
    "    \"<start>\": [\"<expr>\"],\n",
    "    \"<expr>\": [\"<expr>+<expr>\", \"<expr>-<expr>\", \"<integer>\"],\n",
    "    \"<integer>\": [\"<digit><integer>\", \"<digit>\"],\n",
    "    \"<digit>\": [\"0\", \"1\", \"2\", \"3\", \"4\", \"5\", \"6\", \"7\", \"8\", \"9\"]\n",
    "}"
   ]
  },
  {
   "cell_type": "code",
   "execution_count": 35,
   "metadata": {},
   "outputs": [
    {
     "name": "stdout",
     "output_type": "stream",
     "text": [
      "start\n"
     ]
    },
    {
     "data": {
      "image/svg+xml": [
       "<svg class=\"railroad-diagram\" height=\"62\" viewBox=\"0 0 174.0 62\" width=\"174.0\" xmlns=\"http://www.w3.org/2000/svg\">\n",
       "<g transform=\"translate(.5 .5)\">\n",
       "<style>/* <![CDATA[ */\n",
       "    svg.railroad-diagram {\n",
       "        background-color:hsl(100,100%,100%);\n",
       "    }\n",
       "    svg.railroad-diagram path {\n",
       "        stroke-width:3;\n",
       "        stroke:black;\n",
       "        fill:rgba(0,0,0,0);\n",
       "    }\n",
       "    svg.railroad-diagram text {\n",
       "        font:bold 14px monospace;\n",
       "        text-anchor:middle;\n",
       "    }\n",
       "    svg.railroad-diagram text.label{\n",
       "        text-anchor:start;\n",
       "    }\n",
       "    svg.railroad-diagram text.comment{\n",
       "        font:italic 12px monospace;\n",
       "    }\n",
       "    svg.railroad-diagram rect{\n",
       "        stroke-width:3;\n",
       "        stroke:black;\n",
       "        fill:hsl(0,62%,82%);\n",
       "    }\n",
       "\n",
       "/* ]]> */\n",
       "</style><g>\n",
       "<path d=\"M20 21v20m10 -20v20m-10 -10h20\"/></g><g>\n",
       "<path d=\"M40 31h0.0\"/><path d=\"M134.0 31h0.0\"/><path d=\"M40.0 31h20\"/><g>\n",
       "<path d=\"M60.0 31h0.0\"/><path d=\"M114.0 31h0.0\"/><g class=\"non-terminal\">\n",
       "<path d=\"M60.0 31h0.0\"/><path d=\"M114.0 31h0.0\"/><rect height=\"22\" width=\"54.0\" x=\"60.0\" y=\"20\"/><text x=\"87.0\" y=\"35\">expr</text></g></g><path d=\"M114.0 31h20\"/></g><path d=\"M 134.0 31 h 20 m -10 -10 v 20 m 10 -20 v 20\"/></g></svg>"
      ],
      "text/plain": [
       "<IPython.core.display.SVG object>"
      ]
     },
     "metadata": {},
     "output_type": "display_data"
    },
    {
     "name": "stdout",
     "output_type": "stream",
     "text": [
      "expr\n"
     ]
    },
    {
     "data": {
      "image/svg+xml": [
       "<svg class=\"railroad-diagram\" height=\"122\" viewBox=\"0 0 296.5 122\" width=\"296.5\" xmlns=\"http://www.w3.org/2000/svg\">\n",
       "<g transform=\"translate(.5 .5)\">\n",
       "<style>/* <![CDATA[ */\n",
       "    svg.railroad-diagram {\n",
       "        background-color:hsl(100,100%,100%);\n",
       "    }\n",
       "    svg.railroad-diagram path {\n",
       "        stroke-width:3;\n",
       "        stroke:black;\n",
       "        fill:rgba(0,0,0,0);\n",
       "    }\n",
       "    svg.railroad-diagram text {\n",
       "        font:bold 14px monospace;\n",
       "        text-anchor:middle;\n",
       "    }\n",
       "    svg.railroad-diagram text.label{\n",
       "        text-anchor:start;\n",
       "    }\n",
       "    svg.railroad-diagram text.comment{\n",
       "        font:italic 12px monospace;\n",
       "    }\n",
       "    svg.railroad-diagram rect{\n",
       "        stroke-width:3;\n",
       "        stroke:black;\n",
       "        fill:hsl(0,62%,82%);\n",
       "    }\n",
       "\n",
       "/* ]]> */\n",
       "</style><g>\n",
       "<path d=\"M20 51v20m10 -20v20m-10 -10h20\"/></g><g>\n",
       "<path d=\"M40 61h0.0\"/><path d=\"M256.5 61h0.0\"/><path d=\"M40.0 61a10 10 0 0 0 10 -10v-10a10 10 0 0 1 10 -10\"/><g>\n",
       "<path d=\"M60.0 31h0.0\"/><path d=\"M236.5 31h0.0\"/><g class=\"non-terminal\">\n",
       "<path d=\"M60.0 31h0.0\"/><path d=\"M114.0 31h0.0\"/><rect height=\"22\" width=\"54.0\" x=\"60.0\" y=\"20\"/><text x=\"87.0\" y=\"35\">expr</text></g><path d=\"M114.0 31h10\"/><path d=\"M124.0 31h10\"/><g class=\"terminal\">\n",
       "<path d=\"M134.0 31h0.0\"/><path d=\"M162.5 31h0.0\"/><rect height=\"22\" rx=\"10\" ry=\"10\" width=\"28.5\" x=\"134.0\" y=\"20\"/><text x=\"148.25\" y=\"35\">+</text></g><path d=\"M162.5 31h10\"/><path d=\"M172.5 31h10\"/><g class=\"non-terminal\">\n",
       "<path d=\"M182.5 31h0.0\"/><path d=\"M236.5 31h0.0\"/><rect height=\"22\" width=\"54.0\" x=\"182.5\" y=\"20\"/><text x=\"209.5\" y=\"35\">expr</text></g></g><path d=\"M236.5 31a10 10 0 0 1 10 10v10a10 10 0 0 0 10 10\"/><path d=\"M40.0 61h20\"/><g>\n",
       "<path d=\"M60.0 61h0.0\"/><path d=\"M236.5 61h0.0\"/><g class=\"non-terminal\">\n",
       "<path d=\"M60.0 61h0.0\"/><path d=\"M114.0 61h0.0\"/><rect height=\"22\" width=\"54.0\" x=\"60.0\" y=\"50\"/><text x=\"87.0\" y=\"65\">expr</text></g><path d=\"M114.0 61h10\"/><path d=\"M124.0 61h10\"/><g class=\"terminal\">\n",
       "<path d=\"M134.0 61h0.0\"/><path d=\"M162.5 61h0.0\"/><rect height=\"22\" rx=\"10\" ry=\"10\" width=\"28.5\" x=\"134.0\" y=\"50\"/><text x=\"148.25\" y=\"65\">-</text></g><path d=\"M162.5 61h10\"/><path d=\"M172.5 61h10\"/><g class=\"non-terminal\">\n",
       "<path d=\"M182.5 61h0.0\"/><path d=\"M236.5 61h0.0\"/><rect height=\"22\" width=\"54.0\" x=\"182.5\" y=\"50\"/><text x=\"209.5\" y=\"65\">expr</text></g></g><path d=\"M236.5 61h20\"/><path d=\"M40.0 61a10 10 0 0 1 10 10v10a10 10 0 0 0 10 10\"/><g>\n",
       "<path d=\"M60.0 91h48.5\"/><path d=\"M188.0 91h48.5\"/><g class=\"non-terminal\">\n",
       "<path d=\"M108.5 91h0.0\"/><path d=\"M188.0 91h0.0\"/><rect height=\"22\" width=\"79.5\" x=\"108.5\" y=\"80\"/><text x=\"148.25\" y=\"95\">integer</text></g></g><path d=\"M236.5 91a10 10 0 0 0 10 -10v-10a10 10 0 0 1 10 -10\"/></g><path d=\"M 256.5 61 h 20 m -10 -10 v 20 m 10 -20 v 20\"/></g></svg>"
      ],
      "text/plain": [
       "<IPython.core.display.SVG object>"
      ]
     },
     "metadata": {},
     "output_type": "display_data"
    },
    {
     "name": "stdout",
     "output_type": "stream",
     "text": [
      "integer\n"
     ]
    },
    {
     "data": {
      "image/svg+xml": [
       "<svg class=\"railroad-diagram\" height=\"92\" viewBox=\"0 0 282.0 92\" width=\"282.0\" xmlns=\"http://www.w3.org/2000/svg\">\n",
       "<g transform=\"translate(.5 .5)\">\n",
       "<style>/* <![CDATA[ */\n",
       "    svg.railroad-diagram {\n",
       "        background-color:hsl(100,100%,100%);\n",
       "    }\n",
       "    svg.railroad-diagram path {\n",
       "        stroke-width:3;\n",
       "        stroke:black;\n",
       "        fill:rgba(0,0,0,0);\n",
       "    }\n",
       "    svg.railroad-diagram text {\n",
       "        font:bold 14px monospace;\n",
       "        text-anchor:middle;\n",
       "    }\n",
       "    svg.railroad-diagram text.label{\n",
       "        text-anchor:start;\n",
       "    }\n",
       "    svg.railroad-diagram text.comment{\n",
       "        font:italic 12px monospace;\n",
       "    }\n",
       "    svg.railroad-diagram rect{\n",
       "        stroke-width:3;\n",
       "        stroke:black;\n",
       "        fill:hsl(0,62%,82%);\n",
       "    }\n",
       "\n",
       "/* ]]> */\n",
       "</style><g>\n",
       "<path d=\"M20 51v20m10 -20v20m-10 -10h20\"/></g><g>\n",
       "<path d=\"M40 61h0.0\"/><path d=\"M242.0 61h0.0\"/><path d=\"M40.0 61a10 10 0 0 0 10 -10v-10a10 10 0 0 1 10 -10\"/><g>\n",
       "<path d=\"M60.0 31h0.0\"/><path d=\"M222.0 31h0.0\"/><g class=\"non-terminal\">\n",
       "<path d=\"M60.0 31h0.0\"/><path d=\"M122.5 31h0.0\"/><rect height=\"22\" width=\"62.5\" x=\"60.0\" y=\"20\"/><text x=\"91.25\" y=\"35\">digit</text></g><path d=\"M122.5 31h10\"/><path d=\"M132.5 31h10\"/><g class=\"non-terminal\">\n",
       "<path d=\"M142.5 31h0.0\"/><path d=\"M222.0 31h0.0\"/><rect height=\"22\" width=\"79.5\" x=\"142.5\" y=\"20\"/><text x=\"182.25\" y=\"35\">integer</text></g></g><path d=\"M222.0 31a10 10 0 0 1 10 10v10a10 10 0 0 0 10 10\"/><path d=\"M40.0 61h20\"/><g>\n",
       "<path d=\"M60.0 61h49.75\"/><path d=\"M172.25 61h49.75\"/><g class=\"non-terminal\">\n",
       "<path d=\"M109.75 61h0.0\"/><path d=\"M172.25 61h0.0\"/><rect height=\"22\" width=\"62.5\" x=\"109.75\" y=\"50\"/><text x=\"141.0\" y=\"65\">digit</text></g></g><path d=\"M222.0 61h20\"/></g><path d=\"M 242.0 61 h 20 m -10 -10 v 20 m 10 -20 v 20\"/></g></svg>"
      ],
      "text/plain": [
       "<IPython.core.display.SVG object>"
      ]
     },
     "metadata": {},
     "output_type": "display_data"
    },
    {
     "name": "stdout",
     "output_type": "stream",
     "text": [
      "digit\n"
     ]
    },
    {
     "data": {
      "image/svg+xml": [
       "<svg class=\"railroad-diagram\" height=\"109\" viewBox=\"0 0 522.5 109\" width=\"522.5\" xmlns=\"http://www.w3.org/2000/svg\">\n",
       "<g transform=\"translate(.5 .5)\">\n",
       "<style>/* <![CDATA[ */\n",
       "    svg.railroad-diagram {\n",
       "        background-color:hsl(100,100%,100%);\n",
       "    }\n",
       "    svg.railroad-diagram path {\n",
       "        stroke-width:3;\n",
       "        stroke:black;\n",
       "        fill:rgba(0,0,0,0);\n",
       "    }\n",
       "    svg.railroad-diagram text {\n",
       "        font:bold 14px monospace;\n",
       "        text-anchor:middle;\n",
       "    }\n",
       "    svg.railroad-diagram text.label{\n",
       "        text-anchor:start;\n",
       "    }\n",
       "    svg.railroad-diagram text.comment{\n",
       "        font:italic 12px monospace;\n",
       "    }\n",
       "    svg.railroad-diagram rect{\n",
       "        stroke-width:3;\n",
       "        stroke:black;\n",
       "        fill:hsl(0,62%,82%);\n",
       "    }\n",
       "\n",
       "/* ]]> */\n",
       "</style><g>\n",
       "<path d=\"M20 59v20m10 -20v20m-10 -10h20\"/></g><g>\n",
       "<path d=\"M40 69h0.0\"/><path d=\"M482.5 69h0.0\"/><path d=\"M40.0 69a10 10 0 0 0 10 -10v-29a10 10 0 0 1 10 -10h324.0\"/><path d=\"M138.5 89h324.0a10 10 0 0 0 10 -10v0a10 10 0 0 1 10 -10\"/><path d=\"M40.0 69h10\"/><g>\n",
       "<path d=\"M50.0 69h0.0\"/><path d=\"M118.5 69h0.0\"/><path d=\"M50.0 69a10 10 0 0 0 10 -10v-10a10 10 0 0 1 10 -10\"/><g>\n",
       "<path d=\"M70.0 39h0.0\"/><path d=\"M98.5 39h0.0\"/><g class=\"terminal\">\n",
       "<path d=\"M70.0 39h0.0\"/><path d=\"M98.5 39h0.0\"/><rect height=\"22\" rx=\"10\" ry=\"10\" width=\"28.5\" x=\"70.0\" y=\"28\"/><text x=\"84.25\" y=\"43\">0</text></g></g><path d=\"M98.5 39a10 10 0 0 1 10 10v10a10 10 0 0 0 10 10\"/><path d=\"M50.0 69h20\"/><g>\n",
       "<path d=\"M70.0 69h0.0\"/><path d=\"M98.5 69h0.0\"/><g class=\"terminal\">\n",
       "<path d=\"M70.0 69h0.0\"/><path d=\"M98.5 69h0.0\"/><rect height=\"22\" rx=\"10\" ry=\"10\" width=\"28.5\" x=\"70.0\" y=\"58\"/><text x=\"84.25\" y=\"73\">1</text></g></g><path d=\"M98.5 69h20\"/></g><path d=\"M118.5 69a10 10 0 0 1 10 10v0a10 10 0 0 0 10 10\"/><path d=\"M118.5 20a10 10 0 0 1 10 10v29a10 10 0 0 0 10 10\"/><g>\n",
       "<path d=\"M138.5 69h0.0\"/><path d=\"M207.0 69h0.0\"/><path d=\"M138.5 69a10 10 0 0 0 10 -10v-10a10 10 0 0 1 10 -10\"/><g>\n",
       "<path d=\"M158.5 39h0.0\"/><path d=\"M187.0 39h0.0\"/><g class=\"terminal\">\n",
       "<path d=\"M158.5 39h0.0\"/><path d=\"M187.0 39h0.0\"/><rect height=\"22\" rx=\"10\" ry=\"10\" width=\"28.5\" x=\"158.5\" y=\"28\"/><text x=\"172.75\" y=\"43\">2</text></g></g><path d=\"M187.0 39a10 10 0 0 1 10 10v10a10 10 0 0 0 10 10\"/><path d=\"M138.5 69h20\"/><g>\n",
       "<path d=\"M158.5 69h0.0\"/><path d=\"M187.0 69h0.0\"/><g class=\"terminal\">\n",
       "<path d=\"M158.5 69h0.0\"/><path d=\"M187.0 69h0.0\"/><rect height=\"22\" rx=\"10\" ry=\"10\" width=\"28.5\" x=\"158.5\" y=\"58\"/><text x=\"172.75\" y=\"73\">3</text></g></g><path d=\"M187.0 69h20\"/></g><path d=\"M207.0 69a10 10 0 0 1 10 10v0a10 10 0 0 0 10 10\"/><path d=\"M207.0 20a10 10 0 0 1 10 10v29a10 10 0 0 0 10 10\"/><g>\n",
       "<path d=\"M227.0 69h0.0\"/><path d=\"M295.5 69h0.0\"/><path d=\"M227.0 69a10 10 0 0 0 10 -10v-10a10 10 0 0 1 10 -10\"/><g>\n",
       "<path d=\"M247.0 39h0.0\"/><path d=\"M275.5 39h0.0\"/><g class=\"terminal\">\n",
       "<path d=\"M247.0 39h0.0\"/><path d=\"M275.5 39h0.0\"/><rect height=\"22\" rx=\"10\" ry=\"10\" width=\"28.5\" x=\"247.0\" y=\"28\"/><text x=\"261.25\" y=\"43\">4</text></g></g><path d=\"M275.5 39a10 10 0 0 1 10 10v10a10 10 0 0 0 10 10\"/><path d=\"M227.0 69h20\"/><g>\n",
       "<path d=\"M247.0 69h0.0\"/><path d=\"M275.5 69h0.0\"/><g class=\"terminal\">\n",
       "<path d=\"M247.0 69h0.0\"/><path d=\"M275.5 69h0.0\"/><rect height=\"22\" rx=\"10\" ry=\"10\" width=\"28.5\" x=\"247.0\" y=\"58\"/><text x=\"261.25\" y=\"73\">5</text></g></g><path d=\"M275.5 69h20\"/></g><path d=\"M295.5 69a10 10 0 0 1 10 10v0a10 10 0 0 0 10 10\"/><path d=\"M295.5 20a10 10 0 0 1 10 10v29a10 10 0 0 0 10 10\"/><g>\n",
       "<path d=\"M315.5 69h0.0\"/><path d=\"M384.0 69h0.0\"/><path d=\"M315.5 69a10 10 0 0 0 10 -10v-10a10 10 0 0 1 10 -10\"/><g>\n",
       "<path d=\"M335.5 39h0.0\"/><path d=\"M364.0 39h0.0\"/><g class=\"terminal\">\n",
       "<path d=\"M335.5 39h0.0\"/><path d=\"M364.0 39h0.0\"/><rect height=\"22\" rx=\"10\" ry=\"10\" width=\"28.5\" x=\"335.5\" y=\"28\"/><text x=\"349.75\" y=\"43\">6</text></g></g><path d=\"M364.0 39a10 10 0 0 1 10 10v10a10 10 0 0 0 10 10\"/><path d=\"M315.5 69h20\"/><g>\n",
       "<path d=\"M335.5 69h0.0\"/><path d=\"M364.0 69h0.0\"/><g class=\"terminal\">\n",
       "<path d=\"M335.5 69h0.0\"/><path d=\"M364.0 69h0.0\"/><rect height=\"22\" rx=\"10\" ry=\"10\" width=\"28.5\" x=\"335.5\" y=\"58\"/><text x=\"349.75\" y=\"73\">7</text></g></g><path d=\"M364.0 69h20\"/></g><path d=\"M384.0 69a10 10 0 0 1 10 10v0a10 10 0 0 0 10 10\"/><path d=\"M384.0 20a10 10 0 0 1 10 10v29a10 10 0 0 0 10 10\"/><g>\n",
       "<path d=\"M404.0 69h0.0\"/><path d=\"M472.5 69h0.0\"/><path d=\"M404.0 69a10 10 0 0 0 10 -10v-10a10 10 0 0 1 10 -10\"/><g>\n",
       "<path d=\"M424.0 39h0.0\"/><path d=\"M452.5 39h0.0\"/><g class=\"terminal\">\n",
       "<path d=\"M424.0 39h0.0\"/><path d=\"M452.5 39h0.0\"/><rect height=\"22\" rx=\"10\" ry=\"10\" width=\"28.5\" x=\"424.0\" y=\"28\"/><text x=\"438.25\" y=\"43\">8</text></g></g><path d=\"M452.5 39a10 10 0 0 1 10 10v10a10 10 0 0 0 10 10\"/><path d=\"M404.0 69h20\"/><g>\n",
       "<path d=\"M424.0 69h0.0\"/><path d=\"M452.5 69h0.0\"/><g class=\"terminal\">\n",
       "<path d=\"M424.0 69h0.0\"/><path d=\"M452.5 69h0.0\"/><rect height=\"22\" rx=\"10\" ry=\"10\" width=\"28.5\" x=\"424.0\" y=\"58\"/><text x=\"438.25\" y=\"73\">9</text></g></g><path d=\"M452.5 69h20\"/></g><path d=\"M472.5 69h10\"/></g><path d=\"M 482.5 69 h 20 m -10 -10 v 20 m 10 -20 v 20\"/></g></svg>"
      ],
      "text/plain": [
       "<IPython.core.display.SVG object>"
      ]
     },
     "metadata": {},
     "output_type": "display_data"
    }
   ],
   "source": [
    "syntax_diagram(A1_GRAMMAR)"
   ]
  },
  {
   "cell_type": "markdown",
   "metadata": {
    "slideshow": {
     "slide_type": "notes"
    }
   },
   "source": [
    "In the above expression, the rule `<expr> : [<expr>+<expr>,<expr>-<expr>,<integer>]` corresponds to how the nonterminal `<expr>` might be expanded.  The expression `<expr>+<expr>` corresponds to one of the alternative choices. We call this an _alternative_ expansion for the nonterminal `<expr>`. Finally, in an expression `<expr>+<expr>`, each of `<expr>`, `+`, and `<expr>` are _symbols_ in that expansion. A symbol could be either a nonterminal or a terminal symbol based on whether its expansion is available in the grammar."
   ]
  },
  {
   "cell_type": "markdown",
   "metadata": {
    "slideshow": {
     "slide_type": "slide"
    }
   },
   "source": [
    "Here is a string that represents an arithmetic expression that we would like to parse, which is specified by the grammar above:"
   ]
  },
  {
   "cell_type": "code",
   "execution_count": 36,
   "metadata": {
    "slideshow": {
     "slide_type": "fragment"
    }
   },
   "outputs": [],
   "source": [
    "mystring = '1+2'"
   ]
  },
  {
   "cell_type": "markdown",
   "metadata": {
    "slideshow": {
     "slide_type": "subslide"
    }
   },
   "source": [
    "The _derivation tree_ for our expression from this grammar is given by:"
   ]
  },
  {
   "cell_type": "code",
   "execution_count": 37,
   "metadata": {
    "slideshow": {
     "slide_type": "fragment"
    }
   },
   "outputs": [
    {
     "data": {
      "image/svg+xml": [
       "<?xml version=\"1.0\" encoding=\"UTF-8\" standalone=\"no\"?>\n",
       "<!DOCTYPE svg PUBLIC \"-//W3C//DTD SVG 1.1//EN\"\n",
       " \"http://www.w3.org/Graphics/SVG/1.1/DTD/svg11.dtd\">\n",
       "<!-- Generated by graphviz version 2.40.1 (20161225.0304)\n",
       " -->\n",
       "<!-- Title: %3 Pages: 1 -->\n",
       "<svg width=\"149pt\" height=\"278pt\"\n",
       " viewBox=\"0.00 0.00 149.00 278.00\" xmlns=\"http://www.w3.org/2000/svg\" xmlns:xlink=\"http://www.w3.org/1999/xlink\">\n",
       "<g id=\"graph0\" class=\"graph\" transform=\"scale(1 1) rotate(0) translate(4 274)\">\n",
       "<title>%3</title>\n",
       "<polygon fill=\"#ffffff\" stroke=\"transparent\" points=\"-4,4 -4,-274 145,-274 145,4 -4,4\"/>\n",
       "<!-- 0 -->\n",
       "<g id=\"node1\" class=\"node\">\n",
       "<title>0</title>\n",
       "<text text-anchor=\"middle\" x=\"70.5\" y=\"-258.8\" font-family=\"Times,serif\" font-size=\"14.00\" fill=\"#000000\">&lt;start&gt;</text>\n",
       "</g>\n",
       "<!-- 1 -->\n",
       "<g id=\"node2\" class=\"node\">\n",
       "<title>1</title>\n",
       "<text text-anchor=\"middle\" x=\"70.5\" y=\"-207.8\" font-family=\"Times,serif\" font-size=\"14.00\" fill=\"#000000\">&lt;expr&gt;</text>\n",
       "</g>\n",
       "<!-- 0&#45;&gt;1 -->\n",
       "<g id=\"edge1\" class=\"edge\">\n",
       "<title>0&#45;&gt;1</title>\n",
       "<path fill=\"none\" stroke=\"#000000\" d=\"M70.5,-254.9748C70.5,-248.195 70.5,-237.966 70.5,-229.1331\"/>\n",
       "<polygon fill=\"#000000\" stroke=\"#000000\" points=\"74.0001,-229.0561 70.5,-219.0561 67.0001,-229.0561 74.0001,-229.0561\"/>\n",
       "</g>\n",
       "<!-- 2 -->\n",
       "<g id=\"node3\" class=\"node\">\n",
       "<title>2</title>\n",
       "<text text-anchor=\"middle\" x=\"27.5\" y=\"-156.8\" font-family=\"Times,serif\" font-size=\"14.00\" fill=\"#000000\">&lt;expr&gt;</text>\n",
       "</g>\n",
       "<!-- 1&#45;&gt;2 -->\n",
       "<g id=\"edge2\" class=\"edge\">\n",
       "<title>1&#45;&gt;2</title>\n",
       "<path fill=\"none\" stroke=\"#000000\" d=\"M64.1552,-203.9748C57.9308,-196.5923 48.2583,-185.1203 40.4119,-175.8142\"/>\n",
       "<polygon fill=\"#000000\" stroke=\"#000000\" points=\"42.9927,-173.4452 33.8708,-168.0561 37.641,-177.9574 42.9927,-173.4452\"/>\n",
       "</g>\n",
       "<!-- 6 -->\n",
       "<g id=\"node7\" class=\"node\">\n",
       "<title>6</title>\n",
       "<text text-anchor=\"middle\" x=\"70.5\" y=\"-156.8\" font-family=\"Times,serif\" font-size=\"14.00\" fill=\"#000000\">+</text>\n",
       "</g>\n",
       "<!-- 1&#45;&gt;6 -->\n",
       "<g id=\"edge6\" class=\"edge\">\n",
       "<title>1&#45;&gt;6</title>\n",
       "<path fill=\"none\" stroke=\"#000000\" d=\"M70.5,-203.9748C70.5,-197.195 70.5,-186.966 70.5,-178.1331\"/>\n",
       "<polygon fill=\"#000000\" stroke=\"#000000\" points=\"74.0001,-178.0561 70.5,-168.0561 67.0001,-178.0561 74.0001,-178.0561\"/>\n",
       "</g>\n",
       "<!-- 7 -->\n",
       "<g id=\"node8\" class=\"node\">\n",
       "<title>7</title>\n",
       "<text text-anchor=\"middle\" x=\"113.5\" y=\"-156.8\" font-family=\"Times,serif\" font-size=\"14.00\" fill=\"#000000\">&lt;expr&gt;</text>\n",
       "</g>\n",
       "<!-- 1&#45;&gt;7 -->\n",
       "<g id=\"edge7\" class=\"edge\">\n",
       "<title>1&#45;&gt;7</title>\n",
       "<path fill=\"none\" stroke=\"#000000\" d=\"M76.8448,-203.9748C83.0692,-196.5923 92.7417,-185.1203 100.5881,-175.8142\"/>\n",
       "<polygon fill=\"#000000\" stroke=\"#000000\" points=\"103.359,-177.9574 107.1292,-168.0561 98.0073,-173.4452 103.359,-177.9574\"/>\n",
       "</g>\n",
       "<!-- 3 -->\n",
       "<g id=\"node4\" class=\"node\">\n",
       "<title>3</title>\n",
       "<text text-anchor=\"middle\" x=\"27.5\" y=\"-105.8\" font-family=\"Times,serif\" font-size=\"14.00\" fill=\"#000000\">&lt;integer&gt;</text>\n",
       "</g>\n",
       "<!-- 2&#45;&gt;3 -->\n",
       "<g id=\"edge3\" class=\"edge\">\n",
       "<title>2&#45;&gt;3</title>\n",
       "<path fill=\"none\" stroke=\"#000000\" d=\"M27.5,-152.9748C27.5,-146.195 27.5,-135.966 27.5,-127.1331\"/>\n",
       "<polygon fill=\"#000000\" stroke=\"#000000\" points=\"31.0001,-127.0561 27.5,-117.0561 24.0001,-127.0561 31.0001,-127.0561\"/>\n",
       "</g>\n",
       "<!-- 4 -->\n",
       "<g id=\"node5\" class=\"node\">\n",
       "<title>4</title>\n",
       "<text text-anchor=\"middle\" x=\"27.5\" y=\"-54.8\" font-family=\"Times,serif\" font-size=\"14.00\" fill=\"#000000\">&lt;digit&gt;</text>\n",
       "</g>\n",
       "<!-- 3&#45;&gt;4 -->\n",
       "<g id=\"edge4\" class=\"edge\">\n",
       "<title>3&#45;&gt;4</title>\n",
       "<path fill=\"none\" stroke=\"#000000\" d=\"M27.5,-101.9748C27.5,-95.195 27.5,-84.966 27.5,-76.1331\"/>\n",
       "<polygon fill=\"#000000\" stroke=\"#000000\" points=\"31.0001,-76.0561 27.5,-66.0561 24.0001,-76.0561 31.0001,-76.0561\"/>\n",
       "</g>\n",
       "<!-- 5 -->\n",
       "<g id=\"node6\" class=\"node\">\n",
       "<title>5</title>\n",
       "<text text-anchor=\"middle\" x=\"27.5\" y=\"-3.8\" font-family=\"Times,serif\" font-size=\"14.00\" fill=\"#000000\">1</text>\n",
       "</g>\n",
       "<!-- 4&#45;&gt;5 -->\n",
       "<g id=\"edge5\" class=\"edge\">\n",
       "<title>4&#45;&gt;5</title>\n",
       "<path fill=\"none\" stroke=\"#000000\" d=\"M27.5,-50.9748C27.5,-44.195 27.5,-33.966 27.5,-25.1331\"/>\n",
       "<polygon fill=\"#000000\" stroke=\"#000000\" points=\"31.0001,-25.0561 27.5,-15.0561 24.0001,-25.0561 31.0001,-25.0561\"/>\n",
       "</g>\n",
       "<!-- 8 -->\n",
       "<g id=\"node9\" class=\"node\">\n",
       "<title>8</title>\n",
       "<text text-anchor=\"middle\" x=\"113.5\" y=\"-105.8\" font-family=\"Times,serif\" font-size=\"14.00\" fill=\"#000000\">&lt;integer&gt;</text>\n",
       "</g>\n",
       "<!-- 7&#45;&gt;8 -->\n",
       "<g id=\"edge8\" class=\"edge\">\n",
       "<title>7&#45;&gt;8</title>\n",
       "<path fill=\"none\" stroke=\"#000000\" d=\"M113.5,-152.9748C113.5,-146.195 113.5,-135.966 113.5,-127.1331\"/>\n",
       "<polygon fill=\"#000000\" stroke=\"#000000\" points=\"117.0001,-127.0561 113.5,-117.0561 110.0001,-127.0561 117.0001,-127.0561\"/>\n",
       "</g>\n",
       "<!-- 9 -->\n",
       "<g id=\"node10\" class=\"node\">\n",
       "<title>9</title>\n",
       "<text text-anchor=\"middle\" x=\"113.5\" y=\"-54.8\" font-family=\"Times,serif\" font-size=\"14.00\" fill=\"#000000\">&lt;digit&gt;</text>\n",
       "</g>\n",
       "<!-- 8&#45;&gt;9 -->\n",
       "<g id=\"edge9\" class=\"edge\">\n",
       "<title>8&#45;&gt;9</title>\n",
       "<path fill=\"none\" stroke=\"#000000\" d=\"M113.5,-101.9748C113.5,-95.195 113.5,-84.966 113.5,-76.1331\"/>\n",
       "<polygon fill=\"#000000\" stroke=\"#000000\" points=\"117.0001,-76.0561 113.5,-66.0561 110.0001,-76.0561 117.0001,-76.0561\"/>\n",
       "</g>\n",
       "<!-- 10 -->\n",
       "<g id=\"node11\" class=\"node\">\n",
       "<title>10</title>\n",
       "<text text-anchor=\"middle\" x=\"113.5\" y=\"-3.8\" font-family=\"Times,serif\" font-size=\"14.00\" fill=\"#000000\">2</text>\n",
       "</g>\n",
       "<!-- 9&#45;&gt;10 -->\n",
       "<g id=\"edge10\" class=\"edge\">\n",
       "<title>9&#45;&gt;10</title>\n",
       "<path fill=\"none\" stroke=\"#000000\" d=\"M113.5,-50.9748C113.5,-44.195 113.5,-33.966 113.5,-25.1331\"/>\n",
       "<polygon fill=\"#000000\" stroke=\"#000000\" points=\"117.0001,-25.0561 113.5,-15.0561 110.0001,-25.0561 117.0001,-25.0561\"/>\n",
       "</g>\n",
       "</g>\n",
       "</svg>\n"
      ],
      "text/plain": [
       "<graphviz.dot.Digraph at 0x7f92846f57f0>"
      ]
     },
     "execution_count": 37,
     "metadata": {},
     "output_type": "execute_result"
    }
   ],
   "source": [
    "tree = ('<start>', [('<expr>',\n",
    "                     [('<expr>', [('<integer>', [('<digit>', [('1', [])])])]),\n",
    "                      ('+', []),\n",
    "                      ('<expr>', [('<integer>', [('<digit>', [('2',\n",
    "                                                               [])])])])])])\n",
    "assert mystring == tree_to_string(tree)\n",
    "display_tree(tree)"
   ]
  },
  {
   "cell_type": "markdown",
   "metadata": {
    "slideshow": {
     "slide_type": "subslide"
    }
   },
   "source": [
    "While a grammar can be used to specify a given language, there could be multiple\n",
    "grammars that correspond to the same language. For example, here is another \n",
    "grammar to describe the same addition expression."
   ]
  },
  {
   "cell_type": "code",
   "execution_count": 38,
   "metadata": {
    "slideshow": {
     "slide_type": "subslide"
    }
   },
   "outputs": [],
   "source": [
    "A2_GRAMMAR = {\n",
    "    \"<start>\": [\"<expr>\"],\n",
    "    \"<expr>\": [\"<integer><expr_>\"],\n",
    "    \"<expr_>\": [\"+<expr>\", \"-<expr>\", \"\"],\n",
    "    \"<integer>\": [\"<digit><integer_>\"],\n",
    "    \"<integer_>\": [\"<integer>\", \"\"],\n",
    "    \"<digit>\": [\"0\", \"1\", \"2\", \"3\", \"4\", \"5\", \"6\", \"7\", \"8\", \"9\"]\n",
    "}"
   ]
  },
  {
   "cell_type": "code",
   "execution_count": 39,
   "metadata": {},
   "outputs": [
    {
     "name": "stdout",
     "output_type": "stream",
     "text": [
      "start\n"
     ]
    },
    {
     "data": {
      "image/svg+xml": [
       "<svg class=\"railroad-diagram\" height=\"62\" viewBox=\"0 0 174.0 62\" width=\"174.0\" xmlns=\"http://www.w3.org/2000/svg\">\n",
       "<g transform=\"translate(.5 .5)\">\n",
       "<style>/* <![CDATA[ */\n",
       "    svg.railroad-diagram {\n",
       "        background-color:hsl(100,100%,100%);\n",
       "    }\n",
       "    svg.railroad-diagram path {\n",
       "        stroke-width:3;\n",
       "        stroke:black;\n",
       "        fill:rgba(0,0,0,0);\n",
       "    }\n",
       "    svg.railroad-diagram text {\n",
       "        font:bold 14px monospace;\n",
       "        text-anchor:middle;\n",
       "    }\n",
       "    svg.railroad-diagram text.label{\n",
       "        text-anchor:start;\n",
       "    }\n",
       "    svg.railroad-diagram text.comment{\n",
       "        font:italic 12px monospace;\n",
       "    }\n",
       "    svg.railroad-diagram rect{\n",
       "        stroke-width:3;\n",
       "        stroke:black;\n",
       "        fill:hsl(0,62%,82%);\n",
       "    }\n",
       "\n",
       "/* ]]> */\n",
       "</style><g>\n",
       "<path d=\"M20 21v20m10 -20v20m-10 -10h20\"/></g><g>\n",
       "<path d=\"M40 31h0.0\"/><path d=\"M134.0 31h0.0\"/><path d=\"M40.0 31h20\"/><g>\n",
       "<path d=\"M60.0 31h0.0\"/><path d=\"M114.0 31h0.0\"/><g class=\"non-terminal\">\n",
       "<path d=\"M60.0 31h0.0\"/><path d=\"M114.0 31h0.0\"/><rect height=\"22\" width=\"54.0\" x=\"60.0\" y=\"20\"/><text x=\"87.0\" y=\"35\">expr</text></g></g><path d=\"M114.0 31h20\"/></g><path d=\"M 134.0 31 h 20 m -10 -10 v 20 m 10 -20 v 20\"/></g></svg>"
      ],
      "text/plain": [
       "<IPython.core.display.SVG object>"
      ]
     },
     "metadata": {},
     "output_type": "display_data"
    },
    {
     "name": "stdout",
     "output_type": "stream",
     "text": [
      "expr\n"
     ]
    },
    {
     "data": {
      "image/svg+xml": [
       "<svg class=\"railroad-diagram\" height=\"62\" viewBox=\"0 0 282.0 62\" width=\"282.0\" xmlns=\"http://www.w3.org/2000/svg\">\n",
       "<g transform=\"translate(.5 .5)\">\n",
       "<style>/* <![CDATA[ */\n",
       "    svg.railroad-diagram {\n",
       "        background-color:hsl(100,100%,100%);\n",
       "    }\n",
       "    svg.railroad-diagram path {\n",
       "        stroke-width:3;\n",
       "        stroke:black;\n",
       "        fill:rgba(0,0,0,0);\n",
       "    }\n",
       "    svg.railroad-diagram text {\n",
       "        font:bold 14px monospace;\n",
       "        text-anchor:middle;\n",
       "    }\n",
       "    svg.railroad-diagram text.label{\n",
       "        text-anchor:start;\n",
       "    }\n",
       "    svg.railroad-diagram text.comment{\n",
       "        font:italic 12px monospace;\n",
       "    }\n",
       "    svg.railroad-diagram rect{\n",
       "        stroke-width:3;\n",
       "        stroke:black;\n",
       "        fill:hsl(0,62%,82%);\n",
       "    }\n",
       "\n",
       "/* ]]> */\n",
       "</style><g>\n",
       "<path d=\"M20 21v20m10 -20v20m-10 -10h20\"/></g><g>\n",
       "<path d=\"M40 31h0.0\"/><path d=\"M242.0 31h0.0\"/><path d=\"M40.0 31h20\"/><g>\n",
       "<path d=\"M60.0 31h0.0\"/><path d=\"M222.0 31h0.0\"/><g class=\"non-terminal\">\n",
       "<path d=\"M60.0 31h0.0\"/><path d=\"M139.5 31h0.0\"/><rect height=\"22\" width=\"79.5\" x=\"60.0\" y=\"20\"/><text x=\"99.75\" y=\"35\">integer</text></g><path d=\"M139.5 31h10\"/><path d=\"M149.5 31h10\"/><g class=\"non-terminal\">\n",
       "<path d=\"M159.5 31h0.0\"/><path d=\"M222.0 31h0.0\"/><rect height=\"22\" width=\"62.5\" x=\"159.5\" y=\"20\"/><text x=\"190.75\" y=\"35\">expr_</text></g></g><path d=\"M222.0 31h20\"/></g><path d=\"M 242.0 31 h 20 m -10 -10 v 20 m 10 -20 v 20\"/></g></svg>"
      ],
      "text/plain": [
       "<IPython.core.display.SVG object>"
      ]
     },
     "metadata": {},
     "output_type": "display_data"
    },
    {
     "name": "stdout",
     "output_type": "stream",
     "text": [
      "expr_\n"
     ]
    },
    {
     "data": {
      "image/svg+xml": [
       "<svg class=\"railroad-diagram\" height=\"122\" viewBox=\"0 0 222.5 122\" width=\"222.5\" xmlns=\"http://www.w3.org/2000/svg\">\n",
       "<g transform=\"translate(.5 .5)\">\n",
       "<style>/* <![CDATA[ */\n",
       "    svg.railroad-diagram {\n",
       "        background-color:hsl(100,100%,100%);\n",
       "    }\n",
       "    svg.railroad-diagram path {\n",
       "        stroke-width:3;\n",
       "        stroke:black;\n",
       "        fill:rgba(0,0,0,0);\n",
       "    }\n",
       "    svg.railroad-diagram text {\n",
       "        font:bold 14px monospace;\n",
       "        text-anchor:middle;\n",
       "    }\n",
       "    svg.railroad-diagram text.label{\n",
       "        text-anchor:start;\n",
       "    }\n",
       "    svg.railroad-diagram text.comment{\n",
       "        font:italic 12px monospace;\n",
       "    }\n",
       "    svg.railroad-diagram rect{\n",
       "        stroke-width:3;\n",
       "        stroke:black;\n",
       "        fill:hsl(0,62%,82%);\n",
       "    }\n",
       "\n",
       "/* ]]> */\n",
       "</style><g>\n",
       "<path d=\"M20 51v20m10 -20v20m-10 -10h20\"/></g><g>\n",
       "<path d=\"M40 61h0.0\"/><path d=\"M182.5 61h0.0\"/><path d=\"M40.0 61a10 10 0 0 0 10 -10v-10a10 10 0 0 1 10 -10\"/><g>\n",
       "<path d=\"M60.0 31h0.0\"/><path d=\"M162.5 31h0.0\"/><g class=\"terminal\">\n",
       "<path d=\"M60.0 31h0.0\"/><path d=\"M88.5 31h0.0\"/><rect height=\"22\" rx=\"10\" ry=\"10\" width=\"28.5\" x=\"60.0\" y=\"20\"/><text x=\"74.25\" y=\"35\">+</text></g><path d=\"M88.5 31h10\"/><path d=\"M98.5 31h10\"/><g class=\"non-terminal\">\n",
       "<path d=\"M108.5 31h0.0\"/><path d=\"M162.5 31h0.0\"/><rect height=\"22\" width=\"54.0\" x=\"108.5\" y=\"20\"/><text x=\"135.5\" y=\"35\">expr</text></g></g><path d=\"M162.5 31a10 10 0 0 1 10 10v10a10 10 0 0 0 10 10\"/><path d=\"M40.0 61h20\"/><g>\n",
       "<path d=\"M60.0 61h0.0\"/><path d=\"M162.5 61h0.0\"/><g class=\"terminal\">\n",
       "<path d=\"M60.0 61h0.0\"/><path d=\"M88.5 61h0.0\"/><rect height=\"22\" rx=\"10\" ry=\"10\" width=\"28.5\" x=\"60.0\" y=\"50\"/><text x=\"74.25\" y=\"65\">-</text></g><path d=\"M88.5 61h10\"/><path d=\"M98.5 61h10\"/><g class=\"non-terminal\">\n",
       "<path d=\"M108.5 61h0.0\"/><path d=\"M162.5 61h0.0\"/><rect height=\"22\" width=\"54.0\" x=\"108.5\" y=\"50\"/><text x=\"135.5\" y=\"65\">expr</text></g></g><path d=\"M162.5 61h20\"/><path d=\"M40.0 61a10 10 0 0 1 10 10v10a10 10 0 0 0 10 10\"/><g>\n",
       "<path d=\"M60.0 91h41.25\"/><path d=\"M121.25 91h41.25\"/><g class=\"terminal\">\n",
       "<path d=\"M101.25 91h0.0\"/><path d=\"M121.25 91h0.0\"/><rect height=\"22\" rx=\"10\" ry=\"10\" width=\"20.0\" x=\"101.25\" y=\"80\"/><text x=\"111.25\" y=\"95\"/></g></g><path d=\"M162.5 91a10 10 0 0 0 10 -10v-10a10 10 0 0 1 10 -10\"/></g><path d=\"M 182.5 61 h 20 m -10 -10 v 20 m 10 -20 v 20\"/></g></svg>"
      ],
      "text/plain": [
       "<IPython.core.display.SVG object>"
      ]
     },
     "metadata": {},
     "output_type": "display_data"
    },
    {
     "name": "stdout",
     "output_type": "stream",
     "text": [
      "integer\n"
     ]
    },
    {
     "data": {
      "image/svg+xml": [
       "<svg class=\"railroad-diagram\" height=\"62\" viewBox=\"0 0 290.5 62\" width=\"290.5\" xmlns=\"http://www.w3.org/2000/svg\">\n",
       "<g transform=\"translate(.5 .5)\">\n",
       "<style>/* <![CDATA[ */\n",
       "    svg.railroad-diagram {\n",
       "        background-color:hsl(100,100%,100%);\n",
       "    }\n",
       "    svg.railroad-diagram path {\n",
       "        stroke-width:3;\n",
       "        stroke:black;\n",
       "        fill:rgba(0,0,0,0);\n",
       "    }\n",
       "    svg.railroad-diagram text {\n",
       "        font:bold 14px monospace;\n",
       "        text-anchor:middle;\n",
       "    }\n",
       "    svg.railroad-diagram text.label{\n",
       "        text-anchor:start;\n",
       "    }\n",
       "    svg.railroad-diagram text.comment{\n",
       "        font:italic 12px monospace;\n",
       "    }\n",
       "    svg.railroad-diagram rect{\n",
       "        stroke-width:3;\n",
       "        stroke:black;\n",
       "        fill:hsl(0,62%,82%);\n",
       "    }\n",
       "\n",
       "/* ]]> */\n",
       "</style><g>\n",
       "<path d=\"M20 21v20m10 -20v20m-10 -10h20\"/></g><g>\n",
       "<path d=\"M40 31h0.0\"/><path d=\"M250.5 31h0.0\"/><path d=\"M40.0 31h20\"/><g>\n",
       "<path d=\"M60.0 31h0.0\"/><path d=\"M230.5 31h0.0\"/><g class=\"non-terminal\">\n",
       "<path d=\"M60.0 31h0.0\"/><path d=\"M122.5 31h0.0\"/><rect height=\"22\" width=\"62.5\" x=\"60.0\" y=\"20\"/><text x=\"91.25\" y=\"35\">digit</text></g><path d=\"M122.5 31h10\"/><path d=\"M132.5 31h10\"/><g class=\"non-terminal\">\n",
       "<path d=\"M142.5 31h0.0\"/><path d=\"M230.5 31h0.0\"/><rect height=\"22\" width=\"88.0\" x=\"142.5\" y=\"20\"/><text x=\"186.5\" y=\"35\">integer_</text></g></g><path d=\"M230.5 31h20\"/></g><path d=\"M 250.5 31 h 20 m -10 -10 v 20 m 10 -20 v 20\"/></g></svg>"
      ],
      "text/plain": [
       "<IPython.core.display.SVG object>"
      ]
     },
     "metadata": {},
     "output_type": "display_data"
    },
    {
     "name": "stdout",
     "output_type": "stream",
     "text": [
      "integer_\n"
     ]
    },
    {
     "data": {
      "image/svg+xml": [
       "<svg class=\"railroad-diagram\" height=\"92\" viewBox=\"0 0 199.5 92\" width=\"199.5\" xmlns=\"http://www.w3.org/2000/svg\">\n",
       "<g transform=\"translate(.5 .5)\">\n",
       "<style>/* <![CDATA[ */\n",
       "    svg.railroad-diagram {\n",
       "        background-color:hsl(100,100%,100%);\n",
       "    }\n",
       "    svg.railroad-diagram path {\n",
       "        stroke-width:3;\n",
       "        stroke:black;\n",
       "        fill:rgba(0,0,0,0);\n",
       "    }\n",
       "    svg.railroad-diagram text {\n",
       "        font:bold 14px monospace;\n",
       "        text-anchor:middle;\n",
       "    }\n",
       "    svg.railroad-diagram text.label{\n",
       "        text-anchor:start;\n",
       "    }\n",
       "    svg.railroad-diagram text.comment{\n",
       "        font:italic 12px monospace;\n",
       "    }\n",
       "    svg.railroad-diagram rect{\n",
       "        stroke-width:3;\n",
       "        stroke:black;\n",
       "        fill:hsl(0,62%,82%);\n",
       "    }\n",
       "\n",
       "/* ]]> */\n",
       "</style><g>\n",
       "<path d=\"M20 51v20m10 -20v20m-10 -10h20\"/></g><g>\n",
       "<path d=\"M40 61h0.0\"/><path d=\"M159.5 61h0.0\"/><path d=\"M40.0 61a10 10 0 0 0 10 -10v-10a10 10 0 0 1 10 -10\"/><g>\n",
       "<path d=\"M60.0 31h0.0\"/><path d=\"M139.5 31h0.0\"/><g class=\"non-terminal\">\n",
       "<path d=\"M60.0 31h0.0\"/><path d=\"M139.5 31h0.0\"/><rect height=\"22\" width=\"79.5\" x=\"60.0\" y=\"20\"/><text x=\"99.75\" y=\"35\">integer</text></g></g><path d=\"M139.5 31a10 10 0 0 1 10 10v10a10 10 0 0 0 10 10\"/><path d=\"M40.0 61h20\"/><g>\n",
       "<path d=\"M60.0 61h29.75\"/><path d=\"M109.75 61h29.75\"/><g class=\"terminal\">\n",
       "<path d=\"M89.75 61h0.0\"/><path d=\"M109.75 61h0.0\"/><rect height=\"22\" rx=\"10\" ry=\"10\" width=\"20.0\" x=\"89.75\" y=\"50\"/><text x=\"99.75\" y=\"65\"/></g></g><path d=\"M139.5 61h20\"/></g><path d=\"M 159.5 61 h 20 m -10 -10 v 20 m 10 -20 v 20\"/></g></svg>"
      ],
      "text/plain": [
       "<IPython.core.display.SVG object>"
      ]
     },
     "metadata": {},
     "output_type": "display_data"
    },
    {
     "name": "stdout",
     "output_type": "stream",
     "text": [
      "digit\n"
     ]
    },
    {
     "data": {
      "image/svg+xml": [
       "<svg class=\"railroad-diagram\" height=\"109\" viewBox=\"0 0 522.5 109\" width=\"522.5\" xmlns=\"http://www.w3.org/2000/svg\">\n",
       "<g transform=\"translate(.5 .5)\">\n",
       "<style>/* <![CDATA[ */\n",
       "    svg.railroad-diagram {\n",
       "        background-color:hsl(100,100%,100%);\n",
       "    }\n",
       "    svg.railroad-diagram path {\n",
       "        stroke-width:3;\n",
       "        stroke:black;\n",
       "        fill:rgba(0,0,0,0);\n",
       "    }\n",
       "    svg.railroad-diagram text {\n",
       "        font:bold 14px monospace;\n",
       "        text-anchor:middle;\n",
       "    }\n",
       "    svg.railroad-diagram text.label{\n",
       "        text-anchor:start;\n",
       "    }\n",
       "    svg.railroad-diagram text.comment{\n",
       "        font:italic 12px monospace;\n",
       "    }\n",
       "    svg.railroad-diagram rect{\n",
       "        stroke-width:3;\n",
       "        stroke:black;\n",
       "        fill:hsl(0,62%,82%);\n",
       "    }\n",
       "\n",
       "/* ]]> */\n",
       "</style><g>\n",
       "<path d=\"M20 59v20m10 -20v20m-10 -10h20\"/></g><g>\n",
       "<path d=\"M40 69h0.0\"/><path d=\"M482.5 69h0.0\"/><path d=\"M40.0 69a10 10 0 0 0 10 -10v-29a10 10 0 0 1 10 -10h324.0\"/><path d=\"M138.5 89h324.0a10 10 0 0 0 10 -10v0a10 10 0 0 1 10 -10\"/><path d=\"M40.0 69h10\"/><g>\n",
       "<path d=\"M50.0 69h0.0\"/><path d=\"M118.5 69h0.0\"/><path d=\"M50.0 69a10 10 0 0 0 10 -10v-10a10 10 0 0 1 10 -10\"/><g>\n",
       "<path d=\"M70.0 39h0.0\"/><path d=\"M98.5 39h0.0\"/><g class=\"terminal\">\n",
       "<path d=\"M70.0 39h0.0\"/><path d=\"M98.5 39h0.0\"/><rect height=\"22\" rx=\"10\" ry=\"10\" width=\"28.5\" x=\"70.0\" y=\"28\"/><text x=\"84.25\" y=\"43\">0</text></g></g><path d=\"M98.5 39a10 10 0 0 1 10 10v10a10 10 0 0 0 10 10\"/><path d=\"M50.0 69h20\"/><g>\n",
       "<path d=\"M70.0 69h0.0\"/><path d=\"M98.5 69h0.0\"/><g class=\"terminal\">\n",
       "<path d=\"M70.0 69h0.0\"/><path d=\"M98.5 69h0.0\"/><rect height=\"22\" rx=\"10\" ry=\"10\" width=\"28.5\" x=\"70.0\" y=\"58\"/><text x=\"84.25\" y=\"73\">1</text></g></g><path d=\"M98.5 69h20\"/></g><path d=\"M118.5 69a10 10 0 0 1 10 10v0a10 10 0 0 0 10 10\"/><path d=\"M118.5 20a10 10 0 0 1 10 10v29a10 10 0 0 0 10 10\"/><g>\n",
       "<path d=\"M138.5 69h0.0\"/><path d=\"M207.0 69h0.0\"/><path d=\"M138.5 69a10 10 0 0 0 10 -10v-10a10 10 0 0 1 10 -10\"/><g>\n",
       "<path d=\"M158.5 39h0.0\"/><path d=\"M187.0 39h0.0\"/><g class=\"terminal\">\n",
       "<path d=\"M158.5 39h0.0\"/><path d=\"M187.0 39h0.0\"/><rect height=\"22\" rx=\"10\" ry=\"10\" width=\"28.5\" x=\"158.5\" y=\"28\"/><text x=\"172.75\" y=\"43\">2</text></g></g><path d=\"M187.0 39a10 10 0 0 1 10 10v10a10 10 0 0 0 10 10\"/><path d=\"M138.5 69h20\"/><g>\n",
       "<path d=\"M158.5 69h0.0\"/><path d=\"M187.0 69h0.0\"/><g class=\"terminal\">\n",
       "<path d=\"M158.5 69h0.0\"/><path d=\"M187.0 69h0.0\"/><rect height=\"22\" rx=\"10\" ry=\"10\" width=\"28.5\" x=\"158.5\" y=\"58\"/><text x=\"172.75\" y=\"73\">3</text></g></g><path d=\"M187.0 69h20\"/></g><path d=\"M207.0 69a10 10 0 0 1 10 10v0a10 10 0 0 0 10 10\"/><path d=\"M207.0 20a10 10 0 0 1 10 10v29a10 10 0 0 0 10 10\"/><g>\n",
       "<path d=\"M227.0 69h0.0\"/><path d=\"M295.5 69h0.0\"/><path d=\"M227.0 69a10 10 0 0 0 10 -10v-10a10 10 0 0 1 10 -10\"/><g>\n",
       "<path d=\"M247.0 39h0.0\"/><path d=\"M275.5 39h0.0\"/><g class=\"terminal\">\n",
       "<path d=\"M247.0 39h0.0\"/><path d=\"M275.5 39h0.0\"/><rect height=\"22\" rx=\"10\" ry=\"10\" width=\"28.5\" x=\"247.0\" y=\"28\"/><text x=\"261.25\" y=\"43\">4</text></g></g><path d=\"M275.5 39a10 10 0 0 1 10 10v10a10 10 0 0 0 10 10\"/><path d=\"M227.0 69h20\"/><g>\n",
       "<path d=\"M247.0 69h0.0\"/><path d=\"M275.5 69h0.0\"/><g class=\"terminal\">\n",
       "<path d=\"M247.0 69h0.0\"/><path d=\"M275.5 69h0.0\"/><rect height=\"22\" rx=\"10\" ry=\"10\" width=\"28.5\" x=\"247.0\" y=\"58\"/><text x=\"261.25\" y=\"73\">5</text></g></g><path d=\"M275.5 69h20\"/></g><path d=\"M295.5 69a10 10 0 0 1 10 10v0a10 10 0 0 0 10 10\"/><path d=\"M295.5 20a10 10 0 0 1 10 10v29a10 10 0 0 0 10 10\"/><g>\n",
       "<path d=\"M315.5 69h0.0\"/><path d=\"M384.0 69h0.0\"/><path d=\"M315.5 69a10 10 0 0 0 10 -10v-10a10 10 0 0 1 10 -10\"/><g>\n",
       "<path d=\"M335.5 39h0.0\"/><path d=\"M364.0 39h0.0\"/><g class=\"terminal\">\n",
       "<path d=\"M335.5 39h0.0\"/><path d=\"M364.0 39h0.0\"/><rect height=\"22\" rx=\"10\" ry=\"10\" width=\"28.5\" x=\"335.5\" y=\"28\"/><text x=\"349.75\" y=\"43\">6</text></g></g><path d=\"M364.0 39a10 10 0 0 1 10 10v10a10 10 0 0 0 10 10\"/><path d=\"M315.5 69h20\"/><g>\n",
       "<path d=\"M335.5 69h0.0\"/><path d=\"M364.0 69h0.0\"/><g class=\"terminal\">\n",
       "<path d=\"M335.5 69h0.0\"/><path d=\"M364.0 69h0.0\"/><rect height=\"22\" rx=\"10\" ry=\"10\" width=\"28.5\" x=\"335.5\" y=\"58\"/><text x=\"349.75\" y=\"73\">7</text></g></g><path d=\"M364.0 69h20\"/></g><path d=\"M384.0 69a10 10 0 0 1 10 10v0a10 10 0 0 0 10 10\"/><path d=\"M384.0 20a10 10 0 0 1 10 10v29a10 10 0 0 0 10 10\"/><g>\n",
       "<path d=\"M404.0 69h0.0\"/><path d=\"M472.5 69h0.0\"/><path d=\"M404.0 69a10 10 0 0 0 10 -10v-10a10 10 0 0 1 10 -10\"/><g>\n",
       "<path d=\"M424.0 39h0.0\"/><path d=\"M452.5 39h0.0\"/><g class=\"terminal\">\n",
       "<path d=\"M424.0 39h0.0\"/><path d=\"M452.5 39h0.0\"/><rect height=\"22\" rx=\"10\" ry=\"10\" width=\"28.5\" x=\"424.0\" y=\"28\"/><text x=\"438.25\" y=\"43\">8</text></g></g><path d=\"M452.5 39a10 10 0 0 1 10 10v10a10 10 0 0 0 10 10\"/><path d=\"M404.0 69h20\"/><g>\n",
       "<path d=\"M424.0 69h0.0\"/><path d=\"M452.5 69h0.0\"/><g class=\"terminal\">\n",
       "<path d=\"M424.0 69h0.0\"/><path d=\"M452.5 69h0.0\"/><rect height=\"22\" rx=\"10\" ry=\"10\" width=\"28.5\" x=\"424.0\" y=\"58\"/><text x=\"438.25\" y=\"73\">9</text></g></g><path d=\"M452.5 69h20\"/></g><path d=\"M472.5 69h10\"/></g><path d=\"M 482.5 69 h 20 m -10 -10 v 20 m 10 -20 v 20\"/></g></svg>"
      ],
      "text/plain": [
       "<IPython.core.display.SVG object>"
      ]
     },
     "metadata": {},
     "output_type": "display_data"
    }
   ],
   "source": [
    "syntax_diagram(A2_GRAMMAR)"
   ]
  },
  {
   "cell_type": "markdown",
   "metadata": {
    "slideshow": {
     "slide_type": "subslide"
    }
   },
   "source": [
    "The corresponding derivation tree is given by:"
   ]
  },
  {
   "cell_type": "code",
   "execution_count": 40,
   "metadata": {
    "slideshow": {
     "slide_type": "subslide"
    }
   },
   "outputs": [
    {
     "data": {
      "image/svg+xml": [
       "<?xml version=\"1.0\" encoding=\"UTF-8\" standalone=\"no\"?>\n",
       "<!DOCTYPE svg PUBLIC \"-//W3C//DTD SVG 1.1//EN\"\n",
       " \"http://www.w3.org/Graphics/SVG/1.1/DTD/svg11.dtd\">\n",
       "<!-- Generated by graphviz version 2.40.1 (20161225.0304)\n",
       " -->\n",
       "<!-- Title: %3 Pages: 1 -->\n",
       "<svg width=\"262pt\" height=\"329pt\"\n",
       " viewBox=\"0.00 0.00 262.00 329.00\" xmlns=\"http://www.w3.org/2000/svg\" xmlns:xlink=\"http://www.w3.org/1999/xlink\">\n",
       "<g id=\"graph0\" class=\"graph\" transform=\"scale(1 1) rotate(0) translate(4 325)\">\n",
       "<title>%3</title>\n",
       "<polygon fill=\"#ffffff\" stroke=\"transparent\" points=\"-4,4 -4,-325 258,-325 258,4 -4,4\"/>\n",
       "<!-- 0 -->\n",
       "<g id=\"node1\" class=\"node\">\n",
       "<title>0</title>\n",
       "<text text-anchor=\"middle\" x=\"121\" y=\"-309.8\" font-family=\"Times,serif\" font-size=\"14.00\" fill=\"#000000\">&lt;start&gt;</text>\n",
       "</g>\n",
       "<!-- 1 -->\n",
       "<g id=\"node2\" class=\"node\">\n",
       "<title>1</title>\n",
       "<text text-anchor=\"middle\" x=\"121\" y=\"-258.8\" font-family=\"Times,serif\" font-size=\"14.00\" fill=\"#000000\">&lt;expr&gt;</text>\n",
       "</g>\n",
       "<!-- 0&#45;&gt;1 -->\n",
       "<g id=\"edge1\" class=\"edge\">\n",
       "<title>0&#45;&gt;1</title>\n",
       "<path fill=\"none\" stroke=\"#000000\" d=\"M121,-305.9748C121,-299.195 121,-288.966 121,-280.1331\"/>\n",
       "<polygon fill=\"#000000\" stroke=\"#000000\" points=\"124.5001,-280.0561 121,-270.0561 117.5001,-280.0561 124.5001,-280.0561\"/>\n",
       "</g>\n",
       "<!-- 2 -->\n",
       "<g id=\"node3\" class=\"node\">\n",
       "<title>2</title>\n",
       "<text text-anchor=\"middle\" x=\"86\" y=\"-207.8\" font-family=\"Times,serif\" font-size=\"14.00\" fill=\"#000000\">&lt;integer&gt;</text>\n",
       "</g>\n",
       "<!-- 1&#45;&gt;2 -->\n",
       "<g id=\"edge2\" class=\"edge\">\n",
       "<title>1&#45;&gt;2</title>\n",
       "<path fill=\"none\" stroke=\"#000000\" d=\"M115.8356,-254.9748C110.8726,-247.743 103.2165,-236.5868 96.9026,-227.3866\"/>\n",
       "<polygon fill=\"#000000\" stroke=\"#000000\" points=\"99.7298,-225.3208 91.1856,-219.0561 93.9582,-229.2817 99.7298,-225.3208\"/>\n",
       "</g>\n",
       "<!-- 6 -->\n",
       "<g id=\"node7\" class=\"node\">\n",
       "<title>6</title>\n",
       "<text text-anchor=\"middle\" x=\"156\" y=\"-207.8\" font-family=\"Times,serif\" font-size=\"14.00\" fill=\"#000000\">&lt;expr_&gt;</text>\n",
       "</g>\n",
       "<!-- 1&#45;&gt;6 -->\n",
       "<g id=\"edge6\" class=\"edge\">\n",
       "<title>1&#45;&gt;6</title>\n",
       "<path fill=\"none\" stroke=\"#000000\" d=\"M126.1644,-254.9748C131.1274,-247.743 138.7835,-236.5868 145.0974,-227.3866\"/>\n",
       "<polygon fill=\"#000000\" stroke=\"#000000\" points=\"148.0418,-229.2817 150.8144,-219.0561 142.2702,-225.3208 148.0418,-229.2817\"/>\n",
       "</g>\n",
       "<!-- 3 -->\n",
       "<g id=\"node4\" class=\"node\">\n",
       "<title>3</title>\n",
       "<text text-anchor=\"middle\" x=\"21\" y=\"-156.8\" font-family=\"Times,serif\" font-size=\"14.00\" fill=\"#000000\">&lt;digit&gt;</text>\n",
       "</g>\n",
       "<!-- 2&#45;&gt;3 -->\n",
       "<g id=\"edge3\" class=\"edge\">\n",
       "<title>2&#45;&gt;3</title>\n",
       "<path fill=\"none\" stroke=\"#000000\" d=\"M76.409,-203.9748C66.52,-196.2157 50.8733,-183.939 38.7253,-174.4075\"/>\n",
       "<polygon fill=\"#000000\" stroke=\"#000000\" points=\"40.6582,-171.4754 30.6303,-168.0561 36.3372,-176.9826 40.6582,-171.4754\"/>\n",
       "</g>\n",
       "<!-- 5 -->\n",
       "<g id=\"node6\" class=\"node\">\n",
       "<title>5</title>\n",
       "<text text-anchor=\"middle\" x=\"91\" y=\"-156.8\" font-family=\"Times,serif\" font-size=\"14.00\" fill=\"#000000\">&lt;integer_&gt;</text>\n",
       "</g>\n",
       "<!-- 2&#45;&gt;5 -->\n",
       "<g id=\"edge5\" class=\"edge\">\n",
       "<title>2&#45;&gt;5</title>\n",
       "<path fill=\"none\" stroke=\"#000000\" d=\"M86.7378,-203.9748C87.4025,-197.195 88.4053,-186.966 89.2713,-178.1331\"/>\n",
       "<polygon fill=\"#000000\" stroke=\"#000000\" points=\"92.7667,-178.3499 90.2592,-168.0561 85.8001,-177.6669 92.7667,-178.3499\"/>\n",
       "</g>\n",
       "<!-- 4 -->\n",
       "<g id=\"node5\" class=\"node\">\n",
       "<title>4</title>\n",
       "<text text-anchor=\"middle\" x=\"21\" y=\"-105.8\" font-family=\"Times,serif\" font-size=\"14.00\" fill=\"#000000\">1</text>\n",
       "</g>\n",
       "<!-- 3&#45;&gt;4 -->\n",
       "<g id=\"edge4\" class=\"edge\">\n",
       "<title>3&#45;&gt;4</title>\n",
       "<path fill=\"none\" stroke=\"#000000\" d=\"M21,-152.9748C21,-146.195 21,-135.966 21,-127.1331\"/>\n",
       "<polygon fill=\"#000000\" stroke=\"#000000\" points=\"24.5001,-127.0561 21,-117.0561 17.5001,-127.0561 24.5001,-127.0561\"/>\n",
       "</g>\n",
       "<!-- 7 -->\n",
       "<g id=\"node8\" class=\"node\">\n",
       "<title>7</title>\n",
       "<text text-anchor=\"middle\" x=\"152\" y=\"-156.8\" font-family=\"Times,serif\" font-size=\"14.00\" fill=\"#000000\">+</text>\n",
       "</g>\n",
       "<!-- 6&#45;&gt;7 -->\n",
       "<g id=\"edge7\" class=\"edge\">\n",
       "<title>6&#45;&gt;7</title>\n",
       "<path fill=\"none\" stroke=\"#000000\" d=\"M155.4098,-203.9748C154.878,-197.195 154.0758,-186.966 153.383,-178.1331\"/>\n",
       "<polygon fill=\"#000000\" stroke=\"#000000\" points=\"156.8639,-177.7518 152.5926,-168.0561 149.8854,-178.2992 156.8639,-177.7518\"/>\n",
       "</g>\n",
       "<!-- 8 -->\n",
       "<g id=\"node9\" class=\"node\">\n",
       "<title>8</title>\n",
       "<text text-anchor=\"middle\" x=\"195\" y=\"-156.8\" font-family=\"Times,serif\" font-size=\"14.00\" fill=\"#000000\">&lt;expr&gt;</text>\n",
       "</g>\n",
       "<!-- 6&#45;&gt;8 -->\n",
       "<g id=\"edge8\" class=\"edge\">\n",
       "<title>6&#45;&gt;8</title>\n",
       "<path fill=\"none\" stroke=\"#000000\" d=\"M161.7546,-203.9748C167.3424,-196.6677 175.994,-185.354 183.0708,-176.0997\"/>\n",
       "<polygon fill=\"#000000\" stroke=\"#000000\" points=\"185.9275,-178.1258 189.2218,-168.0561 180.367,-173.8736 185.9275,-178.1258\"/>\n",
       "</g>\n",
       "<!-- 9 -->\n",
       "<g id=\"node10\" class=\"node\">\n",
       "<title>9</title>\n",
       "<text text-anchor=\"middle\" x=\"160\" y=\"-105.8\" font-family=\"Times,serif\" font-size=\"14.00\" fill=\"#000000\">&lt;integer&gt;</text>\n",
       "</g>\n",
       "<!-- 8&#45;&gt;9 -->\n",
       "<g id=\"edge9\" class=\"edge\">\n",
       "<title>8&#45;&gt;9</title>\n",
       "<path fill=\"none\" stroke=\"#000000\" d=\"M189.8356,-152.9748C184.8726,-145.743 177.2165,-134.5868 170.9026,-125.3866\"/>\n",
       "<polygon fill=\"#000000\" stroke=\"#000000\" points=\"173.7298,-123.3208 165.1856,-117.0561 167.9582,-127.2817 173.7298,-123.3208\"/>\n",
       "</g>\n",
       "<!-- 13 -->\n",
       "<g id=\"node14\" class=\"node\">\n",
       "<title>13</title>\n",
       "<text text-anchor=\"middle\" x=\"230\" y=\"-105.8\" font-family=\"Times,serif\" font-size=\"14.00\" fill=\"#000000\">&lt;expr_&gt;</text>\n",
       "</g>\n",
       "<!-- 8&#45;&gt;13 -->\n",
       "<g id=\"edge13\" class=\"edge\">\n",
       "<title>8&#45;&gt;13</title>\n",
       "<path fill=\"none\" stroke=\"#000000\" d=\"M200.1644,-152.9748C205.1274,-145.743 212.7835,-134.5868 219.0974,-125.3866\"/>\n",
       "<polygon fill=\"#000000\" stroke=\"#000000\" points=\"222.0418,-127.2817 224.8144,-117.0561 216.2702,-123.3208 222.0418,-127.2817\"/>\n",
       "</g>\n",
       "<!-- 10 -->\n",
       "<g id=\"node11\" class=\"node\">\n",
       "<title>10</title>\n",
       "<text text-anchor=\"middle\" x=\"125\" y=\"-54.8\" font-family=\"Times,serif\" font-size=\"14.00\" fill=\"#000000\">&lt;digit&gt;</text>\n",
       "</g>\n",
       "<!-- 9&#45;&gt;10 -->\n",
       "<g id=\"edge10\" class=\"edge\">\n",
       "<title>9&#45;&gt;10</title>\n",
       "<path fill=\"none\" stroke=\"#000000\" d=\"M154.8356,-101.9748C149.8726,-94.743 142.2165,-83.5868 135.9026,-74.3866\"/>\n",
       "<polygon fill=\"#000000\" stroke=\"#000000\" points=\"138.7298,-72.3208 130.1856,-66.0561 132.9582,-76.2817 138.7298,-72.3208\"/>\n",
       "</g>\n",
       "<!-- 12 -->\n",
       "<g id=\"node13\" class=\"node\">\n",
       "<title>12</title>\n",
       "<text text-anchor=\"middle\" x=\"195\" y=\"-54.8\" font-family=\"Times,serif\" font-size=\"14.00\" fill=\"#000000\">&lt;integer_&gt;</text>\n",
       "</g>\n",
       "<!-- 9&#45;&gt;12 -->\n",
       "<g id=\"edge12\" class=\"edge\">\n",
       "<title>9&#45;&gt;12</title>\n",
       "<path fill=\"none\" stroke=\"#000000\" d=\"M165.1644,-101.9748C170.1274,-94.743 177.7835,-83.5868 184.0974,-74.3866\"/>\n",
       "<polygon fill=\"#000000\" stroke=\"#000000\" points=\"187.0418,-76.2817 189.8144,-66.0561 181.2702,-72.3208 187.0418,-76.2817\"/>\n",
       "</g>\n",
       "<!-- 11 -->\n",
       "<g id=\"node12\" class=\"node\">\n",
       "<title>11</title>\n",
       "<text text-anchor=\"middle\" x=\"125\" y=\"-3.8\" font-family=\"Times,serif\" font-size=\"14.00\" fill=\"#000000\">2</text>\n",
       "</g>\n",
       "<!-- 10&#45;&gt;11 -->\n",
       "<g id=\"edge11\" class=\"edge\">\n",
       "<title>10&#45;&gt;11</title>\n",
       "<path fill=\"none\" stroke=\"#000000\" d=\"M125,-50.9748C125,-44.195 125,-33.966 125,-25.1331\"/>\n",
       "<polygon fill=\"#000000\" stroke=\"#000000\" points=\"128.5001,-25.0561 125,-15.0561 121.5001,-25.0561 128.5001,-25.0561\"/>\n",
       "</g>\n",
       "</g>\n",
       "</svg>\n"
      ],
      "text/plain": [
       "<graphviz.dot.Digraph at 0x7f92846bc1d0>"
      ]
     },
     "execution_count": 40,
     "metadata": {},
     "output_type": "execute_result"
    }
   ],
   "source": [
    "tree = ('<start>', [('<expr>', [('<integer>', [('<digit>', [('1', [])]),\n",
    "                                               ('<integer_>', [])]),\n",
    "                                ('<expr_>', [('+', []),\n",
    "                                             ('<expr>',\n",
    "                                              [('<integer>',\n",
    "                                                [('<digit>', [('2', [])]),\n",
    "                                                 ('<integer_>', [])]),\n",
    "                                               ('<expr_>', [])])])])])\n",
    "assert mystring == tree_to_string(tree)\n",
    "display_tree(tree)"
   ]
  },
  {
   "cell_type": "markdown",
   "metadata": {
    "slideshow": {
     "slide_type": "notes"
    }
   },
   "source": [
    "Indeed, there could be different classes of grammars that\n",
    "describe the same language. For example, the first grammar `A1_GRAMMAR`\n",
    "is a grammar that sports both _right_ and _left_ recursion, while the\n",
    "second grammar `A2_GRAMMAR` does not have left recursion in the\n",
    "nonterminals in any of its productions, but contains _epsilon_ productions.\n",
    "(An epsilon production is a production that has empty string in its right\n",
    "hand side.)\n",
    "\n",
    "You would have noticed that we reuse the term `<expr>` in its own definition. Using the same nonterminal in its own definition is called *recursion*. There are two specific kinds of recursion one should be aware of in parsing, as we see in the next section."
   ]
  },
  {
   "cell_type": "markdown",
   "metadata": {
    "slideshow": {
     "slide_type": "notes"
    }
   },
   "source": [
    "#### Recursion\n",
    "\n",
    "A grammar is _left recursive_ if any of its nonterminals are left recursive,\n",
    "and a nonterminal is directly left-recursive if the left-most symbol of\n",
    "any of its productions is itself."
   ]
  },
  {
   "cell_type": "code",
   "execution_count": 41,
   "metadata": {
    "slideshow": {
     "slide_type": "fragment"
    }
   },
   "outputs": [],
   "source": [
    "LR_GRAMMAR = {\n",
    "    '<start>': ['<A>'],\n",
    "    '<A>': ['<A>a', ''],\n",
    "}"
   ]
  },
  {
   "cell_type": "code",
   "execution_count": 42,
   "metadata": {},
   "outputs": [
    {
     "name": "stdout",
     "output_type": "stream",
     "text": [
      "start\n"
     ]
    },
    {
     "data": {
      "image/svg+xml": [
       "<svg class=\"railroad-diagram\" height=\"62\" viewBox=\"0 0 148.5 62\" width=\"148.5\" xmlns=\"http://www.w3.org/2000/svg\">\n",
       "<g transform=\"translate(.5 .5)\">\n",
       "<style>/* <![CDATA[ */\n",
       "    svg.railroad-diagram {\n",
       "        background-color:hsl(100,100%,100%);\n",
       "    }\n",
       "    svg.railroad-diagram path {\n",
       "        stroke-width:3;\n",
       "        stroke:black;\n",
       "        fill:rgba(0,0,0,0);\n",
       "    }\n",
       "    svg.railroad-diagram text {\n",
       "        font:bold 14px monospace;\n",
       "        text-anchor:middle;\n",
       "    }\n",
       "    svg.railroad-diagram text.label{\n",
       "        text-anchor:start;\n",
       "    }\n",
       "    svg.railroad-diagram text.comment{\n",
       "        font:italic 12px monospace;\n",
       "    }\n",
       "    svg.railroad-diagram rect{\n",
       "        stroke-width:3;\n",
       "        stroke:black;\n",
       "        fill:hsl(0,62%,82%);\n",
       "    }\n",
       "\n",
       "/* ]]> */\n",
       "</style><g>\n",
       "<path d=\"M20 21v20m10 -20v20m-10 -10h20\"/></g><g>\n",
       "<path d=\"M40 31h0.0\"/><path d=\"M108.5 31h0.0\"/><path d=\"M40.0 31h20\"/><g>\n",
       "<path d=\"M60.0 31h0.0\"/><path d=\"M88.5 31h0.0\"/><g class=\"non-terminal\">\n",
       "<path d=\"M60.0 31h0.0\"/><path d=\"M88.5 31h0.0\"/><rect height=\"22\" width=\"28.5\" x=\"60.0\" y=\"20\"/><text x=\"74.25\" y=\"35\">A</text></g></g><path d=\"M88.5 31h20\"/></g><path d=\"M 108.5 31 h 20 m -10 -10 v 20 m 10 -20 v 20\"/></g></svg>"
      ],
      "text/plain": [
       "<IPython.core.display.SVG object>"
      ]
     },
     "metadata": {},
     "output_type": "display_data"
    },
    {
     "name": "stdout",
     "output_type": "stream",
     "text": [
      "A\n"
     ]
    },
    {
     "data": {
      "image/svg+xml": [
       "<svg class=\"railroad-diagram\" height=\"92\" viewBox=\"0 0 197.0 92\" width=\"197.0\" xmlns=\"http://www.w3.org/2000/svg\">\n",
       "<g transform=\"translate(.5 .5)\">\n",
       "<style>/* <![CDATA[ */\n",
       "    svg.railroad-diagram {\n",
       "        background-color:hsl(100,100%,100%);\n",
       "    }\n",
       "    svg.railroad-diagram path {\n",
       "        stroke-width:3;\n",
       "        stroke:black;\n",
       "        fill:rgba(0,0,0,0);\n",
       "    }\n",
       "    svg.railroad-diagram text {\n",
       "        font:bold 14px monospace;\n",
       "        text-anchor:middle;\n",
       "    }\n",
       "    svg.railroad-diagram text.label{\n",
       "        text-anchor:start;\n",
       "    }\n",
       "    svg.railroad-diagram text.comment{\n",
       "        font:italic 12px monospace;\n",
       "    }\n",
       "    svg.railroad-diagram rect{\n",
       "        stroke-width:3;\n",
       "        stroke:black;\n",
       "        fill:hsl(0,62%,82%);\n",
       "    }\n",
       "\n",
       "/* ]]> */\n",
       "</style><g>\n",
       "<path d=\"M20 51v20m10 -20v20m-10 -10h20\"/></g><g>\n",
       "<path d=\"M40 61h0.0\"/><path d=\"M157.0 61h0.0\"/><path d=\"M40.0 61a10 10 0 0 0 10 -10v-10a10 10 0 0 1 10 -10\"/><g>\n",
       "<path d=\"M60.0 31h0.0\"/><path d=\"M137.0 31h0.0\"/><g class=\"non-terminal\">\n",
       "<path d=\"M60.0 31h0.0\"/><path d=\"M88.5 31h0.0\"/><rect height=\"22\" width=\"28.5\" x=\"60.0\" y=\"20\"/><text x=\"74.25\" y=\"35\">A</text></g><path d=\"M88.5 31h10\"/><path d=\"M98.5 31h10\"/><g class=\"terminal\">\n",
       "<path d=\"M108.5 31h0.0\"/><path d=\"M137.0 31h0.0\"/><rect height=\"22\" rx=\"10\" ry=\"10\" width=\"28.5\" x=\"108.5\" y=\"20\"/><text x=\"122.75\" y=\"35\">a</text></g></g><path d=\"M137.0 31a10 10 0 0 1 10 10v10a10 10 0 0 0 10 10\"/><path d=\"M40.0 61h20\"/><g>\n",
       "<path d=\"M60.0 61h28.5\"/><path d=\"M108.5 61h28.5\"/><g class=\"terminal\">\n",
       "<path d=\"M88.5 61h0.0\"/><path d=\"M108.5 61h0.0\"/><rect height=\"22\" rx=\"10\" ry=\"10\" width=\"20.0\" x=\"88.5\" y=\"50\"/><text x=\"98.5\" y=\"65\"/></g></g><path d=\"M137.0 61h20\"/></g><path d=\"M 157.0 61 h 20 m -10 -10 v 20 m 10 -20 v 20\"/></g></svg>"
      ],
      "text/plain": [
       "<IPython.core.display.SVG object>"
      ]
     },
     "metadata": {},
     "output_type": "display_data"
    }
   ],
   "source": [
    "syntax_diagram(LR_GRAMMAR)"
   ]
  },
  {
   "cell_type": "code",
   "execution_count": 43,
   "metadata": {},
   "outputs": [
    {
     "data": {
      "image/svg+xml": [
       "<?xml version=\"1.0\" encoding=\"UTF-8\" standalone=\"no\"?>\n",
       "<!DOCTYPE svg PUBLIC \"-//W3C//DTD SVG 1.1//EN\"\n",
       " \"http://www.w3.org/Graphics/SVG/1.1/DTD/svg11.dtd\">\n",
       "<!-- Generated by graphviz version 2.40.1 (20161225.0304)\n",
       " -->\n",
       "<!-- Title: %3 Pages: 1 -->\n",
       "<svg width=\"94pt\" height=\"176pt\"\n",
       " viewBox=\"0.00 0.00 94.00 176.00\" xmlns=\"http://www.w3.org/2000/svg\" xmlns:xlink=\"http://www.w3.org/1999/xlink\">\n",
       "<g id=\"graph0\" class=\"graph\" transform=\"scale(1 1) rotate(0) translate(4 172)\">\n",
       "<title>%3</title>\n",
       "<polygon fill=\"#ffffff\" stroke=\"transparent\" points=\"-4,4 -4,-172 90,-172 90,4 -4,4\"/>\n",
       "<!-- 0 -->\n",
       "<g id=\"node1\" class=\"node\">\n",
       "<title>0</title>\n",
       "<text text-anchor=\"middle\" x=\"64.5\" y=\"-156.8\" font-family=\"Times,serif\" font-size=\"14.00\" fill=\"#000000\">&lt;start&gt;</text>\n",
       "</g>\n",
       "<!-- 1 -->\n",
       "<g id=\"node2\" class=\"node\">\n",
       "<title>1</title>\n",
       "<text text-anchor=\"middle\" x=\"47.5\" y=\"-105.8\" font-family=\"Times,serif\" font-size=\"14.00\" fill=\"#000000\">&lt;A&gt;</text>\n",
       "</g>\n",
       "<!-- 0&#45;&gt;1 -->\n",
       "<g id=\"edge1\" class=\"edge\">\n",
       "<title>0&#45;&gt;1</title>\n",
       "<path fill=\"none\" stroke=\"#000000\" d=\"M61.9916,-152.9748C59.6814,-146.0443 56.1699,-135.5097 53.1821,-126.5464\"/>\n",
       "<polygon fill=\"#000000\" stroke=\"#000000\" points=\"56.5014,-125.4361 50.0187,-117.0561 49.8607,-127.6498 56.5014,-125.4361\"/>\n",
       "</g>\n",
       "<!-- 6 -->\n",
       "<g id=\"node7\" class=\"node\">\n",
       "<title>6</title>\n",
       "<text text-anchor=\"middle\" x=\"82.5\" y=\"-105.8\" font-family=\"Times,serif\" font-size=\"14.00\" fill=\"#000000\">a</text>\n",
       "</g>\n",
       "<!-- 0&#45;&gt;6 -->\n",
       "<g id=\"edge6\" class=\"edge\">\n",
       "<title>0&#45;&gt;6</title>\n",
       "<path fill=\"none\" stroke=\"#000000\" d=\"M67.156,-152.9748C69.602,-146.0443 73.3201,-135.5097 76.4836,-126.5464\"/>\n",
       "<polygon fill=\"#000000\" stroke=\"#000000\" points=\"79.8053,-127.6509 79.8331,-117.0561 73.2044,-125.3211 79.8053,-127.6509\"/>\n",
       "</g>\n",
       "<!-- 2 -->\n",
       "<g id=\"node3\" class=\"node\">\n",
       "<title>2</title>\n",
       "<text text-anchor=\"middle\" x=\"30.5\" y=\"-54.8\" font-family=\"Times,serif\" font-size=\"14.00\" fill=\"#000000\">&lt;A&gt;</text>\n",
       "</g>\n",
       "<!-- 1&#45;&gt;2 -->\n",
       "<g id=\"edge2\" class=\"edge\">\n",
       "<title>1&#45;&gt;2</title>\n",
       "<path fill=\"none\" stroke=\"#000000\" d=\"M44.9916,-101.9748C42.6814,-95.0443 39.1699,-84.5097 36.1821,-75.5464\"/>\n",
       "<polygon fill=\"#000000\" stroke=\"#000000\" points=\"39.5014,-74.4361 33.0187,-66.0561 32.8607,-76.6498 39.5014,-74.4361\"/>\n",
       "</g>\n",
       "<!-- 5 -->\n",
       "<g id=\"node6\" class=\"node\">\n",
       "<title>5</title>\n",
       "<text text-anchor=\"middle\" x=\"65.5\" y=\"-54.8\" font-family=\"Times,serif\" font-size=\"14.00\" fill=\"#000000\">a</text>\n",
       "</g>\n",
       "<!-- 1&#45;&gt;5 -->\n",
       "<g id=\"edge5\" class=\"edge\">\n",
       "<title>1&#45;&gt;5</title>\n",
       "<path fill=\"none\" stroke=\"#000000\" d=\"M50.156,-101.9748C52.602,-95.0443 56.3201,-84.5097 59.4836,-75.5464\"/>\n",
       "<polygon fill=\"#000000\" stroke=\"#000000\" points=\"62.8053,-76.6509 62.8331,-66.0561 56.2044,-74.3211 62.8053,-76.6509\"/>\n",
       "</g>\n",
       "<!-- 3 -->\n",
       "<g id=\"node4\" class=\"node\">\n",
       "<title>3</title>\n",
       "<text text-anchor=\"middle\" x=\"13.5\" y=\"-3.8\" font-family=\"Times,serif\" font-size=\"14.00\" fill=\"#000000\">&lt;A&gt;</text>\n",
       "</g>\n",
       "<!-- 2&#45;&gt;3 -->\n",
       "<g id=\"edge3\" class=\"edge\">\n",
       "<title>2&#45;&gt;3</title>\n",
       "<path fill=\"none\" stroke=\"#000000\" d=\"M27.9916,-50.9748C25.6814,-44.0443 22.1699,-33.5097 19.1821,-24.5464\"/>\n",
       "<polygon fill=\"#000000\" stroke=\"#000000\" points=\"22.5014,-23.4361 16.0187,-15.0561 15.8607,-25.6498 22.5014,-23.4361\"/>\n",
       "</g>\n",
       "<!-- 4 -->\n",
       "<g id=\"node5\" class=\"node\">\n",
       "<title>4</title>\n",
       "<text text-anchor=\"middle\" x=\"48.5\" y=\"-3.8\" font-family=\"Times,serif\" font-size=\"14.00\" fill=\"#000000\">a</text>\n",
       "</g>\n",
       "<!-- 2&#45;&gt;4 -->\n",
       "<g id=\"edge4\" class=\"edge\">\n",
       "<title>2&#45;&gt;4</title>\n",
       "<path fill=\"none\" stroke=\"#000000\" d=\"M33.156,-50.9748C35.602,-44.0443 39.3201,-33.5097 42.4836,-24.5464\"/>\n",
       "<polygon fill=\"#000000\" stroke=\"#000000\" points=\"45.8053,-25.6509 45.8331,-15.0561 39.2044,-23.3211 45.8053,-25.6509\"/>\n",
       "</g>\n",
       "</g>\n",
       "</svg>\n"
      ],
      "text/plain": [
       "<graphviz.dot.Digraph at 0x7f928467a208>"
      ]
     },
     "execution_count": 43,
     "metadata": {},
     "output_type": "execute_result"
    }
   ],
   "source": [
    "mystring = 'aaaaaa'\n",
    "display_tree(\n",
    "    ('<start>', (('<A>', (('<A>', (('<A>', []), ('a', []))), ('a', []))), ('a', []))))"
   ]
  },
  {
   "cell_type": "markdown",
   "metadata": {},
   "source": [
    "A grammar is indirectly left-recursive if any\n",
    "of the left-most symbols can be expanded using their definitions to\n",
    "produce the nonterminal as the left-most symbol of the expansion. The left\n",
    "recursion is called a _hidden-left-recursion_ if during the series of\n",
    "expansions of  a nonterminal, one reaches a rule where the rule contains\n",
    "the same nonterminal after a prefix of other symbols, and these symbols can\n",
    "derive the empty string. For example, in `A1_GRAMMAR`, `<integer>` will be\n",
    "considered hidden-left recursive if `<digit>` could derive an empty string.\n",
    "\n",
    "Right recursive grammars are defined similarly.\n",
    "Below is the derivation tree for the right recursive grammar that represents the same\n",
    "language as that of `LR_GRAMMAR`."
   ]
  },
  {
   "cell_type": "code",
   "execution_count": 44,
   "metadata": {},
   "outputs": [],
   "source": [
    "RR_GRAMMAR = {\n",
    "    '<start>': ['<A>'],\n",
    "    '<A>': ['a<A>', ''],\n",
    "}"
   ]
  },
  {
   "cell_type": "code",
   "execution_count": 45,
   "metadata": {},
   "outputs": [
    {
     "name": "stdout",
     "output_type": "stream",
     "text": [
      "start\n"
     ]
    },
    {
     "data": {
      "image/svg+xml": [
       "<svg class=\"railroad-diagram\" height=\"62\" viewBox=\"0 0 148.5 62\" width=\"148.5\" xmlns=\"http://www.w3.org/2000/svg\">\n",
       "<g transform=\"translate(.5 .5)\">\n",
       "<style>/* <![CDATA[ */\n",
       "    svg.railroad-diagram {\n",
       "        background-color:hsl(100,100%,100%);\n",
       "    }\n",
       "    svg.railroad-diagram path {\n",
       "        stroke-width:3;\n",
       "        stroke:black;\n",
       "        fill:rgba(0,0,0,0);\n",
       "    }\n",
       "    svg.railroad-diagram text {\n",
       "        font:bold 14px monospace;\n",
       "        text-anchor:middle;\n",
       "    }\n",
       "    svg.railroad-diagram text.label{\n",
       "        text-anchor:start;\n",
       "    }\n",
       "    svg.railroad-diagram text.comment{\n",
       "        font:italic 12px monospace;\n",
       "    }\n",
       "    svg.railroad-diagram rect{\n",
       "        stroke-width:3;\n",
       "        stroke:black;\n",
       "        fill:hsl(0,62%,82%);\n",
       "    }\n",
       "\n",
       "/* ]]> */\n",
       "</style><g>\n",
       "<path d=\"M20 21v20m10 -20v20m-10 -10h20\"/></g><g>\n",
       "<path d=\"M40 31h0.0\"/><path d=\"M108.5 31h0.0\"/><path d=\"M40.0 31h20\"/><g>\n",
       "<path d=\"M60.0 31h0.0\"/><path d=\"M88.5 31h0.0\"/><g class=\"non-terminal\">\n",
       "<path d=\"M60.0 31h0.0\"/><path d=\"M88.5 31h0.0\"/><rect height=\"22\" width=\"28.5\" x=\"60.0\" y=\"20\"/><text x=\"74.25\" y=\"35\">A</text></g></g><path d=\"M88.5 31h20\"/></g><path d=\"M 108.5 31 h 20 m -10 -10 v 20 m 10 -20 v 20\"/></g></svg>"
      ],
      "text/plain": [
       "<IPython.core.display.SVG object>"
      ]
     },
     "metadata": {},
     "output_type": "display_data"
    },
    {
     "name": "stdout",
     "output_type": "stream",
     "text": [
      "A\n"
     ]
    },
    {
     "data": {
      "image/svg+xml": [
       "<svg class=\"railroad-diagram\" height=\"92\" viewBox=\"0 0 197.0 92\" width=\"197.0\" xmlns=\"http://www.w3.org/2000/svg\">\n",
       "<g transform=\"translate(.5 .5)\">\n",
       "<style>/* <![CDATA[ */\n",
       "    svg.railroad-diagram {\n",
       "        background-color:hsl(100,100%,100%);\n",
       "    }\n",
       "    svg.railroad-diagram path {\n",
       "        stroke-width:3;\n",
       "        stroke:black;\n",
       "        fill:rgba(0,0,0,0);\n",
       "    }\n",
       "    svg.railroad-diagram text {\n",
       "        font:bold 14px monospace;\n",
       "        text-anchor:middle;\n",
       "    }\n",
       "    svg.railroad-diagram text.label{\n",
       "        text-anchor:start;\n",
       "    }\n",
       "    svg.railroad-diagram text.comment{\n",
       "        font:italic 12px monospace;\n",
       "    }\n",
       "    svg.railroad-diagram rect{\n",
       "        stroke-width:3;\n",
       "        stroke:black;\n",
       "        fill:hsl(0,62%,82%);\n",
       "    }\n",
       "\n",
       "/* ]]> */\n",
       "</style><g>\n",
       "<path d=\"M20 51v20m10 -20v20m-10 -10h20\"/></g><g>\n",
       "<path d=\"M40 61h0.0\"/><path d=\"M157.0 61h0.0\"/><path d=\"M40.0 61a10 10 0 0 0 10 -10v-10a10 10 0 0 1 10 -10\"/><g>\n",
       "<path d=\"M60.0 31h0.0\"/><path d=\"M137.0 31h0.0\"/><g class=\"terminal\">\n",
       "<path d=\"M60.0 31h0.0\"/><path d=\"M88.5 31h0.0\"/><rect height=\"22\" rx=\"10\" ry=\"10\" width=\"28.5\" x=\"60.0\" y=\"20\"/><text x=\"74.25\" y=\"35\">a</text></g><path d=\"M88.5 31h10\"/><path d=\"M98.5 31h10\"/><g class=\"non-terminal\">\n",
       "<path d=\"M108.5 31h0.0\"/><path d=\"M137.0 31h0.0\"/><rect height=\"22\" width=\"28.5\" x=\"108.5\" y=\"20\"/><text x=\"122.75\" y=\"35\">A</text></g></g><path d=\"M137.0 31a10 10 0 0 1 10 10v10a10 10 0 0 0 10 10\"/><path d=\"M40.0 61h20\"/><g>\n",
       "<path d=\"M60.0 61h28.5\"/><path d=\"M108.5 61h28.5\"/><g class=\"terminal\">\n",
       "<path d=\"M88.5 61h0.0\"/><path d=\"M108.5 61h0.0\"/><rect height=\"22\" rx=\"10\" ry=\"10\" width=\"20.0\" x=\"88.5\" y=\"50\"/><text x=\"98.5\" y=\"65\"/></g></g><path d=\"M137.0 61h20\"/></g><path d=\"M 157.0 61 h 20 m -10 -10 v 20 m 10 -20 v 20\"/></g></svg>"
      ],
      "text/plain": [
       "<IPython.core.display.SVG object>"
      ]
     },
     "metadata": {},
     "output_type": "display_data"
    }
   ],
   "source": [
    "syntax_diagram(RR_GRAMMAR)"
   ]
  },
  {
   "cell_type": "code",
   "execution_count": 46,
   "metadata": {},
   "outputs": [
    {
     "data": {
      "image/svg+xml": [
       "<?xml version=\"1.0\" encoding=\"UTF-8\" standalone=\"no\"?>\n",
       "<!DOCTYPE svg PUBLIC \"-//W3C//DTD SVG 1.1//EN\"\n",
       " \"http://www.w3.org/Graphics/SVG/1.1/DTD/svg11.dtd\">\n",
       "<!-- Generated by graphviz version 2.40.1 (20161225.0304)\n",
       " -->\n",
       "<!-- Title: %3 Pages: 1 -->\n",
       "<svg width=\"94pt\" height=\"227pt\"\n",
       " viewBox=\"0.00 0.00 94.00 227.00\" xmlns=\"http://www.w3.org/2000/svg\" xmlns:xlink=\"http://www.w3.org/1999/xlink\">\n",
       "<g id=\"graph0\" class=\"graph\" transform=\"scale(1 1) rotate(0) translate(4 223)\">\n",
       "<title>%3</title>\n",
       "<polygon fill=\"#ffffff\" stroke=\"transparent\" points=\"-4,4 -4,-223 90,-223 90,4 -4,4\"/>\n",
       "<!-- 0 -->\n",
       "<g id=\"node1\" class=\"node\">\n",
       "<title>0</title>\n",
       "<text text-anchor=\"middle\" x=\"20.5\" y=\"-207.8\" font-family=\"Times,serif\" font-size=\"14.00\" fill=\"#000000\">&lt;start&gt;</text>\n",
       "</g>\n",
       "<!-- 1 -->\n",
       "<g id=\"node2\" class=\"node\">\n",
       "<title>1</title>\n",
       "<text text-anchor=\"middle\" x=\"20.5\" y=\"-156.8\" font-family=\"Times,serif\" font-size=\"14.00\" fill=\"#000000\">&lt;A&gt;</text>\n",
       "</g>\n",
       "<!-- 0&#45;&gt;1 -->\n",
       "<g id=\"edge1\" class=\"edge\">\n",
       "<title>0&#45;&gt;1</title>\n",
       "<path fill=\"none\" stroke=\"#000000\" d=\"M20.5,-203.9748C20.5,-197.195 20.5,-186.966 20.5,-178.1331\"/>\n",
       "<polygon fill=\"#000000\" stroke=\"#000000\" points=\"24.0001,-178.0561 20.5,-168.0561 17.0001,-178.0561 24.0001,-178.0561\"/>\n",
       "</g>\n",
       "<!-- 2 -->\n",
       "<g id=\"node3\" class=\"node\">\n",
       "<title>2</title>\n",
       "<text text-anchor=\"middle\" x=\"3.5\" y=\"-105.8\" font-family=\"Times,serif\" font-size=\"14.00\" fill=\"#000000\">a</text>\n",
       "</g>\n",
       "<!-- 1&#45;&gt;2 -->\n",
       "<g id=\"edge2\" class=\"edge\">\n",
       "<title>1&#45;&gt;2</title>\n",
       "<path fill=\"none\" stroke=\"#000000\" d=\"M17.9916,-152.9748C15.6814,-146.0443 12.1699,-135.5097 9.1821,-126.5464\"/>\n",
       "<polygon fill=\"#000000\" stroke=\"#000000\" points=\"12.5014,-125.4361 6.0187,-117.0561 5.8607,-127.6498 12.5014,-125.4361\"/>\n",
       "</g>\n",
       "<!-- 3 -->\n",
       "<g id=\"node4\" class=\"node\">\n",
       "<title>3</title>\n",
       "<text text-anchor=\"middle\" x=\"38.5\" y=\"-105.8\" font-family=\"Times,serif\" font-size=\"14.00\" fill=\"#000000\">&lt;A&gt;</text>\n",
       "</g>\n",
       "<!-- 1&#45;&gt;3 -->\n",
       "<g id=\"edge3\" class=\"edge\">\n",
       "<title>1&#45;&gt;3</title>\n",
       "<path fill=\"none\" stroke=\"#000000\" d=\"M23.156,-152.9748C25.602,-146.0443 29.3201,-135.5097 32.4836,-126.5464\"/>\n",
       "<polygon fill=\"#000000\" stroke=\"#000000\" points=\"35.8053,-127.6509 35.8331,-117.0561 29.2044,-125.3211 35.8053,-127.6509\"/>\n",
       "</g>\n",
       "<!-- 4 -->\n",
       "<g id=\"node5\" class=\"node\">\n",
       "<title>4</title>\n",
       "<text text-anchor=\"middle\" x=\"20.5\" y=\"-54.8\" font-family=\"Times,serif\" font-size=\"14.00\" fill=\"#000000\">a</text>\n",
       "</g>\n",
       "<!-- 3&#45;&gt;4 -->\n",
       "<g id=\"edge4\" class=\"edge\">\n",
       "<title>3&#45;&gt;4</title>\n",
       "<path fill=\"none\" stroke=\"#000000\" d=\"M35.844,-101.9748C33.398,-95.0443 29.6799,-84.5097 26.5164,-75.5464\"/>\n",
       "<polygon fill=\"#000000\" stroke=\"#000000\" points=\"29.7956,-74.3211 23.1669,-66.0561 23.1947,-76.6509 29.7956,-74.3211\"/>\n",
       "</g>\n",
       "<!-- 5 -->\n",
       "<g id=\"node6\" class=\"node\">\n",
       "<title>5</title>\n",
       "<text text-anchor=\"middle\" x=\"55.5\" y=\"-54.8\" font-family=\"Times,serif\" font-size=\"14.00\" fill=\"#000000\">&lt;A&gt;</text>\n",
       "</g>\n",
       "<!-- 3&#45;&gt;5 -->\n",
       "<g id=\"edge5\" class=\"edge\">\n",
       "<title>3&#45;&gt;5</title>\n",
       "<path fill=\"none\" stroke=\"#000000\" d=\"M41.0084,-101.9748C43.3186,-95.0443 46.8301,-84.5097 49.8179,-75.5464\"/>\n",
       "<polygon fill=\"#000000\" stroke=\"#000000\" points=\"53.1393,-76.6498 52.9813,-66.0561 46.4986,-74.4361 53.1393,-76.6498\"/>\n",
       "</g>\n",
       "<!-- 6 -->\n",
       "<g id=\"node7\" class=\"node\">\n",
       "<title>6</title>\n",
       "<text text-anchor=\"middle\" x=\"37.5\" y=\"-3.8\" font-family=\"Times,serif\" font-size=\"14.00\" fill=\"#000000\">a</text>\n",
       "</g>\n",
       "<!-- 5&#45;&gt;6 -->\n",
       "<g id=\"edge6\" class=\"edge\">\n",
       "<title>5&#45;&gt;6</title>\n",
       "<path fill=\"none\" stroke=\"#000000\" d=\"M52.844,-50.9748C50.398,-44.0443 46.6799,-33.5097 43.5164,-24.5464\"/>\n",
       "<polygon fill=\"#000000\" stroke=\"#000000\" points=\"46.7956,-23.3211 40.1669,-15.0561 40.1947,-25.6509 46.7956,-23.3211\"/>\n",
       "</g>\n",
       "<!-- 7 -->\n",
       "<g id=\"node8\" class=\"node\">\n",
       "<title>7</title>\n",
       "<text text-anchor=\"middle\" x=\"72.5\" y=\"-3.8\" font-family=\"Times,serif\" font-size=\"14.00\" fill=\"#000000\">&lt;A&gt;</text>\n",
       "</g>\n",
       "<!-- 5&#45;&gt;7 -->\n",
       "<g id=\"edge7\" class=\"edge\">\n",
       "<title>5&#45;&gt;7</title>\n",
       "<path fill=\"none\" stroke=\"#000000\" d=\"M58.0084,-50.9748C60.3186,-44.0443 63.8301,-33.5097 66.8179,-24.5464\"/>\n",
       "<polygon fill=\"#000000\" stroke=\"#000000\" points=\"70.1393,-25.6498 69.9813,-15.0561 63.4986,-23.4361 70.1393,-25.6498\"/>\n",
       "</g>\n",
       "</g>\n",
       "</svg>\n"
      ],
      "text/plain": [
       "<graphviz.dot.Digraph at 0x7f928467ab00>"
      ]
     },
     "execution_count": 46,
     "metadata": {},
     "output_type": "execute_result"
    }
   ],
   "source": [
    "display_tree(('<start>', ((\n",
    "    '<A>', (('a', []), ('<A>', (('a', []), ('<A>', (('a', []), ('<A>', []))))))),)))"
   ]
  },
  {
   "cell_type": "markdown",
   "metadata": {
    "slideshow": {
     "slide_type": "subslide"
    }
   },
   "source": [
    "#### Ambiguity\n",
    "\n",
    "To complicate matters further, there could be\n",
    "multiple derivation trees – also called _parses_ – corresponding to the\n",
    "same string from the same grammar. For example, a string `1+2+3` can be parsed\n",
    "in two ways as we see below using the `A1_GRAMMAR`"
   ]
  },
  {
   "cell_type": "code",
   "execution_count": 47,
   "metadata": {
    "slideshow": {
     "slide_type": "subslide"
    }
   },
   "outputs": [
    {
     "data": {
      "image/svg+xml": [
       "<?xml version=\"1.0\" encoding=\"UTF-8\" standalone=\"no\"?>\n",
       "<!DOCTYPE svg PUBLIC \"-//W3C//DTD SVG 1.1//EN\"\n",
       " \"http://www.w3.org/Graphics/SVG/1.1/DTD/svg11.dtd\">\n",
       "<!-- Generated by graphviz version 2.40.1 (20161225.0304)\n",
       " -->\n",
       "<!-- Title: %3 Pages: 1 -->\n",
       "<svg width=\"215pt\" height=\"329pt\"\n",
       " viewBox=\"0.00 0.00 215.00 329.00\" xmlns=\"http://www.w3.org/2000/svg\" xmlns:xlink=\"http://www.w3.org/1999/xlink\">\n",
       "<g id=\"graph0\" class=\"graph\" transform=\"scale(1 1) rotate(0) translate(4 325)\">\n",
       "<title>%3</title>\n",
       "<polygon fill=\"#ffffff\" stroke=\"transparent\" points=\"-4,4 -4,-325 211,-325 211,4 -4,4\"/>\n",
       "<!-- 0 -->\n",
       "<g id=\"node1\" class=\"node\">\n",
       "<title>0</title>\n",
       "<text text-anchor=\"middle\" x=\"130.5\" y=\"-309.8\" font-family=\"Times,serif\" font-size=\"14.00\" fill=\"#000000\">&lt;start&gt;</text>\n",
       "</g>\n",
       "<!-- 1 -->\n",
       "<g id=\"node2\" class=\"node\">\n",
       "<title>1</title>\n",
       "<text text-anchor=\"middle\" x=\"130.5\" y=\"-258.8\" font-family=\"Times,serif\" font-size=\"14.00\" fill=\"#000000\">&lt;expr&gt;</text>\n",
       "</g>\n",
       "<!-- 0&#45;&gt;1 -->\n",
       "<g id=\"edge1\" class=\"edge\">\n",
       "<title>0&#45;&gt;1</title>\n",
       "<path fill=\"none\" stroke=\"#000000\" d=\"M130.5,-305.9748C130.5,-299.195 130.5,-288.966 130.5,-280.1331\"/>\n",
       "<polygon fill=\"#000000\" stroke=\"#000000\" points=\"134.0001,-280.0561 130.5,-270.0561 127.0001,-280.0561 134.0001,-280.0561\"/>\n",
       "</g>\n",
       "<!-- 2 -->\n",
       "<g id=\"node3\" class=\"node\">\n",
       "<title>2</title>\n",
       "<text text-anchor=\"middle\" x=\"81.5\" y=\"-207.8\" font-family=\"Times,serif\" font-size=\"14.00\" fill=\"#000000\">&lt;expr&gt;</text>\n",
       "</g>\n",
       "<!-- 1&#45;&gt;2 -->\n",
       "<g id=\"edge2\" class=\"edge\">\n",
       "<title>1&#45;&gt;2</title>\n",
       "<path fill=\"none\" stroke=\"#000000\" d=\"M123.2699,-254.9748C116.1046,-247.517 104.9294,-235.8857 95.9406,-226.53\"/>\n",
       "<polygon fill=\"#000000\" stroke=\"#000000\" points=\"98.2119,-223.8423 88.7598,-219.0561 93.1642,-228.6921 98.2119,-223.8423\"/>\n",
       "</g>\n",
       "<!-- 12 -->\n",
       "<g id=\"node13\" class=\"node\">\n",
       "<title>12</title>\n",
       "<text text-anchor=\"middle\" x=\"130.5\" y=\"-207.8\" font-family=\"Times,serif\" font-size=\"14.00\" fill=\"#000000\">+</text>\n",
       "</g>\n",
       "<!-- 1&#45;&gt;12 -->\n",
       "<g id=\"edge12\" class=\"edge\">\n",
       "<title>1&#45;&gt;12</title>\n",
       "<path fill=\"none\" stroke=\"#000000\" d=\"M130.5,-254.9748C130.5,-248.195 130.5,-237.966 130.5,-229.1331\"/>\n",
       "<polygon fill=\"#000000\" stroke=\"#000000\" points=\"134.0001,-229.0561 130.5,-219.0561 127.0001,-229.0561 134.0001,-229.0561\"/>\n",
       "</g>\n",
       "<!-- 13 -->\n",
       "<g id=\"node14\" class=\"node\">\n",
       "<title>13</title>\n",
       "<text text-anchor=\"middle\" x=\"176.5\" y=\"-207.8\" font-family=\"Times,serif\" font-size=\"14.00\" fill=\"#000000\">&lt;expr&gt;</text>\n",
       "</g>\n",
       "<!-- 1&#45;&gt;13 -->\n",
       "<g id=\"edge13\" class=\"edge\">\n",
       "<title>1&#45;&gt;13</title>\n",
       "<path fill=\"none\" stroke=\"#000000\" d=\"M137.2875,-254.9748C144.0141,-247.517 154.505,-235.8857 162.9436,-226.53\"/>\n",
       "<polygon fill=\"#000000\" stroke=\"#000000\" points=\"165.586,-228.826 169.6847,-219.0561 160.388,-224.1376 165.586,-228.826\"/>\n",
       "</g>\n",
       "<!-- 3 -->\n",
       "<g id=\"node4\" class=\"node\">\n",
       "<title>3</title>\n",
       "<text text-anchor=\"middle\" x=\"27.5\" y=\"-156.8\" font-family=\"Times,serif\" font-size=\"14.00\" fill=\"#000000\">&lt;expr&gt;</text>\n",
       "</g>\n",
       "<!-- 2&#45;&gt;3 -->\n",
       "<g id=\"edge3\" class=\"edge\">\n",
       "<title>2&#45;&gt;3</title>\n",
       "<path fill=\"none\" stroke=\"#000000\" d=\"M73.5321,-203.9748C65.4761,-196.3663 52.8208,-184.4141 42.8167,-174.9658\"/>\n",
       "<polygon fill=\"#000000\" stroke=\"#000000\" points=\"45.1739,-172.3778 35.5006,-168.0561 40.3675,-177.4669 45.1739,-172.3778\"/>\n",
       "</g>\n",
       "<!-- 7 -->\n",
       "<g id=\"node8\" class=\"node\">\n",
       "<title>7</title>\n",
       "<text text-anchor=\"middle\" x=\"70.5\" y=\"-156.8\" font-family=\"Times,serif\" font-size=\"14.00\" fill=\"#000000\">+</text>\n",
       "</g>\n",
       "<!-- 2&#45;&gt;7 -->\n",
       "<g id=\"edge7\" class=\"edge\">\n",
       "<title>2&#45;&gt;7</title>\n",
       "<path fill=\"none\" stroke=\"#000000\" d=\"M79.8769,-203.9748C78.3984,-197.1196 76.1592,-186.7383 74.2398,-177.8392\"/>\n",
       "<polygon fill=\"#000000\" stroke=\"#000000\" points=\"77.6595,-177.0934 72.1297,-168.0561 70.8169,-178.5693 77.6595,-177.0934\"/>\n",
       "</g>\n",
       "<!-- 8 -->\n",
       "<g id=\"node9\" class=\"node\">\n",
       "<title>8</title>\n",
       "<text text-anchor=\"middle\" x=\"113.5\" y=\"-156.8\" font-family=\"Times,serif\" font-size=\"14.00\" fill=\"#000000\">&lt;expr&gt;</text>\n",
       "</g>\n",
       "<!-- 2&#45;&gt;8 -->\n",
       "<g id=\"edge8\" class=\"edge\">\n",
       "<title>2&#45;&gt;8</title>\n",
       "<path fill=\"none\" stroke=\"#000000\" d=\"M86.2217,-203.9748C90.712,-196.8183 97.6137,-185.8188 103.3512,-176.6747\"/>\n",
       "<polygon fill=\"#000000\" stroke=\"#000000\" points=\"106.4087,-178.387 108.7589,-168.0561 100.4792,-174.6665 106.4087,-178.387\"/>\n",
       "</g>\n",
       "<!-- 4 -->\n",
       "<g id=\"node5\" class=\"node\">\n",
       "<title>4</title>\n",
       "<text text-anchor=\"middle\" x=\"27.5\" y=\"-105.8\" font-family=\"Times,serif\" font-size=\"14.00\" fill=\"#000000\">&lt;integer&gt;</text>\n",
       "</g>\n",
       "<!-- 3&#45;&gt;4 -->\n",
       "<g id=\"edge4\" class=\"edge\">\n",
       "<title>3&#45;&gt;4</title>\n",
       "<path fill=\"none\" stroke=\"#000000\" d=\"M27.5,-152.9748C27.5,-146.195 27.5,-135.966 27.5,-127.1331\"/>\n",
       "<polygon fill=\"#000000\" stroke=\"#000000\" points=\"31.0001,-127.0561 27.5,-117.0561 24.0001,-127.0561 31.0001,-127.0561\"/>\n",
       "</g>\n",
       "<!-- 5 -->\n",
       "<g id=\"node6\" class=\"node\">\n",
       "<title>5</title>\n",
       "<text text-anchor=\"middle\" x=\"27.5\" y=\"-54.8\" font-family=\"Times,serif\" font-size=\"14.00\" fill=\"#000000\">&lt;digit&gt;</text>\n",
       "</g>\n",
       "<!-- 4&#45;&gt;5 -->\n",
       "<g id=\"edge5\" class=\"edge\">\n",
       "<title>4&#45;&gt;5</title>\n",
       "<path fill=\"none\" stroke=\"#000000\" d=\"M27.5,-101.9748C27.5,-95.195 27.5,-84.966 27.5,-76.1331\"/>\n",
       "<polygon fill=\"#000000\" stroke=\"#000000\" points=\"31.0001,-76.0561 27.5,-66.0561 24.0001,-76.0561 31.0001,-76.0561\"/>\n",
       "</g>\n",
       "<!-- 6 -->\n",
       "<g id=\"node7\" class=\"node\">\n",
       "<title>6</title>\n",
       "<text text-anchor=\"middle\" x=\"27.5\" y=\"-3.8\" font-family=\"Times,serif\" font-size=\"14.00\" fill=\"#000000\">1</text>\n",
       "</g>\n",
       "<!-- 5&#45;&gt;6 -->\n",
       "<g id=\"edge6\" class=\"edge\">\n",
       "<title>5&#45;&gt;6</title>\n",
       "<path fill=\"none\" stroke=\"#000000\" d=\"M27.5,-50.9748C27.5,-44.195 27.5,-33.966 27.5,-25.1331\"/>\n",
       "<polygon fill=\"#000000\" stroke=\"#000000\" points=\"31.0001,-25.0561 27.5,-15.0561 24.0001,-25.0561 31.0001,-25.0561\"/>\n",
       "</g>\n",
       "<!-- 9 -->\n",
       "<g id=\"node10\" class=\"node\">\n",
       "<title>9</title>\n",
       "<text text-anchor=\"middle\" x=\"112.5\" y=\"-105.8\" font-family=\"Times,serif\" font-size=\"14.00\" fill=\"#000000\">&lt;integer&gt;</text>\n",
       "</g>\n",
       "<!-- 8&#45;&gt;9 -->\n",
       "<g id=\"edge9\" class=\"edge\">\n",
       "<title>8&#45;&gt;9</title>\n",
       "<path fill=\"none\" stroke=\"#000000\" d=\"M113.3524,-152.9748C113.2195,-146.195 113.0189,-135.966 112.8457,-127.1331\"/>\n",
       "<polygon fill=\"#000000\" stroke=\"#000000\" points=\"116.3436,-126.9855 112.6482,-117.0561 109.345,-127.1228 116.3436,-126.9855\"/>\n",
       "</g>\n",
       "<!-- 10 -->\n",
       "<g id=\"node11\" class=\"node\">\n",
       "<title>10</title>\n",
       "<text text-anchor=\"middle\" x=\"112.5\" y=\"-54.8\" font-family=\"Times,serif\" font-size=\"14.00\" fill=\"#000000\">&lt;digit&gt;</text>\n",
       "</g>\n",
       "<!-- 9&#45;&gt;10 -->\n",
       "<g id=\"edge10\" class=\"edge\">\n",
       "<title>9&#45;&gt;10</title>\n",
       "<path fill=\"none\" stroke=\"#000000\" d=\"M112.5,-101.9748C112.5,-95.195 112.5,-84.966 112.5,-76.1331\"/>\n",
       "<polygon fill=\"#000000\" stroke=\"#000000\" points=\"116.0001,-76.0561 112.5,-66.0561 109.0001,-76.0561 116.0001,-76.0561\"/>\n",
       "</g>\n",
       "<!-- 11 -->\n",
       "<g id=\"node12\" class=\"node\">\n",
       "<title>11</title>\n",
       "<text text-anchor=\"middle\" x=\"112.5\" y=\"-3.8\" font-family=\"Times,serif\" font-size=\"14.00\" fill=\"#000000\">2</text>\n",
       "</g>\n",
       "<!-- 10&#45;&gt;11 -->\n",
       "<g id=\"edge11\" class=\"edge\">\n",
       "<title>10&#45;&gt;11</title>\n",
       "<path fill=\"none\" stroke=\"#000000\" d=\"M112.5,-50.9748C112.5,-44.195 112.5,-33.966 112.5,-25.1331\"/>\n",
       "<polygon fill=\"#000000\" stroke=\"#000000\" points=\"116.0001,-25.0561 112.5,-15.0561 109.0001,-25.0561 116.0001,-25.0561\"/>\n",
       "</g>\n",
       "<!-- 14 -->\n",
       "<g id=\"node15\" class=\"node\">\n",
       "<title>14</title>\n",
       "<text text-anchor=\"middle\" x=\"179.5\" y=\"-156.8\" font-family=\"Times,serif\" font-size=\"14.00\" fill=\"#000000\">&lt;integer&gt;</text>\n",
       "</g>\n",
       "<!-- 13&#45;&gt;14 -->\n",
       "<g id=\"edge14\" class=\"edge\">\n",
       "<title>13&#45;&gt;14</title>\n",
       "<path fill=\"none\" stroke=\"#000000\" d=\"M176.9427,-203.9748C177.3415,-197.195 177.9432,-186.966 178.4628,-178.1331\"/>\n",
       "<polygon fill=\"#000000\" stroke=\"#000000\" points=\"181.9622,-178.2444 179.0555,-168.0561 174.9742,-177.8333 181.9622,-178.2444\"/>\n",
       "</g>\n",
       "<!-- 15 -->\n",
       "<g id=\"node16\" class=\"node\">\n",
       "<title>15</title>\n",
       "<text text-anchor=\"middle\" x=\"179.5\" y=\"-105.8\" font-family=\"Times,serif\" font-size=\"14.00\" fill=\"#000000\">&lt;digit&gt;</text>\n",
       "</g>\n",
       "<!-- 14&#45;&gt;15 -->\n",
       "<g id=\"edge15\" class=\"edge\">\n",
       "<title>14&#45;&gt;15</title>\n",
       "<path fill=\"none\" stroke=\"#000000\" d=\"M179.5,-152.9748C179.5,-146.195 179.5,-135.966 179.5,-127.1331\"/>\n",
       "<polygon fill=\"#000000\" stroke=\"#000000\" points=\"183.0001,-127.0561 179.5,-117.0561 176.0001,-127.0561 183.0001,-127.0561\"/>\n",
       "</g>\n",
       "<!-- 16 -->\n",
       "<g id=\"node17\" class=\"node\">\n",
       "<title>16</title>\n",
       "<text text-anchor=\"middle\" x=\"179.5\" y=\"-54.8\" font-family=\"Times,serif\" font-size=\"14.00\" fill=\"#000000\">3</text>\n",
       "</g>\n",
       "<!-- 15&#45;&gt;16 -->\n",
       "<g id=\"edge16\" class=\"edge\">\n",
       "<title>15&#45;&gt;16</title>\n",
       "<path fill=\"none\" stroke=\"#000000\" d=\"M179.5,-101.9748C179.5,-95.195 179.5,-84.966 179.5,-76.1331\"/>\n",
       "<polygon fill=\"#000000\" stroke=\"#000000\" points=\"183.0001,-76.0561 179.5,-66.0561 176.0001,-76.0561 183.0001,-76.0561\"/>\n",
       "</g>\n",
       "</g>\n",
       "</svg>\n"
      ],
      "text/plain": [
       "<graphviz.dot.Digraph at 0x7f92846bc7f0>"
      ]
     },
     "execution_count": 47,
     "metadata": {},
     "output_type": "execute_result"
    }
   ],
   "source": [
    "mystring = '1+2+3'\n",
    "tree = ('<start>',\n",
    "        [('<expr>',\n",
    "          [('<expr>', [('<expr>', [('<integer>', [('<digit>', [('1', [])])])]),\n",
    "                       ('+', []),\n",
    "                       ('<expr>', [('<integer>',\n",
    "                                    [('<digit>', [('2', [])])])])]), ('+', []),\n",
    "           ('<expr>', [('<integer>', [('<digit>', [('3', [])])])])])])\n",
    "assert mystring == tree_to_string(tree)\n",
    "display_tree(tree)"
   ]
  },
  {
   "cell_type": "code",
   "execution_count": 48,
   "metadata": {
    "slideshow": {
     "slide_type": "subslide"
    }
   },
   "outputs": [
    {
     "data": {
      "image/svg+xml": [
       "<?xml version=\"1.0\" encoding=\"UTF-8\" standalone=\"no\"?>\n",
       "<!DOCTYPE svg PUBLIC \"-//W3C//DTD SVG 1.1//EN\"\n",
       " \"http://www.w3.org/Graphics/SVG/1.1/DTD/svg11.dtd\">\n",
       "<!-- Generated by graphviz version 2.40.1 (20161225.0304)\n",
       " -->\n",
       "<!-- Title: %3 Pages: 1 -->\n",
       "<svg width=\"215pt\" height=\"329pt\"\n",
       " viewBox=\"0.00 0.00 215.00 329.00\" xmlns=\"http://www.w3.org/2000/svg\" xmlns:xlink=\"http://www.w3.org/1999/xlink\">\n",
       "<g id=\"graph0\" class=\"graph\" transform=\"scale(1 1) rotate(0) translate(4 325)\">\n",
       "<title>%3</title>\n",
       "<polygon fill=\"#ffffff\" stroke=\"transparent\" points=\"-4,4 -4,-325 211,-325 211,4 -4,4\"/>\n",
       "<!-- 0 -->\n",
       "<g id=\"node1\" class=\"node\">\n",
       "<title>0</title>\n",
       "<text text-anchor=\"middle\" x=\"87.5\" y=\"-309.8\" font-family=\"Times,serif\" font-size=\"14.00\" fill=\"#000000\">&lt;start&gt;</text>\n",
       "</g>\n",
       "<!-- 1 -->\n",
       "<g id=\"node2\" class=\"node\">\n",
       "<title>1</title>\n",
       "<text text-anchor=\"middle\" x=\"87.5\" y=\"-258.8\" font-family=\"Times,serif\" font-size=\"14.00\" fill=\"#000000\">&lt;expr&gt;</text>\n",
       "</g>\n",
       "<!-- 0&#45;&gt;1 -->\n",
       "<g id=\"edge1\" class=\"edge\">\n",
       "<title>0&#45;&gt;1</title>\n",
       "<path fill=\"none\" stroke=\"#000000\" d=\"M87.5,-305.9748C87.5,-299.195 87.5,-288.966 87.5,-280.1331\"/>\n",
       "<polygon fill=\"#000000\" stroke=\"#000000\" points=\"91.0001,-280.0561 87.5,-270.0561 84.0001,-280.0561 91.0001,-280.0561\"/>\n",
       "</g>\n",
       "<!-- 2 -->\n",
       "<g id=\"node3\" class=\"node\">\n",
       "<title>2</title>\n",
       "<text text-anchor=\"middle\" x=\"38.5\" y=\"-207.8\" font-family=\"Times,serif\" font-size=\"14.00\" fill=\"#000000\">&lt;expr&gt;</text>\n",
       "</g>\n",
       "<!-- 1&#45;&gt;2 -->\n",
       "<g id=\"edge2\" class=\"edge\">\n",
       "<title>1&#45;&gt;2</title>\n",
       "<path fill=\"none\" stroke=\"#000000\" d=\"M80.2699,-254.9748C73.1046,-247.517 61.9294,-235.8857 52.9406,-226.53\"/>\n",
       "<polygon fill=\"#000000\" stroke=\"#000000\" points=\"55.2119,-223.8423 45.7598,-219.0561 50.1642,-228.6921 55.2119,-223.8423\"/>\n",
       "</g>\n",
       "<!-- 6 -->\n",
       "<g id=\"node7\" class=\"node\">\n",
       "<title>6</title>\n",
       "<text text-anchor=\"middle\" x=\"87.5\" y=\"-207.8\" font-family=\"Times,serif\" font-size=\"14.00\" fill=\"#000000\">+</text>\n",
       "</g>\n",
       "<!-- 1&#45;&gt;6 -->\n",
       "<g id=\"edge6\" class=\"edge\">\n",
       "<title>1&#45;&gt;6</title>\n",
       "<path fill=\"none\" stroke=\"#000000\" d=\"M87.5,-254.9748C87.5,-248.195 87.5,-237.966 87.5,-229.1331\"/>\n",
       "<polygon fill=\"#000000\" stroke=\"#000000\" points=\"91.0001,-229.0561 87.5,-219.0561 84.0001,-229.0561 91.0001,-229.0561\"/>\n",
       "</g>\n",
       "<!-- 7 -->\n",
       "<g id=\"node8\" class=\"node\">\n",
       "<title>7</title>\n",
       "<text text-anchor=\"middle\" x=\"133.5\" y=\"-207.8\" font-family=\"Times,serif\" font-size=\"14.00\" fill=\"#000000\">&lt;expr&gt;</text>\n",
       "</g>\n",
       "<!-- 1&#45;&gt;7 -->\n",
       "<g id=\"edge7\" class=\"edge\">\n",
       "<title>1&#45;&gt;7</title>\n",
       "<path fill=\"none\" stroke=\"#000000\" d=\"M94.2875,-254.9748C101.0141,-247.517 111.505,-235.8857 119.9436,-226.53\"/>\n",
       "<polygon fill=\"#000000\" stroke=\"#000000\" points=\"122.586,-228.826 126.6847,-219.0561 117.388,-224.1376 122.586,-228.826\"/>\n",
       "</g>\n",
       "<!-- 3 -->\n",
       "<g id=\"node4\" class=\"node\">\n",
       "<title>3</title>\n",
       "<text text-anchor=\"middle\" x=\"27.5\" y=\"-156.8\" font-family=\"Times,serif\" font-size=\"14.00\" fill=\"#000000\">&lt;integer&gt;</text>\n",
       "</g>\n",
       "<!-- 2&#45;&gt;3 -->\n",
       "<g id=\"edge3\" class=\"edge\">\n",
       "<title>2&#45;&gt;3</title>\n",
       "<path fill=\"none\" stroke=\"#000000\" d=\"M36.8769,-203.9748C35.3984,-197.1196 33.1592,-186.7383 31.2398,-177.8392\"/>\n",
       "<polygon fill=\"#000000\" stroke=\"#000000\" points=\"34.6595,-177.0934 29.1297,-168.0561 27.8169,-178.5693 34.6595,-177.0934\"/>\n",
       "</g>\n",
       "<!-- 4 -->\n",
       "<g id=\"node5\" class=\"node\">\n",
       "<title>4</title>\n",
       "<text text-anchor=\"middle\" x=\"27.5\" y=\"-105.8\" font-family=\"Times,serif\" font-size=\"14.00\" fill=\"#000000\">&lt;digit&gt;</text>\n",
       "</g>\n",
       "<!-- 3&#45;&gt;4 -->\n",
       "<g id=\"edge4\" class=\"edge\">\n",
       "<title>3&#45;&gt;4</title>\n",
       "<path fill=\"none\" stroke=\"#000000\" d=\"M27.5,-152.9748C27.5,-146.195 27.5,-135.966 27.5,-127.1331\"/>\n",
       "<polygon fill=\"#000000\" stroke=\"#000000\" points=\"31.0001,-127.0561 27.5,-117.0561 24.0001,-127.0561 31.0001,-127.0561\"/>\n",
       "</g>\n",
       "<!-- 5 -->\n",
       "<g id=\"node6\" class=\"node\">\n",
       "<title>5</title>\n",
       "<text text-anchor=\"middle\" x=\"27.5\" y=\"-54.8\" font-family=\"Times,serif\" font-size=\"14.00\" fill=\"#000000\">1</text>\n",
       "</g>\n",
       "<!-- 4&#45;&gt;5 -->\n",
       "<g id=\"edge5\" class=\"edge\">\n",
       "<title>4&#45;&gt;5</title>\n",
       "<path fill=\"none\" stroke=\"#000000\" d=\"M27.5,-101.9748C27.5,-95.195 27.5,-84.966 27.5,-76.1331\"/>\n",
       "<polygon fill=\"#000000\" stroke=\"#000000\" points=\"31.0001,-76.0561 27.5,-66.0561 24.0001,-76.0561 31.0001,-76.0561\"/>\n",
       "</g>\n",
       "<!-- 8 -->\n",
       "<g id=\"node9\" class=\"node\">\n",
       "<title>8</title>\n",
       "<text text-anchor=\"middle\" x=\"93.5\" y=\"-156.8\" font-family=\"Times,serif\" font-size=\"14.00\" fill=\"#000000\">&lt;expr&gt;</text>\n",
       "</g>\n",
       "<!-- 7&#45;&gt;8 -->\n",
       "<g id=\"edge8\" class=\"edge\">\n",
       "<title>7&#45;&gt;8</title>\n",
       "<path fill=\"none\" stroke=\"#000000\" d=\"M127.5979,-203.9748C121.8668,-196.6677 112.9933,-185.354 105.7351,-176.0997\"/>\n",
       "<polygon fill=\"#000000\" stroke=\"#000000\" points=\"108.3518,-173.7647 99.4264,-168.0561 102.8438,-178.0847 108.3518,-173.7647\"/>\n",
       "</g>\n",
       "<!-- 12 -->\n",
       "<g id=\"node13\" class=\"node\">\n",
       "<title>12</title>\n",
       "<text text-anchor=\"middle\" x=\"136.5\" y=\"-156.8\" font-family=\"Times,serif\" font-size=\"14.00\" fill=\"#000000\">+</text>\n",
       "</g>\n",
       "<!-- 7&#45;&gt;12 -->\n",
       "<g id=\"edge12\" class=\"edge\">\n",
       "<title>7&#45;&gt;12</title>\n",
       "<path fill=\"none\" stroke=\"#000000\" d=\"M133.9427,-203.9748C134.3415,-197.195 134.9432,-186.966 135.4628,-178.1331\"/>\n",
       "<polygon fill=\"#000000\" stroke=\"#000000\" points=\"138.9622,-178.2444 136.0555,-168.0561 131.9742,-177.8333 138.9622,-178.2444\"/>\n",
       "</g>\n",
       "<!-- 13 -->\n",
       "<g id=\"node14\" class=\"node\">\n",
       "<title>13</title>\n",
       "<text text-anchor=\"middle\" x=\"179.5\" y=\"-156.8\" font-family=\"Times,serif\" font-size=\"14.00\" fill=\"#000000\">&lt;expr&gt;</text>\n",
       "</g>\n",
       "<!-- 7&#45;&gt;13 -->\n",
       "<g id=\"edge13\" class=\"edge\">\n",
       "<title>7&#45;&gt;13</title>\n",
       "<path fill=\"none\" stroke=\"#000000\" d=\"M140.2875,-203.9748C147.0141,-196.517 157.505,-184.8857 165.9436,-175.53\"/>\n",
       "<polygon fill=\"#000000\" stroke=\"#000000\" points=\"168.586,-177.826 172.6847,-168.0561 163.388,-173.1376 168.586,-177.826\"/>\n",
       "</g>\n",
       "<!-- 9 -->\n",
       "<g id=\"node10\" class=\"node\">\n",
       "<title>9</title>\n",
       "<text text-anchor=\"middle\" x=\"94.5\" y=\"-105.8\" font-family=\"Times,serif\" font-size=\"14.00\" fill=\"#000000\">&lt;integer&gt;</text>\n",
       "</g>\n",
       "<!-- 8&#45;&gt;9 -->\n",
       "<g id=\"edge9\" class=\"edge\">\n",
       "<title>8&#45;&gt;9</title>\n",
       "<path fill=\"none\" stroke=\"#000000\" d=\"M93.6476,-152.9748C93.7805,-146.195 93.9811,-135.966 94.1543,-127.1331\"/>\n",
       "<polygon fill=\"#000000\" stroke=\"#000000\" points=\"97.655,-127.1228 94.3518,-117.0561 90.6564,-126.9855 97.655,-127.1228\"/>\n",
       "</g>\n",
       "<!-- 10 -->\n",
       "<g id=\"node11\" class=\"node\">\n",
       "<title>10</title>\n",
       "<text text-anchor=\"middle\" x=\"94.5\" y=\"-54.8\" font-family=\"Times,serif\" font-size=\"14.00\" fill=\"#000000\">&lt;digit&gt;</text>\n",
       "</g>\n",
       "<!-- 9&#45;&gt;10 -->\n",
       "<g id=\"edge10\" class=\"edge\">\n",
       "<title>9&#45;&gt;10</title>\n",
       "<path fill=\"none\" stroke=\"#000000\" d=\"M94.5,-101.9748C94.5,-95.195 94.5,-84.966 94.5,-76.1331\"/>\n",
       "<polygon fill=\"#000000\" stroke=\"#000000\" points=\"98.0001,-76.0561 94.5,-66.0561 91.0001,-76.0561 98.0001,-76.0561\"/>\n",
       "</g>\n",
       "<!-- 11 -->\n",
       "<g id=\"node12\" class=\"node\">\n",
       "<title>11</title>\n",
       "<text text-anchor=\"middle\" x=\"94.5\" y=\"-3.8\" font-family=\"Times,serif\" font-size=\"14.00\" fill=\"#000000\">2</text>\n",
       "</g>\n",
       "<!-- 10&#45;&gt;11 -->\n",
       "<g id=\"edge11\" class=\"edge\">\n",
       "<title>10&#45;&gt;11</title>\n",
       "<path fill=\"none\" stroke=\"#000000\" d=\"M94.5,-50.9748C94.5,-44.195 94.5,-33.966 94.5,-25.1331\"/>\n",
       "<polygon fill=\"#000000\" stroke=\"#000000\" points=\"98.0001,-25.0561 94.5,-15.0561 91.0001,-25.0561 98.0001,-25.0561\"/>\n",
       "</g>\n",
       "<!-- 14 -->\n",
       "<g id=\"node15\" class=\"node\">\n",
       "<title>14</title>\n",
       "<text text-anchor=\"middle\" x=\"179.5\" y=\"-105.8\" font-family=\"Times,serif\" font-size=\"14.00\" fill=\"#000000\">&lt;integer&gt;</text>\n",
       "</g>\n",
       "<!-- 13&#45;&gt;14 -->\n",
       "<g id=\"edge14\" class=\"edge\">\n",
       "<title>13&#45;&gt;14</title>\n",
       "<path fill=\"none\" stroke=\"#000000\" d=\"M179.5,-152.9748C179.5,-146.195 179.5,-135.966 179.5,-127.1331\"/>\n",
       "<polygon fill=\"#000000\" stroke=\"#000000\" points=\"183.0001,-127.0561 179.5,-117.0561 176.0001,-127.0561 183.0001,-127.0561\"/>\n",
       "</g>\n",
       "<!-- 15 -->\n",
       "<g id=\"node16\" class=\"node\">\n",
       "<title>15</title>\n",
       "<text text-anchor=\"middle\" x=\"179.5\" y=\"-54.8\" font-family=\"Times,serif\" font-size=\"14.00\" fill=\"#000000\">&lt;digit&gt;</text>\n",
       "</g>\n",
       "<!-- 14&#45;&gt;15 -->\n",
       "<g id=\"edge15\" class=\"edge\">\n",
       "<title>14&#45;&gt;15</title>\n",
       "<path fill=\"none\" stroke=\"#000000\" d=\"M179.5,-101.9748C179.5,-95.195 179.5,-84.966 179.5,-76.1331\"/>\n",
       "<polygon fill=\"#000000\" stroke=\"#000000\" points=\"183.0001,-76.0561 179.5,-66.0561 176.0001,-76.0561 183.0001,-76.0561\"/>\n",
       "</g>\n",
       "<!-- 16 -->\n",
       "<g id=\"node17\" class=\"node\">\n",
       "<title>16</title>\n",
       "<text text-anchor=\"middle\" x=\"179.5\" y=\"-3.8\" font-family=\"Times,serif\" font-size=\"14.00\" fill=\"#000000\">3</text>\n",
       "</g>\n",
       "<!-- 15&#45;&gt;16 -->\n",
       "<g id=\"edge16\" class=\"edge\">\n",
       "<title>15&#45;&gt;16</title>\n",
       "<path fill=\"none\" stroke=\"#000000\" d=\"M179.5,-50.9748C179.5,-44.195 179.5,-33.966 179.5,-25.1331\"/>\n",
       "<polygon fill=\"#000000\" stroke=\"#000000\" points=\"183.0001,-25.0561 179.5,-15.0561 176.0001,-25.0561 183.0001,-25.0561\"/>\n",
       "</g>\n",
       "</g>\n",
       "</svg>\n"
      ],
      "text/plain": [
       "<graphviz.dot.Digraph at 0x7f92846d7e10>"
      ]
     },
     "execution_count": 48,
     "metadata": {},
     "output_type": "execute_result"
    }
   ],
   "source": [
    "tree = ('<start>',\n",
    "        [('<expr>', [('<expr>', [('<integer>', [('<digit>', [('1', [])])])]),\n",
    "                     ('+', []),\n",
    "                     ('<expr>',\n",
    "                      [('<expr>', [('<integer>', [('<digit>', [('2', [])])])]),\n",
    "                       ('+', []),\n",
    "                       ('<expr>', [('<integer>', [('<digit>', [('3',\n",
    "                                                                [])])])])])])])\n",
    "assert tree_to_string(tree) == mystring\n",
    "display_tree(tree)"
   ]
  },
  {
   "cell_type": "markdown",
   "metadata": {},
   "source": [
    "There are many ways to resolve ambiguities. One approach taken by *Parsing Expression Grammars* explained in the next section is to specify a particular order of resolution, and choose the first one. Another approach is to simply return all possible derivation trees, which is the approach taken by *Earley parser* we develop later."
   ]
  },
  {
   "cell_type": "markdown",
   "metadata": {
    "slideshow": {
     "slide_type": "subslide"
    }
   },
   "source": [
    "Next, we develop different parsers. To do that, we define a minimal interface for parsing that is obeyed by all parsers. There are two approaches to parsing a string using a grammar.\n",
    "\n",
    "1. The traditional approach is to use a *lexer* (also called a *tokenizer* or a *scanner*) to first tokenize the incoming string, and feed the grammar one token at a time. The lexer is typically a smaller parser that accepts a *regular language*. The advantage of this approach is that the grammar used by the parser can eschew the details of tokenization. Further, one gets a shallow derivation tree at the end of the parsing which can be directly used for generating the *Abstract Syntax Tree*.\n",
    "2. The second approach is to use a tree pruner after the complete parse. With this approach, one uses a grammar that incorporates complete details of the syntax. Next, the nodes corresponding to tokens are pruned and replaced with their corresponding strings as leaf nodes. The utility of this approach is that the parser is more powerful, and further there is no artificial distinction between *lexing* and *parsing*.\n",
    "\n",
    "In this chapter, we use the second approach. This approach is implemented in the `prune_tree` method."
   ]
  },
  {
   "cell_type": "markdown",
   "metadata": {
    "slideshow": {
     "slide_type": "subslide"
    }
   },
   "source": [
    "The *Parser* class we define below provides the minimal interface. The main methods that need to be implemented by the classes implementing this interface are `parse_prefix` and `parse`. The `parse_prefix` returns a tuple, which contains the index until which parsing was completed successfully, and the parse forest until that index. The method `parse` returns a list of derivation trees if the parse was successful."
   ]
  },
  {
   "cell_type": "code",
   "execution_count": 49,
   "metadata": {
    "slideshow": {
     "slide_type": "subslide"
    }
   },
   "outputs": [],
   "source": [
    "class Parser(object):\n",
    "    def __init__(self, grammar, **kwargs):\n",
    "        self._grammar = grammar\n",
    "        self._start_symbol = kwargs.get('start_symbol', START_SYMBOL)\n",
    "        self.log = kwargs.get('log', False)\n",
    "        self.coalesce_tokens = kwargs.get('coalesce', True)\n",
    "        self.tokens = kwargs.get('tokens', set())\n",
    "\n",
    "    def grammar(self):\n",
    "        return self._grammar\n",
    "\n",
    "    def start_symbol(self):\n",
    "        return self._start_symbol\n",
    "\n",
    "    def parse_prefix(self, text):\n",
    "        \"\"\"Return pair (cursor, forest) for longest prefix of text\"\"\"\n",
    "        raise NotImplemented()\n",
    "\n",
    "    def parse(self, text):\n",
    "        cursor, forest = self.parse_prefix(text)\n",
    "        if cursor < len(text):\n",
    "            raise SyntaxError(\"at \" + repr(text[cursor:]))\n",
    "        return [self.prune_tree(tree) for tree in forest]\n",
    "\n",
    "    def coalesce(self, children):\n",
    "        last = ''\n",
    "        new_lst = []\n",
    "        for cn, cc in children:\n",
    "            if cn not in self._grammar:\n",
    "                last += cn\n",
    "            else:\n",
    "                if last:\n",
    "                    new_lst.append((last, []))\n",
    "                    last = ''\n",
    "                new_lst.append((cn, cc))\n",
    "        if last:\n",
    "            new_lst.append((last, []))\n",
    "        return new_lst\n",
    "\n",
    "    def prune_tree(self, tree):\n",
    "        name, children = tree\n",
    "        if self.coalesce_tokens:\n",
    "            children = self.coalesce(children)\n",
    "        if name in self.tokens:\n",
    "            return (name, [(tree_to_string(tree), [])])\n",
    "        else:\n",
    "            return (name, [self.prune_tree(c) for c in children])"
   ]
  },
  {
   "cell_type": "markdown",
   "metadata": {
    "slideshow": {
     "slide_type": "subslide"
    }
   },
   "source": [
    "## Parsing Expression Grammars\n",
    "\n",
    "A _[Parsing Expression Grammar](http://bford.info/pub/lang/peg)_ (*PEG*) \\cite{Ford2004} is a type of _recognition based formal grammar_ that specifies the sequence of steps to take to parse a given string.\n",
    "A _parsing expression grammar_ is very similar to a _context-free grammar_ (*CFG*) such as the ones we saw in the [chapter on grammars](Grammars.ipynb). As in a CFG, a parsing expression grammar is represented by a set of nonterminals and corresponding alternatives representing how to match each. For example, here is a PEG that matches `a` or `b`."
   ]
  },
  {
   "cell_type": "code",
   "execution_count": 50,
   "metadata": {
    "slideshow": {
     "slide_type": "fragment"
    }
   },
   "outputs": [],
   "source": [
    "PEG1 = {\n",
    "    '<start>': ['a', 'b']\n",
    "}"
   ]
  },
  {
   "cell_type": "markdown",
   "metadata": {
    "slideshow": {
     "slide_type": "notes"
    }
   },
   "source": [
    "However, unlike the _CFG_, the alternatives represent *ordered choice*. That is, rather than choosing all rules that can potentially match, we stop at the first match that succeed. For example, the below _PEG_ can match `ab` but not `abc` unlike a _CFG_ which will match both. (We call the sequence of ordered choice expressions *choice expressions*  rather than alternatives to make the distinction from _CFG_ clear.)"
   ]
  },
  {
   "cell_type": "code",
   "execution_count": 51,
   "metadata": {
    "slideshow": {
     "slide_type": "subslide"
    }
   },
   "outputs": [],
   "source": [
    "PEG2 = {\n",
    "    '<start>': ['ab', 'abc']\n",
    "}"
   ]
  },
  {
   "cell_type": "markdown",
   "metadata": {
    "slideshow": {
     "slide_type": "notes"
    }
   },
   "source": [
    "Each choice in a _choice expression_ represents a rule on how to satisfy that particular choice. The choice is a sequence of symbols (terminals and nonterminals) that are matched against a given text as in a _CFG_."
   ]
  },
  {
   "cell_type": "markdown",
   "metadata": {
    "slideshow": {
     "slide_type": "skip"
    }
   },
   "source": [
    "Beyond the syntax of grammar definitions we have seen so far, a _PEG_ can also contain a few additional elements. See the exercises at the end of the chapter for additional information.\n",
    "\n",
    "The PEGs model the typical practice in handwritten recursive descent parsers, and hence it may be considered more intuitive to understand. We look at parsers for PEGs next."
   ]
  },
  {
   "cell_type": "markdown",
   "metadata": {
    "slideshow": {
     "slide_type": "subslide"
    }
   },
   "source": [
    "### The Packrat Parser for Predicate Expression Grammars\n",
    "\n",
    "Short of hand rolling a parser, _Packrat_ parsing is one of the simplest parsing techniques, and is one of the techniques for parsing PEGs.\n",
    "The _Packrat_ parser is so named because it tries to cache all results from simpler problems in the hope that these solutions can be used to avoid re-computation later. We develop a minimal _Packrat_ parser next.\n",
    "\n",
    "But before that, we need to implement a few supporting tools."
   ]
  },
  {
   "cell_type": "markdown",
   "metadata": {
    "slideshow": {
     "slide_type": "skip"
    }
   },
   "source": [
    "The  `EXPR_GRAMMAR` we import from the [chapter on grammars](Grammars.ipynb) is oriented towards generation. In particular, the production rules are stored as strings. We need to massage this representation a little to conform to a canonical representation where each token in a rule is represented separately. The `canonical` format uses separate tokens to represent each symbol in an expansion."
   ]
  },
  {
   "cell_type": "code",
   "execution_count": 52,
   "metadata": {
    "slideshow": {
     "slide_type": "skip"
    }
   },
   "outputs": [],
   "source": [
    "import re"
   ]
  },
  {
   "cell_type": "code",
   "execution_count": 53,
   "metadata": {
    "slideshow": {
     "slide_type": "skip"
    }
   },
   "outputs": [],
   "source": [
    "def canonical(grammar, letters=False):\n",
    "    def split(expansion):\n",
    "        if isinstance(expansion, tuple):\n",
    "            expansion = expansion[0]\n",
    "\n",
    "        return [token for token in re.split(\n",
    "            RE_NONTERMINAL, expansion) if token]\n",
    "\n",
    "    def tokenize(word):\n",
    "        return list(word) if letters else [word]\n",
    "\n",
    "    def canonical_expr(expression):\n",
    "        return [\n",
    "            token for word in split(expression)\n",
    "            for token in ([word] if word in grammar else tokenize(word))\n",
    "        ]\n",
    "\n",
    "    return {\n",
    "        k: [canonical_expr(expression) for expression in alternatives]\n",
    "        for k, alternatives in grammar.items()\n",
    "    }"
   ]
  },
  {
   "cell_type": "code",
   "execution_count": 54,
   "metadata": {
    "slideshow": {
     "slide_type": "skip"
    }
   },
   "outputs": [
    {
     "data": {
      "text/plain": [
       "{'<start>': [['<expr>']],\n",
       " '<expr>': [['<term>', ' + ', '<expr>'],\n",
       "  ['<term>', ' - ', '<expr>'],\n",
       "  ['<term>']],\n",
       " '<term>': [['<factor>', ' * ', '<term>'],\n",
       "  ['<factor>', ' / ', '<term>'],\n",
       "  ['<factor>']],\n",
       " '<factor>': [['+', '<factor>'],\n",
       "  ['-', '<factor>'],\n",
       "  ['(', '<expr>', ')'],\n",
       "  ['<integer>', '.', '<integer>'],\n",
       "  ['<integer>']],\n",
       " '<integer>': [['<digit>', '<integer>'], ['<digit>']],\n",
       " '<digit>': [['0'],\n",
       "  ['1'],\n",
       "  ['2'],\n",
       "  ['3'],\n",
       "  ['4'],\n",
       "  ['5'],\n",
       "  ['6'],\n",
       "  ['7'],\n",
       "  ['8'],\n",
       "  ['9']]}"
      ]
     },
     "execution_count": 54,
     "metadata": {},
     "output_type": "execute_result"
    }
   ],
   "source": [
    "canonical(EXPR_GRAMMAR)"
   ]
  },
  {
   "cell_type": "markdown",
   "metadata": {
    "slideshow": {
     "slide_type": "skip"
    }
   },
   "source": [
    "It is easier to work with the `canonical` representation during parsing. Hence, we update our parser class to store the `canonical` representation also."
   ]
  },
  {
   "cell_type": "code",
   "execution_count": 55,
   "metadata": {
    "slideshow": {
     "slide_type": "subslide"
    }
   },
   "outputs": [],
   "source": [
    "class Parser(Parser):\n",
    "    def __init__(self, grammar, **kwargs):\n",
    "        self._grammar = grammar\n",
    "        self._start_symbol = kwargs.get('start_symbol', START_SYMBOL)\n",
    "        self.log = kwargs.get('log', False)\n",
    "        self.tokens = kwargs.get('tokens', set())\n",
    "        self.coalesce_tokens = kwargs.get('coalesce', True)\n",
    "        self.cgrammar = canonical(grammar)"
   ]
  },
  {
   "cell_type": "markdown",
   "metadata": {
    "slideshow": {
     "slide_type": "subslide"
    },
    "toc-hr-collapsed": false
   },
   "source": [
    "### The Parser\n",
    "\n",
    "We derive from the `Parser` base class first, and we accept the text to be parsed in the `parse()` method, which in turn calls `unify_key()` with the `start_symbol`.\n",
    "\n",
    "__Note.__ While our PEG parser can produce only a single unambiguous parse tree, other parsers can produce multiple parses for ambiguous grammars. Hence, we return a list of trees (in this case with a single element)."
   ]
  },
  {
   "cell_type": "code",
   "execution_count": 56,
   "metadata": {
    "slideshow": {
     "slide_type": "subslide"
    }
   },
   "outputs": [],
   "source": [
    "class PEGParser(Parser):\n",
    "    def parse_prefix(self, text):\n",
    "        cursor, tree = self.unify_key(self.start_symbol(), text, 0)\n",
    "        return cursor, [tree]"
   ]
  },
  {
   "cell_type": "markdown",
   "metadata": {
    "slideshow": {
     "slide_type": "notes"
    }
   },
   "source": [
    "#### Unify Key\n",
    "The `unify_key()` algorithm is simple. If given a terminal symbol, it tries to match the symbol with the current position in the text. If the symbol and text match, it returns successfully with the new parse index `at`.\n",
    "\n",
    "If on the other hand, it was given a nonterminal, it retrieves the choice expression corresponding to the key, and tries to match each choice *in order* using `unify_rule()`. If **any** of the rules succeed in being unified with the given text, the parse is considered a success, and we return with the new parse index returned by `unify_rule()`."
   ]
  },
  {
   "cell_type": "code",
   "execution_count": 57,
   "metadata": {
    "button": false,
    "code_folding": [],
    "new_sheet": false,
    "run_control": {
     "read_only": false
    },
    "slideshow": {
     "slide_type": "subslide"
    }
   },
   "outputs": [],
   "source": [
    "class PEGParser(PEGParser):\n",
    "    def unify_key(self, key, text, at=0):\n",
    "        if self.log:\n",
    "            print(\"unify_key: %s with %s\" % (repr(key), repr(text[at:])))\n",
    "        if key not in self.cgrammar:\n",
    "            if text[at:].startswith(key):\n",
    "                return at + len(key), (key, [])\n",
    "            else:\n",
    "                return at, None\n",
    "        for rule in self.cgrammar[key]:\n",
    "            to, res = self.unify_rule(rule, text, at)\n",
    "            if res:\n",
    "                return (to, (key, res))\n",
    "        return 0, None"
   ]
  },
  {
   "cell_type": "code",
   "execution_count": 58,
   "metadata": {},
   "outputs": [
    {
     "name": "stdout",
     "output_type": "stream",
     "text": [
      "unify_key: '1' with '1'\n"
     ]
    },
    {
     "data": {
      "text/plain": [
       "(1, ('1', []))"
      ]
     },
     "execution_count": 58,
     "metadata": {},
     "output_type": "execute_result"
    }
   ],
   "source": [
    "mystring = \"1\"\n",
    "peg = PEGParser(EXPR_GRAMMAR, log=True)\n",
    "peg.unify_key('1', mystring)"
   ]
  },
  {
   "cell_type": "code",
   "execution_count": 59,
   "metadata": {},
   "outputs": [
    {
     "name": "stdout",
     "output_type": "stream",
     "text": [
      "unify_key: '1' with '2'\n"
     ]
    },
    {
     "data": {
      "text/plain": [
       "(0, None)"
      ]
     },
     "execution_count": 59,
     "metadata": {},
     "output_type": "execute_result"
    }
   ],
   "source": [
    "mystring = \"2\"\n",
    "peg.unify_key('1', mystring)"
   ]
  },
  {
   "cell_type": "markdown",
   "metadata": {
    "slideshow": {
     "slide_type": "notes"
    }
   },
   "source": [
    "#### Unify Rule\n",
    "\n",
    "The `unify_rule()` method is similar. It retrieves the tokens corresponding to the rule that it needs to unify with the text, and calls `unify_key()` on them in sequence. If **all** tokens are successfully unified with the text, the parse is a success."
   ]
  },
  {
   "cell_type": "code",
   "execution_count": 60,
   "metadata": {
    "slideshow": {
     "slide_type": "subslide"
    }
   },
   "outputs": [],
   "source": [
    "class PEGParser(PEGParser):\n",
    "    def unify_rule(self, rule, text, at):\n",
    "        if self.log:\n",
    "            print('unify_rule: %s with %s' % (repr(rule), repr(text[at:])))\n",
    "        results = []\n",
    "        for token in rule:\n",
    "            at, res = self.unify_key(token, text, at)\n",
    "            if res is None:\n",
    "                return at, None\n",
    "            results.append(res)\n",
    "        return at, results"
   ]
  },
  {
   "cell_type": "code",
   "execution_count": 61,
   "metadata": {},
   "outputs": [
    {
     "name": "stdout",
     "output_type": "stream",
     "text": [
      "unify_rule: ['0'] with '0'\n",
      "unify_key: '0' with '0'\n"
     ]
    },
    {
     "data": {
      "text/plain": [
       "(1, [('0', [])])"
      ]
     },
     "execution_count": 61,
     "metadata": {},
     "output_type": "execute_result"
    }
   ],
   "source": [
    "mystring = \"0\"\n",
    "peg = PEGParser(EXPR_GRAMMAR, log=True)\n",
    "peg.unify_rule(peg.cgrammar['<digit>'][0], mystring, 0)"
   ]
  },
  {
   "cell_type": "code",
   "execution_count": 62,
   "metadata": {},
   "outputs": [
    {
     "name": "stdout",
     "output_type": "stream",
     "text": [
      "unify_rule: ['<digit>', '<integer>'] with '12'\n",
      "unify_key: '<digit>' with '12'\n",
      "unify_rule: ['0'] with '12'\n",
      "unify_key: '0' with '12'\n",
      "unify_rule: ['1'] with '12'\n",
      "unify_key: '1' with '12'\n",
      "unify_key: '<integer>' with '2'\n",
      "unify_rule: ['<digit>', '<integer>'] with '2'\n",
      "unify_key: '<digit>' with '2'\n",
      "unify_rule: ['0'] with '2'\n",
      "unify_key: '0' with '2'\n",
      "unify_rule: ['1'] with '2'\n",
      "unify_key: '1' with '2'\n",
      "unify_rule: ['2'] with '2'\n",
      "unify_key: '2' with '2'\n",
      "unify_key: '<integer>' with ''\n",
      "unify_rule: ['<digit>', '<integer>'] with ''\n",
      "unify_key: '<digit>' with ''\n",
      "unify_rule: ['0'] with ''\n",
      "unify_key: '0' with ''\n",
      "unify_rule: ['1'] with ''\n",
      "unify_key: '1' with ''\n",
      "unify_rule: ['2'] with ''\n",
      "unify_key: '2' with ''\n",
      "unify_rule: ['3'] with ''\n",
      "unify_key: '3' with ''\n",
      "unify_rule: ['4'] with ''\n",
      "unify_key: '4' with ''\n",
      "unify_rule: ['5'] with ''\n",
      "unify_key: '5' with ''\n",
      "unify_rule: ['6'] with ''\n",
      "unify_key: '6' with ''\n",
      "unify_rule: ['7'] with ''\n",
      "unify_key: '7' with ''\n",
      "unify_rule: ['8'] with ''\n",
      "unify_key: '8' with ''\n",
      "unify_rule: ['9'] with ''\n",
      "unify_key: '9' with ''\n",
      "unify_rule: ['<digit>'] with ''\n",
      "unify_key: '<digit>' with ''\n",
      "unify_rule: ['0'] with ''\n",
      "unify_key: '0' with ''\n",
      "unify_rule: ['1'] with ''\n",
      "unify_key: '1' with ''\n",
      "unify_rule: ['2'] with ''\n",
      "unify_key: '2' with ''\n",
      "unify_rule: ['3'] with ''\n",
      "unify_key: '3' with ''\n",
      "unify_rule: ['4'] with ''\n",
      "unify_key: '4' with ''\n",
      "unify_rule: ['5'] with ''\n",
      "unify_key: '5' with ''\n",
      "unify_rule: ['6'] with ''\n",
      "unify_key: '6' with ''\n",
      "unify_rule: ['7'] with ''\n",
      "unify_key: '7' with ''\n",
      "unify_rule: ['8'] with ''\n",
      "unify_key: '8' with ''\n",
      "unify_rule: ['9'] with ''\n",
      "unify_key: '9' with ''\n",
      "unify_rule: ['<digit>'] with '2'\n",
      "unify_key: '<digit>' with '2'\n",
      "unify_rule: ['0'] with '2'\n",
      "unify_key: '0' with '2'\n",
      "unify_rule: ['1'] with '2'\n",
      "unify_key: '1' with '2'\n",
      "unify_rule: ['2'] with '2'\n",
      "unify_key: '2' with '2'\n"
     ]
    },
    {
     "data": {
      "text/plain": [
       "(2, [('<digit>', [('1', [])]), ('<integer>', [('<digit>', [('2', [])])])])"
      ]
     },
     "execution_count": 62,
     "metadata": {},
     "output_type": "execute_result"
    }
   ],
   "source": [
    "mystring = \"12\"\n",
    "peg.unify_rule(peg.cgrammar['<integer>'][0], mystring, 0)"
   ]
  },
  {
   "cell_type": "code",
   "execution_count": 63,
   "metadata": {},
   "outputs": [
    {
     "data": {
      "text/plain": [
       "[('<start>',\n",
       "  [('<expr>',\n",
       "    [('<term>', [('<factor>', [('<integer>', [('<digit>', [('1', [])])])])]),\n",
       "     (' + ', []),\n",
       "     ('<expr>',\n",
       "      [('<term>',\n",
       "        [('<factor>', [('<integer>', [('<digit>', [('2', [])])])])])])])])]"
      ]
     },
     "execution_count": 63,
     "metadata": {},
     "output_type": "execute_result"
    }
   ],
   "source": [
    "mystring = \"1 + 2\"\n",
    "peg = PEGParser(EXPR_GRAMMAR, log=False)\n",
    "peg.parse(mystring)"
   ]
  },
  {
   "cell_type": "markdown",
   "metadata": {
    "slideshow": {
     "slide_type": "notes"
    }
   },
   "source": [
    "The two methods are mutually recursive, and given that `unify_key()` tries each alternative until it succeeds, `unify_key` can be called multiple times with the same arguments. Hence, it is important to memoize the results of `unify_key`. Python provides a simple decorator `lru_cache` for memoizing any function call that has hashable arguments. We add that to our implementation so that repeated calls to `unify_key()` with the same argument get cached results.\n",
    "\n",
    "This memoization gives the algorithm its name – _Packrat_."
   ]
  },
  {
   "cell_type": "code",
   "execution_count": 64,
   "metadata": {
    "slideshow": {
     "slide_type": "skip"
    }
   },
   "outputs": [],
   "source": [
    "from functools import lru_cache"
   ]
  },
  {
   "cell_type": "code",
   "execution_count": 65,
   "metadata": {
    "slideshow": {
     "slide_type": "subslide"
    }
   },
   "outputs": [],
   "source": [
    "class PEGParser(PEGParser):\n",
    "    @lru_cache(maxsize=None)\n",
    "    def unify_key(self, key, text, at=0):\n",
    "        if key not in self.cgrammar:\n",
    "            if text[at:].startswith(key):\n",
    "                return at + len(key), (key, [])\n",
    "            else:\n",
    "                return at, None\n",
    "        for rule in self.cgrammar[key]:\n",
    "            to, res = self.unify_rule(rule, text, at)\n",
    "            if res:\n",
    "                return (to, (key, res))\n",
    "        return 0, None"
   ]
  },
  {
   "cell_type": "markdown",
   "metadata": {
    "slideshow": {
     "slide_type": "notes"
    }
   },
   "source": [
    "We wrap initialization and calling of `PEGParser` in a method `parse()` already implemented in the `Parser` base class that accepts the text to be parsed along with the grammar."
   ]
  },
  {
   "cell_type": "markdown",
   "metadata": {
    "slideshow": {
     "slide_type": "notes"
    }
   },
   "source": [
    "Here are a few examples of our parser in action."
   ]
  },
  {
   "cell_type": "code",
   "execution_count": 66,
   "metadata": {
    "slideshow": {
     "slide_type": "subslide"
    }
   },
   "outputs": [],
   "source": [
    "mystring = \"1 + (2 * 3)\"\n",
    "peg = PEGParser(EXPR_GRAMMAR)\n",
    "for tree in peg.parse(mystring):\n",
    "    assert tree_to_string(tree) == mystring\n",
    "    display_tree(tree)"
   ]
  },
  {
   "cell_type": "code",
   "execution_count": 67,
   "metadata": {
    "slideshow": {
     "slide_type": "subslide"
    }
   },
   "outputs": [],
   "source": [
    "mystring = \"1 * (2 + 3.35)\"\n",
    "for tree in peg.parse(mystring):\n",
    "    assert tree_to_string(tree) == mystring\n",
    "    display_tree(tree)"
   ]
  },
  {
   "cell_type": "markdown",
   "metadata": {
    "slideshow": {
     "slide_type": "notes"
    }
   },
   "source": [
    "One should be aware that while the grammar looks like a *CFG*, the language described by a *PEG* may be different. Indeed, only *LL(1)* grammars are guaranteed to represent the same language for both PEGs and other parsers. Behavior of PEGs for other classes of grammars could be surprising \\cite{redziejowski2008}. "
   ]
  },
  {
   "cell_type": "markdown",
   "metadata": {
    "slideshow": {
     "slide_type": "slide"
    },
    "toc-hr-collapsed": true
   },
   "source": [
    "## Parsing Context-Free Grammars"
   ]
  },
  {
   "cell_type": "markdown",
   "metadata": {
    "slideshow": {
     "slide_type": "slide"
    }
   },
   "source": [
    "###  Problems with PEG\n",
    "While _PEGs_ are simple at first sight, their behavior in some cases might be a bit unintuitive. For example, here is an example \\cite{redziejowski}:"
   ]
  },
  {
   "cell_type": "code",
   "execution_count": 68,
   "metadata": {
    "slideshow": {
     "slide_type": "subslide"
    }
   },
   "outputs": [],
   "source": [
    "PEG_SURPRISE = {\n",
    "    \"<A>\": [\"a<A>a\", \"aa\"]\n",
    "}"
   ]
  },
  {
   "cell_type": "markdown",
   "metadata": {
    "slideshow": {
     "slide_type": "notes"
    }
   },
   "source": [
    "When interpreted as a *CFG* and used as a string generator, it will produce strings of the form `aa, aaaa, aaaaaa` that is, it produces strings where the number of `a` is $ 2*n $ where $ n > 0 $."
   ]
  },
  {
   "cell_type": "code",
   "execution_count": 69,
   "metadata": {
    "slideshow": {
     "slide_type": "subslide"
    }
   },
   "outputs": [
    {
     "data": {
      "text/plain": [
       "['aa', 'aaaa', 'aaaaaa', 'aaaaaaaa']"
      ]
     },
     "execution_count": 69,
     "metadata": {},
     "output_type": "execute_result"
    }
   ],
   "source": [
    "strings = []\n",
    "for e in range(4):\n",
    "    f = GrammarFuzzer(PEG_SURPRISE, start_symbol='<A>')\n",
    "    tree = ('<A>', None)\n",
    "    for _ in range(e):\n",
    "        tree = f.expand_tree_once(tree)\n",
    "    tree = f.expand_tree_with_strategy(tree, f.expand_node_min_cost)\n",
    "    strings.append(tree_to_string(tree))\n",
    "    display_tree(tree)\n",
    "strings"
   ]
  },
  {
   "cell_type": "markdown",
   "metadata": {
    "slideshow": {
     "slide_type": "subslide"
    }
   },
   "source": [
    "However, the _PEG_ parser can only recognize strings of the form $2^n$"
   ]
  },
  {
   "cell_type": "code",
   "execution_count": 70,
   "metadata": {
    "slideshow": {
     "slide_type": "subslide"
    }
   },
   "outputs": [
    {
     "name": "stdout",
     "output_type": "stream",
     "text": [
      "aa\n",
      "aaaa\n",
      "aaaaaaaa\n"
     ]
    },
    {
     "name": "stderr",
     "output_type": "stream",
     "text": [
      "Traceback (most recent call last):\n",
      "  File \"<ipython-input-70-dec55ebf796e>\", line 4, in <module>\n",
      "    for tree in peg.parse(s):\n",
      "  File \"<ipython-input-49-abe75b43d33f>\", line 22, in parse\n",
      "    raise SyntaxError(\"at \" + repr(text[cursor:]))\n",
      "  File \"<string>\", line None\n",
      "SyntaxError: at 'aa' (expected)\n"
     ]
    }
   ],
   "source": [
    "peg = PEGParser(PEG_SURPRISE, start_symbol='<A>')\n",
    "for s in strings:\n",
    "    with ExpectError():\n",
    "        for tree in peg.parse(s):\n",
    "            display_tree(tree)\n",
    "        print(s)"
   ]
  },
  {
   "cell_type": "markdown",
   "metadata": {
    "slideshow": {
     "slide_type": "notes"
    }
   },
   "source": [
    "This is not the only problem with _Parsing Expression Grammars_. While  *PEGs* are expressive and the *packrat* parser for parsing them is simple and intuitive, *PEGs* suffer from a major deficiency for our purposes. *PEGs* are oriented towards language recognition, and it is not clear how to translate an arbitrary *PEG* to a *CFG*. As we mentioned earlier, a naive re-interpretation of a *PEG* as a *CFG* does not work very well. Further, it is not clear what is the exact relation between the class of languages represented by *PEG* and the class of languages represented by *CFG*. Since our primary focus is *fuzzing* – that is _generation_ of strings – , we next look at _parsers that can accept context-free grammars_."
   ]
  },
  {
   "cell_type": "markdown",
   "metadata": {},
   "source": [
    "The general idea of *CFG* parser is the following: Peek at the input text for the allowed number of characters, and use these, and our parser state to determine which rules can be applied to complete parsing. We next look at a typical *CFG* parsing algorithm, the Earley Parser."
   ]
  },
  {
   "cell_type": "markdown",
   "metadata": {
    "slideshow": {
     "slide_type": "slide"
    },
    "toc-hr-collapsed": false
   },
   "source": [
    "### The Earley Parser"
   ]
  },
  {
   "cell_type": "markdown",
   "metadata": {
    "slideshow": {
     "slide_type": "notes"
    }
   },
   "source": [
    "The Earley parser is a general parser that is able to parse any arbitrary *CFG*. It was invented by Jay Earley \\cite{Earley1970} for use in computational linguistics. While its computational complexity is $O(n^3)$ for parsing strings with arbitrary grammars, it can parse strings with unambiguous grammars in $O(n^2)$ time, and all *[LR(k)](https://en.wikipedia.org/wiki/LR_parser)* grammars in linear time ($O(n)$ \\cite{Leo1991}). Further improvements – notably handling epsilon rules – were invented by Aycock et al. \\cite{Aycock2002}."
   ]
  },
  {
   "cell_type": "markdown",
   "metadata": {
    "slideshow": {
     "slide_type": "notes"
    }
   },
   "source": [
    "Note that one restriction of our implementation is that the start symbol can have only one alternative in its alternative expressions. This is not a restriction in practice because any grammar with multiple alternatives for its start symbol can be extended with a new start symbol that has the original start symbol as its only choice. That is, given a grammar as below,\n",
    "\n",
    "```\n",
    "grammar = {\n",
    "    '<start>': ['<A>', '<B>'],\n",
    "    ...\n",
    "}\n",
    "```\n",
    "one may rewrite it as below to conform to the *single-alternative* rule.\n",
    "```\n",
    "grammar = {\n",
    "    '<start>': ['<start_>'],\n",
    "    '<start_>': ['<A>', '<B>'],\n",
    "    ...\n",
    "}\n",
    "```"
   ]
  },
  {
   "cell_type": "markdown",
   "metadata": {
    "slideshow": {
     "slide_type": "notes"
    }
   },
   "source": [
    "We first implement a simpler parser that is a parser for nearly all *CFGs*, but not quite. In particular, our parser does not understand _epsilon rules_ – rules that derive empty string. We show later how the parser can be extended to handle these."
   ]
  },
  {
   "cell_type": "markdown",
   "metadata": {},
   "source": [
    "We use the following grammar in our examples below."
   ]
  },
  {
   "cell_type": "code",
   "execution_count": 71,
   "metadata": {},
   "outputs": [],
   "source": [
    "SAMPLE_GRAMMAR = {\n",
    "    '<start>': ['<A><B>'],\n",
    "    '<A>': ['a<B>c', 'a<A>'],\n",
    "    '<B>': ['b<C>', '<D>'],\n",
    "    '<C>': ['c'],\n",
    "    '<D>': ['d']\n",
    "}\n",
    "C_SAMPLE_GRAMMAR = canonical(SAMPLE_GRAMMAR)"
   ]
  },
  {
   "cell_type": "code",
   "execution_count": 72,
   "metadata": {},
   "outputs": [
    {
     "name": "stdout",
     "output_type": "stream",
     "text": [
      "start\n"
     ]
    },
    {
     "data": {
      "image/svg+xml": [
       "<svg class=\"railroad-diagram\" height=\"62\" viewBox=\"0 0 197.0 62\" width=\"197.0\" xmlns=\"http://www.w3.org/2000/svg\">\n",
       "<g transform=\"translate(.5 .5)\">\n",
       "<style>/* <![CDATA[ */\n",
       "    svg.railroad-diagram {\n",
       "        background-color:hsl(100,100%,100%);\n",
       "    }\n",
       "    svg.railroad-diagram path {\n",
       "        stroke-width:3;\n",
       "        stroke:black;\n",
       "        fill:rgba(0,0,0,0);\n",
       "    }\n",
       "    svg.railroad-diagram text {\n",
       "        font:bold 14px monospace;\n",
       "        text-anchor:middle;\n",
       "    }\n",
       "    svg.railroad-diagram text.label{\n",
       "        text-anchor:start;\n",
       "    }\n",
       "    svg.railroad-diagram text.comment{\n",
       "        font:italic 12px monospace;\n",
       "    }\n",
       "    svg.railroad-diagram rect{\n",
       "        stroke-width:3;\n",
       "        stroke:black;\n",
       "        fill:hsl(0,62%,82%);\n",
       "    }\n",
       "\n",
       "/* ]]> */\n",
       "</style><g>\n",
       "<path d=\"M20 21v20m10 -20v20m-10 -10h20\"/></g><g>\n",
       "<path d=\"M40 31h0.0\"/><path d=\"M157.0 31h0.0\"/><path d=\"M40.0 31h20\"/><g>\n",
       "<path d=\"M60.0 31h0.0\"/><path d=\"M137.0 31h0.0\"/><g class=\"non-terminal\">\n",
       "<path d=\"M60.0 31h0.0\"/><path d=\"M88.5 31h0.0\"/><rect height=\"22\" width=\"28.5\" x=\"60.0\" y=\"20\"/><text x=\"74.25\" y=\"35\">A</text></g><path d=\"M88.5 31h10\"/><path d=\"M98.5 31h10\"/><g class=\"non-terminal\">\n",
       "<path d=\"M108.5 31h0.0\"/><path d=\"M137.0 31h0.0\"/><rect height=\"22\" width=\"28.5\" x=\"108.5\" y=\"20\"/><text x=\"122.75\" y=\"35\">B</text></g></g><path d=\"M137.0 31h20\"/></g><path d=\"M 157.0 31 h 20 m -10 -10 v 20 m 10 -20 v 20\"/></g></svg>"
      ],
      "text/plain": [
       "<IPython.core.display.SVG object>"
      ]
     },
     "metadata": {},
     "output_type": "display_data"
    },
    {
     "name": "stdout",
     "output_type": "stream",
     "text": [
      "A\n"
     ]
    },
    {
     "data": {
      "image/svg+xml": [
       "<svg class=\"railroad-diagram\" height=\"92\" viewBox=\"0 0 245.5 92\" width=\"245.5\" xmlns=\"http://www.w3.org/2000/svg\">\n",
       "<g transform=\"translate(.5 .5)\">\n",
       "<style>/* <![CDATA[ */\n",
       "    svg.railroad-diagram {\n",
       "        background-color:hsl(100,100%,100%);\n",
       "    }\n",
       "    svg.railroad-diagram path {\n",
       "        stroke-width:3;\n",
       "        stroke:black;\n",
       "        fill:rgba(0,0,0,0);\n",
       "    }\n",
       "    svg.railroad-diagram text {\n",
       "        font:bold 14px monospace;\n",
       "        text-anchor:middle;\n",
       "    }\n",
       "    svg.railroad-diagram text.label{\n",
       "        text-anchor:start;\n",
       "    }\n",
       "    svg.railroad-diagram text.comment{\n",
       "        font:italic 12px monospace;\n",
       "    }\n",
       "    svg.railroad-diagram rect{\n",
       "        stroke-width:3;\n",
       "        stroke:black;\n",
       "        fill:hsl(0,62%,82%);\n",
       "    }\n",
       "\n",
       "/* ]]> */\n",
       "</style><g>\n",
       "<path d=\"M20 51v20m10 -20v20m-10 -10h20\"/></g><g>\n",
       "<path d=\"M40 61h0.0\"/><path d=\"M205.5 61h0.0\"/><path d=\"M40.0 61a10 10 0 0 0 10 -10v-10a10 10 0 0 1 10 -10\"/><g>\n",
       "<path d=\"M60.0 31h0.0\"/><path d=\"M185.5 31h0.0\"/><g class=\"terminal\">\n",
       "<path d=\"M60.0 31h0.0\"/><path d=\"M88.5 31h0.0\"/><rect height=\"22\" rx=\"10\" ry=\"10\" width=\"28.5\" x=\"60.0\" y=\"20\"/><text x=\"74.25\" y=\"35\">a</text></g><path d=\"M88.5 31h10\"/><path d=\"M98.5 31h10\"/><g class=\"non-terminal\">\n",
       "<path d=\"M108.5 31h0.0\"/><path d=\"M137.0 31h0.0\"/><rect height=\"22\" width=\"28.5\" x=\"108.5\" y=\"20\"/><text x=\"122.75\" y=\"35\">B</text></g><path d=\"M137.0 31h10\"/><path d=\"M147.0 31h10\"/><g class=\"terminal\">\n",
       "<path d=\"M157.0 31h0.0\"/><path d=\"M185.5 31h0.0\"/><rect height=\"22\" rx=\"10\" ry=\"10\" width=\"28.5\" x=\"157.0\" y=\"20\"/><text x=\"171.25\" y=\"35\">c</text></g></g><path d=\"M185.5 31a10 10 0 0 1 10 10v10a10 10 0 0 0 10 10\"/><path d=\"M40.0 61h20\"/><g>\n",
       "<path d=\"M60.0 61h24.25\"/><path d=\"M161.25 61h24.25\"/><g class=\"terminal\">\n",
       "<path d=\"M84.25 61h0.0\"/><path d=\"M112.75 61h0.0\"/><rect height=\"22\" rx=\"10\" ry=\"10\" width=\"28.5\" x=\"84.25\" y=\"50\"/><text x=\"98.5\" y=\"65\">a</text></g><path d=\"M112.75 61h10\"/><path d=\"M122.75 61h10\"/><g class=\"non-terminal\">\n",
       "<path d=\"M132.75 61h0.0\"/><path d=\"M161.25 61h0.0\"/><rect height=\"22\" width=\"28.5\" x=\"132.75\" y=\"50\"/><text x=\"147.0\" y=\"65\">A</text></g></g><path d=\"M185.5 61h20\"/></g><path d=\"M 205.5 61 h 20 m -10 -10 v 20 m 10 -20 v 20\"/></g></svg>"
      ],
      "text/plain": [
       "<IPython.core.display.SVG object>"
      ]
     },
     "metadata": {},
     "output_type": "display_data"
    },
    {
     "name": "stdout",
     "output_type": "stream",
     "text": [
      "B\n"
     ]
    },
    {
     "data": {
      "image/svg+xml": [
       "<svg class=\"railroad-diagram\" height=\"92\" viewBox=\"0 0 197.0 92\" width=\"197.0\" xmlns=\"http://www.w3.org/2000/svg\">\n",
       "<g transform=\"translate(.5 .5)\">\n",
       "<style>/* <![CDATA[ */\n",
       "    svg.railroad-diagram {\n",
       "        background-color:hsl(100,100%,100%);\n",
       "    }\n",
       "    svg.railroad-diagram path {\n",
       "        stroke-width:3;\n",
       "        stroke:black;\n",
       "        fill:rgba(0,0,0,0);\n",
       "    }\n",
       "    svg.railroad-diagram text {\n",
       "        font:bold 14px monospace;\n",
       "        text-anchor:middle;\n",
       "    }\n",
       "    svg.railroad-diagram text.label{\n",
       "        text-anchor:start;\n",
       "    }\n",
       "    svg.railroad-diagram text.comment{\n",
       "        font:italic 12px monospace;\n",
       "    }\n",
       "    svg.railroad-diagram rect{\n",
       "        stroke-width:3;\n",
       "        stroke:black;\n",
       "        fill:hsl(0,62%,82%);\n",
       "    }\n",
       "\n",
       "/* ]]> */\n",
       "</style><g>\n",
       "<path d=\"M20 51v20m10 -20v20m-10 -10h20\"/></g><g>\n",
       "<path d=\"M40 61h0.0\"/><path d=\"M157.0 61h0.0\"/><path d=\"M40.0 61a10 10 0 0 0 10 -10v-10a10 10 0 0 1 10 -10\"/><g>\n",
       "<path d=\"M60.0 31h0.0\"/><path d=\"M137.0 31h0.0\"/><g class=\"terminal\">\n",
       "<path d=\"M60.0 31h0.0\"/><path d=\"M88.5 31h0.0\"/><rect height=\"22\" rx=\"10\" ry=\"10\" width=\"28.5\" x=\"60.0\" y=\"20\"/><text x=\"74.25\" y=\"35\">b</text></g><path d=\"M88.5 31h10\"/><path d=\"M98.5 31h10\"/><g class=\"non-terminal\">\n",
       "<path d=\"M108.5 31h0.0\"/><path d=\"M137.0 31h0.0\"/><rect height=\"22\" width=\"28.5\" x=\"108.5\" y=\"20\"/><text x=\"122.75\" y=\"35\">C</text></g></g><path d=\"M137.0 31a10 10 0 0 1 10 10v10a10 10 0 0 0 10 10\"/><path d=\"M40.0 61h20\"/><g>\n",
       "<path d=\"M60.0 61h24.25\"/><path d=\"M112.75 61h24.25\"/><g class=\"non-terminal\">\n",
       "<path d=\"M84.25 61h0.0\"/><path d=\"M112.75 61h0.0\"/><rect height=\"22\" width=\"28.5\" x=\"84.25\" y=\"50\"/><text x=\"98.5\" y=\"65\">D</text></g></g><path d=\"M137.0 61h20\"/></g><path d=\"M 157.0 61 h 20 m -10 -10 v 20 m 10 -20 v 20\"/></g></svg>"
      ],
      "text/plain": [
       "<IPython.core.display.SVG object>"
      ]
     },
     "metadata": {},
     "output_type": "display_data"
    },
    {
     "name": "stdout",
     "output_type": "stream",
     "text": [
      "C\n"
     ]
    },
    {
     "data": {
      "image/svg+xml": [
       "<svg class=\"railroad-diagram\" height=\"62\" viewBox=\"0 0 148.5 62\" width=\"148.5\" xmlns=\"http://www.w3.org/2000/svg\">\n",
       "<g transform=\"translate(.5 .5)\">\n",
       "<style>/* <![CDATA[ */\n",
       "    svg.railroad-diagram {\n",
       "        background-color:hsl(100,100%,100%);\n",
       "    }\n",
       "    svg.railroad-diagram path {\n",
       "        stroke-width:3;\n",
       "        stroke:black;\n",
       "        fill:rgba(0,0,0,0);\n",
       "    }\n",
       "    svg.railroad-diagram text {\n",
       "        font:bold 14px monospace;\n",
       "        text-anchor:middle;\n",
       "    }\n",
       "    svg.railroad-diagram text.label{\n",
       "        text-anchor:start;\n",
       "    }\n",
       "    svg.railroad-diagram text.comment{\n",
       "        font:italic 12px monospace;\n",
       "    }\n",
       "    svg.railroad-diagram rect{\n",
       "        stroke-width:3;\n",
       "        stroke:black;\n",
       "        fill:hsl(0,62%,82%);\n",
       "    }\n",
       "\n",
       "/* ]]> */\n",
       "</style><g>\n",
       "<path d=\"M20 21v20m10 -20v20m-10 -10h20\"/></g><g>\n",
       "<path d=\"M40 31h0.0\"/><path d=\"M108.5 31h0.0\"/><path d=\"M40.0 31h20\"/><g>\n",
       "<path d=\"M60.0 31h0.0\"/><path d=\"M88.5 31h0.0\"/><g class=\"terminal\">\n",
       "<path d=\"M60.0 31h0.0\"/><path d=\"M88.5 31h0.0\"/><rect height=\"22\" rx=\"10\" ry=\"10\" width=\"28.5\" x=\"60.0\" y=\"20\"/><text x=\"74.25\" y=\"35\">c</text></g></g><path d=\"M88.5 31h20\"/></g><path d=\"M 108.5 31 h 20 m -10 -10 v 20 m 10 -20 v 20\"/></g></svg>"
      ],
      "text/plain": [
       "<IPython.core.display.SVG object>"
      ]
     },
     "metadata": {},
     "output_type": "display_data"
    },
    {
     "name": "stdout",
     "output_type": "stream",
     "text": [
      "D\n"
     ]
    },
    {
     "data": {
      "image/svg+xml": [
       "<svg class=\"railroad-diagram\" height=\"62\" viewBox=\"0 0 148.5 62\" width=\"148.5\" xmlns=\"http://www.w3.org/2000/svg\">\n",
       "<g transform=\"translate(.5 .5)\">\n",
       "<style>/* <![CDATA[ */\n",
       "    svg.railroad-diagram {\n",
       "        background-color:hsl(100,100%,100%);\n",
       "    }\n",
       "    svg.railroad-diagram path {\n",
       "        stroke-width:3;\n",
       "        stroke:black;\n",
       "        fill:rgba(0,0,0,0);\n",
       "    }\n",
       "    svg.railroad-diagram text {\n",
       "        font:bold 14px monospace;\n",
       "        text-anchor:middle;\n",
       "    }\n",
       "    svg.railroad-diagram text.label{\n",
       "        text-anchor:start;\n",
       "    }\n",
       "    svg.railroad-diagram text.comment{\n",
       "        font:italic 12px monospace;\n",
       "    }\n",
       "    svg.railroad-diagram rect{\n",
       "        stroke-width:3;\n",
       "        stroke:black;\n",
       "        fill:hsl(0,62%,82%);\n",
       "    }\n",
       "\n",
       "/* ]]> */\n",
       "</style><g>\n",
       "<path d=\"M20 21v20m10 -20v20m-10 -10h20\"/></g><g>\n",
       "<path d=\"M40 31h0.0\"/><path d=\"M108.5 31h0.0\"/><path d=\"M40.0 31h20\"/><g>\n",
       "<path d=\"M60.0 31h0.0\"/><path d=\"M88.5 31h0.0\"/><g class=\"terminal\">\n",
       "<path d=\"M60.0 31h0.0\"/><path d=\"M88.5 31h0.0\"/><rect height=\"22\" rx=\"10\" ry=\"10\" width=\"28.5\" x=\"60.0\" y=\"20\"/><text x=\"74.25\" y=\"35\">d</text></g></g><path d=\"M88.5 31h20\"/></g><path d=\"M 108.5 31 h 20 m -10 -10 v 20 m 10 -20 v 20\"/></g></svg>"
      ],
      "text/plain": [
       "<IPython.core.display.SVG object>"
      ]
     },
     "metadata": {},
     "output_type": "display_data"
    }
   ],
   "source": [
    "syntax_diagram(SAMPLE_GRAMMAR)"
   ]
  },
  {
   "cell_type": "markdown",
   "metadata": {
    "slideshow": {
     "slide_type": "notes"
    }
   },
   "source": [
    "The basic idea of Earley parsing is the following:\n",
    "\n",
    "* Start with the alternative expressions corresponding to the START_SYMBOL. These represent the possible ways to parse the string from a high level. Essentially each expression represents a parsing path. Queue each expression in our set of possible parses of the string. The parsed index of an expression is the part of expression that has already been recognized. In the beginning of parse, the parsed index of all expressions is at the beginning. Further, each letter gets a queue of expressions that recognizes that letter at that point in our parse.\n",
    "* Examine our queue of possible parses and check if any of them start with a nonterminal. If it does, then that nonterminal needs to be recognized from the input before the given rule can be parsed. Hence, add the alternative expressions corresponding to the nonterminal to the queue. Do this recursively.\n",
    "* At this point, we are ready to advance. Examine the current letter in the input, and select all expressions that have that particular letter at the parsed index. These expressions can now advance one step. Advance these selected expressions by incrementing their parsed index and add them to the queue of expressions in line for recognizing the next input letter.\n",
    "* If while doing these things, we find that any of the expressions have finished parsing, we fetch its corresponding nonterminal, and advance all expressions that have that nonterminal at their parsed index.\n",
    "* Continue this procedure recursively until all expressions that we have queued for the current letter have been processed. Then start processing the queue for the next letter.\n",
    "\n",
    "We explain each step in detail with examples in the coming sections."
   ]
  },
  {
   "cell_type": "markdown",
   "metadata": {
    "slideshow": {
     "slide_type": "notes"
    }
   },
   "source": [
    "The parser uses dynamic programming to generate a table containing a _forest of possible parses_ at each letter index – the table contains as many columns as there are letters in the input, and each column contains different parsing rules at various stages of the parse.\n",
    "\n",
    "For example, given an input `adcd`, the Column 0 would contain the following:\n",
    "```\n",
    "<start> : ● <A> <B>\n",
    "```\n",
    "which is the starting rule that indicates that we are currently parsing the rule `<start>`, and the parsing state is just before identifying the symbol `<A>`. It would also contain the following which are two alternative paths it could take to complete the parsing.\n",
    "\n",
    "```\n",
    "<A> : ● a <B> c\n",
    "<A> : ● a <A>\n",
    "```"
   ]
  },
  {
   "cell_type": "markdown",
   "metadata": {
    "slideshow": {
     "slide_type": "notes"
    }
   },
   "source": [
    "Column 1 would contain the following, which represents the possible completion after reading `a`.\n",
    "```\n",
    "<A> : a ● <B> c\n",
    "<A> : a ● <A>\n",
    "<B> : ● b <C>\n",
    "<B> : ● <D>\n",
    "<A> : ● a <B> c\n",
    "<A> : ● a <A>\n",
    "<D> : ● d\n",
    "```"
   ]
  },
  {
   "cell_type": "markdown",
   "metadata": {
    "slideshow": {
     "slide_type": "notes"
    }
   },
   "source": [
    "Column 2 would contain the following after reading `d`\n",
    "```\n",
    "<D> : d ●\n",
    "<B> : <D> ●\n",
    "<A> : a <B> ● c\n",
    "```"
   ]
  },
  {
   "cell_type": "markdown",
   "metadata": {
    "slideshow": {
     "slide_type": "notes"
    }
   },
   "source": [
    "Similarly, Column 3 would contain the following after reading `c`\n",
    "```\n",
    "<A> : a <B> c ●\n",
    "<start> : <A> ● <B>\n",
    "<B> : ● b <C>\n",
    "<B> : ● <D>\n",
    "<D> : ● d\n",
    "```"
   ]
  },
  {
   "cell_type": "markdown",
   "metadata": {
    "slideshow": {
     "slide_type": "notes"
    }
   },
   "source": [
    "Finally, Column 4 would contain the following after reading `d`, with the `●` at the end of the `<start>` rule indicating that the parse was successful.\n",
    "```\n",
    "<D> : d ●\n",
    "<B> : <D> ●\n",
    "<start> : <A> <B> ●\n",
    "```"
   ]
  },
  {
   "cell_type": "markdown",
   "metadata": {
    "slideshow": {
     "slide_type": "notes"
    }
   },
   "source": [
    "As you can see from above, we are essentially filling a table (a table is also called a **chart**) of entries based on each letter we read, and the grammar rules that can be applied. This chart gives the parser its other name -- Chart parsing."
   ]
  },
  {
   "cell_type": "markdown",
   "metadata": {
    "slideshow": {
     "slide_type": "notes"
    }
   },
   "source": [
    "### Columns\n",
    "\n",
    "We define the `Column` first. The `Column` is initialized by its own `index` in the input string, and the `letter` at that index. Internally, we also keep track of the states that are added to the column as the parsing progresses."
   ]
  },
  {
   "cell_type": "code",
   "execution_count": 73,
   "metadata": {
    "slideshow": {
     "slide_type": "subslide"
    }
   },
   "outputs": [],
   "source": [
    "class Column(object):\n",
    "    def __init__(self, index, letter):\n",
    "        self.index, self.letter = index, letter\n",
    "        self.states, self._unique = [], {}\n",
    "\n",
    "    def __str__(self):\n",
    "        return \"%s chart[%d]\\n%s\" % (self.letter, self.index, \"\\n\".join(\n",
    "            str(state) for state in self.states if state.finished()))"
   ]
  },
  {
   "cell_type": "markdown",
   "metadata": {
    "slideshow": {
     "slide_type": "notes"
    }
   },
   "source": [
    "The `Column` only stores unique `states`. Hence, when a new `state` is `added` to our `Column`, we check whether it is already known."
   ]
  },
  {
   "cell_type": "code",
   "execution_count": 74,
   "metadata": {
    "slideshow": {
     "slide_type": "subslide"
    }
   },
   "outputs": [],
   "source": [
    "class Column(Column):\n",
    "    def add(self, state):\n",
    "        if state in self._unique:\n",
    "            return self._unique[state]\n",
    "        self._unique[state] = state\n",
    "        self.states.append(state)\n",
    "        state.e_col = self\n",
    "        return self._unique[state]"
   ]
  },
  {
   "cell_type": "markdown",
   "metadata": {
    "slideshow": {
     "slide_type": "notes"
    }
   },
   "source": [
    "### Items\n",
    "\n",
    "An item represents a _parse in progress for a specific rule._ Hence the item contains the name of the nonterminal, and the corresponding alternative expression (`expr`) which together form the rule, and the current position of parsing in this expression -- `dot`.\n",
    "\n",
    "\n",
    "**Note.** If you are familiar with [LR parsing](https://en.wikipedia.org/wiki/LR_parser), you will notice that an item is simply an `LR0` item."
   ]
  },
  {
   "cell_type": "code",
   "execution_count": 75,
   "metadata": {
    "slideshow": {
     "slide_type": "subslide"
    }
   },
   "outputs": [],
   "source": [
    "class Item(object):\n",
    "    def __init__(self, name, expr, dot):\n",
    "        self.name, self.expr, self.dot = name, expr, dot"
   ]
  },
  {
   "cell_type": "markdown",
   "metadata": {
    "slideshow": {
     "slide_type": "notes"
    }
   },
   "source": [
    "We also provide a few convenience methods. The method `finished()` checks if the `dot` has moved beyond the last element in `expr`. The method `advance()` produces a new `Item` with the `dot` advanced one token, and represents an advance of the parsing.  The method `at_dot()` returns the current symbol being parsed."
   ]
  },
  {
   "cell_type": "code",
   "execution_count": 76,
   "metadata": {
    "slideshow": {
     "slide_type": "subslide"
    }
   },
   "outputs": [],
   "source": [
    "class Item(Item):\n",
    "    def finished(self):\n",
    "        return self.dot >= len(self.expr)\n",
    "\n",
    "    def advance(self):\n",
    "        return Item(self.name, self.expr, self.dot + 1)\n",
    "\n",
    "    def at_dot(self):\n",
    "        return self.expr[self.dot] if self.dot < len(self.expr) else None"
   ]
  },
  {
   "cell_type": "markdown",
   "metadata": {},
   "source": [
    "Here is how an item could be used. We first define our item"
   ]
  },
  {
   "cell_type": "code",
   "execution_count": 77,
   "metadata": {},
   "outputs": [],
   "source": [
    "item_name = '<B>'\n",
    "item_expr = C_SAMPLE_GRAMMAR[item_name][1]\n",
    "an_item = Item(item_name, tuple(item_expr), 0)"
   ]
  },
  {
   "cell_type": "markdown",
   "metadata": {},
   "source": [
    "To determine where the status of parsing, we use `at_dot()`"
   ]
  },
  {
   "cell_type": "code",
   "execution_count": 78,
   "metadata": {},
   "outputs": [
    {
     "data": {
      "text/plain": [
       "'<D>'"
      ]
     },
     "execution_count": 78,
     "metadata": {},
     "output_type": "execute_result"
    }
   ],
   "source": [
    "an_item.at_dot()"
   ]
  },
  {
   "cell_type": "markdown",
   "metadata": {},
   "source": [
    "That is, the next symbol to be parsed is `<D>`"
   ]
  },
  {
   "cell_type": "markdown",
   "metadata": {},
   "source": [
    "If we advance the item, we get another item that represents the finished parsing rule `<B>`."
   ]
  },
  {
   "cell_type": "code",
   "execution_count": 79,
   "metadata": {},
   "outputs": [],
   "source": [
    "another_item = an_item.advance()"
   ]
  },
  {
   "cell_type": "code",
   "execution_count": 80,
   "metadata": {},
   "outputs": [
    {
     "data": {
      "text/plain": [
       "True"
      ]
     },
     "execution_count": 80,
     "metadata": {},
     "output_type": "execute_result"
    }
   ],
   "source": [
    "another_item.finished()"
   ]
  },
  {
   "cell_type": "markdown",
   "metadata": {
    "slideshow": {
     "slide_type": "notes"
    }
   },
   "source": [
    "### States\n",
    "\n",
    "For `Earley` parsing, the state of the parsing is simply one `Item` along with some meta information such as the starting `s_col`  and ending column `e_col` for each state. Hence we inherit from `Item` to create a `State`.\n",
    "Since we are interested in comparing states, we define `hash()` and `eq()` with the corresponding methods."
   ]
  },
  {
   "cell_type": "code",
   "execution_count": 81,
   "metadata": {
    "slideshow": {
     "slide_type": "subslide"
    }
   },
   "outputs": [],
   "source": [
    "class State(Item):\n",
    "    def __init__(self, name, expr, dot, s_col, e_col=None):\n",
    "        super().__init__(name, expr, dot)\n",
    "        self.s_col, self.e_col = s_col, e_col\n",
    "\n",
    "    def __str__(self):\n",
    "        def idx(var):\n",
    "            return var.index if var else -1\n",
    "\n",
    "        return self.name + ':= ' + ' '.join([\n",
    "            str(p)\n",
    "            for p in [*self.expr[:self.dot], '|', *self.expr[self.dot:]]\n",
    "        ]) + \"(%d,%d)\" % (idx(self.s_col), idx(self.e_col))\n",
    "\n",
    "    def copy(self):\n",
    "        return State(self.name, self.expr, self.dot, self.s_col, self.e_col)\n",
    "\n",
    "    def _t(self):\n",
    "        return (self.name, self.expr, self.dot, self.s_col.index)\n",
    "\n",
    "    def __hash__(self):\n",
    "        return hash(self._t())\n",
    "\n",
    "    def __eq__(self, other):\n",
    "        return self._t() == other._t()\n",
    "\n",
    "    def advance(self):\n",
    "        return State(self.name, self.expr, self.dot + 1, self.s_col)"
   ]
  },
  {
   "cell_type": "markdown",
   "metadata": {},
   "source": [
    "The usage of `State` is similar to that of `Item`. The only difference is that it is used along with the `Column` to track the parsing state. For example, we initialize the first column as follows:"
   ]
  },
  {
   "cell_type": "code",
   "execution_count": 82,
   "metadata": {},
   "outputs": [
    {
     "data": {
      "text/plain": [
       "'<A>'"
      ]
     },
     "execution_count": 82,
     "metadata": {},
     "output_type": "execute_result"
    }
   ],
   "source": [
    "col_0 = Column(0, None)\n",
    "item_expr = tuple(*C_SAMPLE_GRAMMAR[START_SYMBOL])\n",
    "start_state = State(START_SYMBOL, item_expr, 0, col_0)\n",
    "col_0.add(start_state)\n",
    "start_state.at_dot()"
   ]
  },
  {
   "cell_type": "markdown",
   "metadata": {},
   "source": [
    "The first column is then updated by using `add()` method of `Column`"
   ]
  },
  {
   "cell_type": "code",
   "execution_count": 83,
   "metadata": {},
   "outputs": [
    {
     "name": "stdout",
     "output_type": "stream",
     "text": [
      "<start>:= | <A> <B>(0,0)\n",
      "<A>:= | a <B> c(0,0)\n",
      "<A>:= | a <A>(0,0)\n"
     ]
    }
   ],
   "source": [
    "sym = start_state.at_dot()\n",
    "for alt in C_SAMPLE_GRAMMAR[sym]:\n",
    "    col_0.add(State(sym, tuple(alt), 0, col_0))\n",
    "for s in col_0.states:\n",
    "    print(s)"
   ]
  },
  {
   "cell_type": "markdown",
   "metadata": {
    "slideshow": {
     "slide_type": "subslide"
    },
    "toc-hr-collapsed": false
   },
   "source": [
    "### The Parsing Algorithm"
   ]
  },
  {
   "cell_type": "markdown",
   "metadata": {
    "slideshow": {
     "slide_type": "notes"
    }
   },
   "source": [
    "The _Earley_ algorithm starts by initializing the chart with columns (as many as there are letters in the input). We also seed the first column with a state representing the expression corresponding to the start symbol. In our case, the state corresponds to the start symbol with the `dot` at `0` is represented as below. The `●` symbol represents the parsing status. In this case, we have not parsed anything.\n",
    "```\n",
    "<start>: ● <A> <B>\n",
    "```\n",
    "We pass this partial chart to a method for filling the rest of the parse chart."
   ]
  },
  {
   "cell_type": "code",
   "execution_count": 84,
   "metadata": {
    "slideshow": {
     "slide_type": "subslide"
    }
   },
   "outputs": [],
   "source": [
    "class EarleyParser(Parser):\n",
    "    def __init__(self, grammar, **kwargs):\n",
    "        super().__init__(grammar, **kwargs)\n",
    "        self.cgrammar = canonical(grammar, letters=True)"
   ]
  },
  {
   "cell_type": "markdown",
   "metadata": {
    "slideshow": {
     "slide_type": "notes"
    }
   },
   "source": [
    "Before starting to parse, we seed the chart with the state representing the ongoing parse of the start symbol."
   ]
  },
  {
   "cell_type": "code",
   "execution_count": 85,
   "metadata": {
    "slideshow": {
     "slide_type": "subslide"
    }
   },
   "outputs": [],
   "source": [
    "class EarleyParser(EarleyParser):\n",
    "    def chart_parse(self, words, start):\n",
    "        alt = tuple(*self.cgrammar[start])\n",
    "        chart = [Column(i, tok) for i, tok in enumerate([None, *words])]\n",
    "        chart[0].add(State(start, alt, 0, chart[0]))\n",
    "        return self.fill_chart(chart)"
   ]
  },
  {
   "cell_type": "markdown",
   "metadata": {
    "slideshow": {
     "slide_type": "notes"
    }
   },
   "source": [
    "The main parsing loop in `fill_chart()` has three fundamental operations. `predict()`, `scan()`, and `complete()`. We discuss `predict` next."
   ]
  },
  {
   "cell_type": "markdown",
   "metadata": {
    "slideshow": {
     "slide_type": "notes"
    }
   },
   "source": [
    "### Predicting States\n",
    "\n",
    "We have already seeded `chart[0]` with a state `[<A>,<B>]` with `dot` at `0`. Next, given that `<A>` is a nonterminal, we `predict` the possible parse continuations of this state. That is, it could be either `a <B> c` or `A <A>`.\n",
    "\n",
    "The general idea of `predict()` is as follows: Say you have a state with name `<A>` from the above grammar, and expression containing `[a,<B>,c]`. Imagine that you have seen `a` already, which means that the `dot` will be on `<B>`. Below, is a representation of our parse status. The left hand side of ● represents the portion already parsed (`a`), and the right hand side represents the portion yet to be parsed (`<B> c`).\n",
    "\n",
    "```\n",
    "<A>: a  ●  <B> c\n",
    "```"
   ]
  },
  {
   "cell_type": "markdown",
   "metadata": {
    "slideshow": {
     "slide_type": "notes"
    }
   },
   "source": [
    "To recognize `<B>`, we look at the definition of `<B>`, which has different alternative expressions. The `predict()` step adds each of these alternatives to the set of states, with `dot` at `0`.\n",
    "\n",
    "```\n",
    "<A>: a ● <B> c\n",
    "<B>: ● b c\n",
    "<B>: ● <D>\n",
    "```\n",
    "\n",
    "In essence, the `predict()` method, when called with the current nonterminal, fetches the alternative expressions corresponding to this nonterminal, and adds these as predicted _child_ states to the _current_ column."
   ]
  },
  {
   "cell_type": "code",
   "execution_count": 86,
   "metadata": {
    "slideshow": {
     "slide_type": "subslide"
    }
   },
   "outputs": [],
   "source": [
    "class EarleyParser(EarleyParser):\n",
    "    def predict(self, col, sym, state):\n",
    "        for alt in self.cgrammar[sym]:\n",
    "            col.add(State(sym, tuple(alt), 0, col))"
   ]
  },
  {
   "cell_type": "markdown",
   "metadata": {},
   "source": [
    "To see how to use `predict`, we first construct the 0th column as before, and we assign the constructed column to an instance of the EarleyParser."
   ]
  },
  {
   "cell_type": "code",
   "execution_count": 87,
   "metadata": {},
   "outputs": [],
   "source": [
    "col_0 = Column(0, None)\n",
    "col_0.add(start_state)\n",
    "ep = EarleyParser(SAMPLE_GRAMMAR)\n",
    "ep.chart = [col_0]"
   ]
  },
  {
   "cell_type": "markdown",
   "metadata": {},
   "source": [
    "It should contain a single state -- `<start> at 0`"
   ]
  },
  {
   "cell_type": "code",
   "execution_count": 88,
   "metadata": {},
   "outputs": [
    {
     "name": "stdout",
     "output_type": "stream",
     "text": [
      "<start>:= | <A> <B>(0,0)\n"
     ]
    }
   ],
   "source": [
    "for s in ep.chart[0].states:\n",
    "    print(s)"
   ]
  },
  {
   "cell_type": "markdown",
   "metadata": {},
   "source": [
    "We apply predict to fill out the 0th column, and the column should contain the possible parse paths."
   ]
  },
  {
   "cell_type": "code",
   "execution_count": 89,
   "metadata": {},
   "outputs": [
    {
     "name": "stdout",
     "output_type": "stream",
     "text": [
      "<start>:= | <A> <B>(0,0)\n",
      "<A>:= | a <B> c(0,0)\n",
      "<A>:= | a <A>(0,0)\n"
     ]
    }
   ],
   "source": [
    "ep.predict(col_0, '<A>', s)\n",
    "for s in ep.chart[0].states:\n",
    "    print(s)"
   ]
  },
  {
   "cell_type": "markdown",
   "metadata": {
    "slideshow": {
     "slide_type": "notes"
    }
   },
   "source": [
    "### Scanning Tokens\n",
    "\n",
    "What if rather than a nonterminal, the state contained a terminal symbol such as a letter? In that case, we are ready to make some progress. For example, consider the second state:\n",
    "```\n",
    "<B>: ● b c\n",
    "```\n",
    "We `scan` the next column's letter. Say the next token is `b`.\n",
    "If the letter matches what we have, then create a new state by advancing the current state by one letter.\n",
    "\n",
    "```\n",
    "<B>: b ● c\n",
    "```\n",
    "This new state is added to the next column (i.e the column that has the matched letter)."
   ]
  },
  {
   "cell_type": "code",
   "execution_count": 90,
   "metadata": {
    "slideshow": {
     "slide_type": "subslide"
    }
   },
   "outputs": [],
   "source": [
    "class EarleyParser(EarleyParser):\n",
    "    def scan(self, col, state, letter):\n",
    "        if letter == col.letter:\n",
    "            col.add(state.advance())"
   ]
  },
  {
   "cell_type": "markdown",
   "metadata": {},
   "source": [
    "As before, we construct the partial parse first, this time adding a new column so that we can observe the effects of `scan()`"
   ]
  },
  {
   "cell_type": "code",
   "execution_count": 91,
   "metadata": {},
   "outputs": [],
   "source": [
    "ep = EarleyParser(SAMPLE_GRAMMAR)\n",
    "col_1 = Column(1, 'a')\n",
    "ep.chart = [col_0, col_1]"
   ]
  },
  {
   "cell_type": "code",
   "execution_count": 92,
   "metadata": {},
   "outputs": [
    {
     "name": "stdout",
     "output_type": "stream",
     "text": [
      "<A>:= | a <B> c(0,0)\n"
     ]
    }
   ],
   "source": [
    "new_state = ep.chart[0].states[1]\n",
    "print(new_state)"
   ]
  },
  {
   "cell_type": "code",
   "execution_count": 93,
   "metadata": {},
   "outputs": [
    {
     "name": "stdout",
     "output_type": "stream",
     "text": [
      "<A>:= a | <B> c(0,1)\n"
     ]
    }
   ],
   "source": [
    "ep.scan(col_1, new_state, 'a')\n",
    "for s in ep.chart[1].states:\n",
    "    print(s)"
   ]
  },
  {
   "cell_type": "markdown",
   "metadata": {
    "slideshow": {
     "slide_type": "notes"
    }
   },
   "source": [
    "### Completing Processing\n",
    "\n",
    "When we advance, what if we actually `complete()` the processing of the current rule? If so, we want to update not just this state, but also all the _parent_ states from which this state was derived.\n",
    "For example, say we have states as below.\n",
    "```\n",
    "<A>: a ● <B> c\n",
    "<B>: b c ● \n",
    "```\n",
    "The state `<B>: b c ●` is now complete. So, we need to advance `<A>: a ● <B> c` one step forward.\n",
    "\n",
    "How do we determine the parent states? Note from `predict` that we added the predicted child states to the _same_ column as that of the inspected state. Hence, we look at the starting column of the current state, with the same symbol `at_dot` as that of the name of the completed state.\n",
    "\n",
    "For each such parent found, we advance that parent (because we have just finished parsing that non terminal for their `at_dot`) and add the new states to the current column."
   ]
  },
  {
   "cell_type": "code",
   "execution_count": 94,
   "metadata": {
    "slideshow": {
     "slide_type": "subslide"
    }
   },
   "outputs": [],
   "source": [
    "class EarleyParser(EarleyParser):\n",
    "    def complete(self, col, state):\n",
    "        return self.earley_complete(col, state)\n",
    "\n",
    "    def earley_complete(self, col, state):\n",
    "        parent_states = [\n",
    "            st for st in state.s_col.states if st.at_dot() == state.name\n",
    "        ]\n",
    "        for st in parent_states:\n",
    "            col.add(st.advance())"
   ]
  },
  {
   "cell_type": "markdown",
   "metadata": {},
   "source": [
    "Here is an example of completed processing. First we complete the Column 0"
   ]
  },
  {
   "cell_type": "code",
   "execution_count": 95,
   "metadata": {},
   "outputs": [
    {
     "name": "stdout",
     "output_type": "stream",
     "text": [
      "<start>:= | <A> <B>(0,0)\n",
      "<A>:= | a <B> c(0,0)\n",
      "<A>:= | a <A>(0,0)\n"
     ]
    }
   ],
   "source": [
    "ep = EarleyParser(SAMPLE_GRAMMAR)\n",
    "col_1 = Column(1, 'a')\n",
    "col_2 = Column(2, 'd')\n",
    "ep.chart = [col_0, col_1, col_2]\n",
    "ep.predict(col_0, '<A>', s)\n",
    "for s in ep.chart[0].states:\n",
    "    print(s)"
   ]
  },
  {
   "cell_type": "markdown",
   "metadata": {},
   "source": [
    "Then we use `scan()` to populate Column 1"
   ]
  },
  {
   "cell_type": "code",
   "execution_count": 96,
   "metadata": {},
   "outputs": [
    {
     "name": "stdout",
     "output_type": "stream",
     "text": [
      "<A>:= a | <B> c(0,1)\n",
      "<A>:= a | <A>(0,1)\n"
     ]
    }
   ],
   "source": [
    "for state in ep.chart[0].states:\n",
    "    if state.at_dot() not in SAMPLE_GRAMMAR:\n",
    "        ep.scan(col_1, state, 'a')\n",
    "for s in ep.chart[1].states:\n",
    "    print(s)"
   ]
  },
  {
   "cell_type": "code",
   "execution_count": 97,
   "metadata": {},
   "outputs": [
    {
     "name": "stdout",
     "output_type": "stream",
     "text": [
      "<A>:= a | <B> c(0,1)\n",
      "<A>:= a | <A>(0,1)\n",
      "<B>:= | b <C>(1,1)\n",
      "<B>:= | <D>(1,1)\n",
      "<A>:= | a <B> c(1,1)\n",
      "<A>:= | a <A>(1,1)\n",
      "<D>:= | d(1,1)\n"
     ]
    }
   ],
   "source": [
    "for state in ep.chart[1].states:\n",
    "    if state.at_dot() in SAMPLE_GRAMMAR:\n",
    "        ep.predict(col_1, state.at_dot(), state)\n",
    "for s in ep.chart[1].states:\n",
    "    print(s)"
   ]
  },
  {
   "cell_type": "markdown",
   "metadata": {},
   "source": [
    "Then we use `scan()` again to populate Column 2"
   ]
  },
  {
   "cell_type": "code",
   "execution_count": 98,
   "metadata": {},
   "outputs": [
    {
     "name": "stdout",
     "output_type": "stream",
     "text": [
      "<D>:= d |(1,2)\n"
     ]
    }
   ],
   "source": [
    "for state in ep.chart[1].states:\n",
    "    if state.at_dot() not in SAMPLE_GRAMMAR:\n",
    "        ep.scan(col_2, state, state.at_dot())\n",
    "\n",
    "for s in ep.chart[2].states:\n",
    "    print(s)"
   ]
  },
  {
   "cell_type": "markdown",
   "metadata": {},
   "source": [
    "Now, we can use `complete()`:"
   ]
  },
  {
   "cell_type": "code",
   "execution_count": 99,
   "metadata": {},
   "outputs": [
    {
     "name": "stdout",
     "output_type": "stream",
     "text": [
      "<D>:= d |(1,2)\n",
      "<B>:= <D> |(1,2)\n",
      "<A>:= a <B> | c(0,2)\n"
     ]
    }
   ],
   "source": [
    "for state in ep.chart[2].states:\n",
    "    if state.finished():\n",
    "        ep.complete(col_2, state)\n",
    "\n",
    "for s in ep.chart[2].states:\n",
    "    print(s)"
   ]
  },
  {
   "cell_type": "markdown",
   "metadata": {
    "slideshow": {
     "slide_type": "notes"
    }
   },
   "source": [
    "### Filling the Chart\n",
    "\n",
    "The main driving loop in `fill_chart()` essentially calls these operations in order. We loop over each column in order.\n",
    "* For each column, fetch one state in the column at a time, and check if the state is `finished`. \n",
    "    * If it is, then we `complete()` all the parent states depending on this state. \n",
    "* If the state was not finished, we check to see if the state's current symbol `at_dot` is a nonterminal. \n",
    "    * If it is a nonterminal, we `predict()` possible continuations, and update the current column with these states. \n",
    "    * If it was not, we `scan()` the next column and advance the current state if it matches the next letter."
   ]
  },
  {
   "cell_type": "code",
   "execution_count": 100,
   "metadata": {
    "slideshow": {
     "slide_type": "subslide"
    }
   },
   "outputs": [],
   "source": [
    "class EarleyParser(EarleyParser):\n",
    "    def fill_chart(self, chart):\n",
    "        for i, col in enumerate(chart):\n",
    "            for state in col.states:\n",
    "                if state.finished():\n",
    "                    self.complete(col, state)\n",
    "                else:\n",
    "                    sym = state.at_dot()\n",
    "                    if sym in self.cgrammar:\n",
    "                        self.predict(col, sym, state)\n",
    "                    else:\n",
    "                        if i + 1 >= len(chart):\n",
    "                            continue\n",
    "                        self.scan(chart[i + 1], state, sym)\n",
    "            if self.log:\n",
    "                print(col, '\\n')\n",
    "        return chart"
   ]
  },
  {
   "cell_type": "markdown",
   "metadata": {},
   "source": [
    "We now can recognize a given string as belonging to a language represented by a grammar."
   ]
  },
  {
   "cell_type": "code",
   "execution_count": 101,
   "metadata": {},
   "outputs": [
    {
     "name": "stdout",
     "output_type": "stream",
     "text": [
      "None chart[0]\n",
      " \n",
      "\n",
      "a chart[1]\n",
      " \n",
      "\n",
      "d chart[2]\n",
      "<D>:= d |(1,2)\n",
      "<B>:= <D> |(1,2) \n",
      "\n",
      "c chart[3]\n",
      "<A>:= a <B> c |(0,3) \n",
      "\n",
      "d chart[4]\n",
      "<D>:= d |(3,4)\n",
      "<B>:= <D> |(3,4)\n",
      "<start>:= <A> <B> |(0,4) \n",
      "\n"
     ]
    }
   ],
   "source": [
    "ep = EarleyParser(SAMPLE_GRAMMAR, log=True)\n",
    "columns = ep.chart_parse('adcd', START_SYMBOL)"
   ]
  },
  {
   "cell_type": "markdown",
   "metadata": {},
   "source": [
    "The chart we printed above only shows completed entries at each index. The parenthesized expression indicates the column just before the first character was recognized, and the ending column.\n",
    "\n",
    "Notice how the `<start>` nonterminal shows fully parsed status."
   ]
  },
  {
   "cell_type": "code",
   "execution_count": 102,
   "metadata": {},
   "outputs": [
    {
     "name": "stdout",
     "output_type": "stream",
     "text": [
      "<start>:= <A> <B> |(0,4)\n"
     ]
    }
   ],
   "source": [
    "last_col = columns[-1]\n",
    "for s in last_col.states:\n",
    "    if s.name == '<start>':\n",
    "        print(s)"
   ]
  },
  {
   "cell_type": "markdown",
   "metadata": {
    "slideshow": {
     "slide_type": "notes"
    }
   },
   "source": [
    "Since `chart_parse()` returns the completed table, we now need to extract the derivation trees."
   ]
  },
  {
   "cell_type": "markdown",
   "metadata": {
    "slideshow": {
     "slide_type": "notes"
    }
   },
   "source": [
    "### The Parse Method\n",
    "\n",
    "For determining how far we have managed to parse, we simply look for the last index from `chart_parse()` where the `start_symbol` was found."
   ]
  },
  {
   "cell_type": "code",
   "execution_count": 103,
   "metadata": {
    "slideshow": {
     "slide_type": "subslide"
    }
   },
   "outputs": [],
   "source": [
    "class EarleyParser(EarleyParser):\n",
    "    def parse_prefix(self, text):\n",
    "        self.table = self.chart_parse(text, self.start_symbol())\n",
    "        for col in reversed(self.table):\n",
    "            states = [\n",
    "                st for st in col.states if st.name == self.start_symbol()\n",
    "            ]\n",
    "            if states:\n",
    "                return col.index, states\n",
    "        return -1, []"
   ]
  },
  {
   "cell_type": "markdown",
   "metadata": {},
   "source": [
    "Here is the `parse_prefix()` in action."
   ]
  },
  {
   "cell_type": "code",
   "execution_count": 104,
   "metadata": {},
   "outputs": [
    {
     "name": "stdout",
     "output_type": "stream",
     "text": [
      "4 ['<start>:= <A> <B> |(0,4)']\n"
     ]
    }
   ],
   "source": [
    "ep = EarleyParser(SAMPLE_GRAMMAR)\n",
    "cursor, last_states = ep.parse_prefix('adcd')\n",
    "print(cursor, [str(s) for s in last_states])"
   ]
  },
  {
   "cell_type": "markdown",
   "metadata": {
    "slideshow": {
     "slide_type": "subslide"
    }
   },
   "source": [
    "The following is adapted from the excellent reference on Earley parsing by [Loup Vaillant](http://loup-vaillant.fr/tutorials/earley-parsing/).\n"
   ]
  },
  {
   "cell_type": "markdown",
   "metadata": {},
   "source": [
    "Our `parse()` method is as follows. It depends on two methods `parse_forest()` and `extract_trees()` that will be defined next."
   ]
  },
  {
   "cell_type": "code",
   "execution_count": 105,
   "metadata": {
    "slideshow": {
     "slide_type": "subslide"
    }
   },
   "outputs": [],
   "source": [
    "class EarleyParser(EarleyParser):\n",
    "    def parse(self, text):\n",
    "        cursor, states = self.parse_prefix(text)\n",
    "        start = next((s for s in states if s.finished()), None)\n",
    "\n",
    "        if cursor < len(text) or not start:\n",
    "            raise SyntaxError(\"at \" + repr(text[cursor:]))\n",
    "\n",
    "        forest = self.parse_forest(self.table, start)\n",
    "        for tree in self.extract_trees(forest):\n",
    "            yield self.prune_tree(tree)"
   ]
  },
  {
   "cell_type": "markdown",
   "metadata": {
    "slideshow": {
     "slide_type": "notes"
    }
   },
   "source": [
    "### Parsing Paths\n",
    "\n",
    "The `parse_paths()` method tries to unify the given expression in `named_expr` with the parsed string. For that, it extracts the last symbol in `named_expr` and checks if it is a terminal symbol. If it is, then it checks the chart at `til` to see if the letter corresponding to the position matches the terminal symbol. If it does, extend our start index by the length of the symbol.\n",
    "\n",
    "If the symbol was a nonterminal symbol, then we retrieve the parsed states at the current end column index (`til`) that correspond to the nonterminal symbol, and collect the start index. These are the end column indexes for the remaining expression.\n",
    "\n",
    "Given our list of start indexes, we obtain the parse paths from the remaining expression. If we can obtain any, then we return the parse paths. If not, we return an empty list."
   ]
  },
  {
   "cell_type": "code",
   "execution_count": 106,
   "metadata": {
    "slideshow": {
     "slide_type": "subslide"
    }
   },
   "outputs": [],
   "source": [
    "class EarleyParser(EarleyParser):\n",
    "    def parse_paths(self, named_expr, chart, frm, til):\n",
    "        def paths(state, start, k, e):\n",
    "            if not e:\n",
    "                return [[(state, k)]] if start == frm else []\n",
    "            else:\n",
    "                return [[(state, k)] + r\n",
    "                        for r in self.parse_paths(e, chart, frm, start)]\n",
    "\n",
    "        *expr, var = named_expr\n",
    "        starts = None\n",
    "        if var not in self.cgrammar:\n",
    "            starts = ([(var, til - len(var),\n",
    "                        't')] if til > 0 and chart[til].letter == var else [])\n",
    "        else:\n",
    "            starts = [(s, s.s_col.index, 'n') for s in chart[til].states\n",
    "                      if s.finished() and s.name == var]\n",
    "\n",
    "        return [p for s, start, k in starts for p in paths(s, start, k, expr)]"
   ]
  },
  {
   "cell_type": "markdown",
   "metadata": {},
   "source": [
    "Here is the `parse_paths()` in action"
   ]
  },
  {
   "cell_type": "code",
   "execution_count": 107,
   "metadata": {},
   "outputs": [
    {
     "name": "stdout",
     "output_type": "stream",
     "text": [
      "['<A><B>']\n",
      "[['<B>:= <D> |(3,4)', 'n'], ['<A>:= a <B> c |(0,3)', 'n']]\n"
     ]
    }
   ],
   "source": [
    "print(SAMPLE_GRAMMAR['<start>'])\n",
    "ep = EarleyParser(SAMPLE_GRAMMAR)\n",
    "completed_start = last_states[0]\n",
    "paths = ep.parse_paths(completed_start.expr, columns, 0, 4)\n",
    "for path in paths:\n",
    "    print([list(str(s_) for s_ in s) for s in path])"
   ]
  },
  {
   "cell_type": "markdown",
   "metadata": {},
   "source": [
    "That is, the parse path for `<start>` given the input `adcd` included recognizing the expression `<A><B>`. This was recognized by the two states: `<A>` from input(0) to input(2) which further involved recognizing the rule `a<B>c`, and the next state `<B>` from input(3) which involved recognizing the rule `<D>`."
   ]
  },
  {
   "cell_type": "markdown",
   "metadata": {
    "slideshow": {
     "slide_type": "notes"
    }
   },
   "source": [
    "### Parsing Forests\n",
    "\n",
    "The `parse_forest()` method takes the state which represents the completed parse, and determines the possible ways that its expressions corresponded to the parsed expression. For example, say we are parsing `1+2+3`, and the state has `[<expr>,+,<expr>]` in `expr`. It could have been parsed as either `[{<expr>:1+2},+,{<expr>:3}]` or `[{<expr>:1},+,{<expr>:2+3}]`."
   ]
  },
  {
   "cell_type": "code",
   "execution_count": 108,
   "metadata": {},
   "outputs": [],
   "source": [
    "class EarleyParser(EarleyParser):\n",
    "    def forest(self, s, kind, chart):\n",
    "        return self.parse_forest(chart, s) if kind == 'n' else (s, [])\n",
    "\n",
    "    def parse_forest(self, chart, state):\n",
    "        pathexprs = self.parse_paths(state.expr, chart, state.s_col.index,\n",
    "                                     state.e_col.index) if state.expr else []\n",
    "        return state.name, [[(v, k, chart) for v, k in reversed(pathexpr)]\n",
    "                            for pathexpr in pathexprs]"
   ]
  },
  {
   "cell_type": "code",
   "execution_count": 109,
   "metadata": {},
   "outputs": [
    {
     "data": {
      "text/plain": [
       "('<start>',\n",
       " [[(<__main__.State at 0x7f92846bccf8>,\n",
       "    'n',\n",
       "    [<__main__.Column at 0x7f92846d7550>,\n",
       "     <__main__.Column at 0x7f92846bc160>,\n",
       "     <__main__.Column at 0x7f92846bcd68>,\n",
       "     <__main__.Column at 0x7f92846bc550>,\n",
       "     <__main__.Column at 0x7f92846bc8d0>]),\n",
       "   (<__main__.State at 0x7f9284709630>,\n",
       "    'n',\n",
       "    [<__main__.Column at 0x7f92846d7550>,\n",
       "     <__main__.Column at 0x7f92846bc160>,\n",
       "     <__main__.Column at 0x7f92846bcd68>,\n",
       "     <__main__.Column at 0x7f92846bc550>,\n",
       "     <__main__.Column at 0x7f92846bc8d0>])]])"
      ]
     },
     "execution_count": 109,
     "metadata": {},
     "output_type": "execute_result"
    }
   ],
   "source": [
    "ep = EarleyParser(SAMPLE_GRAMMAR)\n",
    "result = ep.parse_forest(columns, last_states[0])\n",
    "result"
   ]
  },
  {
   "cell_type": "markdown",
   "metadata": {
    "slideshow": {
     "slide_type": "notes"
    }
   },
   "source": [
    "### Extracting Trees"
   ]
  },
  {
   "cell_type": "markdown",
   "metadata": {
    "slideshow": {
     "slide_type": "notes"
    }
   },
   "source": [
    "What we have from `parse_forest()` is a forest of trees. We need to extract a single tree from that forest. That is accomplished as follows."
   ]
  },
  {
   "cell_type": "markdown",
   "metadata": {
    "slideshow": {
     "slide_type": "skip"
    }
   },
   "source": [
    "(For now, we return the first available derivation tree. To do that, we need to extract the parse forest from the state corresponding to `start`.)"
   ]
  },
  {
   "cell_type": "code",
   "execution_count": 110,
   "metadata": {
    "slideshow": {
     "slide_type": "subslide"
    }
   },
   "outputs": [],
   "source": [
    "class EarleyParser(EarleyParser):\n",
    "    def extract_a_tree(self, forest_node):\n",
    "        name, paths = forest_node\n",
    "        if not paths:\n",
    "            return (name, [])\n",
    "        return (name, [self.extract_a_tree(self.forest(*p)) for p in paths[0]])\n",
    "\n",
    "    def extract_trees(self, forest):\n",
    "        yield self.extract_a_tree(forest)"
   ]
  },
  {
   "cell_type": "markdown",
   "metadata": {
    "slideshow": {
     "slide_type": "skip"
    }
   },
   "source": [
    "We now verify that our parser can parse a given expression."
   ]
  },
  {
   "cell_type": "code",
   "execution_count": 111,
   "metadata": {
    "slideshow": {
     "slide_type": "subslide"
    }
   },
   "outputs": [],
   "source": [
    "A3_GRAMMAR = {\n",
    "    \"<start>\": [\"<bexpr>\"],\n",
    "    \"<bexpr>\": [\n",
    "        \"<aexpr><gt><aexpr>\", \"<aexpr><lt><aexpr>\", \"<aexpr>=<aexpr>\",\n",
    "        \"<bexpr>=<bexpr>\", \"<bexpr>&<bexpr>\", \"<bexpr>|<bexpr>\", \"(<bexrp>)\"\n",
    "    ],\n",
    "    \"<aexpr>\":\n",
    "    [\"<aexpr>+<aexpr>\", \"<aexpr>-<aexpr>\", \"(<aexpr>)\", \"<integer>\"],\n",
    "    \"<integer>\": [\"<digit><integer>\", \"<digit>\"],\n",
    "    \"<digit>\": [\"0\", \"1\", \"2\", \"3\", \"4\", \"5\", \"6\", \"7\", \"8\", \"9\"],\n",
    "    \"<lt>\": ['<'],\n",
    "    \"<gt>\": ['>']\n",
    "}"
   ]
  },
  {
   "cell_type": "code",
   "execution_count": 112,
   "metadata": {},
   "outputs": [
    {
     "name": "stdout",
     "output_type": "stream",
     "text": [
      "start\n"
     ]
    },
    {
     "data": {
      "image/svg+xml": [
       "<svg class=\"railroad-diagram\" height=\"62\" viewBox=\"0 0 182.5 62\" width=\"182.5\" xmlns=\"http://www.w3.org/2000/svg\">\n",
       "<g transform=\"translate(.5 .5)\">\n",
       "<style>/* <![CDATA[ */\n",
       "    svg.railroad-diagram {\n",
       "        background-color:hsl(100,100%,100%);\n",
       "    }\n",
       "    svg.railroad-diagram path {\n",
       "        stroke-width:3;\n",
       "        stroke:black;\n",
       "        fill:rgba(0,0,0,0);\n",
       "    }\n",
       "    svg.railroad-diagram text {\n",
       "        font:bold 14px monospace;\n",
       "        text-anchor:middle;\n",
       "    }\n",
       "    svg.railroad-diagram text.label{\n",
       "        text-anchor:start;\n",
       "    }\n",
       "    svg.railroad-diagram text.comment{\n",
       "        font:italic 12px monospace;\n",
       "    }\n",
       "    svg.railroad-diagram rect{\n",
       "        stroke-width:3;\n",
       "        stroke:black;\n",
       "        fill:hsl(0,62%,82%);\n",
       "    }\n",
       "\n",
       "/* ]]> */\n",
       "</style><g>\n",
       "<path d=\"M20 21v20m10 -20v20m-10 -10h20\"/></g><g>\n",
       "<path d=\"M40 31h0.0\"/><path d=\"M142.5 31h0.0\"/><path d=\"M40.0 31h20\"/><g>\n",
       "<path d=\"M60.0 31h0.0\"/><path d=\"M122.5 31h0.0\"/><g class=\"non-terminal\">\n",
       "<path d=\"M60.0 31h0.0\"/><path d=\"M122.5 31h0.0\"/><rect height=\"22\" width=\"62.5\" x=\"60.0\" y=\"20\"/><text x=\"91.25\" y=\"35\">bexpr</text></g></g><path d=\"M122.5 31h20\"/></g><path d=\"M 142.5 31 h 20 m -10 -10 v 20 m 10 -20 v 20\"/></g></svg>"
      ],
      "text/plain": [
       "<IPython.core.display.SVG object>"
      ]
     },
     "metadata": {},
     "output_type": "display_data"
    },
    {
     "name": "stdout",
     "output_type": "stream",
     "text": [
      "bexpr\n"
     ]
    },
    {
     "data": {
      "image/svg+xml": [
       "<svg class=\"railroad-diagram\" height=\"80\" viewBox=\"0 0 1837.5 80\" width=\"1837.5\" xmlns=\"http://www.w3.org/2000/svg\">\n",
       "<g transform=\"translate(.5 .5)\">\n",
       "<style>/* <![CDATA[ */\n",
       "    svg.railroad-diagram {\n",
       "        background-color:hsl(100,100%,100%);\n",
       "    }\n",
       "    svg.railroad-diagram path {\n",
       "        stroke-width:3;\n",
       "        stroke:black;\n",
       "        fill:rgba(0,0,0,0);\n",
       "    }\n",
       "    svg.railroad-diagram text {\n",
       "        font:bold 14px monospace;\n",
       "        text-anchor:middle;\n",
       "    }\n",
       "    svg.railroad-diagram text.label{\n",
       "        text-anchor:start;\n",
       "    }\n",
       "    svg.railroad-diagram text.comment{\n",
       "        font:italic 12px monospace;\n",
       "    }\n",
       "    svg.railroad-diagram rect{\n",
       "        stroke-width:3;\n",
       "        stroke:black;\n",
       "        fill:hsl(0,62%,82%);\n",
       "    }\n",
       "\n",
       "/* ]]> */\n",
       "</style><g>\n",
       "<path d=\"M20 30v20m10 -20v20m-10 -10h20\"/></g><g>\n",
       "<path d=\"M40 40h0.0\"/><path d=\"M1797.5 40h0.0\"/><path d=\"M40.0 40a10 10 0 0 0 10 -10v0a10 10 0 0 1 10 -10h1508.0\"/><path d=\"M312.0 60h1465.5a10 10 0 0 0 10 -10v0a10 10 0 0 1 10 -10\"/><path d=\"M40.0 40h10\"/><g>\n",
       "<path d=\"M50.0 40h0.0\"/><path d=\"M292.0 40h0.0\"/><path d=\"M50.0 40h20\"/><g>\n",
       "<path d=\"M70.0 40h0.0\"/><path d=\"M272.0 40h0.0\"/><g class=\"non-terminal\">\n",
       "<path d=\"M70.0 40h0.0\"/><path d=\"M132.5 40h0.0\"/><rect height=\"22\" width=\"62.5\" x=\"70.0\" y=\"29\"/><text x=\"101.25\" y=\"44\">aexpr</text></g><path d=\"M132.5 40h10\"/><path d=\"M142.5 40h10\"/><g class=\"non-terminal\">\n",
       "<path d=\"M152.5 40h0.0\"/><path d=\"M189.5 40h0.0\"/><rect height=\"22\" width=\"37.0\" x=\"152.5\" y=\"29\"/><text x=\"171.0\" y=\"44\">gt</text></g><path d=\"M189.5 40h10\"/><path d=\"M199.5 40h10\"/><g class=\"non-terminal\">\n",
       "<path d=\"M209.5 40h0.0\"/><path d=\"M272.0 40h0.0\"/><rect height=\"22\" width=\"62.5\" x=\"209.5\" y=\"29\"/><text x=\"240.75\" y=\"44\">aexpr</text></g></g><path d=\"M272.0 40h20\"/></g><path d=\"M292.0 40a10 10 0 0 1 10 10v0a10 10 0 0 0 10 10\"/><path d=\"M292.0 20a10 10 0 0 1 10 10v0a10 10 0 0 0 10 10\"/><g>\n",
       "<path d=\"M312.0 40h0.0\"/><path d=\"M554.0 40h0.0\"/><path d=\"M312.0 40h20\"/><g>\n",
       "<path d=\"M332.0 40h0.0\"/><path d=\"M534.0 40h0.0\"/><g class=\"non-terminal\">\n",
       "<path d=\"M332.0 40h0.0\"/><path d=\"M394.5 40h0.0\"/><rect height=\"22\" width=\"62.5\" x=\"332.0\" y=\"29\"/><text x=\"363.25\" y=\"44\">aexpr</text></g><path d=\"M394.5 40h10\"/><path d=\"M404.5 40h10\"/><g class=\"non-terminal\">\n",
       "<path d=\"M414.5 40h0.0\"/><path d=\"M451.5 40h0.0\"/><rect height=\"22\" width=\"37.0\" x=\"414.5\" y=\"29\"/><text x=\"433.0\" y=\"44\">lt</text></g><path d=\"M451.5 40h10\"/><path d=\"M461.5 40h10\"/><g class=\"non-terminal\">\n",
       "<path d=\"M471.5 40h0.0\"/><path d=\"M534.0 40h0.0\"/><rect height=\"22\" width=\"62.5\" x=\"471.5\" y=\"29\"/><text x=\"502.75\" y=\"44\">aexpr</text></g></g><path d=\"M534.0 40h20\"/></g><path d=\"M554.0 40a10 10 0 0 1 10 10v0a10 10 0 0 0 10 10\"/><path d=\"M554.0 20a10 10 0 0 1 10 10v0a10 10 0 0 0 10 10\"/><g>\n",
       "<path d=\"M574.0 40h0.0\"/><path d=\"M807.5 40h0.0\"/><path d=\"M574.0 40h20\"/><g>\n",
       "<path d=\"M594.0 40h0.0\"/><path d=\"M787.5 40h0.0\"/><g class=\"non-terminal\">\n",
       "<path d=\"M594.0 40h0.0\"/><path d=\"M656.5 40h0.0\"/><rect height=\"22\" width=\"62.5\" x=\"594.0\" y=\"29\"/><text x=\"625.25\" y=\"44\">aexpr</text></g><path d=\"M656.5 40h10\"/><path d=\"M666.5 40h10\"/><g class=\"terminal\">\n",
       "<path d=\"M676.5 40h0.0\"/><path d=\"M705.0 40h0.0\"/><rect height=\"22\" rx=\"10\" ry=\"10\" width=\"28.5\" x=\"676.5\" y=\"29\"/><text x=\"690.75\" y=\"44\">=</text></g><path d=\"M705.0 40h10\"/><path d=\"M715.0 40h10\"/><g class=\"non-terminal\">\n",
       "<path d=\"M725.0 40h0.0\"/><path d=\"M787.5 40h0.0\"/><rect height=\"22\" width=\"62.5\" x=\"725.0\" y=\"29\"/><text x=\"756.25\" y=\"44\">aexpr</text></g></g><path d=\"M787.5 40h20\"/></g><path d=\"M807.5 40a10 10 0 0 1 10 10v0a10 10 0 0 0 10 10\"/><path d=\"M807.5 20a10 10 0 0 1 10 10v0a10 10 0 0 0 10 10\"/><g>\n",
       "<path d=\"M827.5 40h0.0\"/><path d=\"M1061.0 40h0.0\"/><path d=\"M827.5 40h20\"/><g>\n",
       "<path d=\"M847.5 40h0.0\"/><path d=\"M1041.0 40h0.0\"/><g class=\"non-terminal\">\n",
       "<path d=\"M847.5 40h0.0\"/><path d=\"M910.0 40h0.0\"/><rect height=\"22\" width=\"62.5\" x=\"847.5\" y=\"29\"/><text x=\"878.75\" y=\"44\">bexpr</text></g><path d=\"M910.0 40h10\"/><path d=\"M920.0 40h10\"/><g class=\"terminal\">\n",
       "<path d=\"M930.0 40h0.0\"/><path d=\"M958.5 40h0.0\"/><rect height=\"22\" rx=\"10\" ry=\"10\" width=\"28.5\" x=\"930.0\" y=\"29\"/><text x=\"944.25\" y=\"44\">=</text></g><path d=\"M958.5 40h10\"/><path d=\"M968.5 40h10\"/><g class=\"non-terminal\">\n",
       "<path d=\"M978.5 40h0.0\"/><path d=\"M1041.0 40h0.0\"/><rect height=\"22\" width=\"62.5\" x=\"978.5\" y=\"29\"/><text x=\"1009.75\" y=\"44\">bexpr</text></g></g><path d=\"M1041.0 40h20\"/></g><path d=\"M1061.0 40a10 10 0 0 1 10 10v0a10 10 0 0 0 10 10\"/><path d=\"M1061.0 20a10 10 0 0 1 10 10v0a10 10 0 0 0 10 10\"/><g>\n",
       "<path d=\"M1081.0 40h0.0\"/><path d=\"M1314.5 40h0.0\"/><path d=\"M1081.0 40h20\"/><g>\n",
       "<path d=\"M1101.0 40h0.0\"/><path d=\"M1294.5 40h0.0\"/><g class=\"non-terminal\">\n",
       "<path d=\"M1101.0 40h0.0\"/><path d=\"M1163.5 40h0.0\"/><rect height=\"22\" width=\"62.5\" x=\"1101.0\" y=\"29\"/><text x=\"1132.25\" y=\"44\">bexpr</text></g><path d=\"M1163.5 40h10\"/><path d=\"M1173.5 40h10\"/><g class=\"terminal\">\n",
       "<path d=\"M1183.5 40h0.0\"/><path d=\"M1212.0 40h0.0\"/><rect height=\"22\" rx=\"10\" ry=\"10\" width=\"28.5\" x=\"1183.5\" y=\"29\"/><text x=\"1197.75\" y=\"44\">&amp;</text></g><path d=\"M1212.0 40h10\"/><path d=\"M1222.0 40h10\"/><g class=\"non-terminal\">\n",
       "<path d=\"M1232.0 40h0.0\"/><path d=\"M1294.5 40h0.0\"/><rect height=\"22\" width=\"62.5\" x=\"1232.0\" y=\"29\"/><text x=\"1263.25\" y=\"44\">bexpr</text></g></g><path d=\"M1294.5 40h20\"/></g><path d=\"M1314.5 40a10 10 0 0 1 10 10v0a10 10 0 0 0 10 10\"/><path d=\"M1314.5 20a10 10 0 0 1 10 10v0a10 10 0 0 0 10 10\"/><g>\n",
       "<path d=\"M1334.5 40h0.0\"/><path d=\"M1568.0 40h0.0\"/><path d=\"M1334.5 40h20\"/><g>\n",
       "<path d=\"M1354.5 40h0.0\"/><path d=\"M1548.0 40h0.0\"/><g class=\"non-terminal\">\n",
       "<path d=\"M1354.5 40h0.0\"/><path d=\"M1417.0 40h0.0\"/><rect height=\"22\" width=\"62.5\" x=\"1354.5\" y=\"29\"/><text x=\"1385.75\" y=\"44\">bexpr</text></g><path d=\"M1417.0 40h10\"/><path d=\"M1427.0 40h10\"/><g class=\"terminal\">\n",
       "<path d=\"M1437.0 40h0.0\"/><path d=\"M1465.5 40h0.0\"/><rect height=\"22\" rx=\"10\" ry=\"10\" width=\"28.5\" x=\"1437.0\" y=\"29\"/><text x=\"1451.25\" y=\"44\">|</text></g><path d=\"M1465.5 40h10\"/><path d=\"M1475.5 40h10\"/><g class=\"non-terminal\">\n",
       "<path d=\"M1485.5 40h0.0\"/><path d=\"M1548.0 40h0.0\"/><rect height=\"22\" width=\"62.5\" x=\"1485.5\" y=\"29\"/><text x=\"1516.75\" y=\"44\">bexpr</text></g></g><path d=\"M1548.0 40h20\"/></g><path d=\"M1568.0 40a10 10 0 0 1 10 10v0a10 10 0 0 0 10 10\"/><path d=\"M1568.0 20a10 10 0 0 1 10 10v0a10 10 0 0 0 10 10\"/><g>\n",
       "<path d=\"M1588.0 40h0.0\"/><path d=\"M1787.5 40h0.0\"/><path d=\"M1588.0 40h20\"/><g>\n",
       "<path d=\"M1608.0 40h0.0\"/><path d=\"M1767.5 40h0.0\"/><g class=\"terminal\">\n",
       "<path d=\"M1608.0 40h0.0\"/><path d=\"M1636.5 40h0.0\"/><rect height=\"22\" rx=\"10\" ry=\"10\" width=\"28.5\" x=\"1608.0\" y=\"29\"/><text x=\"1622.25\" y=\"44\">(</text></g><path d=\"M1636.5 40h10\"/><path d=\"M1646.5 40h10\"/><g class=\"non-terminal\">\n",
       "<path d=\"M1656.5 40h0.0\"/><path d=\"M1719.0 40h0.0\"/><rect height=\"22\" width=\"62.5\" x=\"1656.5\" y=\"29\"/><text x=\"1687.75\" y=\"44\">bexrp</text></g><path d=\"M1719.0 40h10\"/><path d=\"M1729.0 40h10\"/><g class=\"terminal\">\n",
       "<path d=\"M1739.0 40h0.0\"/><path d=\"M1767.5 40h0.0\"/><rect height=\"22\" rx=\"10\" ry=\"10\" width=\"28.5\" x=\"1739.0\" y=\"29\"/><text x=\"1753.25\" y=\"44\">)</text></g></g><path d=\"M1767.5 40h20\"/></g><path d=\"M1787.5 40h10\"/></g><path d=\"M 1797.5 40 h 20 m -10 -10 v 20 m 10 -20 v 20\"/></g></svg>"
      ],
      "text/plain": [
       "<IPython.core.display.SVG object>"
      ]
     },
     "metadata": {},
     "output_type": "display_data"
    },
    {
     "name": "stdout",
     "output_type": "stream",
     "text": [
      "aexpr\n"
     ]
    },
    {
     "data": {
      "image/svg+xml": [
       "<svg class=\"railroad-diagram\" height=\"152\" viewBox=\"0 0 313.5 152\" width=\"313.5\" xmlns=\"http://www.w3.org/2000/svg\">\n",
       "<g transform=\"translate(.5 .5)\">\n",
       "<style>/* <![CDATA[ */\n",
       "    svg.railroad-diagram {\n",
       "        background-color:hsl(100,100%,100%);\n",
       "    }\n",
       "    svg.railroad-diagram path {\n",
       "        stroke-width:3;\n",
       "        stroke:black;\n",
       "        fill:rgba(0,0,0,0);\n",
       "    }\n",
       "    svg.railroad-diagram text {\n",
       "        font:bold 14px monospace;\n",
       "        text-anchor:middle;\n",
       "    }\n",
       "    svg.railroad-diagram text.label{\n",
       "        text-anchor:start;\n",
       "    }\n",
       "    svg.railroad-diagram text.comment{\n",
       "        font:italic 12px monospace;\n",
       "    }\n",
       "    svg.railroad-diagram rect{\n",
       "        stroke-width:3;\n",
       "        stroke:black;\n",
       "        fill:hsl(0,62%,82%);\n",
       "    }\n",
       "\n",
       "/* ]]> */\n",
       "</style><g>\n",
       "<path d=\"M20 81v20m10 -20v20m-10 -10h20\"/></g><g>\n",
       "<path d=\"M40 91h0.0\"/><path d=\"M273.5 91h0.0\"/><path d=\"M40.0 91a10 10 0 0 0 10 -10v-10a10 10 0 0 1 10 -10\"/><g>\n",
       "<path d=\"M60.0 61h0.0\"/><path d=\"M253.5 61h0.0\"/><g class=\"non-terminal\">\n",
       "<path d=\"M60.0 61h0.0\"/><path d=\"M122.5 61h0.0\"/><rect height=\"22\" width=\"62.5\" x=\"60.0\" y=\"50\"/><text x=\"91.25\" y=\"65\">aexpr</text></g><path d=\"M122.5 61h10\"/><path d=\"M132.5 61h10\"/><g class=\"terminal\">\n",
       "<path d=\"M142.5 61h0.0\"/><path d=\"M171.0 61h0.0\"/><rect height=\"22\" rx=\"10\" ry=\"10\" width=\"28.5\" x=\"142.5\" y=\"50\"/><text x=\"156.75\" y=\"65\">-</text></g><path d=\"M171.0 61h10\"/><path d=\"M181.0 61h10\"/><g class=\"non-terminal\">\n",
       "<path d=\"M191.0 61h0.0\"/><path d=\"M253.5 61h0.0\"/><rect height=\"22\" width=\"62.5\" x=\"191.0\" y=\"50\"/><text x=\"222.25\" y=\"65\">aexpr</text></g></g><path d=\"M253.5 61a10 10 0 0 1 10 10v10a10 10 0 0 0 10 10\"/><path d=\"M40.0 91a10 10 0 0 0 10 -10v-40a10 10 0 0 1 10 -10\"/><g>\n",
       "<path d=\"M60.0 31h0.0\"/><path d=\"M253.5 31h0.0\"/><g class=\"non-terminal\">\n",
       "<path d=\"M60.0 31h0.0\"/><path d=\"M122.5 31h0.0\"/><rect height=\"22\" width=\"62.5\" x=\"60.0\" y=\"20\"/><text x=\"91.25\" y=\"35\">aexpr</text></g><path d=\"M122.5 31h10\"/><path d=\"M132.5 31h10\"/><g class=\"terminal\">\n",
       "<path d=\"M142.5 31h0.0\"/><path d=\"M171.0 31h0.0\"/><rect height=\"22\" rx=\"10\" ry=\"10\" width=\"28.5\" x=\"142.5\" y=\"20\"/><text x=\"156.75\" y=\"35\">+</text></g><path d=\"M171.0 31h10\"/><path d=\"M181.0 31h10\"/><g class=\"non-terminal\">\n",
       "<path d=\"M191.0 31h0.0\"/><path d=\"M253.5 31h0.0\"/><rect height=\"22\" width=\"62.5\" x=\"191.0\" y=\"20\"/><text x=\"222.25\" y=\"35\">aexpr</text></g></g><path d=\"M253.5 31a10 10 0 0 1 10 10v40a10 10 0 0 0 10 10\"/><path d=\"M40.0 91h20\"/><g>\n",
       "<path d=\"M60.0 91h17.0\"/><path d=\"M236.5 91h17.0\"/><g class=\"terminal\">\n",
       "<path d=\"M77.0 91h0.0\"/><path d=\"M105.5 91h0.0\"/><rect height=\"22\" rx=\"10\" ry=\"10\" width=\"28.5\" x=\"77.0\" y=\"80\"/><text x=\"91.25\" y=\"95\">(</text></g><path d=\"M105.5 91h10\"/><path d=\"M115.5 91h10\"/><g class=\"non-terminal\">\n",
       "<path d=\"M125.5 91h0.0\"/><path d=\"M188.0 91h0.0\"/><rect height=\"22\" width=\"62.5\" x=\"125.5\" y=\"80\"/><text x=\"156.75\" y=\"95\">aexpr</text></g><path d=\"M188.0 91h10\"/><path d=\"M198.0 91h10\"/><g class=\"terminal\">\n",
       "<path d=\"M208.0 91h0.0\"/><path d=\"M236.5 91h0.0\"/><rect height=\"22\" rx=\"10\" ry=\"10\" width=\"28.5\" x=\"208.0\" y=\"80\"/><text x=\"222.25\" y=\"95\">)</text></g></g><path d=\"M253.5 91h20\"/><path d=\"M40.0 91a10 10 0 0 1 10 10v10a10 10 0 0 0 10 10\"/><g>\n",
       "<path d=\"M60.0 121h57.0\"/><path d=\"M196.5 121h57.0\"/><g class=\"non-terminal\">\n",
       "<path d=\"M117.0 121h0.0\"/><path d=\"M196.5 121h0.0\"/><rect height=\"22\" width=\"79.5\" x=\"117.0\" y=\"110\"/><text x=\"156.75\" y=\"125\">integer</text></g></g><path d=\"M253.5 121a10 10 0 0 0 10 -10v-10a10 10 0 0 1 10 -10\"/></g><path d=\"M 273.5 91 h 20 m -10 -10 v 20 m 10 -20 v 20\"/></g></svg>"
      ],
      "text/plain": [
       "<IPython.core.display.SVG object>"
      ]
     },
     "metadata": {},
     "output_type": "display_data"
    },
    {
     "name": "stdout",
     "output_type": "stream",
     "text": [
      "integer\n"
     ]
    },
    {
     "data": {
      "image/svg+xml": [
       "<svg class=\"railroad-diagram\" height=\"92\" viewBox=\"0 0 282.0 92\" width=\"282.0\" xmlns=\"http://www.w3.org/2000/svg\">\n",
       "<g transform=\"translate(.5 .5)\">\n",
       "<style>/* <![CDATA[ */\n",
       "    svg.railroad-diagram {\n",
       "        background-color:hsl(100,100%,100%);\n",
       "    }\n",
       "    svg.railroad-diagram path {\n",
       "        stroke-width:3;\n",
       "        stroke:black;\n",
       "        fill:rgba(0,0,0,0);\n",
       "    }\n",
       "    svg.railroad-diagram text {\n",
       "        font:bold 14px monospace;\n",
       "        text-anchor:middle;\n",
       "    }\n",
       "    svg.railroad-diagram text.label{\n",
       "        text-anchor:start;\n",
       "    }\n",
       "    svg.railroad-diagram text.comment{\n",
       "        font:italic 12px monospace;\n",
       "    }\n",
       "    svg.railroad-diagram rect{\n",
       "        stroke-width:3;\n",
       "        stroke:black;\n",
       "        fill:hsl(0,62%,82%);\n",
       "    }\n",
       "\n",
       "/* ]]> */\n",
       "</style><g>\n",
       "<path d=\"M20 51v20m10 -20v20m-10 -10h20\"/></g><g>\n",
       "<path d=\"M40 61h0.0\"/><path d=\"M242.0 61h0.0\"/><path d=\"M40.0 61a10 10 0 0 0 10 -10v-10a10 10 0 0 1 10 -10\"/><g>\n",
       "<path d=\"M60.0 31h0.0\"/><path d=\"M222.0 31h0.0\"/><g class=\"non-terminal\">\n",
       "<path d=\"M60.0 31h0.0\"/><path d=\"M122.5 31h0.0\"/><rect height=\"22\" width=\"62.5\" x=\"60.0\" y=\"20\"/><text x=\"91.25\" y=\"35\">digit</text></g><path d=\"M122.5 31h10\"/><path d=\"M132.5 31h10\"/><g class=\"non-terminal\">\n",
       "<path d=\"M142.5 31h0.0\"/><path d=\"M222.0 31h0.0\"/><rect height=\"22\" width=\"79.5\" x=\"142.5\" y=\"20\"/><text x=\"182.25\" y=\"35\">integer</text></g></g><path d=\"M222.0 31a10 10 0 0 1 10 10v10a10 10 0 0 0 10 10\"/><path d=\"M40.0 61h20\"/><g>\n",
       "<path d=\"M60.0 61h49.75\"/><path d=\"M172.25 61h49.75\"/><g class=\"non-terminal\">\n",
       "<path d=\"M109.75 61h0.0\"/><path d=\"M172.25 61h0.0\"/><rect height=\"22\" width=\"62.5\" x=\"109.75\" y=\"50\"/><text x=\"141.0\" y=\"65\">digit</text></g></g><path d=\"M222.0 61h20\"/></g><path d=\"M 242.0 61 h 20 m -10 -10 v 20 m 10 -20 v 20\"/></g></svg>"
      ],
      "text/plain": [
       "<IPython.core.display.SVG object>"
      ]
     },
     "metadata": {},
     "output_type": "display_data"
    },
    {
     "name": "stdout",
     "output_type": "stream",
     "text": [
      "digit\n"
     ]
    },
    {
     "data": {
      "image/svg+xml": [
       "<svg class=\"railroad-diagram\" height=\"109\" viewBox=\"0 0 522.5 109\" width=\"522.5\" xmlns=\"http://www.w3.org/2000/svg\">\n",
       "<g transform=\"translate(.5 .5)\">\n",
       "<style>/* <![CDATA[ */\n",
       "    svg.railroad-diagram {\n",
       "        background-color:hsl(100,100%,100%);\n",
       "    }\n",
       "    svg.railroad-diagram path {\n",
       "        stroke-width:3;\n",
       "        stroke:black;\n",
       "        fill:rgba(0,0,0,0);\n",
       "    }\n",
       "    svg.railroad-diagram text {\n",
       "        font:bold 14px monospace;\n",
       "        text-anchor:middle;\n",
       "    }\n",
       "    svg.railroad-diagram text.label{\n",
       "        text-anchor:start;\n",
       "    }\n",
       "    svg.railroad-diagram text.comment{\n",
       "        font:italic 12px monospace;\n",
       "    }\n",
       "    svg.railroad-diagram rect{\n",
       "        stroke-width:3;\n",
       "        stroke:black;\n",
       "        fill:hsl(0,62%,82%);\n",
       "    }\n",
       "\n",
       "/* ]]> */\n",
       "</style><g>\n",
       "<path d=\"M20 59v20m10 -20v20m-10 -10h20\"/></g><g>\n",
       "<path d=\"M40 69h0.0\"/><path d=\"M482.5 69h0.0\"/><path d=\"M40.0 69a10 10 0 0 0 10 -10v-29a10 10 0 0 1 10 -10h324.0\"/><path d=\"M138.5 89h324.0a10 10 0 0 0 10 -10v0a10 10 0 0 1 10 -10\"/><path d=\"M40.0 69h10\"/><g>\n",
       "<path d=\"M50.0 69h0.0\"/><path d=\"M118.5 69h0.0\"/><path d=\"M50.0 69a10 10 0 0 0 10 -10v-10a10 10 0 0 1 10 -10\"/><g>\n",
       "<path d=\"M70.0 39h0.0\"/><path d=\"M98.5 39h0.0\"/><g class=\"terminal\">\n",
       "<path d=\"M70.0 39h0.0\"/><path d=\"M98.5 39h0.0\"/><rect height=\"22\" rx=\"10\" ry=\"10\" width=\"28.5\" x=\"70.0\" y=\"28\"/><text x=\"84.25\" y=\"43\">0</text></g></g><path d=\"M98.5 39a10 10 0 0 1 10 10v10a10 10 0 0 0 10 10\"/><path d=\"M50.0 69h20\"/><g>\n",
       "<path d=\"M70.0 69h0.0\"/><path d=\"M98.5 69h0.0\"/><g class=\"terminal\">\n",
       "<path d=\"M70.0 69h0.0\"/><path d=\"M98.5 69h0.0\"/><rect height=\"22\" rx=\"10\" ry=\"10\" width=\"28.5\" x=\"70.0\" y=\"58\"/><text x=\"84.25\" y=\"73\">1</text></g></g><path d=\"M98.5 69h20\"/></g><path d=\"M118.5 69a10 10 0 0 1 10 10v0a10 10 0 0 0 10 10\"/><path d=\"M118.5 20a10 10 0 0 1 10 10v29a10 10 0 0 0 10 10\"/><g>\n",
       "<path d=\"M138.5 69h0.0\"/><path d=\"M207.0 69h0.0\"/><path d=\"M138.5 69a10 10 0 0 0 10 -10v-10a10 10 0 0 1 10 -10\"/><g>\n",
       "<path d=\"M158.5 39h0.0\"/><path d=\"M187.0 39h0.0\"/><g class=\"terminal\">\n",
       "<path d=\"M158.5 39h0.0\"/><path d=\"M187.0 39h0.0\"/><rect height=\"22\" rx=\"10\" ry=\"10\" width=\"28.5\" x=\"158.5\" y=\"28\"/><text x=\"172.75\" y=\"43\">2</text></g></g><path d=\"M187.0 39a10 10 0 0 1 10 10v10a10 10 0 0 0 10 10\"/><path d=\"M138.5 69h20\"/><g>\n",
       "<path d=\"M158.5 69h0.0\"/><path d=\"M187.0 69h0.0\"/><g class=\"terminal\">\n",
       "<path d=\"M158.5 69h0.0\"/><path d=\"M187.0 69h0.0\"/><rect height=\"22\" rx=\"10\" ry=\"10\" width=\"28.5\" x=\"158.5\" y=\"58\"/><text x=\"172.75\" y=\"73\">3</text></g></g><path d=\"M187.0 69h20\"/></g><path d=\"M207.0 69a10 10 0 0 1 10 10v0a10 10 0 0 0 10 10\"/><path d=\"M207.0 20a10 10 0 0 1 10 10v29a10 10 0 0 0 10 10\"/><g>\n",
       "<path d=\"M227.0 69h0.0\"/><path d=\"M295.5 69h0.0\"/><path d=\"M227.0 69a10 10 0 0 0 10 -10v-10a10 10 0 0 1 10 -10\"/><g>\n",
       "<path d=\"M247.0 39h0.0\"/><path d=\"M275.5 39h0.0\"/><g class=\"terminal\">\n",
       "<path d=\"M247.0 39h0.0\"/><path d=\"M275.5 39h0.0\"/><rect height=\"22\" rx=\"10\" ry=\"10\" width=\"28.5\" x=\"247.0\" y=\"28\"/><text x=\"261.25\" y=\"43\">4</text></g></g><path d=\"M275.5 39a10 10 0 0 1 10 10v10a10 10 0 0 0 10 10\"/><path d=\"M227.0 69h20\"/><g>\n",
       "<path d=\"M247.0 69h0.0\"/><path d=\"M275.5 69h0.0\"/><g class=\"terminal\">\n",
       "<path d=\"M247.0 69h0.0\"/><path d=\"M275.5 69h0.0\"/><rect height=\"22\" rx=\"10\" ry=\"10\" width=\"28.5\" x=\"247.0\" y=\"58\"/><text x=\"261.25\" y=\"73\">5</text></g></g><path d=\"M275.5 69h20\"/></g><path d=\"M295.5 69a10 10 0 0 1 10 10v0a10 10 0 0 0 10 10\"/><path d=\"M295.5 20a10 10 0 0 1 10 10v29a10 10 0 0 0 10 10\"/><g>\n",
       "<path d=\"M315.5 69h0.0\"/><path d=\"M384.0 69h0.0\"/><path d=\"M315.5 69a10 10 0 0 0 10 -10v-10a10 10 0 0 1 10 -10\"/><g>\n",
       "<path d=\"M335.5 39h0.0\"/><path d=\"M364.0 39h0.0\"/><g class=\"terminal\">\n",
       "<path d=\"M335.5 39h0.0\"/><path d=\"M364.0 39h0.0\"/><rect height=\"22\" rx=\"10\" ry=\"10\" width=\"28.5\" x=\"335.5\" y=\"28\"/><text x=\"349.75\" y=\"43\">6</text></g></g><path d=\"M364.0 39a10 10 0 0 1 10 10v10a10 10 0 0 0 10 10\"/><path d=\"M315.5 69h20\"/><g>\n",
       "<path d=\"M335.5 69h0.0\"/><path d=\"M364.0 69h0.0\"/><g class=\"terminal\">\n",
       "<path d=\"M335.5 69h0.0\"/><path d=\"M364.0 69h0.0\"/><rect height=\"22\" rx=\"10\" ry=\"10\" width=\"28.5\" x=\"335.5\" y=\"58\"/><text x=\"349.75\" y=\"73\">7</text></g></g><path d=\"M364.0 69h20\"/></g><path d=\"M384.0 69a10 10 0 0 1 10 10v0a10 10 0 0 0 10 10\"/><path d=\"M384.0 20a10 10 0 0 1 10 10v29a10 10 0 0 0 10 10\"/><g>\n",
       "<path d=\"M404.0 69h0.0\"/><path d=\"M472.5 69h0.0\"/><path d=\"M404.0 69a10 10 0 0 0 10 -10v-10a10 10 0 0 1 10 -10\"/><g>\n",
       "<path d=\"M424.0 39h0.0\"/><path d=\"M452.5 39h0.0\"/><g class=\"terminal\">\n",
       "<path d=\"M424.0 39h0.0\"/><path d=\"M452.5 39h0.0\"/><rect height=\"22\" rx=\"10\" ry=\"10\" width=\"28.5\" x=\"424.0\" y=\"28\"/><text x=\"438.25\" y=\"43\">8</text></g></g><path d=\"M452.5 39a10 10 0 0 1 10 10v10a10 10 0 0 0 10 10\"/><path d=\"M404.0 69h20\"/><g>\n",
       "<path d=\"M424.0 69h0.0\"/><path d=\"M452.5 69h0.0\"/><g class=\"terminal\">\n",
       "<path d=\"M424.0 69h0.0\"/><path d=\"M452.5 69h0.0\"/><rect height=\"22\" rx=\"10\" ry=\"10\" width=\"28.5\" x=\"424.0\" y=\"58\"/><text x=\"438.25\" y=\"73\">9</text></g></g><path d=\"M452.5 69h20\"/></g><path d=\"M472.5 69h10\"/></g><path d=\"M 482.5 69 h 20 m -10 -10 v 20 m 10 -20 v 20\"/></g></svg>"
      ],
      "text/plain": [
       "<IPython.core.display.SVG object>"
      ]
     },
     "metadata": {},
     "output_type": "display_data"
    },
    {
     "name": "stdout",
     "output_type": "stream",
     "text": [
      "lt\n"
     ]
    },
    {
     "data": {
      "image/svg+xml": [
       "<svg class=\"railroad-diagram\" height=\"62\" viewBox=\"0 0 148.5 62\" width=\"148.5\" xmlns=\"http://www.w3.org/2000/svg\">\n",
       "<g transform=\"translate(.5 .5)\">\n",
       "<style>/* <![CDATA[ */\n",
       "    svg.railroad-diagram {\n",
       "        background-color:hsl(100,100%,100%);\n",
       "    }\n",
       "    svg.railroad-diagram path {\n",
       "        stroke-width:3;\n",
       "        stroke:black;\n",
       "        fill:rgba(0,0,0,0);\n",
       "    }\n",
       "    svg.railroad-diagram text {\n",
       "        font:bold 14px monospace;\n",
       "        text-anchor:middle;\n",
       "    }\n",
       "    svg.railroad-diagram text.label{\n",
       "        text-anchor:start;\n",
       "    }\n",
       "    svg.railroad-diagram text.comment{\n",
       "        font:italic 12px monospace;\n",
       "    }\n",
       "    svg.railroad-diagram rect{\n",
       "        stroke-width:3;\n",
       "        stroke:black;\n",
       "        fill:hsl(0,62%,82%);\n",
       "    }\n",
       "\n",
       "/* ]]> */\n",
       "</style><g>\n",
       "<path d=\"M20 21v20m10 -20v20m-10 -10h20\"/></g><g>\n",
       "<path d=\"M40 31h0.0\"/><path d=\"M108.5 31h0.0\"/><path d=\"M40.0 31h20\"/><g>\n",
       "<path d=\"M60.0 31h0.0\"/><path d=\"M88.5 31h0.0\"/><g class=\"terminal\">\n",
       "<path d=\"M60.0 31h0.0\"/><path d=\"M88.5 31h0.0\"/><rect height=\"22\" rx=\"10\" ry=\"10\" width=\"28.5\" x=\"60.0\" y=\"20\"/><text x=\"74.25\" y=\"35\">&lt;</text></g></g><path d=\"M88.5 31h20\"/></g><path d=\"M 108.5 31 h 20 m -10 -10 v 20 m 10 -20 v 20\"/></g></svg>"
      ],
      "text/plain": [
       "<IPython.core.display.SVG object>"
      ]
     },
     "metadata": {},
     "output_type": "display_data"
    },
    {
     "name": "stdout",
     "output_type": "stream",
     "text": [
      "gt\n"
     ]
    },
    {
     "data": {
      "image/svg+xml": [
       "<svg class=\"railroad-diagram\" height=\"62\" viewBox=\"0 0 148.5 62\" width=\"148.5\" xmlns=\"http://www.w3.org/2000/svg\">\n",
       "<g transform=\"translate(.5 .5)\">\n",
       "<style>/* <![CDATA[ */\n",
       "    svg.railroad-diagram {\n",
       "        background-color:hsl(100,100%,100%);\n",
       "    }\n",
       "    svg.railroad-diagram path {\n",
       "        stroke-width:3;\n",
       "        stroke:black;\n",
       "        fill:rgba(0,0,0,0);\n",
       "    }\n",
       "    svg.railroad-diagram text {\n",
       "        font:bold 14px monospace;\n",
       "        text-anchor:middle;\n",
       "    }\n",
       "    svg.railroad-diagram text.label{\n",
       "        text-anchor:start;\n",
       "    }\n",
       "    svg.railroad-diagram text.comment{\n",
       "        font:italic 12px monospace;\n",
       "    }\n",
       "    svg.railroad-diagram rect{\n",
       "        stroke-width:3;\n",
       "        stroke:black;\n",
       "        fill:hsl(0,62%,82%);\n",
       "    }\n",
       "\n",
       "/* ]]> */\n",
       "</style><g>\n",
       "<path d=\"M20 21v20m10 -20v20m-10 -10h20\"/></g><g>\n",
       "<path d=\"M40 31h0.0\"/><path d=\"M108.5 31h0.0\"/><path d=\"M40.0 31h20\"/><g>\n",
       "<path d=\"M60.0 31h0.0\"/><path d=\"M88.5 31h0.0\"/><g class=\"terminal\">\n",
       "<path d=\"M60.0 31h0.0\"/><path d=\"M88.5 31h0.0\"/><rect height=\"22\" rx=\"10\" ry=\"10\" width=\"28.5\" x=\"60.0\" y=\"20\"/><text x=\"74.25\" y=\"35\">&gt;</text></g></g><path d=\"M88.5 31h20\"/></g><path d=\"M 108.5 31 h 20 m -10 -10 v 20 m 10 -20 v 20\"/></g></svg>"
      ],
      "text/plain": [
       "<IPython.core.display.SVG object>"
      ]
     },
     "metadata": {},
     "output_type": "display_data"
    }
   ],
   "source": [
    "syntax_diagram(A3_GRAMMAR)"
   ]
  },
  {
   "cell_type": "code",
   "execution_count": 113,
   "metadata": {
    "slideshow": {
     "slide_type": "subslide"
    }
   },
   "outputs": [],
   "source": [
    "mystring = '(1+24)=33'\n",
    "parser = EarleyParser(A3_GRAMMAR)\n",
    "for tree in parser.parse(mystring):\n",
    "    assert tree_to_string(tree) == mystring\n",
    "    display_tree(tree)"
   ]
  },
  {
   "cell_type": "markdown",
   "metadata": {
    "slideshow": {
     "slide_type": "fragment"
    }
   },
   "source": [
    "We now have a complete parser that can parse almost arbitrary *CFG*. There remains a small corner to fix -- the case of epsilon rules as we will see later."
   ]
  },
  {
   "cell_type": "markdown",
   "metadata": {
    "slideshow": {
     "slide_type": "skip"
    }
   },
   "source": [
    "### Ambiguous Parsing"
   ]
  },
  {
   "cell_type": "markdown",
   "metadata": {
    "slideshow": {
     "slide_type": "skip"
    }
   },
   "source": [
    "Ambiguous grammars are grammars that can produce multiple derivation trees for some given string. For example, the `A3_GRAMMAR` can parse `1+2+3` in two different ways – `[1+2]+3` and `1+[2+3]`.\n",
    "\n",
    "Extracting a single tree might be reasonable for unambiguous parses. However, what if the given grammar produces ambiguity when given a string? We need to extract all derivation trees in that case. We enhance our `extract_trees()` method to extract multiple derivation trees."
   ]
  },
  {
   "cell_type": "code",
   "execution_count": 114,
   "metadata": {
    "slideshow": {
     "slide_type": "subslide"
    }
   },
   "outputs": [],
   "source": [
    "class EarleyParser(EarleyParser):\n",
    "    def extract_trees(self, forest_node):\n",
    "        name, paths = forest_node\n",
    "        if not paths:\n",
    "            yield (name, [])\n",
    "        results = []\n",
    "        for path in paths:\n",
    "            ptrees = [self.extract_trees(self.forest(*p)) for p in path]\n",
    "            for p in zip(*ptrees):\n",
    "                yield (name, p) "
   ]
  },
  {
   "cell_type": "markdown",
   "metadata": {
    "slideshow": {
     "slide_type": "skip"
    }
   },
   "source": [
    "As before, we verify that everything works."
   ]
  },
  {
   "cell_type": "code",
   "execution_count": 115,
   "metadata": {
    "slideshow": {
     "slide_type": "skip"
    }
   },
   "outputs": [],
   "source": [
    "mystring = '1+2'\n",
    "parser = EarleyParser(A1_GRAMMAR)\n",
    "for tree in parser.parse(mystring):\n",
    "    assert mystring == tree_to_string(tree)\n",
    "    display_tree(tree)"
   ]
  },
  {
   "cell_type": "markdown",
   "metadata": {
    "slideshow": {
     "slide_type": "fragment"
    }
   },
   "source": [
    "One can also use a `GrammarFuzzer` to verify that everything works."
   ]
  },
  {
   "cell_type": "code",
   "execution_count": 116,
   "metadata": {
    "slideshow": {
     "slide_type": "subslide"
    }
   },
   "outputs": [
    {
     "name": "stdout",
     "output_type": "stream",
     "text": [
      "0 045+3+2-9+7-7-5-1-449\n",
      "1 0+9+5-2+1-8+4-3+7+2\n",
      "2 76413\n",
      "3 9339\n",
      "4 62\n"
     ]
    }
   ],
   "source": [
    "gf = GrammarFuzzer(A1_GRAMMAR)\n",
    "for i in range(5):\n",
    "    s = gf.fuzz()\n",
    "    print(i, s)\n",
    "    for tree in parser.parse(s):\n",
    "        assert tree_to_string(tree) == s"
   ]
  },
  {
   "cell_type": "markdown",
   "metadata": {
    "slideshow": {
     "slide_type": "skip"
    },
    "toc-hr-collapsed": true
   },
   "source": [
    "### The Aycock Epsilon Fix\n",
    "\n",
    "While parsing, one often requires to know whether a given nonterminal can derive an empty string. For example, in the following grammar A can derive an empty string, while B can't. The nonterminals that can derive an empty string are called _nullable_ nonterminals. For example, in the below grammar `E_GRAMMAR_1`,  `<A>` is _nullable_, and since `<A>` is one of the alternatives of `<start>`, `<start>` is also _nullable_. But `<B>` is not _nullable_."
   ]
  },
  {
   "cell_type": "code",
   "execution_count": 117,
   "metadata": {
    "slideshow": {
     "slide_type": "skip"
    }
   },
   "outputs": [],
   "source": [
    "E_GRAMMAR_1 = {\n",
    "    '<start>': ['<A>', '<B>'],\n",
    "    '<A>': ['a', ''],\n",
    "    '<B>': ['b']\n",
    "}"
   ]
  },
  {
   "cell_type": "markdown",
   "metadata": {
    "slideshow": {
     "slide_type": "notes"
    }
   },
   "source": [
    "One of the problems with the original Earley implementation is that it does not handle rules that can derive empty strings very well. For example, the given grammar should match `a`"
   ]
  },
  {
   "cell_type": "code",
   "execution_count": 118,
   "metadata": {
    "slideshow": {
     "slide_type": "subslide"
    }
   },
   "outputs": [],
   "source": [
    "EPSILON = ''\n",
    "E_GRAMMAR = {\n",
    "    '<start>': ['<S>'],\n",
    "    '<S>': ['<A><A><A><A>'],\n",
    "    '<A>': ['a', '<E>'],\n",
    "    '<E>': [EPSILON]\n",
    "}"
   ]
  },
  {
   "cell_type": "code",
   "execution_count": 119,
   "metadata": {},
   "outputs": [
    {
     "name": "stdout",
     "output_type": "stream",
     "text": [
      "start\n"
     ]
    },
    {
     "data": {
      "image/svg+xml": [
       "<svg class=\"railroad-diagram\" height=\"62\" viewBox=\"0 0 148.5 62\" width=\"148.5\" xmlns=\"http://www.w3.org/2000/svg\">\n",
       "<g transform=\"translate(.5 .5)\">\n",
       "<style>/* <![CDATA[ */\n",
       "    svg.railroad-diagram {\n",
       "        background-color:hsl(100,100%,100%);\n",
       "    }\n",
       "    svg.railroad-diagram path {\n",
       "        stroke-width:3;\n",
       "        stroke:black;\n",
       "        fill:rgba(0,0,0,0);\n",
       "    }\n",
       "    svg.railroad-diagram text {\n",
       "        font:bold 14px monospace;\n",
       "        text-anchor:middle;\n",
       "    }\n",
       "    svg.railroad-diagram text.label{\n",
       "        text-anchor:start;\n",
       "    }\n",
       "    svg.railroad-diagram text.comment{\n",
       "        font:italic 12px monospace;\n",
       "    }\n",
       "    svg.railroad-diagram rect{\n",
       "        stroke-width:3;\n",
       "        stroke:black;\n",
       "        fill:hsl(0,62%,82%);\n",
       "    }\n",
       "\n",
       "/* ]]> */\n",
       "</style><g>\n",
       "<path d=\"M20 21v20m10 -20v20m-10 -10h20\"/></g><g>\n",
       "<path d=\"M40 31h0.0\"/><path d=\"M108.5 31h0.0\"/><path d=\"M40.0 31h20\"/><g>\n",
       "<path d=\"M60.0 31h0.0\"/><path d=\"M88.5 31h0.0\"/><g class=\"non-terminal\">\n",
       "<path d=\"M60.0 31h0.0\"/><path d=\"M88.5 31h0.0\"/><rect height=\"22\" width=\"28.5\" x=\"60.0\" y=\"20\"/><text x=\"74.25\" y=\"35\">S</text></g></g><path d=\"M88.5 31h20\"/></g><path d=\"M 108.5 31 h 20 m -10 -10 v 20 m 10 -20 v 20\"/></g></svg>"
      ],
      "text/plain": [
       "<IPython.core.display.SVG object>"
      ]
     },
     "metadata": {},
     "output_type": "display_data"
    },
    {
     "name": "stdout",
     "output_type": "stream",
     "text": [
      "S\n"
     ]
    },
    {
     "data": {
      "image/svg+xml": [
       "<svg class=\"railroad-diagram\" height=\"62\" viewBox=\"0 0 294.0 62\" width=\"294.0\" xmlns=\"http://www.w3.org/2000/svg\">\n",
       "<g transform=\"translate(.5 .5)\">\n",
       "<style>/* <![CDATA[ */\n",
       "    svg.railroad-diagram {\n",
       "        background-color:hsl(100,100%,100%);\n",
       "    }\n",
       "    svg.railroad-diagram path {\n",
       "        stroke-width:3;\n",
       "        stroke:black;\n",
       "        fill:rgba(0,0,0,0);\n",
       "    }\n",
       "    svg.railroad-diagram text {\n",
       "        font:bold 14px monospace;\n",
       "        text-anchor:middle;\n",
       "    }\n",
       "    svg.railroad-diagram text.label{\n",
       "        text-anchor:start;\n",
       "    }\n",
       "    svg.railroad-diagram text.comment{\n",
       "        font:italic 12px monospace;\n",
       "    }\n",
       "    svg.railroad-diagram rect{\n",
       "        stroke-width:3;\n",
       "        stroke:black;\n",
       "        fill:hsl(0,62%,82%);\n",
       "    }\n",
       "\n",
       "/* ]]> */\n",
       "</style><g>\n",
       "<path d=\"M20 21v20m10 -20v20m-10 -10h20\"/></g><g>\n",
       "<path d=\"M40 31h0.0\"/><path d=\"M254.0 31h0.0\"/><path d=\"M40.0 31h20\"/><g>\n",
       "<path d=\"M60.0 31h0.0\"/><path d=\"M234.0 31h0.0\"/><g class=\"non-terminal\">\n",
       "<path d=\"M60.0 31h0.0\"/><path d=\"M88.5 31h0.0\"/><rect height=\"22\" width=\"28.5\" x=\"60.0\" y=\"20\"/><text x=\"74.25\" y=\"35\">A</text></g><path d=\"M88.5 31h10\"/><path d=\"M98.5 31h10\"/><g class=\"non-terminal\">\n",
       "<path d=\"M108.5 31h0.0\"/><path d=\"M137.0 31h0.0\"/><rect height=\"22\" width=\"28.5\" x=\"108.5\" y=\"20\"/><text x=\"122.75\" y=\"35\">A</text></g><path d=\"M137.0 31h10\"/><path d=\"M147.0 31h10\"/><g class=\"non-terminal\">\n",
       "<path d=\"M157.0 31h0.0\"/><path d=\"M185.5 31h0.0\"/><rect height=\"22\" width=\"28.5\" x=\"157.0\" y=\"20\"/><text x=\"171.25\" y=\"35\">A</text></g><path d=\"M185.5 31h10\"/><path d=\"M195.5 31h10\"/><g class=\"non-terminal\">\n",
       "<path d=\"M205.5 31h0.0\"/><path d=\"M234.0 31h0.0\"/><rect height=\"22\" width=\"28.5\" x=\"205.5\" y=\"20\"/><text x=\"219.75\" y=\"35\">A</text></g></g><path d=\"M234.0 31h20\"/></g><path d=\"M 254.0 31 h 20 m -10 -10 v 20 m 10 -20 v 20\"/></g></svg>"
      ],
      "text/plain": [
       "<IPython.core.display.SVG object>"
      ]
     },
     "metadata": {},
     "output_type": "display_data"
    },
    {
     "name": "stdout",
     "output_type": "stream",
     "text": [
      "A\n"
     ]
    },
    {
     "data": {
      "image/svg+xml": [
       "<svg class=\"railroad-diagram\" height=\"92\" viewBox=\"0 0 148.5 92\" width=\"148.5\" xmlns=\"http://www.w3.org/2000/svg\">\n",
       "<g transform=\"translate(.5 .5)\">\n",
       "<style>/* <![CDATA[ */\n",
       "    svg.railroad-diagram {\n",
       "        background-color:hsl(100,100%,100%);\n",
       "    }\n",
       "    svg.railroad-diagram path {\n",
       "        stroke-width:3;\n",
       "        stroke:black;\n",
       "        fill:rgba(0,0,0,0);\n",
       "    }\n",
       "    svg.railroad-diagram text {\n",
       "        font:bold 14px monospace;\n",
       "        text-anchor:middle;\n",
       "    }\n",
       "    svg.railroad-diagram text.label{\n",
       "        text-anchor:start;\n",
       "    }\n",
       "    svg.railroad-diagram text.comment{\n",
       "        font:italic 12px monospace;\n",
       "    }\n",
       "    svg.railroad-diagram rect{\n",
       "        stroke-width:3;\n",
       "        stroke:black;\n",
       "        fill:hsl(0,62%,82%);\n",
       "    }\n",
       "\n",
       "/* ]]> */\n",
       "</style><g>\n",
       "<path d=\"M20 51v20m10 -20v20m-10 -10h20\"/></g><g>\n",
       "<path d=\"M40 61h0.0\"/><path d=\"M108.5 61h0.0\"/><path d=\"M40.0 61a10 10 0 0 0 10 -10v-10a10 10 0 0 1 10 -10\"/><g>\n",
       "<path d=\"M60.0 31h0.0\"/><path d=\"M88.5 31h0.0\"/><g class=\"terminal\">\n",
       "<path d=\"M60.0 31h0.0\"/><path d=\"M88.5 31h0.0\"/><rect height=\"22\" rx=\"10\" ry=\"10\" width=\"28.5\" x=\"60.0\" y=\"20\"/><text x=\"74.25\" y=\"35\">a</text></g></g><path d=\"M88.5 31a10 10 0 0 1 10 10v10a10 10 0 0 0 10 10\"/><path d=\"M40.0 61h20\"/><g>\n",
       "<path d=\"M60.0 61h0.0\"/><path d=\"M88.5 61h0.0\"/><g class=\"non-terminal\">\n",
       "<path d=\"M60.0 61h0.0\"/><path d=\"M88.5 61h0.0\"/><rect height=\"22\" width=\"28.5\" x=\"60.0\" y=\"50\"/><text x=\"74.25\" y=\"65\">E</text></g></g><path d=\"M88.5 61h20\"/></g><path d=\"M 108.5 61 h 20 m -10 -10 v 20 m 10 -20 v 20\"/></g></svg>"
      ],
      "text/plain": [
       "<IPython.core.display.SVG object>"
      ]
     },
     "metadata": {},
     "output_type": "display_data"
    },
    {
     "name": "stdout",
     "output_type": "stream",
     "text": [
      "E\n"
     ]
    },
    {
     "data": {
      "image/svg+xml": [
       "<svg class=\"railroad-diagram\" height=\"62\" viewBox=\"0 0 140.0 62\" width=\"140.0\" xmlns=\"http://www.w3.org/2000/svg\">\n",
       "<g transform=\"translate(.5 .5)\">\n",
       "<style>/* <![CDATA[ */\n",
       "    svg.railroad-diagram {\n",
       "        background-color:hsl(100,100%,100%);\n",
       "    }\n",
       "    svg.railroad-diagram path {\n",
       "        stroke-width:3;\n",
       "        stroke:black;\n",
       "        fill:rgba(0,0,0,0);\n",
       "    }\n",
       "    svg.railroad-diagram text {\n",
       "        font:bold 14px monospace;\n",
       "        text-anchor:middle;\n",
       "    }\n",
       "    svg.railroad-diagram text.label{\n",
       "        text-anchor:start;\n",
       "    }\n",
       "    svg.railroad-diagram text.comment{\n",
       "        font:italic 12px monospace;\n",
       "    }\n",
       "    svg.railroad-diagram rect{\n",
       "        stroke-width:3;\n",
       "        stroke:black;\n",
       "        fill:hsl(0,62%,82%);\n",
       "    }\n",
       "\n",
       "/* ]]> */\n",
       "</style><g>\n",
       "<path d=\"M20 21v20m10 -20v20m-10 -10h20\"/></g><g>\n",
       "<path d=\"M40 31h0.0\"/><path d=\"M100.0 31h0.0\"/><path d=\"M40.0 31h20\"/><g>\n",
       "<path d=\"M60.0 31h0.0\"/><path d=\"M80.0 31h0.0\"/><g class=\"terminal\">\n",
       "<path d=\"M60.0 31h0.0\"/><path d=\"M80.0 31h0.0\"/><rect height=\"22\" rx=\"10\" ry=\"10\" width=\"20.0\" x=\"60.0\" y=\"20\"/><text x=\"70.0\" y=\"35\"/></g></g><path d=\"M80.0 31h20\"/></g><path d=\"M 100.0 31 h 20 m -10 -10 v 20 m 10 -20 v 20\"/></g></svg>"
      ],
      "text/plain": [
       "<IPython.core.display.SVG object>"
      ]
     },
     "metadata": {},
     "output_type": "display_data"
    }
   ],
   "source": [
    "syntax_diagram(E_GRAMMAR)"
   ]
  },
  {
   "cell_type": "code",
   "execution_count": 120,
   "metadata": {
    "slideshow": {
     "slide_type": "subslide"
    }
   },
   "outputs": [],
   "source": [
    "mystring = 'a'\n",
    "parser = EarleyParser(E_GRAMMAR)\n",
    "with ExpectError():\n",
    "    trees = parser.parse(mystring)"
   ]
  },
  {
   "cell_type": "markdown",
   "metadata": {
    "slideshow": {
     "slide_type": "skip"
    }
   },
   "source": [
    "Aycock et al.\\cite{Aycock2002} suggests a simple fix. Their idea is to pre-compute the `nullable` set and use it to advance the `nullable` states. However, before we do that, we need to compute the `nullable` set. The `nullable` set consists of all nonterminals that can derive an empty string."
   ]
  },
  {
   "cell_type": "markdown",
   "metadata": {
    "slideshow": {
     "slide_type": "skip"
    }
   },
   "source": [
    "Computing the `nullable` set requires expanding each production rule in the grammar iteratively and inspecting whether a given rule can derive the empty string. Each iteration needs to take into account new terminals that have been found to be `nullable`. The procedure stops when we obtain a stable result. This procedure can be abstracted into a more general method `fixpoint`."
   ]
  },
  {
   "cell_type": "markdown",
   "metadata": {
    "slideshow": {
     "slide_type": "subslide"
    }
   },
   "source": [
    "#### Fixpoint\n",
    "\n",
    "A `fixpoint` of a function is an element in the function's domain such that it is mapped to itself. For example, 1 is a `fixpoint` of square root because `squareroot(1) == 1`.\n",
    "\n",
    "(We use `str` rather than `hash` to check for equality in `fixpoint` because the data structure `set`, which we would like to use as an argument has a good string representation but is not hashable)."
   ]
  },
  {
   "cell_type": "code",
   "execution_count": 121,
   "metadata": {
    "slideshow": {
     "slide_type": "subslide"
    }
   },
   "outputs": [],
   "source": [
    "def fixpoint(f):\n",
    "    def helper(arg):\n",
    "        while True:\n",
    "            sarg = str(arg)\n",
    "            arg_ = f(arg)\n",
    "            if str(arg_) == sarg:\n",
    "                return arg\n",
    "            arg = arg_\n",
    "\n",
    "    return helper"
   ]
  },
  {
   "cell_type": "markdown",
   "metadata": {
    "slideshow": {
     "slide_type": "skip"
    }
   },
   "source": [
    "Remember `my_sqrt()` from [the first chapter](Intro_Testing.ipynb)? We can define `my_sqrt()` using fixpoint."
   ]
  },
  {
   "cell_type": "code",
   "execution_count": 122,
   "metadata": {
    "slideshow": {
     "slide_type": "subslide"
    }
   },
   "outputs": [],
   "source": [
    "def my_sqrt(x):\n",
    "    @fixpoint\n",
    "    def _my_sqrt(approx):\n",
    "        return (approx + x / approx) / 2\n",
    "\n",
    "    return _my_sqrt(1)"
   ]
  },
  {
   "cell_type": "code",
   "execution_count": 123,
   "metadata": {
    "slideshow": {
     "slide_type": "fragment"
    }
   },
   "outputs": [
    {
     "data": {
      "text/plain": [
       "1.414213562373095"
      ]
     },
     "execution_count": 123,
     "metadata": {},
     "output_type": "execute_result"
    }
   ],
   "source": [
    "my_sqrt(2)"
   ]
  },
  {
   "cell_type": "markdown",
   "metadata": {
    "slideshow": {
     "slide_type": "subslide"
    }
   },
   "source": [
    "#### Nullable\n",
    "\n",
    "Similarly, we can define `nullable` using `fixpoint`. We essentially provide the definition of a single intermediate step. That is, assuming that `nullables` contain the current `nullable` nonterminals, we iterate over the grammar looking for productions which are `nullable` -- that is, productions where the entire sequence can yield an empty string on some expansion."
   ]
  },
  {
   "cell_type": "markdown",
   "metadata": {
    "slideshow": {
     "slide_type": "skip"
    }
   },
   "source": [
    "We need to iterate over the different alternative expressions and their corresponding nonterminals. Hence we define a `rules()` method converts our dictionary representation to this pair format."
   ]
  },
  {
   "cell_type": "code",
   "execution_count": 124,
   "metadata": {
    "slideshow": {
     "slide_type": "skip"
    }
   },
   "outputs": [],
   "source": [
    "def rules(grammar):\n",
    "    return [(key, choice)\n",
    "            for key, choices in grammar.items()\n",
    "            for choice in choices]"
   ]
  },
  {
   "cell_type": "markdown",
   "metadata": {
    "slideshow": {
     "slide_type": "skip"
    }
   },
   "source": [
    "The `terminals()` method extracts all terminal symbols from a `canonical` grammar representation."
   ]
  },
  {
   "cell_type": "code",
   "execution_count": 125,
   "metadata": {
    "slideshow": {
     "slide_type": "skip"
    }
   },
   "outputs": [],
   "source": [
    "def terminals(grammar):\n",
    "    return set(token\n",
    "               for key, choice in rules(grammar)\n",
    "               for token in choice if token not in grammar)"
   ]
  },
  {
   "cell_type": "code",
   "execution_count": 126,
   "metadata": {
    "slideshow": {
     "slide_type": "subslide"
    }
   },
   "outputs": [],
   "source": [
    "def nullable_expr(expr, nullables):\n",
    "    return all(token in nullables for token in expr)"
   ]
  },
  {
   "cell_type": "code",
   "execution_count": 127,
   "metadata": {
    "slideshow": {
     "slide_type": "subslide"
    }
   },
   "outputs": [],
   "source": [
    "def nullable(grammar):\n",
    "    productions = rules(grammar)\n",
    "\n",
    "    @fixpoint\n",
    "    def nullable_(nullables):\n",
    "        for A, expr in productions:\n",
    "            if nullable_expr(expr, nullables):\n",
    "                nullables |= {A}\n",
    "        return (nullables)\n",
    "\n",
    "    return nullable_({EPSILON})"
   ]
  },
  {
   "cell_type": "code",
   "execution_count": 128,
   "metadata": {
    "slideshow": {
     "slide_type": "subslide"
    }
   },
   "outputs": [
    {
     "name": "stdout",
     "output_type": "stream",
     "text": [
      "E_GRAMMAR {'', '<S>', '<start>', '<E>', '<A>'}\n",
      "E_GRAMMAR_1 {'', '<start>', '<A>'}\n"
     ]
    }
   ],
   "source": [
    "for key, grammar in {\n",
    "        'E_GRAMMAR': E_GRAMMAR,\n",
    "        'E_GRAMMAR_1': E_GRAMMAR_1\n",
    "}.items():\n",
    "    print(key, nullable(canonical(grammar)))"
   ]
  },
  {
   "cell_type": "markdown",
   "metadata": {
    "slideshow": {
     "slide_type": "notes"
    }
   },
   "source": [
    "So, once we have the `nullable` set, all that we need to do is, after we have called `predict` on a state corresponding to a nonterminal, check if it is `nullable` and if it is, advance and add the state to the current column."
   ]
  },
  {
   "cell_type": "code",
   "execution_count": 129,
   "metadata": {
    "slideshow": {
     "slide_type": "subslide"
    }
   },
   "outputs": [],
   "source": [
    "class EarleyParser(EarleyParser):\n",
    "    def __init__(self, grammar, **kwargs):\n",
    "        super().__init__(grammar, **kwargs)\n",
    "        self.cgrammar = canonical(grammar, letters=True)\n",
    "        self.epsilon = nullable(self.cgrammar)\n",
    "\n",
    "    def predict(self, col, sym, state):\n",
    "        for alt in self.cgrammar[sym]:\n",
    "            col.add(State(sym, tuple(alt), 0, col))\n",
    "        if sym in self.epsilon:\n",
    "            col.add(state.advance())"
   ]
  },
  {
   "cell_type": "code",
   "execution_count": 130,
   "metadata": {
    "slideshow": {
     "slide_type": "subslide"
    }
   },
   "outputs": [],
   "source": [
    "mystring = 'a'\n",
    "parser = EarleyParser(E_GRAMMAR)\n",
    "for tree in parser.parse(mystring):\n",
    "    display_tree(tree)"
   ]
  },
  {
   "cell_type": "markdown",
   "metadata": {},
   "source": [
    "To ensure that our parser does parse all kinds of grammars, let us try two more test cases."
   ]
  },
  {
   "cell_type": "code",
   "execution_count": 131,
   "metadata": {},
   "outputs": [],
   "source": [
    "DIRECTLY_SELF_REFERRING = {\n",
    "    '<start>': ['<query>'],\n",
    "    '<query>': ['select <expr> from a'],\n",
    "    \"<expr>\": [ \"<expr>\", \"a\"],\n",
    "}\n",
    "INDIRECTLY_SELF_REFERRING = {\n",
    "    '<start>': ['<query>'],\n",
    "    '<query>': ['select <expr> from a'],\n",
    "    \"<expr>\": [ \"<aexpr>\", \"a\"],\n",
    "    \"<aexpr>\": [ \"<expr>\"],\n",
    "}"
   ]
  },
  {
   "cell_type": "code",
   "execution_count": 132,
   "metadata": {},
   "outputs": [],
   "source": [
    "mystring = 'select a from a'\n",
    "for grammar in [DIRECTLY_SELF_REFERRING, INDIRECTLY_SELF_REFERRING]:\n",
    "    trees = EarleyParser(grammar).parse(mystring)\n",
    "    for tree in trees:\n",
    "        assert mystring == tree_to_string(tree)\n",
    "        display_tree(tree)"
   ]
  },
  {
   "cell_type": "markdown",
   "metadata": {
    "slideshow": {
     "slide_type": "subslide"
    }
   },
   "source": [
    "### More Earley Parsing\n",
    "\n",
    "A number of other optimizations exist for Earley parsers. A fast industrial strength Earley parser implementation is the [Marpa parser](https://jeffreykegler.github.io/Marpa-web-site/). Further, Earley parsing need not be restricted to character data. One may also parse streams (audio and video streams) \\cite{qi2018generalized} using a generalized Earley parser."
   ]
  },
  {
   "cell_type": "markdown",
   "metadata": {
    "slideshow": {
     "slide_type": "slide"
    }
   },
   "source": [
    "## Testing the Parsers\n",
    "\n",
    "While we have defined two parser variants, it would be nice to have some confirmation that our parses work well. While it is possible to formally prove that they work, it is much more satisfying to generate random grammars, their corresponding strings, and parse them using the same grammar."
   ]
  },
  {
   "cell_type": "code",
   "execution_count": 133,
   "metadata": {
    "slideshow": {
     "slide_type": "subslide"
    }
   },
   "outputs": [],
   "source": [
    "def prod_line_grammar(nonterminals, terminals):\n",
    "    g = {\n",
    "        '<start>': ['<symbols>'],\n",
    "        '<symbols>': ['<symbol><symbols>', '<symbol>'],\n",
    "        '<symbol>': ['<nonterminals>', '<terminals>'],\n",
    "        '<nonterminals>': ['<lt><alpha><gt>'],\n",
    "        '<lt>': ['<'],\n",
    "        '<gt>': ['>'],\n",
    "        '<alpha>': nonterminals,\n",
    "        '<terminals>': terminals\n",
    "    }\n",
    "\n",
    "    if not nonterminals:\n",
    "        g['<nonterminals>'] = ['']\n",
    "        del g['<lt>']\n",
    "        del g['<alpha>']\n",
    "        del g['<gt>']\n",
    "\n",
    "    return g"
   ]
  },
  {
   "cell_type": "code",
   "execution_count": 134,
   "metadata": {
    "slideshow": {
     "slide_type": "subslide"
    }
   },
   "outputs": [
    {
     "name": "stdout",
     "output_type": "stream",
     "text": [
      "start\n"
     ]
    },
    {
     "data": {
      "image/svg+xml": [
       "<svg class=\"railroad-diagram\" height=\"62\" viewBox=\"0 0 199.5 62\" width=\"199.5\" xmlns=\"http://www.w3.org/2000/svg\">\n",
       "<g transform=\"translate(.5 .5)\">\n",
       "<style>/* <![CDATA[ */\n",
       "    svg.railroad-diagram {\n",
       "        background-color:hsl(100,100%,100%);\n",
       "    }\n",
       "    svg.railroad-diagram path {\n",
       "        stroke-width:3;\n",
       "        stroke:black;\n",
       "        fill:rgba(0,0,0,0);\n",
       "    }\n",
       "    svg.railroad-diagram text {\n",
       "        font:bold 14px monospace;\n",
       "        text-anchor:middle;\n",
       "    }\n",
       "    svg.railroad-diagram text.label{\n",
       "        text-anchor:start;\n",
       "    }\n",
       "    svg.railroad-diagram text.comment{\n",
       "        font:italic 12px monospace;\n",
       "    }\n",
       "    svg.railroad-diagram rect{\n",
       "        stroke-width:3;\n",
       "        stroke:black;\n",
       "        fill:hsl(0,62%,82%);\n",
       "    }\n",
       "\n",
       "/* ]]> */\n",
       "</style><g>\n",
       "<path d=\"M20 21v20m10 -20v20m-10 -10h20\"/></g><g>\n",
       "<path d=\"M40 31h0.0\"/><path d=\"M159.5 31h0.0\"/><path d=\"M40.0 31h20\"/><g>\n",
       "<path d=\"M60.0 31h0.0\"/><path d=\"M139.5 31h0.0\"/><g class=\"non-terminal\">\n",
       "<path d=\"M60.0 31h0.0\"/><path d=\"M139.5 31h0.0\"/><rect height=\"22\" width=\"79.5\" x=\"60.0\" y=\"20\"/><text x=\"99.75\" y=\"35\">symbols</text></g></g><path d=\"M139.5 31h20\"/></g><path d=\"M 159.5 31 h 20 m -10 -10 v 20 m 10 -20 v 20\"/></g></svg>"
      ],
      "text/plain": [
       "<IPython.core.display.SVG object>"
      ]
     },
     "metadata": {},
     "output_type": "display_data"
    },
    {
     "name": "stdout",
     "output_type": "stream",
     "text": [
      "symbols\n"
     ]
    },
    {
     "data": {
      "image/svg+xml": [
       "<svg class=\"railroad-diagram\" height=\"92\" viewBox=\"0 0 290.5 92\" width=\"290.5\" xmlns=\"http://www.w3.org/2000/svg\">\n",
       "<g transform=\"translate(.5 .5)\">\n",
       "<style>/* <![CDATA[ */\n",
       "    svg.railroad-diagram {\n",
       "        background-color:hsl(100,100%,100%);\n",
       "    }\n",
       "    svg.railroad-diagram path {\n",
       "        stroke-width:3;\n",
       "        stroke:black;\n",
       "        fill:rgba(0,0,0,0);\n",
       "    }\n",
       "    svg.railroad-diagram text {\n",
       "        font:bold 14px monospace;\n",
       "        text-anchor:middle;\n",
       "    }\n",
       "    svg.railroad-diagram text.label{\n",
       "        text-anchor:start;\n",
       "    }\n",
       "    svg.railroad-diagram text.comment{\n",
       "        font:italic 12px monospace;\n",
       "    }\n",
       "    svg.railroad-diagram rect{\n",
       "        stroke-width:3;\n",
       "        stroke:black;\n",
       "        fill:hsl(0,62%,82%);\n",
       "    }\n",
       "\n",
       "/* ]]> */\n",
       "</style><g>\n",
       "<path d=\"M20 51v20m10 -20v20m-10 -10h20\"/></g><g>\n",
       "<path d=\"M40 61h0.0\"/><path d=\"M250.5 61h0.0\"/><path d=\"M40.0 61a10 10 0 0 0 10 -10v-10a10 10 0 0 1 10 -10\"/><g>\n",
       "<path d=\"M60.0 31h0.0\"/><path d=\"M230.5 31h0.0\"/><g class=\"non-terminal\">\n",
       "<path d=\"M60.0 31h0.0\"/><path d=\"M131.0 31h0.0\"/><rect height=\"22\" width=\"71.0\" x=\"60.0\" y=\"20\"/><text x=\"95.5\" y=\"35\">symbol</text></g><path d=\"M131.0 31h10\"/><path d=\"M141.0 31h10\"/><g class=\"non-terminal\">\n",
       "<path d=\"M151.0 31h0.0\"/><path d=\"M230.5 31h0.0\"/><rect height=\"22\" width=\"79.5\" x=\"151.0\" y=\"20\"/><text x=\"190.75\" y=\"35\">symbols</text></g></g><path d=\"M230.5 31a10 10 0 0 1 10 10v10a10 10 0 0 0 10 10\"/><path d=\"M40.0 61h20\"/><g>\n",
       "<path d=\"M60.0 61h49.75\"/><path d=\"M180.75 61h49.75\"/><g class=\"non-terminal\">\n",
       "<path d=\"M109.75 61h0.0\"/><path d=\"M180.75 61h0.0\"/><rect height=\"22\" width=\"71.0\" x=\"109.75\" y=\"50\"/><text x=\"145.25\" y=\"65\">symbol</text></g></g><path d=\"M230.5 61h20\"/></g><path d=\"M 250.5 61 h 20 m -10 -10 v 20 m 10 -20 v 20\"/></g></svg>"
      ],
      "text/plain": [
       "<IPython.core.display.SVG object>"
      ]
     },
     "metadata": {},
     "output_type": "display_data"
    },
    {
     "name": "stdout",
     "output_type": "stream",
     "text": [
      "symbol\n"
     ]
    },
    {
     "data": {
      "image/svg+xml": [
       "<svg class=\"railroad-diagram\" height=\"92\" viewBox=\"0 0 242.0 92\" width=\"242.0\" xmlns=\"http://www.w3.org/2000/svg\">\n",
       "<g transform=\"translate(.5 .5)\">\n",
       "<style>/* <![CDATA[ */\n",
       "    svg.railroad-diagram {\n",
       "        background-color:hsl(100,100%,100%);\n",
       "    }\n",
       "    svg.railroad-diagram path {\n",
       "        stroke-width:3;\n",
       "        stroke:black;\n",
       "        fill:rgba(0,0,0,0);\n",
       "    }\n",
       "    svg.railroad-diagram text {\n",
       "        font:bold 14px monospace;\n",
       "        text-anchor:middle;\n",
       "    }\n",
       "    svg.railroad-diagram text.label{\n",
       "        text-anchor:start;\n",
       "    }\n",
       "    svg.railroad-diagram text.comment{\n",
       "        font:italic 12px monospace;\n",
       "    }\n",
       "    svg.railroad-diagram rect{\n",
       "        stroke-width:3;\n",
       "        stroke:black;\n",
       "        fill:hsl(0,62%,82%);\n",
       "    }\n",
       "\n",
       "/* ]]> */\n",
       "</style><g>\n",
       "<path d=\"M20 51v20m10 -20v20m-10 -10h20\"/></g><g>\n",
       "<path d=\"M40 61h0.0\"/><path d=\"M202.0 61h0.0\"/><path d=\"M40.0 61a10 10 0 0 0 10 -10v-10a10 10 0 0 1 10 -10\"/><g>\n",
       "<path d=\"M60.0 31h0.0\"/><path d=\"M182.0 31h0.0\"/><g class=\"non-terminal\">\n",
       "<path d=\"M60.0 31h0.0\"/><path d=\"M182.0 31h0.0\"/><rect height=\"22\" width=\"122.0\" x=\"60.0\" y=\"20\"/><text x=\"121.0\" y=\"35\">nonterminals</text></g></g><path d=\"M182.0 31a10 10 0 0 1 10 10v10a10 10 0 0 0 10 10\"/><path d=\"M40.0 61h20\"/><g>\n",
       "<path d=\"M60.0 61h12.75\"/><path d=\"M169.25 61h12.75\"/><g class=\"non-terminal\">\n",
       "<path d=\"M72.75 61h0.0\"/><path d=\"M169.25 61h0.0\"/><rect height=\"22\" width=\"96.5\" x=\"72.75\" y=\"50\"/><text x=\"121.0\" y=\"65\">terminals</text></g></g><path d=\"M182.0 61h20\"/></g><path d=\"M 202.0 61 h 20 m -10 -10 v 20 m 10 -20 v 20\"/></g></svg>"
      ],
      "text/plain": [
       "<IPython.core.display.SVG object>"
      ]
     },
     "metadata": {},
     "output_type": "display_data"
    },
    {
     "name": "stdout",
     "output_type": "stream",
     "text": [
      "nonterminals\n"
     ]
    },
    {
     "data": {
      "image/svg+xml": [
       "<svg class=\"railroad-diagram\" height=\"62\" viewBox=\"0 0 296.5 62\" width=\"296.5\" xmlns=\"http://www.w3.org/2000/svg\">\n",
       "<g transform=\"translate(.5 .5)\">\n",
       "<style>/* <![CDATA[ */\n",
       "    svg.railroad-diagram {\n",
       "        background-color:hsl(100,100%,100%);\n",
       "    }\n",
       "    svg.railroad-diagram path {\n",
       "        stroke-width:3;\n",
       "        stroke:black;\n",
       "        fill:rgba(0,0,0,0);\n",
       "    }\n",
       "    svg.railroad-diagram text {\n",
       "        font:bold 14px monospace;\n",
       "        text-anchor:middle;\n",
       "    }\n",
       "    svg.railroad-diagram text.label{\n",
       "        text-anchor:start;\n",
       "    }\n",
       "    svg.railroad-diagram text.comment{\n",
       "        font:italic 12px monospace;\n",
       "    }\n",
       "    svg.railroad-diagram rect{\n",
       "        stroke-width:3;\n",
       "        stroke:black;\n",
       "        fill:hsl(0,62%,82%);\n",
       "    }\n",
       "\n",
       "/* ]]> */\n",
       "</style><g>\n",
       "<path d=\"M20 21v20m10 -20v20m-10 -10h20\"/></g><g>\n",
       "<path d=\"M40 31h0.0\"/><path d=\"M256.5 31h0.0\"/><path d=\"M40.0 31h20\"/><g>\n",
       "<path d=\"M60.0 31h0.0\"/><path d=\"M236.5 31h0.0\"/><g class=\"non-terminal\">\n",
       "<path d=\"M60.0 31h0.0\"/><path d=\"M97.0 31h0.0\"/><rect height=\"22\" width=\"37.0\" x=\"60.0\" y=\"20\"/><text x=\"78.5\" y=\"35\">lt</text></g><path d=\"M97.0 31h10\"/><path d=\"M107.0 31h10\"/><g class=\"non-terminal\">\n",
       "<path d=\"M117.0 31h0.0\"/><path d=\"M179.5 31h0.0\"/><rect height=\"22\" width=\"62.5\" x=\"117.0\" y=\"20\"/><text x=\"148.25\" y=\"35\">alpha</text></g><path d=\"M179.5 31h10\"/><path d=\"M189.5 31h10\"/><g class=\"non-terminal\">\n",
       "<path d=\"M199.5 31h0.0\"/><path d=\"M236.5 31h0.0\"/><rect height=\"22\" width=\"37.0\" x=\"199.5\" y=\"20\"/><text x=\"218.0\" y=\"35\">gt</text></g></g><path d=\"M236.5 31h20\"/></g><path d=\"M 256.5 31 h 20 m -10 -10 v 20 m 10 -20 v 20\"/></g></svg>"
      ],
      "text/plain": [
       "<IPython.core.display.SVG object>"
      ]
     },
     "metadata": {},
     "output_type": "display_data"
    },
    {
     "name": "stdout",
     "output_type": "stream",
     "text": [
      "lt\n"
     ]
    },
    {
     "data": {
      "image/svg+xml": [
       "<svg class=\"railroad-diagram\" height=\"62\" viewBox=\"0 0 148.5 62\" width=\"148.5\" xmlns=\"http://www.w3.org/2000/svg\">\n",
       "<g transform=\"translate(.5 .5)\">\n",
       "<style>/* <![CDATA[ */\n",
       "    svg.railroad-diagram {\n",
       "        background-color:hsl(100,100%,100%);\n",
       "    }\n",
       "    svg.railroad-diagram path {\n",
       "        stroke-width:3;\n",
       "        stroke:black;\n",
       "        fill:rgba(0,0,0,0);\n",
       "    }\n",
       "    svg.railroad-diagram text {\n",
       "        font:bold 14px monospace;\n",
       "        text-anchor:middle;\n",
       "    }\n",
       "    svg.railroad-diagram text.label{\n",
       "        text-anchor:start;\n",
       "    }\n",
       "    svg.railroad-diagram text.comment{\n",
       "        font:italic 12px monospace;\n",
       "    }\n",
       "    svg.railroad-diagram rect{\n",
       "        stroke-width:3;\n",
       "        stroke:black;\n",
       "        fill:hsl(0,62%,82%);\n",
       "    }\n",
       "\n",
       "/* ]]> */\n",
       "</style><g>\n",
       "<path d=\"M20 21v20m10 -20v20m-10 -10h20\"/></g><g>\n",
       "<path d=\"M40 31h0.0\"/><path d=\"M108.5 31h0.0\"/><path d=\"M40.0 31h20\"/><g>\n",
       "<path d=\"M60.0 31h0.0\"/><path d=\"M88.5 31h0.0\"/><g class=\"terminal\">\n",
       "<path d=\"M60.0 31h0.0\"/><path d=\"M88.5 31h0.0\"/><rect height=\"22\" rx=\"10\" ry=\"10\" width=\"28.5\" x=\"60.0\" y=\"20\"/><text x=\"74.25\" y=\"35\">&lt;</text></g></g><path d=\"M88.5 31h20\"/></g><path d=\"M 108.5 31 h 20 m -10 -10 v 20 m 10 -20 v 20\"/></g></svg>"
      ],
      "text/plain": [
       "<IPython.core.display.SVG object>"
      ]
     },
     "metadata": {},
     "output_type": "display_data"
    },
    {
     "name": "stdout",
     "output_type": "stream",
     "text": [
      "gt\n"
     ]
    },
    {
     "data": {
      "image/svg+xml": [
       "<svg class=\"railroad-diagram\" height=\"62\" viewBox=\"0 0 148.5 62\" width=\"148.5\" xmlns=\"http://www.w3.org/2000/svg\">\n",
       "<g transform=\"translate(.5 .5)\">\n",
       "<style>/* <![CDATA[ */\n",
       "    svg.railroad-diagram {\n",
       "        background-color:hsl(100,100%,100%);\n",
       "    }\n",
       "    svg.railroad-diagram path {\n",
       "        stroke-width:3;\n",
       "        stroke:black;\n",
       "        fill:rgba(0,0,0,0);\n",
       "    }\n",
       "    svg.railroad-diagram text {\n",
       "        font:bold 14px monospace;\n",
       "        text-anchor:middle;\n",
       "    }\n",
       "    svg.railroad-diagram text.label{\n",
       "        text-anchor:start;\n",
       "    }\n",
       "    svg.railroad-diagram text.comment{\n",
       "        font:italic 12px monospace;\n",
       "    }\n",
       "    svg.railroad-diagram rect{\n",
       "        stroke-width:3;\n",
       "        stroke:black;\n",
       "        fill:hsl(0,62%,82%);\n",
       "    }\n",
       "\n",
       "/* ]]> */\n",
       "</style><g>\n",
       "<path d=\"M20 21v20m10 -20v20m-10 -10h20\"/></g><g>\n",
       "<path d=\"M40 31h0.0\"/><path d=\"M108.5 31h0.0\"/><path d=\"M40.0 31h20\"/><g>\n",
       "<path d=\"M60.0 31h0.0\"/><path d=\"M88.5 31h0.0\"/><g class=\"terminal\">\n",
       "<path d=\"M60.0 31h0.0\"/><path d=\"M88.5 31h0.0\"/><rect height=\"22\" rx=\"10\" ry=\"10\" width=\"28.5\" x=\"60.0\" y=\"20\"/><text x=\"74.25\" y=\"35\">&gt;</text></g></g><path d=\"M88.5 31h20\"/></g><path d=\"M 108.5 31 h 20 m -10 -10 v 20 m 10 -20 v 20\"/></g></svg>"
      ],
      "text/plain": [
       "<IPython.core.display.SVG object>"
      ]
     },
     "metadata": {},
     "output_type": "display_data"
    },
    {
     "name": "stdout",
     "output_type": "stream",
     "text": [
      "alpha\n"
     ]
    },
    {
     "data": {
      "image/svg+xml": [
       "<svg class=\"railroad-diagram\" height=\"122\" viewBox=\"0 0 148.5 122\" width=\"148.5\" xmlns=\"http://www.w3.org/2000/svg\">\n",
       "<g transform=\"translate(.5 .5)\">\n",
       "<style>/* <![CDATA[ */\n",
       "    svg.railroad-diagram {\n",
       "        background-color:hsl(100,100%,100%);\n",
       "    }\n",
       "    svg.railroad-diagram path {\n",
       "        stroke-width:3;\n",
       "        stroke:black;\n",
       "        fill:rgba(0,0,0,0);\n",
       "    }\n",
       "    svg.railroad-diagram text {\n",
       "        font:bold 14px monospace;\n",
       "        text-anchor:middle;\n",
       "    }\n",
       "    svg.railroad-diagram text.label{\n",
       "        text-anchor:start;\n",
       "    }\n",
       "    svg.railroad-diagram text.comment{\n",
       "        font:italic 12px monospace;\n",
       "    }\n",
       "    svg.railroad-diagram rect{\n",
       "        stroke-width:3;\n",
       "        stroke:black;\n",
       "        fill:hsl(0,62%,82%);\n",
       "    }\n",
       "\n",
       "/* ]]> */\n",
       "</style><g>\n",
       "<path d=\"M20 51v20m10 -20v20m-10 -10h20\"/></g><g>\n",
       "<path d=\"M40 61h0.0\"/><path d=\"M108.5 61h0.0\"/><path d=\"M40.0 61a10 10 0 0 0 10 -10v-10a10 10 0 0 1 10 -10\"/><g>\n",
       "<path d=\"M60.0 31h0.0\"/><path d=\"M88.5 31h0.0\"/><g class=\"terminal\">\n",
       "<path d=\"M60.0 31h0.0\"/><path d=\"M88.5 31h0.0\"/><rect height=\"22\" rx=\"10\" ry=\"10\" width=\"28.5\" x=\"60.0\" y=\"20\"/><text x=\"74.25\" y=\"35\">A</text></g></g><path d=\"M88.5 31a10 10 0 0 1 10 10v10a10 10 0 0 0 10 10\"/><path d=\"M40.0 61h20\"/><g>\n",
       "<path d=\"M60.0 61h0.0\"/><path d=\"M88.5 61h0.0\"/><g class=\"terminal\">\n",
       "<path d=\"M60.0 61h0.0\"/><path d=\"M88.5 61h0.0\"/><rect height=\"22\" rx=\"10\" ry=\"10\" width=\"28.5\" x=\"60.0\" y=\"50\"/><text x=\"74.25\" y=\"65\">B</text></g></g><path d=\"M88.5 61h20\"/><path d=\"M40.0 61a10 10 0 0 1 10 10v10a10 10 0 0 0 10 10\"/><g>\n",
       "<path d=\"M60.0 91h0.0\"/><path d=\"M88.5 91h0.0\"/><g class=\"terminal\">\n",
       "<path d=\"M60.0 91h0.0\"/><path d=\"M88.5 91h0.0\"/><rect height=\"22\" rx=\"10\" ry=\"10\" width=\"28.5\" x=\"60.0\" y=\"80\"/><text x=\"74.25\" y=\"95\">C</text></g></g><path d=\"M88.5 91a10 10 0 0 0 10 -10v-10a10 10 0 0 1 10 -10\"/></g><path d=\"M 108.5 61 h 20 m -10 -10 v 20 m 10 -20 v 20\"/></g></svg>"
      ],
      "text/plain": [
       "<IPython.core.display.SVG object>"
      ]
     },
     "metadata": {},
     "output_type": "display_data"
    },
    {
     "name": "stdout",
     "output_type": "stream",
     "text": [
      "terminals\n"
     ]
    },
    {
     "data": {
      "image/svg+xml": [
       "<svg class=\"railroad-diagram\" height=\"122\" viewBox=\"0 0 148.5 122\" width=\"148.5\" xmlns=\"http://www.w3.org/2000/svg\">\n",
       "<g transform=\"translate(.5 .5)\">\n",
       "<style>/* <![CDATA[ */\n",
       "    svg.railroad-diagram {\n",
       "        background-color:hsl(100,100%,100%);\n",
       "    }\n",
       "    svg.railroad-diagram path {\n",
       "        stroke-width:3;\n",
       "        stroke:black;\n",
       "        fill:rgba(0,0,0,0);\n",
       "    }\n",
       "    svg.railroad-diagram text {\n",
       "        font:bold 14px monospace;\n",
       "        text-anchor:middle;\n",
       "    }\n",
       "    svg.railroad-diagram text.label{\n",
       "        text-anchor:start;\n",
       "    }\n",
       "    svg.railroad-diagram text.comment{\n",
       "        font:italic 12px monospace;\n",
       "    }\n",
       "    svg.railroad-diagram rect{\n",
       "        stroke-width:3;\n",
       "        stroke:black;\n",
       "        fill:hsl(0,62%,82%);\n",
       "    }\n",
       "\n",
       "/* ]]> */\n",
       "</style><g>\n",
       "<path d=\"M20 51v20m10 -20v20m-10 -10h20\"/></g><g>\n",
       "<path d=\"M40 61h0.0\"/><path d=\"M108.5 61h0.0\"/><path d=\"M40.0 61a10 10 0 0 0 10 -10v-10a10 10 0 0 1 10 -10\"/><g>\n",
       "<path d=\"M60.0 31h0.0\"/><path d=\"M88.5 31h0.0\"/><g class=\"terminal\">\n",
       "<path d=\"M60.0 31h0.0\"/><path d=\"M88.5 31h0.0\"/><rect height=\"22\" rx=\"10\" ry=\"10\" width=\"28.5\" x=\"60.0\" y=\"20\"/><text x=\"74.25\" y=\"35\">1</text></g></g><path d=\"M88.5 31a10 10 0 0 1 10 10v10a10 10 0 0 0 10 10\"/><path d=\"M40.0 61h20\"/><g>\n",
       "<path d=\"M60.0 61h0.0\"/><path d=\"M88.5 61h0.0\"/><g class=\"terminal\">\n",
       "<path d=\"M60.0 61h0.0\"/><path d=\"M88.5 61h0.0\"/><rect height=\"22\" rx=\"10\" ry=\"10\" width=\"28.5\" x=\"60.0\" y=\"50\"/><text x=\"74.25\" y=\"65\">2</text></g></g><path d=\"M88.5 61h20\"/><path d=\"M40.0 61a10 10 0 0 1 10 10v10a10 10 0 0 0 10 10\"/><g>\n",
       "<path d=\"M60.0 91h0.0\"/><path d=\"M88.5 91h0.0\"/><g class=\"terminal\">\n",
       "<path d=\"M60.0 91h0.0\"/><path d=\"M88.5 91h0.0\"/><rect height=\"22\" rx=\"10\" ry=\"10\" width=\"28.5\" x=\"60.0\" y=\"80\"/><text x=\"74.25\" y=\"95\">3</text></g></g><path d=\"M88.5 91a10 10 0 0 0 10 -10v-10a10 10 0 0 1 10 -10\"/></g><path d=\"M 108.5 61 h 20 m -10 -10 v 20 m 10 -20 v 20\"/></g></svg>"
      ],
      "text/plain": [
       "<IPython.core.display.SVG object>"
      ]
     },
     "metadata": {},
     "output_type": "display_data"
    }
   ],
   "source": [
    "syntax_diagram(prod_line_grammar([\"A\", \"B\", \"C\"], [\"1\", \"2\", \"3\"]))"
   ]
  },
  {
   "cell_type": "code",
   "execution_count": 135,
   "metadata": {
    "slideshow": {
     "slide_type": "subslide"
    }
   },
   "outputs": [],
   "source": [
    "def make_rule(nonterminals, terminals, num_alts):\n",
    "    prod_grammar = prod_line_grammar(nonterminals, terminals)\n",
    "\n",
    "    gf = GrammarFuzzer(prod_grammar, min_nonterminals=3, max_nonterminals=5)\n",
    "    name = \"<%s>\" % ''.join(random.choices(string.ascii_uppercase, k=3))\n",
    "\n",
    "    return (name, [gf.fuzz() for _ in range(num_alts)])"
   ]
  },
  {
   "cell_type": "code",
   "execution_count": 136,
   "metadata": {
    "slideshow": {
     "slide_type": "fragment"
    }
   },
   "outputs": [
    {
     "data": {
      "text/plain": [
       "('<KWR>', ['<A><A>', '<B>12', '<A>11'])"
      ]
     },
     "execution_count": 136,
     "metadata": {},
     "output_type": "execute_result"
    }
   ],
   "source": [
    "make_rule([\"A\", \"B\", \"C\"], [\"1\", \"2\", \"3\"], 3)"
   ]
  },
  {
   "cell_type": "code",
   "execution_count": 138,
   "metadata": {},
   "outputs": [],
   "source": [
    "from Grammars import unreachable_nonterminals"
   ]
  },
  {
   "cell_type": "code",
   "execution_count": 140,
   "metadata": {
    "slideshow": {
     "slide_type": "subslide"
    }
   },
   "outputs": [],
   "source": [
    "def make_grammar(num_symbols=3, num_alts=3):\n",
    "    terminals = list(string.ascii_lowercase)\n",
    "    grammar = {}\n",
    "    name = None\n",
    "    for _ in range(num_symbols):\n",
    "        nonterminals = [k[1:-1] for k in grammar.keys()]\n",
    "        name, expansions = \\\n",
    "            make_rule(nonterminals, terminals, num_alts)\n",
    "        grammar[name] = expansions\n",
    "\n",
    "    grammar[START_SYMBOL] = [name]\n",
    "    \n",
    "    # Remove unused parts\n",
    "    for nonterminal in unreachable_nonterminals(grammar):\n",
    "        del grammar[nonterminal]\n",
    "    \n",
    "    assert is_valid_grammar(grammar)\n",
    "    \n",
    "    return grammar"
   ]
  },
  {
   "cell_type": "code",
   "execution_count": 141,
   "metadata": {
    "slideshow": {
     "slide_type": "subslide"
    }
   },
   "outputs": [
    {
     "data": {
      "text/plain": [
       "{'<YNK>': ['oxz', 'gh', 'm'],\n",
       " '<AGT>': ['m<YNK>fy', 'f<YNK>uv', '<YNK>aj'],\n",
       " '<XSJ>': ['<AGT>oy', 'y<YNK>gd', '<YNK>dk'],\n",
       " '<start>': ['<XSJ>']}"
      ]
     },
     "execution_count": 141,
     "metadata": {},
     "output_type": "execute_result"
    }
   ],
   "source": [
    "make_grammar()"
   ]
  },
  {
   "cell_type": "markdown",
   "metadata": {
    "slideshow": {
     "slide_type": "fragment"
    }
   },
   "source": [
    "Now we verify if our arbitrary grammars can be used by the Earley parser."
   ]
  },
  {
   "cell_type": "code",
   "execution_count": 142,
   "metadata": {
    "slideshow": {
     "slide_type": "subslide"
    }
   },
   "outputs": [
    {
     "name": "stdout",
     "output_type": "stream",
     "text": [
      "{'<HIT>': ['kk', '', 'c'], '<ROZ>': ['<HIT>gy', 'nyz', '<HIT>md'], '<start>': ['<ROZ>']}\n",
      "gy\n",
      "{'<YYM>': ['t', 'dw', 'gki'], '<TZU>': ['<YYM>rx', '<YYM>uix', '<YYM>j'], '<XUG>': ['<TZU>jvj', '<YYM>s', '<YYM>d'], '<start>': ['<XUG>']}\n",
      "ts\n",
      "{'<OAK>': ['d', 't', 'g'], '<VFU>': ['<OAK>ta', '<OAK>qy', '<OAK>m<OAK>b'], '<PIQ>': ['<VFU>ic', 'p<VFU>np', '<OAK>v'], '<start>': ['<PIQ>']}\n",
      "gv\n",
      "{'<DYN>': ['c', 'ff', 'w'], '<DNQ>': ['<DYN>eoa', '<DYN><DYN>', 'beu<DYN><DYN>'], '<XYW>': ['<DNQ>o', '<DYN>rx', '<DYN>k'], '<start>': ['<XYW>']}\n",
      "wrx\n",
      "{'<JPV>': ['rxx', 'knkbb', 'aq'], '<JSE>': ['c<JPV>i', 'oh<JPV><JPV><JPV>h', '<JPV><JPV>l'], '<JLL>': ['<JSE>qo', '<JSE>wx', '<JSE>hm'], '<start>': ['<JLL>']}\n",
      "rxxaqlqo\n"
     ]
    }
   ],
   "source": [
    "for i in range(5):\n",
    "    my_grammar = make_grammar()\n",
    "    print(my_grammar)\n",
    "    parser = EarleyParser(my_grammar)\n",
    "    mygf = GrammarFuzzer(my_grammar)\n",
    "    s = mygf.fuzz()\n",
    "    print(s)\n",
    "    for tree in parser.parse(s):\n",
    "        assert tree_to_string(tree) == s\n",
    "        display_tree(tree)"
   ]
  },
  {
   "cell_type": "markdown",
   "metadata": {
    "slideshow": {
     "slide_type": "subslide"
    }
   },
   "source": [
    "With this, we have completed both implementation and testing of *arbitrary* CFG, which can now be used along with `LangFuzzer` to generate better fuzzing inputs."
   ]
  },
  {
   "cell_type": "markdown",
   "metadata": {
    "slideshow": {
     "slide_type": "subslide"
    }
   },
   "source": [
    "## Background\n",
    "\n",
    "\n",
    "Numerous parsing techniques exist that can parse a given string using a\n",
    "given grammar, and produce corresponding derivation tree or trees. However,\n",
    "some of these techniques work only on specific classes of grammars.\n",
    "These classes of grammars are named after the specific kind of parser\n",
    "that can accept grammars of that category. That is, the upper bound for\n",
    "the capabilities of the parser defines the grammar class named after that\n",
    "parser.\n",
    "\n",
    "The *LL* and *LR* parsing are the main traditions in parsing. Here, *LL* means left-to-right, leftmost derivation, and it represents a top-down approach. On the other hand, and LR (left-to-right, rightmost derivation) represents a bottom-up approach. Another way to look at it is that LL parsers compute the derivation tree incrementally in *pre-order* while LR parsers compute the derivation tree in *post-order* \\cite{pingali2015graphical}).\n",
    "\n",
    "Different classes of grammars differ in the features that are available to\n",
    "the user for writing a grammar of that class. That is, the corresponding\n",
    "kind of parser will be unable to parse a grammar that makes use of more\n",
    "features than allowed. For example, the `A2_GRAMMAR` is an *LL*\n",
    "grammar because it lacks left recursion, while `A1_GRAMMAR` is not an\n",
    "*LL* grammar. This is because an *LL* parser parses\n",
    "its input from left to right, and constructs the leftmost derivation of its\n",
    "input by expanding the nonterminals it encounters. If there is a left\n",
    "recursion in one of these rules, an *LL* parser will enter an infinite loop.\n",
    "\n",
    "Similarly, a grammar is LL(k) if it can be parsed by an LL parser with k lookahead token, and LR(k) grammar can only be parsed with LR parser with at least k lookahead tokens. These grammars are interesting because both LL(k) and LR(k) grammars have $O(n)$ parsers, and can be used with relatively restricted computational budget compared to other grammars.\n",
    "\n",
    "The languages for which one can provide an *LL(k)* grammar is called *LL(k)* languages (where k is the minimum lookahead required). Similarly, *LR(k)* is defined as the set of languages that have an *LR(k)* grammar. In terms of languages, LL(k) $\\subset$ LL(k+1) and LL(k) $\\subset$ LR(k), and *LR(k)* $=$ *LR(1)*. All deterministic *CFLs* have an *LR(1)* grammar. However, there exist *CFLs* that are inherently ambiguous \\cite{ogden1968helpful}, and for these, one can't provide an *LR(1)* grammar.\n",
    "\n",
    "The other main parsing algorithms for *CFGs* are GLL \\cite{scott2010gll}, GLR \\cite{tomita1987efficient,tomita2012generalized}, and CYK \\cite{grune2008parsing}.\n",
    "The ALL(\\*) (used by ANTLR) on the other hand is a grammar representation that uses *Regular Expression* like predicates (similar to advanced PEGs – see [Exercise](#Exercise-3:-PEG-Predicates)) rather than a fixed lookahead. Hence, ALL(\\*) can accept a larger class of grammars than CFGs.\n",
    "\n",
    "In terms of computational limits of parsing, the main CFG parsers have a complexity of $O(n^3)$ for arbitrary grammars. However, parsing with arbitrary *CFG* is reducible to boolean matrix multiplication \\cite{Valiant1975} (and the reverse \\cite{Lee2002}). This is at present bounded by $O(2^{23728639}$)  \\cite{LeGall2014}. Hence, worse case complexity for parsing arbitrary CFG is likely to remain close to cubic.\n",
    "\n",
    "Regarding PEGs, the actual class of languages that is expressible in *PEG* is currently unknown. In particular, we know that *PEGs* can express certain languages such as $a^n b^n c^n$. However, we do not know if there exist *CFLs* that are not expressible with *PEGs*. In Section 2.3, we provided an instance of a counter-intuitive PEG grammar. While important for our purposes (we use grammars for generation of inputs) this is not a criticism of parsing with PEGs. PEG focuses on writing grammars for recognizing a given language, and not necessarily in interpreting what language an arbitrary PEG might yield. Given a Context-Free Language to parse, it is almost always possible to write a grammar for it in PEG, and given that 1) a PEG can parse any string in $O(n)$ time, and 2) at present we know of no CFL that can't be expressed as a PEG, and 3) compared with *LR* grammars, a PEG is often more intuitive because it allows top-down interpretation, when writing a parser for a language, PEGs should be under serious consideration."
   ]
  },
  {
   "cell_type": "markdown",
   "metadata": {},
   "source": [
    "## Synopsis\n",
    "\n",
    "This chapter introduces `Parser` classes, parsing a string into a _derivation tree_ as introduced in the [chapter on efficient grammar fuzzing](GrammarFuzzer.ipynb).  Two important parser classes are provided:\n",
    "\n",
    "* [Parsing Expression Grammar parsers](#Parsing-Expression-Grammars) (`PEGParser`), which are very efficient, but limited to specific grammar structure; and\n",
    "* [Earley parsers](#Parsing-Context-Free-Grammars) (`EarleyParser`), which accept any kind of context-free grammars.\n",
    "\n",
    "Using any of these is fairly easy, though.  First, instantiate them with a grammar:"
   ]
  },
  {
   "cell_type": "code",
   "execution_count": 143,
   "metadata": {},
   "outputs": [],
   "source": [
    "from Grammars import US_PHONE_GRAMMAR"
   ]
  },
  {
   "cell_type": "code",
   "execution_count": 144,
   "metadata": {},
   "outputs": [],
   "source": [
    "us_phone_parser = EarleyParser(US_PHONE_GRAMMAR)"
   ]
  },
  {
   "cell_type": "markdown",
   "metadata": {},
   "source": [
    "Then, use the `parse()` method to retrieve a list of possible derivation trees:"
   ]
  },
  {
   "cell_type": "code",
   "execution_count": 145,
   "metadata": {},
   "outputs": [
    {
     "data": {
      "image/svg+xml": [
       "<?xml version=\"1.0\" encoding=\"UTF-8\" standalone=\"no\"?>\n",
       "<!DOCTYPE svg PUBLIC \"-//W3C//DTD SVG 1.1//EN\"\n",
       " \"http://www.w3.org/Graphics/SVG/1.1/DTD/svg11.dtd\">\n",
       "<!-- Generated by graphviz version 2.40.1 (20161225.0304)\n",
       " -->\n",
       "<!-- Title: %3 Pages: 1 -->\n",
       "<svg width=\"646pt\" height=\"227pt\"\n",
       " viewBox=\"0.00 0.00 645.50 227.00\" xmlns=\"http://www.w3.org/2000/svg\" xmlns:xlink=\"http://www.w3.org/1999/xlink\">\n",
       "<g id=\"graph0\" class=\"graph\" transform=\"scale(1 1) rotate(0) translate(4 223)\">\n",
       "<title>%3</title>\n",
       "<polygon fill=\"#ffffff\" stroke=\"transparent\" points=\"-4,4 -4,-223 641.5,-223 641.5,4 -4,4\"/>\n",
       "<!-- 0 -->\n",
       "<g id=\"node1\" class=\"node\">\n",
       "<title>0</title>\n",
       "<text text-anchor=\"middle\" x=\"262.5\" y=\"-207.8\" font-family=\"Times,serif\" font-size=\"14.00\" fill=\"#000000\">&lt;start&gt;</text>\n",
       "</g>\n",
       "<!-- 1 -->\n",
       "<g id=\"node2\" class=\"node\">\n",
       "<title>1</title>\n",
       "<text text-anchor=\"middle\" x=\"262.5\" y=\"-156.8\" font-family=\"Times,serif\" font-size=\"14.00\" fill=\"#000000\">&lt;phone&#45;number&gt;</text>\n",
       "</g>\n",
       "<!-- 0&#45;&gt;1 -->\n",
       "<g id=\"edge1\" class=\"edge\">\n",
       "<title>0&#45;&gt;1</title>\n",
       "<path fill=\"none\" stroke=\"#000000\" d=\"M262.5,-203.9748C262.5,-197.195 262.5,-186.966 262.5,-178.1331\"/>\n",
       "<polygon fill=\"#000000\" stroke=\"#000000\" points=\"266.0001,-178.0561 262.5,-168.0561 259.0001,-178.0561 266.0001,-178.0561\"/>\n",
       "</g>\n",
       "<!-- 2 -->\n",
       "<g id=\"node3\" class=\"node\">\n",
       "<title>2</title>\n",
       "<text text-anchor=\"middle\" x=\"127.5\" y=\"-105.8\" font-family=\"Times,serif\" font-size=\"14.00\" fill=\"#000000\">(</text>\n",
       "</g>\n",
       "<!-- 1&#45;&gt;2 -->\n",
       "<g id=\"edge2\" class=\"edge\">\n",
       "<title>1&#45;&gt;2</title>\n",
       "<path fill=\"none\" stroke=\"#000000\" d=\"M235.9141,-152.9442C210.5368,-145.3061 171.5321,-132.4442 139.5,-117 139.2898,-116.8986 139.0786,-116.7945 138.8669,-116.6878\"/>\n",
       "<polygon fill=\"#000000\" stroke=\"#000000\" points=\"140.531,-113.6036 130.1668,-111.4047 136.8976,-119.5868 140.531,-113.6036\"/>\n",
       "</g>\n",
       "<!-- 3 -->\n",
       "<g id=\"node4\" class=\"node\">\n",
       "<title>3</title>\n",
       "<text text-anchor=\"middle\" x=\"168.5\" y=\"-105.8\" font-family=\"Times,serif\" font-size=\"14.00\" fill=\"#000000\">&lt;area&gt;</text>\n",
       "</g>\n",
       "<!-- 1&#45;&gt;3 -->\n",
       "<g id=\"edge3\" class=\"edge\">\n",
       "<title>1&#45;&gt;3</title>\n",
       "<path fill=\"none\" stroke=\"#000000\" d=\"M248.63,-152.9748C233.6346,-144.839 209.4849,-131.7365 191.6123,-122.0397\"/>\n",
       "<polygon fill=\"#000000\" stroke=\"#000000\" points=\"192.8857,-118.7486 182.4269,-117.0561 189.5475,-124.9014 192.8857,-118.7486\"/>\n",
       "</g>\n",
       "<!-- 10 -->\n",
       "<g id=\"node11\" class=\"node\">\n",
       "<title>10</title>\n",
       "<text text-anchor=\"middle\" x=\"235.5\" y=\"-105.8\" font-family=\"Times,serif\" font-size=\"14.00\" fill=\"#000000\">)</text>\n",
       "</g>\n",
       "<!-- 1&#45;&gt;10 -->\n",
       "<g id=\"edge10\" class=\"edge\">\n",
       "<title>1&#45;&gt;10</title>\n",
       "<path fill=\"none\" stroke=\"#000000\" d=\"M258.5161,-152.9748C254.3794,-145.1611 247.8174,-132.7662 242.7566,-123.2069\"/>\n",
       "<polygon fill=\"#000000\" stroke=\"#000000\" points=\"245.8123,-121.4982 238.0401,-114.298 239.6258,-124.7735 245.8123,-121.4982\"/>\n",
       "</g>\n",
       "<!-- 11 -->\n",
       "<g id=\"node12\" class=\"node\">\n",
       "<title>11</title>\n",
       "<text text-anchor=\"middle\" x=\"290.5\" y=\"-105.8\" font-family=\"Times,serif\" font-size=\"14.00\" fill=\"#000000\">&lt;exchange&gt;</text>\n",
       "</g>\n",
       "<!-- 1&#45;&gt;11 -->\n",
       "<g id=\"edge11\" class=\"edge\">\n",
       "<title>1&#45;&gt;11</title>\n",
       "<path fill=\"none\" stroke=\"#000000\" d=\"M266.6315,-152.9748C270.5192,-145.8936 276.4726,-135.05 281.4609,-125.9641\"/>\n",
       "<polygon fill=\"#000000\" stroke=\"#000000\" points=\"284.6069,-127.5063 286.3516,-117.0561 278.4709,-124.1375 284.6069,-127.5063\"/>\n",
       "</g>\n",
       "<!-- 18 -->\n",
       "<g id=\"node19\" class=\"node\">\n",
       "<title>18</title>\n",
       "<text text-anchor=\"middle\" x=\"345.5\" y=\"-105.8\" font-family=\"Times,serif\" font-size=\"14.00\" fill=\"#000000\">&#45;</text>\n",
       "</g>\n",
       "<!-- 1&#45;&gt;18 -->\n",
       "<g id=\"edge18\" class=\"edge\">\n",
       "<title>1&#45;&gt;18</title>\n",
       "<path fill=\"none\" stroke=\"#000000\" d=\"M274.8339,-152.9891C289.0119,-144.3445 312.9713,-129.7036 333.5,-117 333.6985,-116.8772 333.8987,-116.7532 334.1004,-116.6282\"/>\n",
       "<polygon fill=\"#000000\" stroke=\"#000000\" points=\"336.1106,-119.4993 342.7399,-111.2347 332.4037,-113.5614 336.1106,-119.4993\"/>\n",
       "</g>\n",
       "<!-- 19 -->\n",
       "<g id=\"node20\" class=\"node\">\n",
       "<title>19</title>\n",
       "<text text-anchor=\"middle\" x=\"496.5\" y=\"-105.8\" font-family=\"Times,serif\" font-size=\"14.00\" fill=\"#000000\">&lt;line&gt;</text>\n",
       "</g>\n",
       "<!-- 1&#45;&gt;19 -->\n",
       "<g id=\"edge19\" class=\"edge\">\n",
       "<title>1&#45;&gt;19</title>\n",
       "<path fill=\"none\" stroke=\"#000000\" d=\"M297.0275,-152.9748C343.4191,-142.8638 425.0081,-125.0816 468.0573,-115.6991\"/>\n",
       "<polygon fill=\"#000000\" stroke=\"#000000\" points=\"468.8532,-119.1078 477.8785,-113.5585 467.3625,-112.2684 468.8532,-119.1078\"/>\n",
       "</g>\n",
       "<!-- 4 -->\n",
       "<g id=\"node5\" class=\"node\">\n",
       "<title>4</title>\n",
       "<text text-anchor=\"middle\" x=\"34.5\" y=\"-54.8\" font-family=\"Times,serif\" font-size=\"14.00\" fill=\"#000000\">&lt;lead&#45;digit&gt;</text>\n",
       "</g>\n",
       "<!-- 3&#45;&gt;4 -->\n",
       "<g id=\"edge4\" class=\"edge\">\n",
       "<title>3&#45;&gt;4</title>\n",
       "<path fill=\"none\" stroke=\"#000000\" d=\"M148.7278,-101.9748C126.3619,-93.4624 89.7097,-79.5126 63.9685,-69.7156\"/>\n",
       "<polygon fill=\"#000000\" stroke=\"#000000\" points=\"64.9443,-66.3421 54.3533,-66.0561 62.4543,-72.8843 64.9443,-66.3421\"/>\n",
       "</g>\n",
       "<!-- 6 -->\n",
       "<g id=\"node7\" class=\"node\">\n",
       "<title>6</title>\n",
       "<text text-anchor=\"middle\" x=\"108.5\" y=\"-54.8\" font-family=\"Times,serif\" font-size=\"14.00\" fill=\"#000000\">&lt;digit&gt;</text>\n",
       "</g>\n",
       "<!-- 3&#45;&gt;6 -->\n",
       "<g id=\"edge6\" class=\"edge\">\n",
       "<title>3&#45;&gt;6</title>\n",
       "<path fill=\"none\" stroke=\"#000000\" d=\"M159.6468,-101.9748C150.6071,-94.291 136.3553,-82.177 125.1893,-72.6859\"/>\n",
       "<polygon fill=\"#000000\" stroke=\"#000000\" points=\"127.2757,-69.8658 117.3895,-66.0561 122.7422,-75.1994 127.2757,-69.8658\"/>\n",
       "</g>\n",
       "<!-- 8 -->\n",
       "<g id=\"node9\" class=\"node\">\n",
       "<title>8</title>\n",
       "<text text-anchor=\"middle\" x=\"168.5\" y=\"-54.8\" font-family=\"Times,serif\" font-size=\"14.00\" fill=\"#000000\">&lt;digit&gt;</text>\n",
       "</g>\n",
       "<!-- 3&#45;&gt;8 -->\n",
       "<g id=\"edge8\" class=\"edge\">\n",
       "<title>3&#45;&gt;8</title>\n",
       "<path fill=\"none\" stroke=\"#000000\" d=\"M168.5,-101.9748C168.5,-95.195 168.5,-84.966 168.5,-76.1331\"/>\n",
       "<polygon fill=\"#000000\" stroke=\"#000000\" points=\"172.0001,-76.0561 168.5,-66.0561 165.0001,-76.0561 172.0001,-76.0561\"/>\n",
       "</g>\n",
       "<!-- 5 -->\n",
       "<g id=\"node6\" class=\"node\">\n",
       "<title>5</title>\n",
       "<text text-anchor=\"middle\" x=\"34.5\" y=\"-3.8\" font-family=\"Times,serif\" font-size=\"14.00\" fill=\"#000000\">5</text>\n",
       "</g>\n",
       "<!-- 4&#45;&gt;5 -->\n",
       "<g id=\"edge5\" class=\"edge\">\n",
       "<title>4&#45;&gt;5</title>\n",
       "<path fill=\"none\" stroke=\"#000000\" d=\"M34.5,-50.9748C34.5,-44.195 34.5,-33.966 34.5,-25.1331\"/>\n",
       "<polygon fill=\"#000000\" stroke=\"#000000\" points=\"38.0001,-25.0561 34.5,-15.0561 31.0001,-25.0561 38.0001,-25.0561\"/>\n",
       "</g>\n",
       "<!-- 7 -->\n",
       "<g id=\"node8\" class=\"node\">\n",
       "<title>7</title>\n",
       "<text text-anchor=\"middle\" x=\"108.5\" y=\"-3.8\" font-family=\"Times,serif\" font-size=\"14.00\" fill=\"#000000\">5</text>\n",
       "</g>\n",
       "<!-- 6&#45;&gt;7 -->\n",
       "<g id=\"edge7\" class=\"edge\">\n",
       "<title>6&#45;&gt;7</title>\n",
       "<path fill=\"none\" stroke=\"#000000\" d=\"M108.5,-50.9748C108.5,-44.195 108.5,-33.966 108.5,-25.1331\"/>\n",
       "<polygon fill=\"#000000\" stroke=\"#000000\" points=\"112.0001,-25.0561 108.5,-15.0561 105.0001,-25.0561 112.0001,-25.0561\"/>\n",
       "</g>\n",
       "<!-- 9 -->\n",
       "<g id=\"node10\" class=\"node\">\n",
       "<title>9</title>\n",
       "<text text-anchor=\"middle\" x=\"168.5\" y=\"-3.8\" font-family=\"Times,serif\" font-size=\"14.00\" fill=\"#000000\">5</text>\n",
       "</g>\n",
       "<!-- 8&#45;&gt;9 -->\n",
       "<g id=\"edge9\" class=\"edge\">\n",
       "<title>8&#45;&gt;9</title>\n",
       "<path fill=\"none\" stroke=\"#000000\" d=\"M168.5,-50.9748C168.5,-44.195 168.5,-33.966 168.5,-25.1331\"/>\n",
       "<polygon fill=\"#000000\" stroke=\"#000000\" points=\"172.0001,-25.0561 168.5,-15.0561 165.0001,-25.0561 172.0001,-25.0561\"/>\n",
       "</g>\n",
       "<!-- 12 -->\n",
       "<g id=\"node13\" class=\"node\">\n",
       "<title>12</title>\n",
       "<text text-anchor=\"middle\" x=\"242.5\" y=\"-54.8\" font-family=\"Times,serif\" font-size=\"14.00\" fill=\"#000000\">&lt;lead&#45;digit&gt;</text>\n",
       "</g>\n",
       "<!-- 11&#45;&gt;12 -->\n",
       "<g id=\"edge12\" class=\"edge\">\n",
       "<title>11&#45;&gt;12</title>\n",
       "<path fill=\"none\" stroke=\"#000000\" d=\"M283.4174,-101.9748C276.3983,-94.517 265.4513,-82.8857 256.6459,-73.53\"/>\n",
       "<polygon fill=\"#000000\" stroke=\"#000000\" points=\"259.014,-70.9393 249.6116,-66.0561 253.9166,-75.7369 259.014,-70.9393\"/>\n",
       "</g>\n",
       "<!-- 14 -->\n",
       "<g id=\"node15\" class=\"node\">\n",
       "<title>14</title>\n",
       "<text text-anchor=\"middle\" x=\"316.5\" y=\"-54.8\" font-family=\"Times,serif\" font-size=\"14.00\" fill=\"#000000\">&lt;digit&gt;</text>\n",
       "</g>\n",
       "<!-- 11&#45;&gt;14 -->\n",
       "<g id=\"edge14\" class=\"edge\">\n",
       "<title>11&#45;&gt;14</title>\n",
       "<path fill=\"none\" stroke=\"#000000\" d=\"M294.3364,-101.9748C297.908,-94.969 303.3571,-84.2803 307.9584,-75.2547\"/>\n",
       "<polygon fill=\"#000000\" stroke=\"#000000\" points=\"311.2241,-76.5548 312.6479,-66.0561 304.9878,-73.3755 311.2241,-76.5548\"/>\n",
       "</g>\n",
       "<!-- 16 -->\n",
       "<g id=\"node17\" class=\"node\">\n",
       "<title>16</title>\n",
       "<text text-anchor=\"middle\" x=\"376.5\" y=\"-54.8\" font-family=\"Times,serif\" font-size=\"14.00\" fill=\"#000000\">&lt;digit&gt;</text>\n",
       "</g>\n",
       "<!-- 11&#45;&gt;16 -->\n",
       "<g id=\"edge16\" class=\"edge\">\n",
       "<title>11&#45;&gt;16</title>\n",
       "<path fill=\"none\" stroke=\"#000000\" d=\"M303.1896,-101.9748C316.7817,-93.9143 338.5948,-80.9787 354.899,-71.3099\"/>\n",
       "<polygon fill=\"#000000\" stroke=\"#000000\" points=\"356.9423,-74.1674 363.7583,-66.0561 353.3718,-68.1465 356.9423,-74.1674\"/>\n",
       "</g>\n",
       "<!-- 13 -->\n",
       "<g id=\"node14\" class=\"node\">\n",
       "<title>13</title>\n",
       "<text text-anchor=\"middle\" x=\"242.5\" y=\"-3.8\" font-family=\"Times,serif\" font-size=\"14.00\" fill=\"#000000\">9</text>\n",
       "</g>\n",
       "<!-- 12&#45;&gt;13 -->\n",
       "<g id=\"edge13\" class=\"edge\">\n",
       "<title>12&#45;&gt;13</title>\n",
       "<path fill=\"none\" stroke=\"#000000\" d=\"M242.5,-50.9748C242.5,-44.195 242.5,-33.966 242.5,-25.1331\"/>\n",
       "<polygon fill=\"#000000\" stroke=\"#000000\" points=\"246.0001,-25.0561 242.5,-15.0561 239.0001,-25.0561 246.0001,-25.0561\"/>\n",
       "</g>\n",
       "<!-- 15 -->\n",
       "<g id=\"node16\" class=\"node\">\n",
       "<title>15</title>\n",
       "<text text-anchor=\"middle\" x=\"316.5\" y=\"-3.8\" font-family=\"Times,serif\" font-size=\"14.00\" fill=\"#000000\">8</text>\n",
       "</g>\n",
       "<!-- 14&#45;&gt;15 -->\n",
       "<g id=\"edge15\" class=\"edge\">\n",
       "<title>14&#45;&gt;15</title>\n",
       "<path fill=\"none\" stroke=\"#000000\" d=\"M316.5,-50.9748C316.5,-44.195 316.5,-33.966 316.5,-25.1331\"/>\n",
       "<polygon fill=\"#000000\" stroke=\"#000000\" points=\"320.0001,-25.0561 316.5,-15.0561 313.0001,-25.0561 320.0001,-25.0561\"/>\n",
       "</g>\n",
       "<!-- 17 -->\n",
       "<g id=\"node18\" class=\"node\">\n",
       "<title>17</title>\n",
       "<text text-anchor=\"middle\" x=\"376.5\" y=\"-3.8\" font-family=\"Times,serif\" font-size=\"14.00\" fill=\"#000000\">7</text>\n",
       "</g>\n",
       "<!-- 16&#45;&gt;17 -->\n",
       "<g id=\"edge17\" class=\"edge\">\n",
       "<title>16&#45;&gt;17</title>\n",
       "<path fill=\"none\" stroke=\"#000000\" d=\"M376.5,-50.9748C376.5,-44.195 376.5,-33.966 376.5,-25.1331\"/>\n",
       "<polygon fill=\"#000000\" stroke=\"#000000\" points=\"380.0001,-25.0561 376.5,-15.0561 373.0001,-25.0561 380.0001,-25.0561\"/>\n",
       "</g>\n",
       "<!-- 20 -->\n",
       "<g id=\"node21\" class=\"node\">\n",
       "<title>20</title>\n",
       "<text text-anchor=\"middle\" x=\"436.5\" y=\"-54.8\" font-family=\"Times,serif\" font-size=\"14.00\" fill=\"#000000\">&lt;digit&gt;</text>\n",
       "</g>\n",
       "<!-- 19&#45;&gt;20 -->\n",
       "<g id=\"edge20\" class=\"edge\">\n",
       "<title>19&#45;&gt;20</title>\n",
       "<path fill=\"none\" stroke=\"#000000\" d=\"M487.6468,-101.9748C478.6071,-94.291 464.3553,-82.177 453.1893,-72.6859\"/>\n",
       "<polygon fill=\"#000000\" stroke=\"#000000\" points=\"455.2757,-69.8658 445.3895,-66.0561 450.7422,-75.1994 455.2757,-69.8658\"/>\n",
       "</g>\n",
       "<!-- 22 -->\n",
       "<g id=\"node23\" class=\"node\">\n",
       "<title>22</title>\n",
       "<text text-anchor=\"middle\" x=\"496.5\" y=\"-54.8\" font-family=\"Times,serif\" font-size=\"14.00\" fill=\"#000000\">&lt;digit&gt;</text>\n",
       "</g>\n",
       "<!-- 19&#45;&gt;22 -->\n",
       "<g id=\"edge22\" class=\"edge\">\n",
       "<title>19&#45;&gt;22</title>\n",
       "<path fill=\"none\" stroke=\"#000000\" d=\"M496.5,-101.9748C496.5,-95.195 496.5,-84.966 496.5,-76.1331\"/>\n",
       "<polygon fill=\"#000000\" stroke=\"#000000\" points=\"500.0001,-76.0561 496.5,-66.0561 493.0001,-76.0561 500.0001,-76.0561\"/>\n",
       "</g>\n",
       "<!-- 24 -->\n",
       "<g id=\"node25\" class=\"node\">\n",
       "<title>24</title>\n",
       "<text text-anchor=\"middle\" x=\"556.5\" y=\"-54.8\" font-family=\"Times,serif\" font-size=\"14.00\" fill=\"#000000\">&lt;digit&gt;</text>\n",
       "</g>\n",
       "<!-- 19&#45;&gt;24 -->\n",
       "<g id=\"edge24\" class=\"edge\">\n",
       "<title>19&#45;&gt;24</title>\n",
       "<path fill=\"none\" stroke=\"#000000\" d=\"M505.3532,-101.9748C514.3929,-94.291 528.6447,-82.177 539.8107,-72.6859\"/>\n",
       "<polygon fill=\"#000000\" stroke=\"#000000\" points=\"542.2578,-75.1994 547.6105,-66.0561 537.7243,-69.8658 542.2578,-75.1994\"/>\n",
       "</g>\n",
       "<!-- 26 -->\n",
       "<g id=\"node27\" class=\"node\">\n",
       "<title>26</title>\n",
       "<text text-anchor=\"middle\" x=\"616.5\" y=\"-54.8\" font-family=\"Times,serif\" font-size=\"14.00\" fill=\"#000000\">&lt;digit&gt;</text>\n",
       "</g>\n",
       "<!-- 19&#45;&gt;26 -->\n",
       "<g id=\"edge26\" class=\"edge\">\n",
       "<title>19&#45;&gt;26</title>\n",
       "<path fill=\"none\" stroke=\"#000000\" d=\"M514.2064,-101.9748C534.0584,-93.5377 566.4786,-79.7591 589.496,-69.9767\"/>\n",
       "<polygon fill=\"#000000\" stroke=\"#000000\" points=\"590.8866,-73.1887 598.7209,-66.0561 588.1486,-66.7464 590.8866,-73.1887\"/>\n",
       "</g>\n",
       "<!-- 21 -->\n",
       "<g id=\"node22\" class=\"node\">\n",
       "<title>21</title>\n",
       "<text text-anchor=\"middle\" x=\"436.5\" y=\"-3.8\" font-family=\"Times,serif\" font-size=\"14.00\" fill=\"#000000\">6</text>\n",
       "</g>\n",
       "<!-- 20&#45;&gt;21 -->\n",
       "<g id=\"edge21\" class=\"edge\">\n",
       "<title>20&#45;&gt;21</title>\n",
       "<path fill=\"none\" stroke=\"#000000\" d=\"M436.5,-50.9748C436.5,-44.195 436.5,-33.966 436.5,-25.1331\"/>\n",
       "<polygon fill=\"#000000\" stroke=\"#000000\" points=\"440.0001,-25.0561 436.5,-15.0561 433.0001,-25.0561 440.0001,-25.0561\"/>\n",
       "</g>\n",
       "<!-- 23 -->\n",
       "<g id=\"node24\" class=\"node\">\n",
       "<title>23</title>\n",
       "<text text-anchor=\"middle\" x=\"496.5\" y=\"-3.8\" font-family=\"Times,serif\" font-size=\"14.00\" fill=\"#000000\">5</text>\n",
       "</g>\n",
       "<!-- 22&#45;&gt;23 -->\n",
       "<g id=\"edge23\" class=\"edge\">\n",
       "<title>22&#45;&gt;23</title>\n",
       "<path fill=\"none\" stroke=\"#000000\" d=\"M496.5,-50.9748C496.5,-44.195 496.5,-33.966 496.5,-25.1331\"/>\n",
       "<polygon fill=\"#000000\" stroke=\"#000000\" points=\"500.0001,-25.0561 496.5,-15.0561 493.0001,-25.0561 500.0001,-25.0561\"/>\n",
       "</g>\n",
       "<!-- 25 -->\n",
       "<g id=\"node26\" class=\"node\">\n",
       "<title>25</title>\n",
       "<text text-anchor=\"middle\" x=\"556.5\" y=\"-3.8\" font-family=\"Times,serif\" font-size=\"14.00\" fill=\"#000000\">4</text>\n",
       "</g>\n",
       "<!-- 24&#45;&gt;25 -->\n",
       "<g id=\"edge25\" class=\"edge\">\n",
       "<title>24&#45;&gt;25</title>\n",
       "<path fill=\"none\" stroke=\"#000000\" d=\"M556.5,-50.9748C556.5,-44.195 556.5,-33.966 556.5,-25.1331\"/>\n",
       "<polygon fill=\"#000000\" stroke=\"#000000\" points=\"560.0001,-25.0561 556.5,-15.0561 553.0001,-25.0561 560.0001,-25.0561\"/>\n",
       "</g>\n",
       "<!-- 27 -->\n",
       "<g id=\"node28\" class=\"node\">\n",
       "<title>27</title>\n",
       "<text text-anchor=\"middle\" x=\"616.5\" y=\"-3.8\" font-family=\"Times,serif\" font-size=\"14.00\" fill=\"#000000\">3</text>\n",
       "</g>\n",
       "<!-- 26&#45;&gt;27 -->\n",
       "<g id=\"edge27\" class=\"edge\">\n",
       "<title>26&#45;&gt;27</title>\n",
       "<path fill=\"none\" stroke=\"#000000\" d=\"M616.5,-50.9748C616.5,-44.195 616.5,-33.966 616.5,-25.1331\"/>\n",
       "<polygon fill=\"#000000\" stroke=\"#000000\" points=\"620.0001,-25.0561 616.5,-15.0561 613.0001,-25.0561 620.0001,-25.0561\"/>\n",
       "</g>\n",
       "</g>\n",
       "</svg>\n"
      ],
      "text/plain": [
       "<graphviz.dot.Digraph at 0x7f9284605358>"
      ]
     },
     "execution_count": 145,
     "metadata": {},
     "output_type": "execute_result"
    }
   ],
   "source": [
    "trees = us_phone_parser.parse(\"(555)987-6543\")\n",
    "tree = list(trees)[0]\n",
    "display_tree(tree)"
   ]
  },
  {
   "cell_type": "markdown",
   "metadata": {},
   "source": [
    "These derivation trees can then be used for test generation, notably for mutating and recombining existing inputs."
   ]
  },
  {
   "cell_type": "markdown",
   "metadata": {
    "button": false,
    "new_sheet": true,
    "run_control": {
     "read_only": false
    },
    "slideshow": {
     "slide_type": "subslide"
    }
   },
   "source": [
    "## Lessons Learned\n",
    "\n",
    "* Grammars can be used to generate derivation trees for a given string.\n",
    "* Parsing Expression Grammars are intuitive, and easy to implement, but require care to write.\n",
    "* Earley Parsers can parse arbitrary Context Free Grammars.\n"
   ]
  },
  {
   "cell_type": "markdown",
   "metadata": {
    "button": false,
    "new_sheet": false,
    "run_control": {
     "read_only": false
    },
    "slideshow": {
     "slide_type": "subslide"
    }
   },
   "source": [
    "## Next Steps\n",
    "\n",
    "* Use parsed inputs to [recombine existing inputs](LangFuzzer.ipynb)"
   ]
  },
  {
   "cell_type": "markdown",
   "metadata": {
    "button": false,
    "new_sheet": true,
    "run_control": {
     "read_only": false
    },
    "slideshow": {
     "slide_type": "skip"
    },
    "toc-hr-collapsed": false
   },
   "source": [
    "## Exercises"
   ]
  },
  {
   "cell_type": "markdown",
   "metadata": {
    "slideshow": {
     "slide_type": "skip"
    }
   },
   "source": [
    "### Exercise 1: An Alternative Packrat\n",
    "\n",
    "In the _Packrat_ parser, we showed how one could implement a simple _PEG_ parser. That parser kept track of the current location in the text using an index. Can you modify the parser so that it simply uses the current substring rather than tracking the index? That is, it should no longer have the `at` parameter."
   ]
  },
  {
   "cell_type": "markdown",
   "metadata": {
    "slideshow": {
     "slide_type": "subslide"
    },
    "solution2": "hidden",
    "solution2_first": true
   },
   "source": [
    "**Solution.**  Here is a possible solution:"
   ]
  },
  {
   "cell_type": "code",
   "execution_count": null,
   "metadata": {
    "slideshow": {
     "slide_type": "subslide"
    },
    "solution2": "hidden"
   },
   "outputs": [],
   "source": [
    "class PackratParser(Parser):\n",
    "    def parse_prefix(self, text):\n",
    "        txt, res = self.unify_key(self.start_symbol(), text)\n",
    "        return len(txt), [res]\n",
    "\n",
    "    def parse(self, text):\n",
    "        remain, res = self.parse_prefix(text)\n",
    "        if remain:\n",
    "            raise SyntaxError(\"at \" + res)\n",
    "        return res\n",
    "\n",
    "    def unify_rule(self, rule, text):\n",
    "        results = []\n",
    "        for token in rule:\n",
    "            text, res = self.unify_key(token, text)\n",
    "            if res is None:\n",
    "                return text, None\n",
    "            results.append(res)\n",
    "        return text, results\n",
    "\n",
    "    def unify_key(self, key, text):\n",
    "        if key not in self.cgrammar:\n",
    "            if text.startswith(key):\n",
    "                return text[len(key):], (key, [])\n",
    "            else:\n",
    "                return text, None\n",
    "        for rule in self.cgrammar[key]:\n",
    "            text_, res = self.unify_rule(rule, text)\n",
    "            if res:\n",
    "                return (text_, (key, res))\n",
    "        return text, None"
   ]
  },
  {
   "cell_type": "code",
   "execution_count": null,
   "metadata": {
    "button": false,
    "code_folding": [],
    "new_sheet": false,
    "run_control": {
     "read_only": false
    },
    "slideshow": {
     "slide_type": "subslide"
    },
    "solution2": "hidden"
   },
   "outputs": [],
   "source": [
    "mystring = \"1 + (2 * 3)\"\n",
    "for tree in PackratParser(EXPR_GRAMMAR).parse(mystring):\n",
    "    assert tree_to_string(tree) == mystring\n",
    "    display_tree(tree)"
   ]
  },
  {
   "cell_type": "markdown",
   "metadata": {
    "button": false,
    "new_sheet": false,
    "run_control": {
     "read_only": false
    },
    "slideshow": {
     "slide_type": "skip"
    }
   },
   "source": [
    "### Exercise 2: More PEG Syntax\n",
    "\n",
    "The _PEG_ syntax provides a few notational conveniences reminiscent of regular expressions. For example, it supports the following operators (letters `T` and `A` represents tokens that can be either terminal or nonterminal. `ε` is an empty string, and `/` is the ordered choice operator similar to the non-ordered choice operator `|`):\n",
    "\n",
    "* `T?` represents an optional greedy match of T and `A := T?` is equivalent to `A := T/ε`.\n",
    "* `T*` represents zero or more greedy matches of `T` and `A := T*` is equivalent to `A := T A/ε`.\n",
    "* `T+` represents one or more greedy matches – equivalent to `TT*`\n",
    "\n",
    "If you look at the three notations above, each can be represented in the grammar in terms of basic syntax.\n",
    "Remember the exercise from [the chapter on grammars](Grammars.ipynb) that developed `define_ex_grammar()` that can represent grammars as Python code? extend `define_ex_grammar()` to `define_peg()` to support the above notational conveniences. The decorator should rewrite a given grammar that contains these notations to an equivalent grammar in basic syntax."
   ]
  },
  {
   "cell_type": "markdown",
   "metadata": {
    "button": false,
    "heading_collapsed": true,
    "new_sheet": false,
    "run_control": {
     "read_only": false
    },
    "slideshow": {
     "slide_type": "skip"
    },
    "solution": "hidden",
    "solution_first": true
   },
   "source": [
    "### Exercise 3: PEG Predicates\n",
    "\n",
    "Beyond these notational conveniences, it also supports two predicates that can provide a powerful lookahead facility that does not consume any input.\n",
    "\n",
    "* `T&A` represents an _And-predicate_ that matches `T` if `T` is matched, and it is immediately followed by `A`\n",
    "* `T!A` represents a _Not-predicate_ that matches `T` if `T` is matched, and it is *not* immediately followed by `A`\n",
    "\n",
    "Implement these predicates in our _PEG_ parser."
   ]
  },
  {
   "cell_type": "markdown",
   "metadata": {
    "button": false,
    "new_sheet": false,
    "run_control": {
     "read_only": false
    },
    "slideshow": {
     "slide_type": "skip"
    },
    "solution": "hidden",
    "solution2": "hidden",
    "solution2_first": true,
    "solution_first": true
   },
   "source": [
    "### Exercise 4: Earley Fill Chart\n",
    "\n",
    "In the `Earley Parser`, `Column` class, we keep the states both as a `list` and also as a `dict` even though `dict` is ordered. Can you explain why?\n",
    "\n",
    "**Hint**: see the `fill_chart` method."
   ]
  },
  {
   "cell_type": "markdown",
   "metadata": {
    "slideshow": {
     "slide_type": "subslide"
    },
    "solution2": "hidden"
   },
   "source": [
    "**Solution.** Python allows us to append to a list in flight, while a dict, eventhough it is ordered does not allow that facility.\n",
    "\n",
    "That is, the following will work\n",
    "\n",
    "```python\n",
    "values = [1]\n",
    "for v in values:\n",
    "   values.append(v*2)\n",
    "```\n",
    "\n",
    "However, the following will result in an error\n",
    "```python\n",
    "values = {1:1}\n",
    "for v in values:\n",
    "    values[v*2] = v*2\n",
    "```\n",
    "\n",
    "In the `fill_chart`, we make use of this facility to modify the set of states we are iterating on, on the fly."
   ]
  },
  {
   "cell_type": "markdown",
   "metadata": {
    "slideshow": {
     "slide_type": "skip"
    }
   },
   "source": [
    "### Exercise 5: Leo Parser\n",
    "\n",
    "One of the problems with the original Earley parser is that while it can parse strings using arbitrary _Context Free Gramamrs_, its performance on right-recursive grammars is quadratic. That is, it takes $O(n^2)$ runtime and space for parsing with right-recursive grammars. For example, consider the parsing of the following string by two different grammars `LR_GRAMMAR` and `RR_GRAMMAR`."
   ]
  },
  {
   "cell_type": "code",
   "execution_count": null,
   "metadata": {},
   "outputs": [],
   "source": [
    "mystring = 'aaaaaa'"
   ]
  },
  {
   "cell_type": "markdown",
   "metadata": {
    "slideshow": {
     "slide_type": "skip"
    }
   },
   "source": [
    "To see the problem, we need to enable logging. Here is the logged version of parsing with the `LR_GRAMMAR`"
   ]
  },
  {
   "cell_type": "code",
   "execution_count": null,
   "metadata": {
    "slideshow": {
     "slide_type": "skip"
    }
   },
   "outputs": [],
   "source": [
    "result = EarleyParser(LR_GRAMMAR, log=True).parse(mystring)\n",
    "for _ in result: pass # consume the generator so that we can see the logs"
   ]
  },
  {
   "cell_type": "markdown",
   "metadata": {},
   "source": [
    "Compare that to the parsing of `RR_GRAMMAR` as seen below:"
   ]
  },
  {
   "cell_type": "code",
   "execution_count": null,
   "metadata": {
    "slideshow": {
     "slide_type": "skip"
    }
   },
   "outputs": [],
   "source": [
    "result = EarleyParser(RR_GRAMMAR, log=True).parse(mystring)\n",
    "for _ in result: pass"
   ]
  },
  {
   "cell_type": "markdown",
   "metadata": {
    "slideshow": {
     "slide_type": "skip"
    }
   },
   "source": [
    "As can be seen from the parsing log for each letter, the number of states with representation `<A>: a <A> ● (i, j)` increases at each stage, and these are simply a left over from the previous letter. They do not contribute anything more to the parse other than to simply complete these entries. However, they take up space, and require resources for inspection, contributing a factor of `n` in analysis.\n",
    "\n",
    "Joop Leo \\cite{Leo1991} found that this inefficiency can be avoided by detecting right recursion. The idea is that before starting the `completion` step, check whether the current item has a _deterministic reduction path_. If such a path exists, add a copy of the topmost element of the _deteministic reduction path_ to the current column, and return. If not, perform the original `completion` step.\n",
    "\n",
    "\n",
    "**Definition 2.1**: An item is said to be on the deterministic reduction path above $[A \\rightarrow  \\gamma., i]$ if it is $[B \\rightarrow \\alpha A ., k]$ with $[B \\rightarrow \\alpha . A, k]$ being the only item in $ I_i $ with the dot in front of A, or if it is on the deterministic reduction path above $[B \\rightarrow \\alpha A ., k]$. An item on such a path is called *topmost* one if there is no item on the deterministic reduction path above it\\cite{Leo1991}."
   ]
  },
  {
   "cell_type": "markdown",
   "metadata": {},
   "source": [
    "Finding a _deterministic reduction path_ is as follows:\n",
    "\n",
    "Given a complete state, represented by `<A> : seq_1 ● (s, e)` where `s` is the starting column for this rule, and `e` the current column, there is a _deterministic reduction path_ **above** it if two constraints are satisfied.\n",
    "\n",
    "1. There exist a *single* item in the form `<B> : seq_2 ● <A> (k, s)` in column `s`.\n",
    "2. That should be the *single* item in s with dot in front of `<A>`\n",
    "\n",
    "The resulting item is of the form `<B> : seq_2 <A> ● (k, e)`, which is simply item from (1) advanced, and is considered above `<A>:.. (s, e)` in the deterministic reduction path.\n",
    "The `seq_1` and `seq_2` are arbitrary symbol sequences.\n",
    "\n",
    "This forms the following chain of links, with `<A>:.. (s_1, e)` being the child of `<B>:.. (s_2, e)` etc."
   ]
  },
  {
   "cell_type": "markdown",
   "metadata": {},
   "source": [
    "Here is one way to visualize the chain:\n",
    "```\n",
    "<C> : seq_3 <B> ● (s_3, e)  \n",
    "             |  constraints satisfied by <C> : seq_3 ● <B> (s_3, s_2)\n",
    "            <B> : seq_2 <A> ● (s_2, e)  \n",
    "                         | constraints satisfied by <B> : seq_2 ● <A> (s_2, s_1)\n",
    "                        <A> : seq_1 ● (s_1, e)\n",
    "```"
   ]
  },
  {
   "cell_type": "markdown",
   "metadata": {},
   "source": [
    "Essentially, what we want to do is to identify potential deterministic right recursion candidates, perform completion on them, and *throw away the result*. We do this until we reach the top. See Grune et al.~\\cite{grune2008parsing} for further information."
   ]
  },
  {
   "cell_type": "markdown",
   "metadata": {},
   "source": [
    "Note that the completions are in the same column (`e`), with each candidates with constraints satisfied \n",
    "in further and further earlier columns (as shown below):\n",
    "```\n",
    "<C> : seq_3 ● <B> (s_3, s_2)  -->              <C> : seq_3 <B> ● (s_3, e)\n",
    "               |\n",
    "              <B> : seq_2 ● <A> (s_2, s_1) --> <B> : seq_2 <A> ● (s_2, e)  \n",
    "                             |\n",
    "                            <A> : seq_1 ●                        (s_1, e)\n",
    "```"
   ]
  },
  {
   "cell_type": "markdown",
   "metadata": {},
   "source": [
    "Following this chain, the topmost item is the item `<C>:.. (s_3, e)` that does not have a parent. The topmost item needs to be saved is called a *transitive* item by Leo, and it is associated with the non-terminal symbol that started the lookup. The transitive item needs to be added to each column we inspect."
   ]
  },
  {
   "cell_type": "markdown",
   "metadata": {},
   "source": [
    "Here is the skeleton for the parser `LeoParser`."
   ]
  },
  {
   "cell_type": "code",
   "execution_count": null,
   "metadata": {
    "slideshow": {
     "slide_type": "skip"
    }
   },
   "outputs": [],
   "source": [
    "class LeoParser(EarleyParser):\n",
    "    def complete(self, col, state):\n",
    "        return self.leo_complete(col, state)\n",
    "\n",
    "    def leo_complete(self, col, state):\n",
    "        detred = self.deterministic_reduction(state)\n",
    "        if detred:\n",
    "            col.add(detred.copy())\n",
    "        else:\n",
    "            self.earley_complete(col, state)\n",
    "\n",
    "    def deterministic_reduction(self, state):\n",
    "        raise NotImplemented()"
   ]
  },
  {
   "cell_type": "markdown",
   "metadata": {
    "slideshow": {
     "slide_type": "skip"
    }
   },
   "source": [
    "Can you implement the `deterministic_reduction()` method to obtain the topmost element?"
   ]
  },
  {
   "cell_type": "markdown",
   "metadata": {
    "slideshow": {
     "slide_type": "subslide"
    },
    "solution2": "hidden",
    "solution2_first": true
   },
   "source": [
    "**Solution.**  Here is a possible solution:"
   ]
  },
  {
   "cell_type": "markdown",
   "metadata": {
    "solution2": "hidden"
   },
   "source": [
    "First, we update our `Column` class with the ability to add transitive items. Note that, while Leo asks the transitive to be added to the set $ I_k $ there is no actual requirement for the transitive states to be added to the `states` list. The transitive items are only intended for memoization and not for the `fill_chart()` method. Hence, we track them separately."
   ]
  },
  {
   "cell_type": "code",
   "execution_count": null,
   "metadata": {
    "solution2": "hidden"
   },
   "outputs": [],
   "source": [
    "class Column(Column):\n",
    "    def __init__(self, index, letter):\n",
    "        self.index, self.letter = index, letter\n",
    "        self.states, self._unique, self.transitives = [], {}, {}\n",
    "\n",
    "    def add_transitive(self, key, state):\n",
    "        assert key not in self.transitives\n",
    "        self.transitives[key] = state\n",
    "        return self.transitives[key]"
   ]
  },
  {
   "cell_type": "markdown",
   "metadata": {
    "solution2": "hidden"
   },
   "source": [
    "Remember the picture we drew of the deterministic path?\n",
    "```\n",
    "    <C> : seq_3 <B> ● (s_3, e)  \n",
    "                 |  constraints satisfied by <C> : seq_3 ● <B> (s_3, s_2)\n",
    "                <B> : seq_2 <A> ● (s_2, e)  \n",
    "                             | constraints satisfied by <B> : seq_2 ● <A> (s_2, s_1)\n",
    "                            <A> : seq_1 ● (s_1, e)\n",
    "```"
   ]
  },
  {
   "cell_type": "markdown",
   "metadata": {
    "solution2": "hidden"
   },
   "source": [
    "We define a function `uniq_postdot()` that given the item `<A> := seq_1 ● (s_1, e)`, returns a `<B> : seq_2 ● <A> (s_2, s_1)` that satisfies the constraints mentioned in the above picture."
   ]
  },
  {
   "cell_type": "code",
   "execution_count": null,
   "metadata": {
    "solution2": "hidden"
   },
   "outputs": [],
   "source": [
    "class LeoParser(LeoParser):\n",
    "    def uniq_postdot(self, st_A):\n",
    "        col_s1 = st_A.s_col\n",
    "        parent_states = [\n",
    "            s for s in col_s1.states if s.expr and s.at_dot() == st_A.name\n",
    "        ]\n",
    "        if len(parent_states) > 1:\n",
    "            return None\n",
    "        matching_st_B = [s for s in parent_states if s.dot == len(s.expr) - 1]\n",
    "        return matching_st_B[0] if matching_st_B else None"
   ]
  },
  {
   "cell_type": "code",
   "execution_count": null,
   "metadata": {
    "solution2": "hidden"
   },
   "outputs": [],
   "source": [
    "lp = LeoParser(RR_GRAMMAR)\n",
    "[(str(s), str(lp.uniq_postdot(s))) for s in columns[-1].states]"
   ]
  },
  {
   "cell_type": "markdown",
   "metadata": {
    "solution2": "hidden"
   },
   "source": [
    "We next define the function `get_top()` that is the core of deterministic reduction which gets the topmost state above the current state (`A`)."
   ]
  },
  {
   "cell_type": "code",
   "execution_count": null,
   "metadata": {
    "slideshow": {
     "slide_type": "subslide"
    },
    "solution2": "hidden"
   },
   "outputs": [],
   "source": [
    "class LeoParser(LeoParser):\n",
    "    def get_top(self, state_A):\n",
    "        st_B_inc = self.uniq_postdot(state_A)\n",
    "        if not st_B_inc:\n",
    "            return None\n",
    "        \n",
    "        t_name = st_B_inc.name\n",
    "        if t_name in st_B_inc.e_col.transitives:\n",
    "            return st_B_inc.e_col.transitives[t_name]\n",
    "\n",
    "        st_B = st_B_inc.advance()\n",
    "\n",
    "        top = self.get_top(st_B) or st_B\n",
    "        return st_B_inc.e_col.add_transitive(t_name, top)"
   ]
  },
  {
   "cell_type": "markdown",
   "metadata": {
    "solution2": "hidden"
   },
   "source": [
    "Once we have the machinery in place, `deterministic_reduction()` itself is simply a wrapper to call `get_top()`"
   ]
  },
  {
   "cell_type": "code",
   "execution_count": null,
   "metadata": {
    "solution2": "hidden"
   },
   "outputs": [],
   "source": [
    "class LeoParser(LeoParser):\n",
    "    def deterministic_reduction(self, state):\n",
    "        return self.get_top(state)"
   ]
  },
  {
   "cell_type": "code",
   "execution_count": null,
   "metadata": {
    "solution2": "hidden"
   },
   "outputs": [],
   "source": [
    "lp = LeoParser(RR_GRAMMAR)\n",
    "columns = lp.chart_parse(mystring, lp.start_symbol())\n",
    "[(str(s), str(lp.get_top(s))) for s in columns[-1].states]"
   ]
  },
  {
   "cell_type": "markdown",
   "metadata": {
    "solution2": "hidden"
   },
   "source": [
    "Now, both LR and RR grammars should work within $O(n)$ bounds."
   ]
  },
  {
   "cell_type": "code",
   "execution_count": null,
   "metadata": {
    "solution2": "hidden"
   },
   "outputs": [],
   "source": [
    "result = LeoParser(RR_GRAMMAR, log=True).parse(mystring)\n",
    "for _ in result: pass"
   ]
  },
  {
   "cell_type": "markdown",
   "metadata": {
    "slideshow": {
     "slide_type": "subslide"
    },
    "solution2": "hidden"
   },
   "source": [
    "We verify the Leo parser with a few more right recursive grammars."
   ]
  },
  {
   "cell_type": "code",
   "execution_count": null,
   "metadata": {
    "solution2": "hidden"
   },
   "outputs": [],
   "source": [
    "RR_GRAMMAR2 = {\n",
    "    '<start>': ['<A>'],\n",
    "    '<A>': ['ab<A>', ''],\n",
    "}\n",
    "mystring2 = 'ababababab'"
   ]
  },
  {
   "cell_type": "code",
   "execution_count": null,
   "metadata": {
    "solution2": "hidden"
   },
   "outputs": [],
   "source": [
    "result = LeoParser(RR_GRAMMAR2, log=True).parse(mystring2)\n",
    "for _ in result: pass"
   ]
  },
  {
   "cell_type": "code",
   "execution_count": null,
   "metadata": {
    "solution2": "hidden"
   },
   "outputs": [],
   "source": [
    "RR_GRAMMAR3 = {\n",
    "    '<start>': ['c<A>'],\n",
    "    '<A>': ['ab<A>', ''],\n",
    "}\n",
    "mystring3 = 'cababababab'"
   ]
  },
  {
   "cell_type": "code",
   "execution_count": null,
   "metadata": {
    "solution2": "hidden"
   },
   "outputs": [],
   "source": [
    "result = LeoParser(RR_GRAMMAR3, log=True).parse(mystring3)\n",
    "for _ in result: pass"
   ]
  },
  {
   "cell_type": "code",
   "execution_count": null,
   "metadata": {
    "solution2": "hidden"
   },
   "outputs": [],
   "source": [
    "RR_GRAMMAR4 = {\n",
    "    '<start>': ['<A>c'],\n",
    "    '<A>': ['ab<A>', ''],\n",
    "}\n",
    "mystring4 = 'ababababc'"
   ]
  },
  {
   "cell_type": "code",
   "execution_count": null,
   "metadata": {
    "slideshow": {
     "slide_type": "subslide"
    },
    "solution2": "hidden"
   },
   "outputs": [],
   "source": [
    "result = LeoParser(RR_GRAMMAR4, log=True).parse(mystring4)\n",
    "for _ in result: pass"
   ]
  },
  {
   "cell_type": "code",
   "execution_count": null,
   "metadata": {
    "solution2": "hidden"
   },
   "outputs": [],
   "source": [
    "RR_GRAMMAR5 = {\n",
    "    '<start>': ['<A>'],\n",
    "    '<A>': ['ab<B>', ''],\n",
    "    '<B>': ['<A>'],\n",
    "}\n",
    "mystring5 = 'abababab'"
   ]
  },
  {
   "cell_type": "code",
   "execution_count": null,
   "metadata": {
    "solution2": "hidden"
   },
   "outputs": [],
   "source": [
    "result = LeoParser(RR_GRAMMAR5, log=True).parse(mystring5)\n",
    "for _ in result: pass"
   ]
  },
  {
   "cell_type": "code",
   "execution_count": null,
   "metadata": {
    "solution2": "hidden"
   },
   "outputs": [],
   "source": [
    "RR_GRAMMAR6 = {\n",
    "    '<start>': ['<A>'],\n",
    "    '<A>': ['a<B>', ''],\n",
    "    '<B>': ['b<A>'],\n",
    "}\n",
    "mystring6 = 'abababab'"
   ]
  },
  {
   "cell_type": "code",
   "execution_count": null,
   "metadata": {
    "solution2": "hidden"
   },
   "outputs": [],
   "source": [
    "result = LeoParser(RR_GRAMMAR6, log=True).parse(mystring6)\n",
    "for _ in result: pass"
   ]
  },
  {
   "cell_type": "code",
   "execution_count": null,
   "metadata": {
    "solution2": "hidden"
   },
   "outputs": [],
   "source": [
    "RR_GRAMMAR7 = {\n",
    "    '<start>': ['<A>'],\n",
    "    '<A>': ['a<A>', 'a'],\n",
    "}\n",
    "mystring7 = 'aaaaaaaa'"
   ]
  },
  {
   "cell_type": "code",
   "execution_count": null,
   "metadata": {
    "solution2": "hidden"
   },
   "outputs": [],
   "source": [
    "result = LeoParser(RR_GRAMMAR7, log=True).parse(mystring7)\n",
    "for _ in result: pass"
   ]
  },
  {
   "cell_type": "markdown",
   "metadata": {
    "solution2": "hidden"
   },
   "source": [
    "We verify that our parser works correctly on `LR_GRAMMAR` too."
   ]
  },
  {
   "cell_type": "code",
   "execution_count": null,
   "metadata": {
    "slideshow": {
     "slide_type": "subslide"
    },
    "solution2": "hidden"
   },
   "outputs": [],
   "source": [
    "result = LeoParser(LR_GRAMMAR, log=True).parse(mystring)\n",
    "for _ in result: pass"
   ]
  },
  {
   "cell_type": "markdown",
   "metadata": {
    "slideshow": {
     "slide_type": "skip"
    }
   },
   "source": [
    "__Advanced:__ We have fixed the complexity bounds. However, because we are saving only the topmost item of a right recursion, we need to fix our parser to be aware of our fix while extracting parse trees. Can you fix it?\n",
    "\n",
    "__Hint:__ Leo suggests simply transforming the Leo item sets to normal Earley sets, with the results from deterministic reduction expanded to their originals. For that, keep in mind the picture of constraint chain we drew earlier."
   ]
  },
  {
   "cell_type": "markdown",
   "metadata": {
    "solution2": "hidden",
    "solution2_first": true
   },
   "source": [
    "**Solution.** Here is a possible solution."
   ]
  },
  {
   "cell_type": "markdown",
   "metadata": {
    "solution2": "hidden"
   },
   "source": [
    "We first change the definition of `add_transitive()` so that results of deterministic reduction can be identified later."
   ]
  },
  {
   "cell_type": "code",
   "execution_count": null,
   "metadata": {
    "solution2": "hidden"
   },
   "outputs": [],
   "source": [
    "class Column(Column):\n",
    "    def add_transitive(self, key, state):\n",
    "        assert key not in self.transitives\n",
    "        self.transitives[key] = TState(state.name, state.expr, state.dot,\n",
    "                                       state.s_col, state.e_col)\n",
    "        return self.transitives[key]"
   ]
  },
  {
   "cell_type": "markdown",
   "metadata": {
    "solution2": "hidden"
   },
   "source": [
    "We also need a `back()` method to create the constraints."
   ]
  },
  {
   "cell_type": "code",
   "execution_count": null,
   "metadata": {
    "solution2": "hidden"
   },
   "outputs": [],
   "source": [
    "class State(State):\n",
    "    def back(self):\n",
    "        return TState(self.name, self.expr, self.dot - 1, self.s_col, self.e_col)"
   ]
  },
  {
   "cell_type": "markdown",
   "metadata": {
    "solution2": "hidden"
   },
   "source": [
    "We update `copy()` to make `TState` items instead."
   ]
  },
  {
   "cell_type": "code",
   "execution_count": null,
   "metadata": {
    "solution2": "hidden"
   },
   "outputs": [],
   "source": [
    "class TState(State):\n",
    "    def copy(self):\n",
    "        return TState(self.name, self.expr, self.dot, self.s_col, self.e_col)"
   ]
  },
  {
   "cell_type": "markdown",
   "metadata": {
    "solution2": "hidden"
   },
   "source": [
    "We now modify the `LeoParser` to keep track of the chain of constrains that we mentioned earlier."
   ]
  },
  {
   "cell_type": "code",
   "execution_count": null,
   "metadata": {
    "solution2": "hidden"
   },
   "outputs": [],
   "source": [
    "class LeoParser(LeoParser):\n",
    "    def __init__(self, grammar, **kwargs):\n",
    "        super().__init__(grammar, **kwargs)\n",
    "        self._postdots = {}\n",
    "        self.cgrammar = canonical(grammar, letters=True)\n",
    "      "
   ]
  },
  {
   "cell_type": "markdown",
   "metadata": {
    "solution2": "hidden"
   },
   "source": [
    "Next, we update the `uniq_postdot()` so that it tracks the chain of links."
   ]
  },
  {
   "cell_type": "code",
   "execution_count": null,
   "metadata": {
    "solution2": "hidden"
   },
   "outputs": [],
   "source": [
    "class LeoParser(LeoParser):\n",
    "    def uniq_postdot(self, st_A):\n",
    "        col_s1 = st_A.s_col\n",
    "        parent_states = [\n",
    "            s for s in col_s1.states if s.expr and s.at_dot() == st_A.name\n",
    "        ]\n",
    "        if len(parent_states) > 1:\n",
    "            return None\n",
    "        matching_st_B = [s for s in parent_states if s.dot == len(s.expr) - 1]\n",
    "        if matching_st_B:\n",
    "            self._postdots[matching_st_B[0]._t()] = st_A\n",
    "            return matching_st_B[0]\n",
    "        return None\n",
    "      "
   ]
  },
  {
   "cell_type": "markdown",
   "metadata": {
    "solution2": "hidden"
   },
   "source": [
    "We next define a method `expand_tstate()` that, when given a `TState`, generates all the intermediate links that we threw away earlier for a given end column."
   ]
  },
  {
   "cell_type": "code",
   "execution_count": null,
   "metadata": {
    "solution2": "hidden"
   },
   "outputs": [],
   "source": [
    "class LeoParser(LeoParser):\n",
    "    def expand_tstate(self, state, e):\n",
    "        if state._t() not in self._postdots:\n",
    "            return\n",
    "        c_C = self._postdots[state._t()]\n",
    "        e.add(c_C.advance())\n",
    "        self.expand_tstate(c_C.back(), e)"
   ]
  },
  {
   "cell_type": "markdown",
   "metadata": {
    "slideshow": {
     "slide_type": "fragment"
    },
    "solution2": "hidden"
   },
   "source": [
    "We define a `rearrange()` method to generate a reversed table where each column contains states that start at that column."
   ]
  },
  {
   "cell_type": "code",
   "execution_count": null,
   "metadata": {
    "code_folding": [],
    "slideshow": {
     "slide_type": "subslide"
    },
    "solution2": "hidden"
   },
   "outputs": [],
   "source": [
    "class LeoParser(LeoParser):\n",
    "    def rearrange(self, table):\n",
    "        f_table = [Column(c.index, c.letter) for c in table]\n",
    "        for col in table:\n",
    "            for s in col.states:\n",
    "                f_table[s.s_col.index].states.append(s)\n",
    "        return f_table"
   ]
  },
  {
   "cell_type": "markdown",
   "metadata": {
    "solution2": "hidden"
   },
   "source": [
    "Here is the rearranged table. (Can you explain why the Column 0 has a large number of `<start>` items?)"
   ]
  },
  {
   "cell_type": "code",
   "execution_count": null,
   "metadata": {
    "solution2": "hidden"
   },
   "outputs": [],
   "source": [
    "ep = LeoParser(RR_GRAMMAR)\n",
    "columns = ep.chart_parse(mystring, ep.start_symbol())\n",
    "r_table = ep.rearrange(columns)\n",
    "for col in r_table:\n",
    "    print(col, \"\\n\")"
   ]
  },
  {
   "cell_type": "markdown",
   "metadata": {
    "solution2": "hidden"
   },
   "source": [
    "We save the result of rearrange before going into `parse_forest()`."
   ]
  },
  {
   "cell_type": "code",
   "execution_count": null,
   "metadata": {
    "slideshow": {
     "slide_type": "subslide"
    },
    "solution2": "hidden"
   },
   "outputs": [],
   "source": [
    "class LeoParser(LeoParser):\n",
    "    def parse(self, text):\n",
    "        cursor, states = self.parse_prefix(text)\n",
    "        start = next((s for s in states if s.finished()), None)\n",
    "        if cursor < len(text) or not start:\n",
    "            raise SyntaxError(\"at \" + repr(text[cursor:]))\n",
    "\n",
    "        self.r_table = self.rearrange(self.table)\n",
    "        forest = self.extract_trees(self.parse_forest(self.table, start))\n",
    "        for tree in forest:\n",
    "            yield self.prune_tree(tree)"
   ]
  },
  {
   "cell_type": "markdown",
   "metadata": {
    "solution2": "hidden"
   },
   "source": [
    "Finally, during `parse_forest()`, we first check to see if it is a transitive state, and if it is, expand it to the original sequence of states using `traverse_constraints()`."
   ]
  },
  {
   "cell_type": "code",
   "execution_count": null,
   "metadata": {
    "slideshow": {
     "slide_type": "subslide"
    },
    "solution2": "hidden"
   },
   "outputs": [],
   "source": [
    "class LeoParser(LeoParser):\n",
    "    def parse_forest(self, chart, state):\n",
    "        if isinstance(state, TState):\n",
    "            self.expand_tstate(state.back(), state.e_col)\n",
    "        \n",
    "        return super().parse_forest(chart, state)"
   ]
  },
  {
   "cell_type": "markdown",
   "metadata": {
    "solution2": "hidden"
   },
   "source": [
    "This completes our implementation of `LeoParser`."
   ]
  },
  {
   "cell_type": "markdown",
   "metadata": {
    "solution2": "hidden"
   },
   "source": [
    "We check whether the previously defined right recursive grammars parse and return the correct parse trees."
   ]
  },
  {
   "cell_type": "code",
   "execution_count": null,
   "metadata": {
    "solution2": "hidden"
   },
   "outputs": [],
   "source": [
    "result = LeoParser(RR_GRAMMAR).parse(mystring)\n",
    "for tree in result:\n",
    "    assert mystring == tree_to_string(tree)"
   ]
  },
  {
   "cell_type": "code",
   "execution_count": null,
   "metadata": {
    "solution2": "hidden"
   },
   "outputs": [],
   "source": [
    "result = LeoParser(RR_GRAMMAR2).parse(mystring2)\n",
    "for tree in result:\n",
    "    assert mystring2 == tree_to_string(tree)"
   ]
  },
  {
   "cell_type": "code",
   "execution_count": null,
   "metadata": {
    "solution2": "hidden"
   },
   "outputs": [],
   "source": [
    "result = LeoParser(RR_GRAMMAR3).parse(mystring3)\n",
    "for tree in result:\n",
    "    assert mystring3 == tree_to_string(tree)"
   ]
  },
  {
   "cell_type": "code",
   "execution_count": null,
   "metadata": {
    "solution2": "hidden"
   },
   "outputs": [],
   "source": [
    "result = LeoParser(RR_GRAMMAR4).parse(mystring4)\n",
    "for tree in result:\n",
    "    assert mystring4 == tree_to_string(tree)"
   ]
  },
  {
   "cell_type": "code",
   "execution_count": null,
   "metadata": {
    "solution2": "hidden"
   },
   "outputs": [],
   "source": [
    "result = LeoParser(RR_GRAMMAR5).parse(mystring5)\n",
    "for tree in result:\n",
    "    assert mystring5 == tree_to_string(tree)"
   ]
  },
  {
   "cell_type": "code",
   "execution_count": null,
   "metadata": {
    "solution2": "hidden"
   },
   "outputs": [],
   "source": [
    "result = LeoParser(RR_GRAMMAR6).parse(mystring6)\n",
    "for tree in result:\n",
    "    assert mystring6 == tree_to_string(tree)"
   ]
  },
  {
   "cell_type": "code",
   "execution_count": null,
   "metadata": {
    "solution2": "hidden"
   },
   "outputs": [],
   "source": [
    "result = LeoParser(RR_GRAMMAR7).parse(mystring7)\n",
    "for tree in result:\n",
    "    assert mystring7 == tree_to_string(tree)"
   ]
  },
  {
   "cell_type": "code",
   "execution_count": null,
   "metadata": {
    "solution2": "hidden"
   },
   "outputs": [],
   "source": [
    "result = LeoParser(LR_GRAMMAR).parse(mystring)\n",
    "for tree in result:\n",
    "    assert mystring == tree_to_string(tree)"
   ]
  },
  {
   "cell_type": "code",
   "execution_count": null,
   "metadata": {
    "solution2": "hidden"
   },
   "outputs": [],
   "source": [
    "RR_GRAMMAR8 = {\n",
    "   '<start>': ['<A>'],\n",
    "   '<A>': ['a<A>', 'a']\n",
    "}\n",
    "mystring8 = 'aa'"
   ]
  },
  {
   "cell_type": "code",
   "execution_count": null,
   "metadata": {
    "solution2": "hidden"
   },
   "outputs": [],
   "source": [
    "RR_GRAMMAR9 = {\n",
    "   '<start>': ['<A>'],\n",
    "   '<A>': ['<B><A>', '<B>'],\n",
    "   '<B>': ['b']\n",
    "}\n",
    "mystring9 = 'bbbbbbb'"
   ]
  },
  {
   "cell_type": "code",
   "execution_count": null,
   "metadata": {
    "solution2": "hidden"
   },
   "outputs": [],
   "source": [
    "result = LeoParser(RR_GRAMMAR8).parse(mystring8)\n",
    "for tree in result:\n",
    "    print(repr(tree_to_string(tree)))\n",
    "    assert mystring8 == tree_to_string(tree)"
   ]
  },
  {
   "cell_type": "code",
   "execution_count": null,
   "metadata": {
    "solution2": "hidden"
   },
   "outputs": [],
   "source": [
    "result = LeoParser(RR_GRAMMAR9).parse(mystring9)\n",
    "for tree in result:\n",
    "    print(repr(tree_to_string(tree)))\n",
    "    assert mystring9 == tree_to_string(tree)"
   ]
  },
  {
   "cell_type": "markdown",
   "metadata": {},
   "source": [
    "### Exercise 6: Filtered Earley Parser"
   ]
  },
  {
   "cell_type": "markdown",
   "metadata": {},
   "source": [
    "One of the problems with our Earley and Leo Parsers is that it can get stuck in infinite loops when parsing with grammars that contain token repetitions in alternatives. For example, consider the grammar below."
   ]
  },
  {
   "cell_type": "code",
   "execution_count": null,
   "metadata": {},
   "outputs": [],
   "source": [
    "RECURSION_GRAMMAR = {\n",
    "    \"<start>\": [\"<A>\"],\n",
    "    \"<A>\": [\"<A>\", \"<A>aa\", \"AA\", \"<B>\"],\n",
    "    \"<B>\": [\"<C>\", \"<C>cc\" ,\"CC\"],\n",
    "    \"<C>\": [\"<B>\", \"<B>bb\", \"BB\"]\n",
    "}"
   ]
  },
  {
   "cell_type": "markdown",
   "metadata": {},
   "source": [
    "With this grammar, one can produce an infinite chain of derivations of `<A>`, (direct recursion) or an infinite chain of derivations of `<B> -> <C> -> <B> ...` (indirect recursion). The problem is that, our implementation can get stuck trying to derive one of these infinite chains."
   ]
  },
  {
   "cell_type": "code",
   "execution_count": null,
   "metadata": {},
   "outputs": [],
   "source": [
    "from ExpectError import ExpectTimeout"
   ]
  },
  {
   "cell_type": "code",
   "execution_count": null,
   "metadata": {},
   "outputs": [],
   "source": [
    "with ExpectTimeout(1, print_traceback=False):\n",
    "    mystring = 'AA'\n",
    "    parser = LeoParser(RECURSION_GRAMMAR)\n",
    "    tree, *_ = parser.parse(mystring)\n",
    "    assert tree_to_string(tree) == mystring\n",
    "    display_tree(tree)"
   ]
  },
  {
   "cell_type": "markdown",
   "metadata": {},
   "source": [
    "Can you implement a solution such that any tree that contains such a chain is discarded?"
   ]
  },
  {
   "cell_type": "markdown",
   "metadata": {
    "solution2": "hidden",
    "solution2_first": true
   },
   "source": [
    "**Solution.** Here is a possible solution."
   ]
  },
  {
   "cell_type": "code",
   "execution_count": null,
   "metadata": {
    "solution2": "hidden"
   },
   "outputs": [],
   "source": [
    "class FilteredLeoParser(LeoParser):\n",
    "    def forest(self, s, kind, seen, chart):\n",
    "        return self.parse_forest(chart, s, seen) if kind == 'n' else (s, [])\n",
    "\n",
    "    def parse_forest(self, chart, state, seen=None):\n",
    "        if isinstance(state, TState):\n",
    "            self.expand_tstate(state.back(), state.e_col)\n",
    "        \n",
    "        def was_seen(chain, s):\n",
    "            if isinstance(s, str):\n",
    "                return False\n",
    "            if len(s.expr) > 1:\n",
    "                return False\n",
    "            return s in chain\n",
    "\n",
    "        if len(state.expr) > 1:  # things get reset if we have a non loop\n",
    "            seen = set()\n",
    "        elif seen is None:  # initialization\n",
    "            seen = {state}\n",
    "\n",
    "        pathexprs = self.parse_paths(state.expr, chart, state.s_col.index,\n",
    "                                     state.e_col.index) if state.expr else []\n",
    "        return state.name, [[(s, k, seen | {s}, chart)\n",
    "                             for s, k in reversed(pathexpr)\n",
    "                             if not was_seen(seen, s)] for pathexpr in pathexprs]"
   ]
  },
  {
   "cell_type": "markdown",
   "metadata": {
    "solution2": "hidden"
   },
   "source": [
    "With the `FilteredLeoParser`, we should be able to recover minimal parse trees in reasonable time."
   ]
  },
  {
   "cell_type": "code",
   "execution_count": null,
   "metadata": {
    "solution2": "hidden"
   },
   "outputs": [],
   "source": [
    "mystring = 'AA'\n",
    "parser = FilteredLeoParser(RECURSION_GRAMMAR)\n",
    "tree, *_ = parser.parse(mystring)\n",
    "assert tree_to_string(tree) == mystring\n",
    "display_tree(tree)"
   ]
  },
  {
   "cell_type": "code",
   "execution_count": null,
   "metadata": {
    "solution2": "hidden"
   },
   "outputs": [],
   "source": [
    "mystring = 'AAaa'\n",
    "parser = FilteredLeoParser(RECURSION_GRAMMAR)\n",
    "tree, *_ = parser.parse(mystring)\n",
    "assert tree_to_string(tree) == mystring\n",
    "display_tree(tree)"
   ]
  },
  {
   "cell_type": "code",
   "execution_count": null,
   "metadata": {
    "solution2": "hidden"
   },
   "outputs": [],
   "source": [
    "mystring = 'AAaaaa'\n",
    "parser = FilteredLeoParser(RECURSION_GRAMMAR)\n",
    "tree, *_ = parser.parse(mystring)\n",
    "assert tree_to_string(tree) == mystring\n",
    "display_tree(tree)"
   ]
  },
  {
   "cell_type": "code",
   "execution_count": null,
   "metadata": {
    "solution2": "hidden"
   },
   "outputs": [],
   "source": [
    "mystring = 'CC'\n",
    "parser = FilteredLeoParser(RECURSION_GRAMMAR)\n",
    "tree, *_ = parser.parse(mystring)\n",
    "assert tree_to_string(tree) == mystring\n",
    "display_tree(tree)"
   ]
  },
  {
   "cell_type": "code",
   "execution_count": null,
   "metadata": {
    "solution2": "hidden"
   },
   "outputs": [],
   "source": [
    "mystring = 'BBcc'\n",
    "parser = FilteredLeoParser(RECURSION_GRAMMAR)\n",
    "tree, *_ = parser.parse(mystring)\n",
    "assert tree_to_string(tree) == mystring\n",
    "display_tree(tree)"
   ]
  },
  {
   "cell_type": "code",
   "execution_count": null,
   "metadata": {
    "solution2": "hidden"
   },
   "outputs": [],
   "source": [
    "mystring = 'BB'\n",
    "parser = FilteredLeoParser(RECURSION_GRAMMAR)\n",
    "tree, *_ = parser.parse(mystring)\n",
    "assert tree_to_string(tree) == mystring\n",
    "display_tree(tree)"
   ]
  },
  {
   "cell_type": "code",
   "execution_count": null,
   "metadata": {
    "solution2": "hidden"
   },
   "outputs": [],
   "source": [
    "mystring = 'BBccbb'\n",
    "parser = FilteredLeoParser(RECURSION_GRAMMAR)\n",
    "tree, *_ = parser.parse(mystring)\n",
    "assert tree_to_string(tree) == mystring\n",
    "display_tree(tree)"
   ]
  },
  {
   "cell_type": "markdown",
   "metadata": {
    "solution2": "hidden"
   },
   "source": [
    "As can be seen, we are able to recover minimal parse trees without hitting on infinite chains."
   ]
  },
  {
   "cell_type": "markdown",
   "metadata": {},
   "source": [
    "### Exercise 7: Iterative Earley Parser\n",
    "\n",
    "Recursive algorithms are quite handy in some cases but sometimes we might want to have iteration instead of recursion due to memory or speed problems. \n",
    "\n",
    "Can you implement an iterative version of the `EarleyParser`? \n",
    "\n",
    "__Hint:__ In general, you can use a stack to replace a recursive algorithm with an iterative one. An easy way to do this is pushing the parameters onto a stack instead of passing them to the recursive function."
   ]
  },
  {
   "cell_type": "markdown",
   "metadata": {
    "slideshow": {
     "slide_type": "subslide"
    },
    "solution2": "hidden",
    "solution2_first": true
   },
   "source": [
    "**Solution.** Here is a possible solution."
   ]
  },
  {
   "cell_type": "markdown",
   "metadata": {
    "solution2": "hidden"
   },
   "source": [
    "First, we define `parse_paths()` that extract paths from a parsed expression."
   ]
  },
  {
   "cell_type": "code",
   "execution_count": null,
   "metadata": {
    "solution2": "hidden"
   },
   "outputs": [],
   "source": [
    "class IterativeEarleyParser(EarleyParser):\n",
    "    def __init__(self, grammar, **kwargs):\n",
    "        super().__init__(grammar, **kwargs)\n",
    "        self.shuffle = kwargs.get('shuffle_rules', True)\n",
    "        \n",
    "    def parse_paths(self, named_expr, chart, frm, til):\n",
    "        if not named_expr:\n",
    "            return []\n",
    "\n",
    "        paths = []\n",
    "        # stack of (expr, index, path) tuples\n",
    "        path_build_stack = [(named_expr, til, [])]\n",
    "\n",
    "        def evaluate_path(path, index, expr):\n",
    "            if expr:  # path is still being built\n",
    "                path_build_stack.append((expr, index, path))\n",
    "            elif index == frm:  # path is complete\n",
    "                paths.append(path)\n",
    "\n",
    "        while path_build_stack:\n",
    "            expr, chart_index, path = path_build_stack.pop()\n",
    "            *expr, symbol = expr\n",
    "\n",
    "            if symbol in self.cgrammar:\n",
    "                for state in chart[chart_index].states:\n",
    "                    if state.name == symbol and state.finished():\n",
    "                        extended_path = path + [(state, 'n')]\n",
    "                        evaluate_path(extended_path, state.s_col.index, expr)\n",
    "\n",
    "            elif chart_index > 0 and chart[chart_index].letter == symbol:\n",
    "                extended_path = path + [(symbol, 't')]\n",
    "                evaluate_path(extended_path, chart_index - len(symbol), expr)\n",
    "\n",
    "        return paths"
   ]
  },
  {
   "cell_type": "markdown",
   "metadata": {
    "solution2": "hidden"
   },
   "source": [
    "Next we used these paths to recover the forest data structure using `parse_forest()`. Note from the previous exercise `FilteredEarleyParser` that grammars with token repetitions can cause the parser to get stuck in a loop. One alternative is to simply shuffle the order in which rules are expanded, which is governed by the `shuffle_rules` option."
   ]
  },
  {
   "cell_type": "code",
   "execution_count": null,
   "metadata": {
    "solution2": "hidden"
   },
   "outputs": [],
   "source": [
    "class IterativeEarleyParser(EarleyParser):\n",
    "    def parse_forest(self, chart, state):\n",
    "        if not state.expr:\n",
    "            return (state.name, [])\n",
    "\n",
    "        outermost_forest = []\n",
    "        forest_build_stack = [(state, outermost_forest)]\n",
    "\n",
    "        while forest_build_stack:\n",
    "            st, forest = forest_build_stack.pop()\n",
    "            paths = self.parse_paths(st.expr, chart, st.s_col.index,\n",
    "                                     st.e_col.index)\n",
    "\n",
    "            if not paths:\n",
    "                continue\n",
    "\n",
    "            next_path = random.choice(paths) if self.shuffle else paths[0]\n",
    "            path_forest = []\n",
    "            for symbol_or_state, kind in reversed(next_path):\n",
    "                if kind == 'n':\n",
    "                    new_forest = []\n",
    "                    forest_build_stack.append((symbol_or_state, new_forest))\n",
    "                    path_forest.append((symbol_or_state.name, new_forest))\n",
    "                else:\n",
    "                    path_forest.append((symbol_or_state, []))\n",
    "\n",
    "            forest.append(path_forest)\n",
    "\n",
    "        return (state.name, outermost_forest)"
   ]
  },
  {
   "cell_type": "markdown",
   "metadata": {
    "solution2": "hidden"
   },
   "source": [
    "Now we are ready to extract trees from the forest using `extract_a_tree()`"
   ]
  },
  {
   "cell_type": "code",
   "execution_count": null,
   "metadata": {
    "solution2": "hidden"
   },
   "outputs": [],
   "source": [
    "class IterativeEarleyParser(EarleyParser):\n",
    "    def extract_a_tree(self, forest_node):\n",
    "        outermost_tree = []\n",
    "        tree_build_stack = [(forest_node, outermost_tree)]\n",
    "\n",
    "        while tree_build_stack:\n",
    "            node, tree = tree_build_stack.pop()\n",
    "            name, node_paths = node\n",
    "\n",
    "            if node_paths:\n",
    "                for path in random.choice(node_paths):\n",
    "                    new_tree = []\n",
    "                    tree_build_stack.append((path, new_tree))\n",
    "                    tree.append((path[0], new_tree))\n",
    "            else:\n",
    "                tree.append((name, []))\n",
    "\n",
    "        return (forest_node[0], outermost_tree)"
   ]
  },
  {
   "cell_type": "markdown",
   "metadata": {
    "solution2": "hidden"
   },
   "source": [
    "For now, we simply extract the first tree found."
   ]
  },
  {
   "cell_type": "code",
   "execution_count": null,
   "metadata": {
    "solution2": "hidden"
   },
   "outputs": [],
   "source": [
    "class IterativeEarleyParser(EarleyParser):\n",
    "    def extract_trees(self, forest):\n",
    "        yield self.extract_a_tree(forest)"
   ]
  },
  {
   "cell_type": "markdown",
   "metadata": {
    "slideshow": {
     "slide_type": "subslide"
    },
    "solution2": "hidden"
   },
   "source": [
    "Let's see if it works with some of the grammars we have seen so far."
   ]
  },
  {
   "cell_type": "code",
   "execution_count": null,
   "metadata": {
    "solution2": "hidden"
   },
   "outputs": [],
   "source": [
    "test_cases = [\n",
    "    (A1_GRAMMAR, '1-2-3+4-5'),\n",
    "    (A2_GRAMMAR, '1+2'),\n",
    "    (A3_GRAMMAR, '1+2+3-6=6-1-2-3'),\n",
    "    (LR_GRAMMAR, 'aaaaa'),\n",
    "    (RR_GRAMMAR, 'aa'),\n",
    "    (DIRECTLY_SELF_REFERRING, 'select a from a'),\n",
    "    (INDIRECTLY_SELF_REFERRING, 'select a from a'),\n",
    "    (RECURSION_GRAMMAR, 'AA'),\n",
    "    (RECURSION_GRAMMAR, 'AAaaaa'),\n",
    "    (RECURSION_GRAMMAR, 'BBccbb')\n",
    "]\n",
    "\n",
    "for i, (grammar, text) in enumerate(test_cases):\n",
    "    print(i, text)\n",
    "    tree, *_ =  IterativeEarleyParser(grammar).parse(text)\n",
    "    assert text == tree_to_string(tree)"
   ]
  },
  {
   "cell_type": "markdown",
   "metadata": {
    "solution2": "hidden"
   },
   "source": [
    "As can be seen, our `IterativeEarleyParser` is able to handle recursive grammars."
   ]
  },
  {
   "cell_type": "markdown",
   "metadata": {
    "slideshow": {
     "slide_type": "skip"
    },
    "solution2": "hidden",
    "solution2_first": true
   },
   "source": [
    "### Exercise 8: First Set of a Nonterminal\n",
    "\n",
    "We previously gave a way to extract a the `nullable` (epsilon) set, which is often used for parsing.\n",
    "Along with `nullable`, parsing algorithms often use two other sets [`first` and `follow`](https://en.wikipedia.org/wiki/Canonical_LR_parser#FIRST_and_FOLLOW_sets).\n",
    "The first set of a terminal symbol is itself, and the first set of a nonterminal is composed of terminal symbols that can come at the beginning of any derivation\n",
    "of that nonterminal. The first set of any nonterminal that can derive the empty string should contain `EPSILON`. For example, using our `A1_GRAMMAR`, the first set of both `<expr>` and `<start>` is `{0,1,2,3,4,5,6,7,8,9}`. The extraction first set for any self-recursive nonterminal is simple enough. One simply has to recursively compute the first set of the first element of its choice expressions. The computation of `first` set for a self-recursive nonterminal is tricky. One has to recursively compute the first set until one is sure that no more terminals can be added to the first set.\n",
    "\n",
    "Can you implement the `first` set using our `fixpoint()` decorator?"
   ]
  },
  {
   "cell_type": "markdown",
   "metadata": {
    "slideshow": {
     "slide_type": "subslide"
    },
    "solution2": "hidden"
   },
   "source": [
    "**Solution.** The first set of all terminals is the set containing just themselves. So we initialize that first. Then we update the first set with rules that derive empty strings."
   ]
  },
  {
   "cell_type": "code",
   "execution_count": null,
   "metadata": {
    "slideshow": {
     "slide_type": "fragment"
    },
    "solution2": "hidden"
   },
   "outputs": [],
   "source": [
    "def firstset(grammar, nullable):\n",
    "    first = {i: {i} for i in terminals(grammar)}\n",
    "    for k in grammar:\n",
    "        first[k] = {EPSILON} if k in nullable else set()\n",
    "    return firstset_((rules(grammar), first, nullable))[1]"
   ]
  },
  {
   "cell_type": "markdown",
   "metadata": {
    "slideshow": {
     "slide_type": "fragment"
    },
    "solution2": "hidden"
   },
   "source": [
    "Finally, we rely on the `fixpoint` to update the first set with the contents of the current first set until the first set stops changing."
   ]
  },
  {
   "cell_type": "code",
   "execution_count": null,
   "metadata": {
    "slideshow": {
     "slide_type": "subslide"
    },
    "solution2": "hidden"
   },
   "outputs": [],
   "source": [
    "def first_expr(expr, first, nullable):\n",
    "    tokens = set()\n",
    "    for token in expr:\n",
    "        tokens |= first[token]\n",
    "        if token not in nullable:\n",
    "            break\n",
    "    return tokens"
   ]
  },
  {
   "cell_type": "code",
   "execution_count": null,
   "metadata": {
    "slideshow": {
     "slide_type": "fragment"
    },
    "solution2": "hidden"
   },
   "outputs": [],
   "source": [
    "@fixpoint\n",
    "def firstset_(arg):\n",
    "    (rules, first, epsilon) = arg\n",
    "    for A, expression in rules:\n",
    "        first[A] |= first_expr(expression, first, epsilon)\n",
    "    return (rules, first, epsilon)"
   ]
  },
  {
   "cell_type": "code",
   "execution_count": null,
   "metadata": {
    "slideshow": {
     "slide_type": "subslide"
    },
    "solution2": "hidden"
   },
   "outputs": [],
   "source": [
    "firstset(canonical(A1_GRAMMAR), EPSILON)"
   ]
  },
  {
   "cell_type": "markdown",
   "metadata": {
    "slideshow": {
     "slide_type": "skip"
    },
    "solution2": "hidden",
    "solution2_first": true
   },
   "source": [
    "### Exercise 9: Follow Set of a Nonterminal\n",
    "\n",
    "The follow set definition is similar to the first set. The follow set of a nonterminal is the set of terminals that can occur just after that nonterminal is used in any derivation. The follow set of the start symbol is `EOF`, and the follow set of any nonterminal is the super set of first sets of all symbols that come after it in any choice expression.\n",
    "\n",
    "For example, the follow set of `<expr>` in `A1_GRAMMAR` is the set `{EOF, +, -}`.\n",
    "\n",
    "As in the previous exercise, implement the `followset()` using the `fixpoint()` decorator."
   ]
  },
  {
   "cell_type": "markdown",
   "metadata": {
    "slideshow": {
     "slide_type": "subslide"
    },
    "solution2": "hidden"
   },
   "source": [
    "**Solution.** The implementation of `followset()` is similar to `firstset()`. We first initialize the follow set with `EOF`, get the epsilon and first sets, and use the `fixpoint()` decorator to iteratively compute the follow set until nothing changes."
   ]
  },
  {
   "cell_type": "code",
   "execution_count": null,
   "metadata": {
    "slideshow": {
     "slide_type": "fragment"
    },
    "solution2": "hidden"
   },
   "outputs": [],
   "source": [
    "EOF = '\\0'"
   ]
  },
  {
   "cell_type": "code",
   "execution_count": null,
   "metadata": {
    "slideshow": {
     "slide_type": "fragment"
    },
    "solution2": "hidden"
   },
   "outputs": [],
   "source": [
    "def followset(grammar, start):\n",
    "    follow = {i: set() for i in grammar}\n",
    "    follow[start] = {EOF}\n",
    "\n",
    "    epsilon = nullable(grammar)\n",
    "    first = firstset(grammar, epsilon)\n",
    "    return followset_((grammar, epsilon, first, follow))[-1]"
   ]
  },
  {
   "cell_type": "markdown",
   "metadata": {
    "slideshow": {
     "slide_type": "fragment"
    },
    "solution2": "hidden"
   },
   "source": [
    "Given the current follow set, one can update the follow set as follows:"
   ]
  },
  {
   "cell_type": "code",
   "execution_count": null,
   "metadata": {
    "slideshow": {
     "slide_type": "subslide"
    },
    "solution2": "hidden"
   },
   "outputs": [],
   "source": [
    "@fixpoint\n",
    "def followset_(arg):\n",
    "    grammar, epsilon, first, follow = arg\n",
    "    for A, expression in rules(grammar):\n",
    "        f_B = follow[A]\n",
    "        for t in reversed(expression):\n",
    "            if t in grammar:\n",
    "                follow[t] |= f_B\n",
    "            f_B = f_B | first[t] if t in epsilon else (first[t] - {EPSILON})\n",
    "\n",
    "    return (grammar, epsilon, first, follow)"
   ]
  },
  {
   "cell_type": "code",
   "execution_count": null,
   "metadata": {
    "slideshow": {
     "slide_type": "subslide"
    },
    "solution2": "hidden"
   },
   "outputs": [],
   "source": [
    "followset(canonical(A1_GRAMMAR), START_SYMBOL)"
   ]
  },
  {
   "cell_type": "markdown",
   "metadata": {
    "slideshow": {
     "slide_type": "skip"
    },
    "toc-hr-collapsed": true
   },
   "source": [
    "### Exercise 10: A LL(1) Parser\n",
    "\n",
    "As we mentioned previously, there exist other kinds of parsers that operate left-to-right with right most derivation (*LR(k)*) or left-to-right with left most derivation (*LL(k)*) with _k_ signifying the amount of lookahead the parser is permitted to use.\n",
    "\n",
    "What should one do with the lookahead? That lookahead can be used to determine which rule to apply. In the case of an *LL(1)* parser, the rule to apply is determined by looking at the _first_ set of the different rules. We previously implemented `first_expr()` that takes a an expression, the set of  `nullables`, and computes the first set of that rule.\n",
    "\n",
    "If a rule can derive an empty set, then that rule may also be applicable if of sees the `follow()` set of the corresponding nonterminal."
   ]
  },
  {
   "cell_type": "markdown",
   "metadata": {
    "slideshow": {
     "slide_type": "skip"
    }
   },
   "source": [
    "#### Part 1: A LL(1) Parsing Table\n",
    "\n",
    "The first part of this exercise is to implement the _parse table_ that describes what action to take for an *LL(1)* parser on seeing a terminal symbol on lookahead.  The table should be in the form of a _dictionary_ such that the keys represent the nonterminal symbol, and the value should contain another dictionary with keys as terminal symbols and the particular rule to continue parsing as the value.\n",
    "\n",
    "Let us illustrate this table with an example.  The `parse_table()` method populates a `self.table` data structure that should conform to the following requirements:"
   ]
  },
  {
   "cell_type": "code",
   "execution_count": null,
   "metadata": {
    "slideshow": {
     "slide_type": "skip"
    }
   },
   "outputs": [],
   "source": [
    "class LL1Parser(Parser):\n",
    "    def parse_table(self):\n",
    "        self.my_rules = rules(self.cgrammar)\n",
    "        self.table = ...          # fill in here to produce\n",
    "\n",
    "    def rules(self):\n",
    "        for i, rule in enumerate(self.my_rules):\n",
    "            print(i, rule)\n",
    "\n",
    "    def show_table(self):\n",
    "        ts = list(sorted(terminals(self.cgrammar)))\n",
    "        print('Rule Name\\t| %s' % ' | '.join(t for t in ts))\n",
    "        for k in self.table:\n",
    "            pr = self.table[k]\n",
    "            actions = list(str(pr[t]) if t in pr else ' ' for t in ts)\n",
    "            print('%s  \\t| %s' % (k, ' | '.join(actions)))"
   ]
  },
  {
   "cell_type": "markdown",
   "metadata": {
    "slideshow": {
     "slide_type": "skip"
    }
   },
   "source": [
    "On invocation of `LL1Parser(A2_GRAMMAR).show_table()`\n",
    "It should result in the following table:"
   ]
  },
  {
   "cell_type": "code",
   "execution_count": null,
   "metadata": {
    "slideshow": {
     "slide_type": "skip"
    }
   },
   "outputs": [],
   "source": [
    "for i, r in enumerate(rules(canonical(A2_GRAMMAR))):\n",
    "    print(\"%d\\t %s := %s\" % (i, r[0], r[1]))"
   ]
  },
  {
   "cell_type": "markdown",
   "metadata": {
    "slideshow": {
     "slide_type": "subslide"
    },
    "solution2": "hidden",
    "solution2_first": true
   },
   "source": [
    "|Rule Name  || + | - | 0 | 1 | 2 | 3 | 4 | 5 | 6 | 7 | 8 | 9|\n",
    "|-----------||---|---|---|---|---|---|---|---|---|---|---|--|\n",
    "|start  \t||   |   | 0 | 0 | 0 | 0 | 0 | 0 | 0 | 0 | 0 | 0|\n",
    "|expr   \t||   |   | 1 | 1 | 1 | 1 | 1 | 1 | 1 | 1 | 1 | 1|\n",
    "|expr_  \t|| 2 | 3 |   |   |   |   |   |   |   |   |   |  |\n",
    "|integer  \t||   |   | 5 | 5 | 5 | 5 | 5 | 5 | 5 | 5 | 5 | 5|\n",
    "|integer_  \t|| 7 | 7 | 6 | 6 | 6 | 6 | 6 | 6 | 6 | 6 | 6 | 6|\n",
    "|digit  \t||   |   | 8 | 9 |10 |11 |12 |13 |14 |15 |16 |17|"
   ]
  },
  {
   "cell_type": "markdown",
   "metadata": {
    "slideshow": {
     "slide_type": "subslide"
    },
    "solution2": "hidden"
   },
   "source": [
    "**Solution.** We define `predict()` as we explained before. Then we use the predicted rules to populate the parse table."
   ]
  },
  {
   "cell_type": "code",
   "execution_count": null,
   "metadata": {
    "slideshow": {
     "slide_type": "subslide"
    },
    "solution2": "hidden"
   },
   "outputs": [],
   "source": [
    "class LL1Parser(LL1Parser):\n",
    "    def predict(self, rulepair, first, follow, epsilon):\n",
    "        A, rule = rulepair\n",
    "        rf = first_expr(rule, first, epsilon)\n",
    "        if nullable_expr(rule, epsilon):\n",
    "            rf |= follow[A]\n",
    "        return rf\n",
    "\n",
    "    def parse_table(self):\n",
    "        self.my_rules = rules(self.cgrammar)\n",
    "        epsilon = nullable(self.cgrammar)\n",
    "        first = firstset(self.cgrammar, epsilon)\n",
    "        # inefficient, can combine the three.\n",
    "        follow = followset(self.cgrammar, self.start_symbol())\n",
    "\n",
    "        ptable = [(i, self.predict(rule, first, follow, epsilon))\n",
    "                  for i, rule in enumerate(self.my_rules)]\n",
    "\n",
    "        parse_tbl = {k: {} for k in self.cgrammar}\n",
    "\n",
    "        for i, pvals in ptable:\n",
    "            (k, expr) = self.my_rules[i]\n",
    "            parse_tbl[k].update({v: i for v in pvals})\n",
    "\n",
    "        self.table = parse_tbl"
   ]
  },
  {
   "cell_type": "code",
   "execution_count": null,
   "metadata": {
    "slideshow": {
     "slide_type": "subslide"
    },
    "solution2": "hidden"
   },
   "outputs": [],
   "source": [
    "ll1parser = LL1Parser(A2_GRAMMAR)\n",
    "ll1parser.parse_table()\n",
    "ll1parser.show_table()"
   ]
  },
  {
   "cell_type": "markdown",
   "metadata": {
    "slideshow": {
     "slide_type": "skip"
    }
   },
   "source": [
    "#### Part 2: The Parser\n",
    "\n",
    "Once we have the parse table, implementing the parser is as follows: Consider the first item from the sequence of tokens to parse, and seed the stack with the start symbol.\n",
    "\n",
    "While the stack is not empty, extract the first symbol from the stack, and if the symbol is a terminal, verify that the symbol matches the item from the input stream. If the symbol is a nonterminal, use the symbol and input item to lookup the next rule from the parse table. Insert the rule thus found to the top of the stack. Keep track of the expressions being parsed to build up the parse table.\n",
    "\n",
    "Use the parse table defined previously to implement the complete LL(1) parser."
   ]
  },
  {
   "cell_type": "markdown",
   "metadata": {
    "slideshow": {
     "slide_type": "subslide"
    },
    "solution2": "hidden",
    "solution2_first": true
   },
   "source": [
    "**Solution.** Here is the complete parser:"
   ]
  },
  {
   "cell_type": "code",
   "execution_count": null,
   "metadata": {
    "slideshow": {
     "slide_type": "subslide"
    },
    "solution2": "hidden"
   },
   "outputs": [],
   "source": [
    "class LL1Parser(LL1Parser):\n",
    "    def parse_helper(self, stack, inplst):\n",
    "        inp, *inplst = inplst\n",
    "        exprs = []\n",
    "        while stack:\n",
    "            val, *stack = stack\n",
    "            if isinstance(val, tuple):\n",
    "                exprs.append(val)\n",
    "            elif val not in self.cgrammar:  # terminal\n",
    "                assert val == inp\n",
    "                exprs.append(val)\n",
    "                inp, *inplst = inplst or [None]\n",
    "            else:\n",
    "                if inp is not None:\n",
    "                    i = self.table[val][inp]\n",
    "                    _, rhs = self.my_rules[i]\n",
    "                    stack = rhs + [(val, len(rhs))] + stack\n",
    "        return self.linear_to_tree(exprs)\n",
    "\n",
    "    def parse(self, inp):\n",
    "        self.parse_table()\n",
    "        k, _ = self.my_rules[0]\n",
    "        stack = [k]\n",
    "        return self.parse_helper(stack, inp)\n",
    "\n",
    "    def linear_to_tree(self, arr):\n",
    "        stack = []\n",
    "        while arr:\n",
    "            elt = arr.pop(0)\n",
    "            if not isinstance(elt, tuple):\n",
    "                stack.append((elt, []))\n",
    "            else:\n",
    "                # get the last n\n",
    "                sym, n = elt\n",
    "                elts = stack[-n:] if n > 0 else []\n",
    "                stack = stack[0:len(stack) - n]\n",
    "                stack.append((sym, elts))\n",
    "        assert len(stack) == 1\n",
    "        return stack[0]"
   ]
  },
  {
   "cell_type": "code",
   "execution_count": null,
   "metadata": {
    "slideshow": {
     "slide_type": "subslide"
    },
    "solution2": "hidden"
   },
   "outputs": [],
   "source": [
    "ll1parser = LL1Parser(A2_GRAMMAR)\n",
    "tree = ll1parser.parse('1+2')\n",
    "display_tree(tree)"
   ]
  },
  {
   "cell_type": "markdown",
   "metadata": {},
   "source": [
    "# References\n",
    "\n",
    "<mark> <b>The bib file biblio.bib was not found\n",
    "\n",
    "</b> </mark>(<a id=\"cit-Ford2004\" href=\"#call-Ford2004\">?</a>) !! _This reference was not found in biblio.bib _ !!\n",
    "\n",
    "(<a id=\"cit-redziejowski2008\" href=\"#call-redziejowski2008\">?</a>) !! _This reference was not found in biblio.bib _ !!\n",
    "\n",
    "(<a id=\"cit-redziejowski\" href=\"#call-redziejowski\">?</a>) !! _This reference was not found in biblio.bib _ !!\n",
    "\n",
    "(<a id=\"cit-Earley1970\" href=\"#call-Earley1970\">?</a>) !! _This reference was not found in biblio.bib _ !!\n",
    "\n",
    "(<a id=\"cit-Leo1991\" href=\"#call-Leo1991\">?</a>) !! _This reference was not found in biblio.bib _ !!\n",
    "\n",
    "(<a id=\"cit-Aycock2002\" href=\"#call-Aycock2002\">?</a>) !! _This reference was not found in biblio.bib _ !!\n",
    "\n",
    "(<a id=\"cit-qi2018generalized\" href=\"#call-qi2018generalized\">?</a>) !! _This reference was not found in biblio.bib _ !!\n",
    "\n",
    "(<a id=\"cit-pingali2015graphical\" href=\"#call-pingali2015graphical\">?</a>) !! _This reference was not found in biblio.bib _ !!\n",
    "\n",
    "(<a id=\"cit-ogden1968helpful\" href=\"#call-ogden1968helpful\">?</a>) !! _This reference was not found in biblio.bib _ !!\n",
    "\n",
    "(<a id=\"cit-scott2010gll\" href=\"#call-scott2010gll\">?</a>) !! _This reference was not found in biblio.bib _ !!\n",
    "\n",
    "(<a id=\"cit-tomita1987efficient\" href=\"#call-tomita1987efficient\">?</a>) !! _This reference was not found in biblio.bib _ !!\n",
    "\n",
    "(<a id=\"cit-tomita2012generalized\" href=\"#call-tomita2012generalized\">?</a>) !! _This reference was not found in biblio.bib _ !!\n",
    "\n",
    "(<a id=\"cit-grune2008parsing\" href=\"#call-grune2008parsing\">?</a>) !! _This reference was not found in biblio.bib _ !!\n",
    "\n",
    "(<a id=\"cit-Valiant1975\" href=\"#call-Valiant1975\">?</a>) !! _This reference was not found in biblio.bib _ !!\n",
    "\n",
    "(<a id=\"cit-Lee2002\" href=\"#call-Lee2002\">?</a>) !! _This reference was not found in biblio.bib _ !!\n",
    "\n",
    "(<a id=\"cit-LeGall2014\" href=\"#call-LeGall2014\">?</a>) !! _This reference was not found in biblio.bib _ !!\n",
    "\n"
   ]
  }
 ],
 "metadata": {
  "ipub": {
   "bibliography": "fuzzingbook.bib",
   "toc": true
  },
  "kernelspec": {
   "display_name": "Python 3",
   "language": "python",
   "name": "python3"
  },
  "language_info": {
   "codemirror_mode": {
    "name": "ipython",
    "version": 3
   },
   "file_extension": ".py",
   "mimetype": "text/x-python",
   "name": "python",
   "nbconvert_exporter": "python",
   "pygments_lexer": "ipython3",
   "version": "3.7.1"
  },
  "latex_envs": {
   "LaTeX_envs_menu_present": true,
   "autoclose": false,
   "autocomplete": true,
   "bibliofile": "biblio.bib",
   "cite_by": "apalike",
   "current_citInitial": 1,
   "eqLabelWithNumbers": true,
   "eqNumInitial": 1,
   "hotkeys": {
    "equation": "Ctrl-E",
    "itemize": "Ctrl-I"
   },
   "labels_anchors": false,
   "latex_user_defs": false,
   "report_style_numbering": false,
   "user_envs_cfg": false
  },
  "toc": {
   "base_numbering": 1,
   "nav_menu": {},
   "number_sections": true,
   "sideBar": true,
   "skip_h1_title": true,
   "title_cell": "",
   "title_sidebar": "Contents",
   "toc_cell": false,
   "toc_position": {
    "height": "calc(100% - 180px)",
    "left": "10px",
    "top": "150px",
    "width": "328.891px"
   },
   "toc_section_display": true,
   "toc_window_display": true
  },
  "varInspector": {
   "cols": {
    "lenName": 16,
    "lenType": 16,
    "lenVar": 40
   },
   "kernels_config": {
    "python": {
     "delete_cmd_postfix": "",
     "delete_cmd_prefix": "del ",
     "library": "var_list.py",
     "varRefreshCmd": "print(var_dic_list())"
    },
    "r": {
     "delete_cmd_postfix": ") ",
     "delete_cmd_prefix": "rm(",
     "library": "var_list.r",
     "varRefreshCmd": "cat(var_dic_list()) "
    }
   },
   "types_to_exclude": [
    "module",
    "function",
    "builtin_function_or_method",
    "instance",
    "_Feature"
   ],
   "window_display": false
  }
 },
 "nbformat": 4,
 "nbformat_minor": 2
}
